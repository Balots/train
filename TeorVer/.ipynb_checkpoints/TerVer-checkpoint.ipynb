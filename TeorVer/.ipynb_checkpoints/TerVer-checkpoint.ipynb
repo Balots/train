{
 "cells": [
  {
   "cell_type": "code",
   "execution_count": 100,
   "id": "b04e260e-0f9c-4890-88d2-36d8ede3de9e",
   "metadata": {},
   "outputs": [],
   "source": [
    "import itertools\n",
    "import numpy as np\n",
    "from random import choice\n",
    "import sys"
   ]
  },
  {
   "cell_type": "code",
   "execution_count": 2,
   "id": "e0b192f9-604f-4572-9a66-5a4deec03012",
   "metadata": {},
   "outputs": [
    {
     "data": {
      "text/plain": [
       "192"
      ]
     },
     "execution_count": 2,
     "metadata": {},
     "output_type": "execute_result"
    }
   ],
   "source": [
    "alp = 'BKZ'\n",
    "a = list(filter(lambda x: x.count('B') < 6 and x.count('K') < 3 and x.count('Z') < 6, itertools.product(alp, repeat=5)))\n",
    "len(a)"
   ]
  },
  {
   "cell_type": "code",
   "execution_count": 3,
   "id": "2b58d999-cae7-4631-8e33-9808005515a3",
   "metadata": {},
   "outputs": [
    {
     "data": {
      "text/plain": [
       "20"
      ]
     },
     "execution_count": 3,
     "metadata": {},
     "output_type": "execute_result"
    }
   ],
   "source": [
    "b = list(filter(lambda x: x.count('B') == 3 and x.count('K') == 1 and x.count('Z') == 1, itertools.product(alp, repeat=5)))\n",
    "len(b)"
   ]
  },
  {
   "cell_type": "code",
   "execution_count": 4,
   "id": "1b8b284f-a42e-4028-b117-04b313f3566f",
   "metadata": {},
   "outputs": [
    {
     "data": {
      "text/plain": [
       "0.10416666666666667"
      ]
     },
     "execution_count": 4,
     "metadata": {},
     "output_type": "execute_result"
    }
   ],
   "source": [
    "20/192"
   ]
  },
  {
   "cell_type": "code",
   "execution_count": 5,
   "id": "7a7d8c8f-2107-4220-8ee6-fbd09c0080c5",
   "metadata": {},
   "outputs": [
    {
     "data": {
      "text/plain": [
       "0.125"
      ]
     },
     "execution_count": 5,
     "metadata": {},
     "output_type": "execute_result"
    }
   ],
   "source": [
    "alp = 'WB'\n",
    "a = list(itertools.product(alp, repeat=3))\n",
    "b = list(filter(lambda x: x.count('W') == 3, a))\n",
    "len(b)/len(a)"
   ]
  },
  {
   "cell_type": "code",
   "execution_count": 5,
   "id": "4767c204-3e48-44ec-8034-d010bca84f1f",
   "metadata": {},
   "outputs": [
    {
     "data": {
      "text/plain": [
       "177870"
      ]
     },
     "execution_count": 5,
     "metadata": {},
     "output_type": "execute_result"
    }
   ],
   "source": [
    "alp = '1234567'\n",
    "def count(l, a=alp):\n",
    "    return all([(False, True)[l.count(x) in (0, 1, 4)] for x in a])\n",
    "a = list(filter(lambda x: count(x), itertools.product(alp, repeat=5)))\n",
    "len(set(a))"
   ]
  },
  {
   "cell_type": "code",
   "execution_count": 13,
   "id": "20ef30db-79b1-40b1-906c-1629f0980943",
   "metadata": {},
   "outputs": [
    {
     "name": "stdout",
     "output_type": "stream",
     "text": [
      "3.427102296317588\n",
      "0.5002143402978398\n"
     ]
    }
   ],
   "source": [
    "with open('Res.txt') as file:\n",
    "    data = list(map(int, file.readline().split(', ')))\n",
    "    p = sum(data)/len(data)\n",
    "    pi = 4.8/(p*2.8)\n",
    "    print(pi)\n",
    "    print(p)"
   ]
  },
  {
   "cell_type": "code",
   "execution_count": 132,
   "id": "d1c28799-9c13-44c7-84fc-d3540d3c0ce1",
   "metadata": {},
   "outputs": [],
   "source": [
    "#Функция лапалса\n",
    "def Laplace(x):\n",
    "    return (1/((2*np.pi)**0.5) * np.exp(-(x**2)/2)) # используется только внутри integrate\n",
    "\n",
    "# Функция Гаусса\n",
    "def Gauss(x):\n",
    "    return (1/((2*np.pi)**0.5) * np.exp(-(x**2)/2))\n",
    "\n",
    "# вероятность отклонения\n",
    "def P_o(n, p, acc):\n",
    "    return 2*integrate(Laplace, 0, (acc*((n/(p*(1-p)))**0.5)), acc)\n",
    "\n",
    "# теорема Муавра-Лапласа\n",
    "def Moivre_Laplace(n, p, x):\n",
    "    return (1/((n*p*(1-p))**0.5)) * Gauss(x)\n",
    "\n",
    "# формула Пуассона\n",
    "def Poisson(n, m, p):\n",
    "    return (((n*p)**m)/(factorial(m)))*np.exp(-n*p)\n",
    "\n",
    "# Формула Бернулли\n",
    "def Bernoulli(n, m, p):\n",
    "    a = factorial(n)\n",
    "    b = factorial(m)\n",
    "    c = factorial(n-m)\n",
    "    return a/(b*c) * (p**m) * ((1-p)**(n-m))\n",
    "\n",
    "def integrate(f, x1, x2, acc):\n",
    "    m = acc\n",
    "    xdata = np.arange(x1, x2, acc)\n",
    "    ydata = f(xdata) * m\n",
    "    return sum(ydata)"
   ]
  },
  {
   "cell_type": "code",
   "execution_count": 57,
   "id": "ffd490ac-bca4-4af5-b427-94d7a457cebc",
   "metadata": {},
   "outputs": [
    {
     "data": {
      "text/plain": [
       "0.00327"
      ]
     },
     "execution_count": 57,
     "metadata": {},
     "output_type": "execute_result"
    }
   ],
   "source": [
    "integrate(f, 0, 2.7, 1/1000000)\n",
    "Gauss(2.7)\n",
    "integrate(f, 0, 3.1, 1/1000000)\n",
    "Gauss(3.1)"
   ]
  },
  {
   "cell_type": "code",
   "execution_count": 58,
   "id": "4a74648e-8df0-44c7-aa23-9cf1258b03ee",
   "metadata": {},
   "outputs": [
    {
     "name": "stdout",
     "output_type": "stream",
     "text": [
      "0.95476 0.94374 0.97336 0.95718 0.92368 0.9466\n"
     ]
    }
   ],
   "source": [
    "p = 7035/13983\n",
    "print(P_o(13983, p, 0.00834),\n",
    "      P_o(13983, p, 0.00797),\n",
    "      P_o(13983, p, 0.00916),\n",
    "      P_o(13983, p, 0.00843),\n",
    "      P_o(13983, p, 0.00742),\n",
    "      P_o(13983, p, 0.00806))\n"
   ]
  },
  {
   "cell_type": "code",
   "execution_count": 59,
   "id": "d9c9e4c2-f821-46f9-b44d-857c49943242",
   "metadata": {},
   "outputs": [
    {
     "name": "stdout",
     "output_type": "stream",
     "text": [
      "0.98104 0.97814 0.982 0.97078 0.97868 0.95126\n"
     ]
    }
   ],
   "source": [
    "print(P_o(149775, p, 0.003),\n",
    "      P_o(143263, p, 0.003),\n",
    "      P_o(152380, p, 0.003),\n",
    "      P_o(130239, p, 0.003),\n",
    "      P_o(144566, p, 0.003),\n",
    "      P_o(106796, p, 0.003))\n"
   ]
  },
  {
   "cell_type": "code",
   "execution_count": 76,
   "id": "c9dd04c6-e2f5-4b42-be9a-29000aa23d93",
   "metadata": {},
   "outputs": [
    {
     "name": "stdout",
     "output_type": "stream",
     "text": [
      "0.3339689424001247\n"
     ]
    }
   ],
   "source": [
    "with open('F1.txt') as file:\n",
    "    data = [*map(int, file.readline().split(', '))]\n",
    "print(sum(data)/len(data) * np.pi/6)"
   ]
  },
  {
   "cell_type": "code",
   "execution_count": 74,
   "id": "30ac0232-3dd8-4edf-9c41-32a53783cd39",
   "metadata": {},
   "outputs": [
    {
     "name": "stdout",
     "output_type": "stream",
     "text": [
      "1.85774\n"
     ]
    }
   ],
   "source": [
    "with open('F2.txt') as file:\n",
    "    data = [*map(int, file.readline().split(', '))]\n",
    "print(round(sum(data)/len(data) * 6*np.pi/6, 5))"
   ]
  },
  {
   "cell_type": "code",
   "execution_count": 93,
   "id": "94ce4da3-13c4-4008-b0e5-ff899840fb1c",
   "metadata": {},
   "outputs": [
    {
     "name": "stdout",
     "output_type": "stream",
     "text": [
      "0.13053\n"
     ]
    }
   ],
   "source": [
    "def coin():\n",
    "    return choice(['O', 'R'])\n",
    "\n",
    "# Вычисляем вероятность выпадения ровно m монеток при n бросках методом Монте-Карло\n",
    "def get_pr(n, m):\n",
    "    v = [[coin() for _ in range(n)] for _ in range(100000)]\n",
    "    return len(list(filter(lambda x: x.count('O') == m, v)))/len(v)\n",
    "\n",
    "print(get_pr(36, 18))"
   ]
  },
  {
   "cell_type": "code",
   "execution_count": 89,
   "id": "3b29e190-f3e5-421a-b2b2-bd629f36d6dd",
   "metadata": {},
   "outputs": [
    {
     "data": {
      "text/plain": [
       "0.08036622121575705"
      ]
     },
     "execution_count": 89,
     "metadata": {},
     "output_type": "execute_result"
    }
   ],
   "source": [
    "x = (13 - 32 * 0.5)/((32*0.5*0.5)**0.5)\n",
    "Moivre_Laplace(32, 0.5, x)"
   ]
  },
  {
   "cell_type": "code",
   "execution_count": 97,
   "id": "c3142ef9-36ad-4b63-8efb-6d2409e65e5d",
   "metadata": {},
   "outputs": [
    {
     "data": {
      "text/plain": [
       "1.0954451150103321"
      ]
     },
     "execution_count": 97,
     "metadata": {},
     "output_type": "execute_result"
    }
   ],
   "source": [
    "x1 = (15 - 30 * 0.5)/((30*0.5*0.5)**0.5)\n",
    "x2 = (18 - 36 * 0.5)/((36*0.5*0.5)**0.5)\n",
    "Moivre_Laplace(30, 0.5, x)/Moivre_Laplace(36, 0.5, x)"
   ]
  },
  {
   "cell_type": "code",
   "execution_count": 98,
   "id": "d98b0904-462c-4c6f-82be-5e7ceb878802",
   "metadata": {},
   "outputs": [
    {
     "data": {
      "text/plain": [
       "0.02177638932934933"
      ]
     },
     "execution_count": 98,
     "metadata": {},
     "output_type": "execute_result"
    }
   ],
   "source": [
    "x2 = (280 - 454 * 0.4)/((36*0.4*0.6)**0.5)\n",
    "Moivre_Laplace(454, 0.4, x)"
   ]
  },
  {
   "cell_type": "code",
   "execution_count": 112,
   "id": "a3ee40d0-89b9-4167-928c-73820ebbed5f",
   "metadata": {},
   "outputs": [
    {
     "name": "stdout",
     "output_type": "stream",
     "text": [
      "6.3676792324097714e-21\n"
     ]
    },
    {
     "data": {
      "text/plain": [
       "6.743199977856899e+129"
      ]
     },
     "execution_count": 112,
     "metadata": {},
     "output_type": "execute_result"
    }
   ],
   "source": [
    "def factorial(n):\n",
    "    if n == 1:\n",
    "        return 1\n",
    "    return n*factorial(n-1)\n",
    "\n",
    "sys.setrecursionlimit(3000)\n",
    "a = factorial(454)\n",
    "b = factorial(280)\n",
    "c = factorial(454-280)\n",
    "print(a/(b*c) * (0.4**280) * (0.6**(454-280)))\n",
    "\n",
    "(0.4**280) * (0.6**(454-280))\n",
    "a/(b*c)"
   ]
  },
  {
   "cell_type": "code",
   "execution_count": 105,
   "id": "93aed39e-445c-4fda-aaac-09db41b6cb8e",
   "metadata": {},
   "outputs": [
    {
     "name": "stdout",
     "output_type": "stream",
     "text": [
      "0.08087921887636185\n"
     ]
    }
   ],
   "source": [
    "a = factorial(32)\n",
    "b = factorial(13)\n",
    "c = factorial(32-13)\n",
    "print(a/(b*c) * (0.5**13) * (0.5**(32-13)))"
   ]
  },
  {
   "cell_type": "code",
   "execution_count": 114,
   "id": "91e880dd-e5ab-49d0-b9fd-5d31deae748c",
   "metadata": {},
   "outputs": [
    {
     "data": {
      "text/plain": [
       "0.8927276402392085"
      ]
     },
     "execution_count": 114,
     "metadata": {},
     "output_type": "execute_result"
    }
   ],
   "source": [
    "P_o(207, 0.65, 0.05)"
   ]
  },
  {
   "cell_type": "code",
   "execution_count": 121,
   "id": "88cd81f8-f7d2-42ce-94d3-31a1b3a2bbf4",
   "metadata": {},
   "outputs": [
    {
     "name": "stdout",
     "output_type": "stream",
     "text": [
      "6.721474378570686 28.633973268416508\n"
     ]
    },
    {
     "data": {
      "text/plain": [
       "8.4e-12"
      ]
     },
     "execution_count": 121,
     "metadata": {},
     "output_type": "execute_result"
    }
   ],
   "source": [
    "x1 = (294 - 707*0.3)/((707*0.3*0.7)**0.5)\n",
    "x2= (561 - 707*0.3)/((707*0.3*0.7)**0.5)\n",
    "print(x1, x2)\n",
    "round(integrate(Laplace, 0, x2,0.00001) - integrate(Laplace, 0, x1,0.00001), 13)"
   ]
  },
  {
   "cell_type": "code",
   "execution_count": 122,
   "id": "4d02ce82-ca1e-41b9-870d-59bf4bc4f61b",
   "metadata": {},
   "outputs": [
    {
     "data": {
      "text/plain": [
       "8.0"
      ]
     },
     "execution_count": 122,
     "metadata": {},
     "output_type": "execute_result"
    }
   ],
   "source": [
    "0.000000000008 * 10**12"
   ]
  },
  {
   "cell_type": "code",
   "execution_count": 127,
   "id": "528586a8-e259-4ef5-a2ce-635fecd08596",
   "metadata": {},
   "outputs": [
    {
     "data": {
      "text/plain": [
       "9.22506303584295e-09"
      ]
     },
     "execution_count": 127,
     "metadata": {},
     "output_type": "execute_result"
    }
   ],
   "source": [
    "Poisson(1537, 13, 0.001)"
   ]
  },
  {
   "cell_type": "code",
   "execution_count": 135,
   "id": "460e45f2-41af-42fe-8a70-9f7233c7d941",
   "metadata": {},
   "outputs": [
    {
     "name": "stdout",
     "output_type": "stream",
     "text": [
      "41.83333333333333 42.83333333333333\n"
     ]
    }
   ],
   "source": [
    "a = 256*(1/6)\n",
    "print(a-(1 - 1/6), a + (1/6)) "
   ]
  },
  {
   "cell_type": "code",
   "execution_count": 129,
   "id": "4c327f55-a145-4cb5-887d-002359803c98",
   "metadata": {},
   "outputs": [
    {
     "name": "stdout",
     "output_type": "stream",
     "text": [
      "16777216\n"
     ]
    }
   ],
   "source": [
    "a = list(itertools.product('ABCD', repeat=12))\n",
    "print(len(a))"
   ]
  },
  {
   "cell_type": "code",
   "execution_count": 133,
   "id": "e31915d6-6f8f-4d15-a3ef-a52618d51afa",
   "metadata": {},
   "outputs": [
    {
     "data": {
      "text/plain": [
       "1.0375115087636058"
      ]
     },
     "execution_count": 133,
     "metadata": {},
     "output_type": "execute_result"
    }
   ],
   "source": [
    "Bernoulli(78, 39, 0.5)/Bernoulli(84, 42, 0.5)"
   ]
  },
  {
   "cell_type": "code",
   "execution_count": 134,
   "id": "4a297ef7-5ada-449e-9c36-526d22bdde53",
   "metadata": {},
   "outputs": [
    {
     "data": {
      "text/plain": [
       "0.7409877912389491"
      ]
     },
     "execution_count": 134,
     "metadata": {},
     "output_type": "execute_result"
    }
   ],
   "source": [
    "P_o(778, 0.5, 0.02)"
   ]
  },
  {
   "cell_type": "code",
   "execution_count": null,
   "id": "8d3187a4-f2b4-4819-a534-1d5ff9b26fb2",
   "metadata": {},
   "outputs": [],
   "source": []
  }
 ],
 "metadata": {
  "kernelspec": {
   "display_name": "Python 3 (ipykernel)",
   "language": "python",
   "name": "python3"
  },
  "language_info": {
   "codemirror_mode": {
    "name": "ipython",
    "version": 3
   },
   "file_extension": ".py",
   "mimetype": "text/x-python",
   "name": "python",
   "nbconvert_exporter": "python",
   "pygments_lexer": "ipython3",
   "version": "3.11.5"
  }
 },
 "nbformat": 4,
 "nbformat_minor": 5
}

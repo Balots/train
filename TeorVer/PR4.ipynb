{
 "cells": [
  {
   "cell_type": "code",
   "execution_count": 3,
   "id": "8c5b2f85-ad11-41c4-bc05-35d7b175fbc0",
   "metadata": {},
   "outputs": [
    {
     "name": "stdout",
     "output_type": "stream",
     "text": [
      "34\n"
     ]
    }
   ],
   "source": [
    "with open('dataset_48784_7.txt') as file:\n",
    "    data = file.readlines()\n",
    "    print(len(data))"
   ]
  },
  {
   "cell_type": "code",
   "execution_count": 7,
   "id": "87b93100-5b13-4042-98e1-4bb4f10a33c7",
   "metadata": {},
   "outputs": [
    {
     "name": "stdout",
     "output_type": "stream",
     "text": [
      "A A T B C A T A S A A A A B F T T \" U T C F I B I A T I T T T\n"
     ]
    }
   ],
   "source": [
    "with open('dataset_48784_9.txt') as file:\n",
    "    print(*[x[0] for x in file.readlines()])"
   ]
  },
  {
   "cell_type": "code",
   "execution_count": 8,
   "id": "2b4de0c5-1e40-4ad4-b7fc-d3dbfc36dd02",
   "metadata": {},
   "outputs": [
    {
     "data": {
      "text/plain": [
       "['cat', 's', 'power']"
      ]
     },
     "execution_count": 8,
     "metadata": {},
     "output_type": "execute_result"
    }
   ],
   "source": [
    "L1 = ['cat', 's', '', 'power', '']\n",
    "L2 = list(filter(lambda x: x, L1))\n",
    "L2"
   ]
  },
  {
   "cell_type": "code",
   "execution_count": 27,
   "id": "855ae875-4b32-4a6d-9c30-c4dcfdcc25ec",
   "metadata": {},
   "outputs": [
    {
     "data": {
      "text/plain": [
       "['one', 'two', 'three', 1, 2, 3, 4, 5, 6]"
      ]
     },
     "execution_count": 27,
     "metadata": {},
     "output_type": "execute_result"
    }
   ],
   "source": [
    "L1 = [['one', 'two', 'three'], [1, 2, 3, 4, 5, 6]]\n",
    "L2 = []\n",
    "[L2.extend(x) for x in L1]\n",
    "L2"
   ]
  },
  {
   "cell_type": "code",
   "execution_count": null,
   "id": "1b110731-a269-4490-9645-1be19db7e510",
   "metadata": {},
   "outputs": [],
   "source": []
  }
 ],
 "metadata": {
  "kernelspec": {
   "display_name": "Python 3 (ipykernel)",
   "language": "python",
   "name": "python3"
  },
  "language_info": {
   "codemirror_mode": {
    "name": "ipython",
    "version": 3
   },
   "file_extension": ".py",
   "mimetype": "text/x-python",
   "name": "python",
   "nbconvert_exporter": "python",
   "pygments_lexer": "ipython3",
   "version": "3.11.5"
  }
 },
 "nbformat": 4,
 "nbformat_minor": 5
}

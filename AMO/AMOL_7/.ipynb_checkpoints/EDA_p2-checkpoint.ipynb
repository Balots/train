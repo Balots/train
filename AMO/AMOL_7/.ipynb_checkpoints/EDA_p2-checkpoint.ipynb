{
 "cells": [
  {
   "cell_type": "markdown",
   "metadata": {},
   "source": [
    "# Установка sklearn"
   ]
  },
  {
   "cell_type": "code",
   "execution_count": 210,
   "metadata": {},
   "outputs": [
    {
     "name": "stdout",
     "output_type": "stream",
     "text": [
      "Looking in indexes: https://pypi.org/simple, https://pypi.ngc.nvidia.com\n",
      "Requirement already satisfied: scikit-learn in c:\\users\\aleks\\.conda\\envs\\mo_ipynb_py311\\lib\\site-packages (1.4.2)\n",
      "Requirement already satisfied: numpy>=1.19.5 in c:\\users\\aleks\\.conda\\envs\\mo_ipynb_py311\\lib\\site-packages (from scikit-learn) (1.26.4)\n",
      "Requirement already satisfied: scipy>=1.6.0 in c:\\users\\aleks\\.conda\\envs\\mo_ipynb_py311\\lib\\site-packages (from scikit-learn) (1.13.0)\n",
      "Requirement already satisfied: joblib>=1.2.0 in c:\\users\\aleks\\.conda\\envs\\mo_ipynb_py311\\lib\\site-packages (from scikit-learn) (1.4.0)\n",
      "Requirement already satisfied: threadpoolctl>=2.0.0 in c:\\users\\aleks\\.conda\\envs\\mo_ipynb_py311\\lib\\site-packages (from scikit-learn) (3.4.0)\n"
     ]
    }
   ],
   "source": [
    "!pip install scikit-learn"
   ]
  },
  {
   "cell_type": "markdown",
   "metadata": {},
   "source": [
    "# Загрузка данных\n",
    "\n",
    "Источник: \n",
    "https://www.kaggle.com/datasets/hydramst/cars-moldova/data\n",
    "\n",
    "Описание: датасет об автомобилях\n",
    "\n",
    "Целевая переменная: Цена автомобиля\n",
    "\n",
    "Признаки:\n",
    "*\n",
    "*"
   ]
  },
  {
   "cell_type": "code",
   "execution_count": 3,
   "metadata": {},
   "outputs": [],
   "source": [
    "import pandas as pd\n",
    "\n",
    "df = pd.read_csv(r\"2cars_moldova_nan.csv\")"
   ]
  },
  {
   "cell_type": "markdown",
   "metadata": {},
   "source": [
    "# Предварительный анализ данных"
   ]
  },
  {
   "cell_type": "code",
   "execution_count": 2,
   "metadata": {},
   "outputs": [
    {
     "name": "stdout",
     "output_type": "stream",
     "text": [
      "<class 'pandas.core.frame.DataFrame'>\n",
      "RangeIndex: 41007 entries, 0 to 41006\n",
      "Data columns (total 9 columns):\n",
      " #   Column                Non-Null Count  Dtype  \n",
      "---  ------                --------------  -----  \n",
      " 0   Make                  41006 non-null  object \n",
      " 1   Model                 41003 non-null  object \n",
      " 2   Year                  41004 non-null  float64\n",
      " 3   Style                 41001 non-null  object \n",
      " 4   Distance              41003 non-null  float64\n",
      " 5   Engine_capacity(cm3)  41004 non-null  float64\n",
      " 6   Fuel_type             41004 non-null  object \n",
      " 7   Transmission          41004 non-null  object \n",
      " 8   Price(euro)           41007 non-null  float64\n",
      "dtypes: float64(4), object(5)\n",
      "memory usage: 2.8+ MB\n"
     ]
    }
   ],
   "source": [
    "# Посмотрим на столбцы и типы\n",
    "df.info()"
   ]
  },
  {
   "cell_type": "code",
   "execution_count": 73,
   "metadata": {},
   "outputs": [
    {
     "data": {
      "text/plain": [
       "(41007, 9)"
      ]
     },
     "execution_count": 73,
     "metadata": {},
     "output_type": "execute_result"
    }
   ],
   "source": [
    "df.shape"
   ]
  },
  {
   "cell_type": "code",
   "execution_count": 3,
   "metadata": {},
   "outputs": [
    {
     "data": {
      "text/plain": [
       "Index(['Make', 'Model', 'Year', 'Style', 'Distance', 'Engine_capacity(cm3)',\n",
       "       'Fuel_type', 'Transmission', 'Price(euro)'],\n",
       "      dtype='object')"
      ]
     },
     "execution_count": 3,
     "metadata": {},
     "output_type": "execute_result"
    }
   ],
   "source": [
    "df.columns"
   ]
  },
  {
   "cell_type": "markdown",
   "metadata": {},
   "source": [
    "# Проверка на дубликаты"
   ]
  },
  {
   "cell_type": "code",
   "execution_count": 4,
   "metadata": {},
   "outputs": [
    {
     "data": {
      "text/plain": [
       "3732"
      ]
     },
     "execution_count": 4,
     "metadata": {},
     "output_type": "execute_result"
    }
   ],
   "source": [
    "df.duplicated().sum()"
   ]
  },
  {
   "cell_type": "code",
   "execution_count": 6,
   "metadata": {},
   "outputs": [],
   "source": [
    "# удалим дубликаты\n",
    "df = df.drop_duplicates()\n",
    "df = df.reset_index(drop=True)"
   ]
  },
  {
   "cell_type": "code",
   "execution_count": 7,
   "metadata": {},
   "outputs": [
    {
     "name": "stdout",
     "output_type": "stream",
     "text": [
      "0\n"
     ]
    }
   ],
   "source": [
    "# проверим ещё раз\n",
    "print(df.duplicated().sum())"
   ]
  },
  {
   "cell_type": "code",
   "execution_count": 8,
   "metadata": {},
   "outputs": [
    {
     "data": {
      "text/html": [
       "<div>\n",
       "<style scoped>\n",
       "    .dataframe tbody tr th:only-of-type {\n",
       "        vertical-align: middle;\n",
       "    }\n",
       "\n",
       "    .dataframe tbody tr th {\n",
       "        vertical-align: top;\n",
       "    }\n",
       "\n",
       "    .dataframe thead th {\n",
       "        text-align: right;\n",
       "    }\n",
       "</style>\n",
       "<table border=\"1\" class=\"dataframe\">\n",
       "  <thead>\n",
       "    <tr style=\"text-align: right;\">\n",
       "      <th></th>\n",
       "      <th>Make</th>\n",
       "      <th>Model</th>\n",
       "      <th>Year</th>\n",
       "      <th>Style</th>\n",
       "      <th>Distance</th>\n",
       "      <th>Engine_capacity(cm3)</th>\n",
       "      <th>Fuel_type</th>\n",
       "      <th>Transmission</th>\n",
       "      <th>Price(euro)</th>\n",
       "    </tr>\n",
       "  </thead>\n",
       "  <tbody>\n",
       "    <tr>\n",
       "      <th>36166</th>\n",
       "      <td>Mercedes</td>\n",
       "      <td>A Class</td>\n",
       "      <td>2001.0</td>\n",
       "      <td>Universal</td>\n",
       "      <td>174000.0</td>\n",
       "      <td>1600.0</td>\n",
       "      <td>Petrol</td>\n",
       "      <td>Automatic</td>\n",
       "      <td>2500.0</td>\n",
       "    </tr>\n",
       "    <tr>\n",
       "      <th>967</th>\n",
       "      <td>Toyota</td>\n",
       "      <td>Camry</td>\n",
       "      <td>2005.0</td>\n",
       "      <td>Sedan</td>\n",
       "      <td>157085.0</td>\n",
       "      <td>2400.0</td>\n",
       "      <td>Metan/Propan</td>\n",
       "      <td>Automatic</td>\n",
       "      <td>5500.0</td>\n",
       "    </tr>\n",
       "    <tr>\n",
       "      <th>37197</th>\n",
       "      <td>Mercedes</td>\n",
       "      <td>M Class</td>\n",
       "      <td>2000.0</td>\n",
       "      <td>SUV</td>\n",
       "      <td>288000.0</td>\n",
       "      <td>2700.0</td>\n",
       "      <td>Diesel</td>\n",
       "      <td>Automatic</td>\n",
       "      <td>7399.0</td>\n",
       "    </tr>\n",
       "  </tbody>\n",
       "</table>\n",
       "</div>"
      ],
      "text/plain": [
       "           Make    Model    Year      Style  Distance  Engine_capacity(cm3)  \\\n",
       "36166  Mercedes  A Class  2001.0  Universal  174000.0                1600.0   \n",
       "967      Toyota    Camry  2005.0      Sedan  157085.0                2400.0   \n",
       "37197  Mercedes  M Class  2000.0        SUV  288000.0                2700.0   \n",
       "\n",
       "          Fuel_type Transmission  Price(euro)  \n",
       "36166        Petrol    Automatic       2500.0  \n",
       "967    Metan/Propan    Automatic       5500.0  \n",
       "37197        Diesel    Automatic       7399.0  "
      ]
     },
     "execution_count": 8,
     "metadata": {},
     "output_type": "execute_result"
    }
   ],
   "source": [
    "# выведем данные\n",
    "df.sample(3)"
   ]
  },
  {
   "cell_type": "markdown",
   "metadata": {},
   "source": [
    "# Разделим датасет на числовые и категориальные данные\n"
   ]
  },
  {
   "cell_type": "code",
   "execution_count": 9,
   "metadata": {},
   "outputs": [
    {
     "name": "stdout",
     "output_type": "stream",
     "text": [
      "<class 'pandas.core.frame.DataFrame'>\n",
      "RangeIndex: 37275 entries, 0 to 37274\n",
      "Data columns (total 9 columns):\n",
      " #   Column                Non-Null Count  Dtype  \n",
      "---  ------                --------------  -----  \n",
      " 0   Make                  37274 non-null  object \n",
      " 1   Model                 37271 non-null  object \n",
      " 2   Year                  37272 non-null  float64\n",
      " 3   Style                 37269 non-null  object \n",
      " 4   Distance              37271 non-null  float64\n",
      " 5   Engine_capacity(cm3)  37272 non-null  float64\n",
      " 6   Fuel_type             37272 non-null  object \n",
      " 7   Transmission          37272 non-null  object \n",
      " 8   Price(euro)           37275 non-null  float64\n",
      "dtypes: float64(4), object(5)\n",
      "memory usage: 2.6+ MB\n"
     ]
    }
   ],
   "source": [
    "df.info()"
   ]
  },
  {
   "cell_type": "code",
   "execution_count": 9,
   "metadata": {},
   "outputs": [
    {
     "data": {
      "text/plain": [
       "RangeIndex(start=0, stop=37275, step=1)"
      ]
     },
     "execution_count": 9,
     "metadata": {},
     "output_type": "execute_result"
    }
   ],
   "source": [
    "df.index"
   ]
  },
  {
   "cell_type": "code",
   "execution_count": 4,
   "metadata": {},
   "outputs": [],
   "source": [
    "# сохраним список названий категориальных и числовых признаков в отдельные переменные\n",
    "cat_df_cols = df.select_dtypes(\"object\").columns\n",
    "num_df_cols = df.select_dtypes(\"float64\").columns"
   ]
  },
  {
   "cell_type": "code",
   "execution_count": 11,
   "metadata": {},
   "outputs": [
    {
     "name": "stdout",
     "output_type": "stream",
     "text": [
      "Размер данных для числовых признаков: (37275, 4)\n",
      "Размер данных для категориальных признаков: (37275, 5)\n",
      "Числовые признаки:\n",
      "         Year  Distance  Engine_capacity(cm3)  Price(euro)\n",
      "7866   2006.0  340992.0                2200.0       4699.0\n",
      "11172  2013.0  146453.0                1800.0       9999.0\n",
      "10419  1997.0       0.0                2000.0       2600.0\n",
      "8703   2009.0       1.0                2000.0      10500.0\n",
      "Категориальные признаки:\n",
      "             Make               Model      Style     Fuel_type Transmission\n",
      "27448       Honda                CR-V  Crossover        Diesel       Manual\n",
      "18708      Toyota  Land Cruiser Prado        SUV  Metan/Propan    Automatic\n",
      "23486  Volkswagen                Bora      Sedan        Petrol       Manual\n",
      "27689        Ford              Escape  Crossover        Petrol    Automatic\n"
     ]
    }
   ],
   "source": [
    "# посмотрим на результат\n",
    "print(f\"Размер данных для числовых признаков: {df[num_df_cols].shape}\")\n",
    "print(f\"Размер данных для категориальных признаков: {df[cat_df_cols].shape}\")\n",
    "print(\"Числовые признаки:\")\n",
    "print(df[num_df_cols].sample(4))\n",
    "print(\"Категориальные признаки:\")\n",
    "print(df[cat_df_cols].sample(4))"
   ]
  },
  {
   "cell_type": "markdown",
   "metadata": {},
   "source": [
    "# Работа с числовыми признаками"
   ]
  },
  {
   "cell_type": "markdown",
   "metadata": {},
   "source": [
    "## Анализ данных по распределению"
   ]
  },
  {
   "cell_type": "code",
   "execution_count": 80,
   "metadata": {},
   "outputs": [
    {
     "data": {
      "image/png": "[encoded data removed]",
      "text/plain": [
       "<Figure size 1600x800 with 4 Axes>"
      ]
     },
     "metadata": {},
     "output_type": "display_data"
    }
   ],
   "source": [
    "import matplotlib.pyplot as plt\n",
    "import numpy as np\n",
    "\n",
    "num_columns = df[num_df_cols].columns\n",
    "width = 2\n",
    "height = int(np.ceil(len(num_columns)/width))\n",
    "fig, ax = plt.subplots(nrows=height, ncols=width, figsize=(16,8))\n",
    "\n",
    "for idx, column_name in enumerate(num_columns):\n",
    "    plt.subplot(height,width, idx+1)\n",
    "    plt.hist(x=df[column_name])\n",
    "    plt.title(column_name)"
   ]
  },
  {
   "cell_type": "code",
   "execution_count": 18,
   "metadata": {},
   "outputs": [
    {
     "data": {
      "image/png": "[encoded data removed]",
      "text/plain": [
       "<Figure size 1600x800 with 4 Axes>"
      ]
     },
     "metadata": {},
     "output_type": "display_data"
    }
   ],
   "source": [
    "import matplotlib.pyplot as plt\n",
    "import numpy as np\n",
    "\n",
    "num_columns = df[num_df_cols].columns\n",
    "width = 2\n",
    "height = int(np.ceil(len(num_columns)/width))\n",
    "fig, ax = plt.subplots(nrows=height, ncols=width, figsize=(16,8))\n",
    "\n",
    "for idx, column_name in enumerate(num_columns):\n",
    "    plt.subplot(height,width, idx+1)\n",
    "    plt.boxplot(x=df[column_name], vert=False)\n",
    "    plt.title(column_name)\n"
   ]
  },
  {
   "cell_type": "code",
   "execution_count": 19,
   "metadata": {},
   "outputs": [
    {
     "data": {
      "text/html": [
       "<div>\n",
       "<style scoped>\n",
       "    .dataframe tbody tr th:only-of-type {\n",
       "        vertical-align: middle;\n",
       "    }\n",
       "\n",
       "    .dataframe tbody tr th {\n",
       "        vertical-align: top;\n",
       "    }\n",
       "\n",
       "    .dataframe thead th {\n",
       "        text-align: right;\n",
       "    }\n",
       "</style>\n",
       "<table border=\"1\" class=\"dataframe\">\n",
       "  <thead>\n",
       "    <tr style=\"text-align: right;\">\n",
       "      <th></th>\n",
       "      <th>Year</th>\n",
       "      <th>Distance</th>\n",
       "      <th>Engine_capacity(cm3)</th>\n",
       "      <th>Price(euro)</th>\n",
       "    </tr>\n",
       "  </thead>\n",
       "  <tbody>\n",
       "    <tr>\n",
       "      <th>count</th>\n",
       "      <td>37272.000000</td>\n",
       "      <td>3.727100e+04</td>\n",
       "      <td>3.727200e+04</td>\n",
       "      <td>3.727500e+04</td>\n",
       "    </tr>\n",
       "    <tr>\n",
       "      <th>mean</th>\n",
       "      <td>2007.709165</td>\n",
       "      <td>4.778988e+05</td>\n",
       "      <td>1.901892e+03</td>\n",
       "      <td>9.568468e+03</td>\n",
       "    </tr>\n",
       "    <tr>\n",
       "      <th>std</th>\n",
       "      <td>8.294733</td>\n",
       "      <td>4.604838e+06</td>\n",
       "      <td>8.308165e+03</td>\n",
       "      <td>5.282544e+04</td>\n",
       "    </tr>\n",
       "    <tr>\n",
       "      <th>min</th>\n",
       "      <td>1900.000000</td>\n",
       "      <td>-2.050000e+05</td>\n",
       "      <td>0.000000e+00</td>\n",
       "      <td>1.000000e+00</td>\n",
       "    </tr>\n",
       "    <tr>\n",
       "      <th>25%</th>\n",
       "      <td>2004.000000</td>\n",
       "      <td>9.000000e+04</td>\n",
       "      <td>1.499000e+03</td>\n",
       "      <td>3.300000e+03</td>\n",
       "    </tr>\n",
       "    <tr>\n",
       "      <th>50%</th>\n",
       "      <td>2009.000000</td>\n",
       "      <td>1.700000e+05</td>\n",
       "      <td>1.800000e+03</td>\n",
       "      <td>6.490000e+03</td>\n",
       "    </tr>\n",
       "    <tr>\n",
       "      <th>75%</th>\n",
       "      <td>2014.000000</td>\n",
       "      <td>2.300000e+05</td>\n",
       "      <td>2.000000e+03</td>\n",
       "      <td>1.179900e+04</td>\n",
       "    </tr>\n",
       "    <tr>\n",
       "      <th>max</th>\n",
       "      <td>2021.000000</td>\n",
       "      <td>1.000000e+08</td>\n",
       "      <td>1.600000e+06</td>\n",
       "      <td>1.000000e+07</td>\n",
       "    </tr>\n",
       "  </tbody>\n",
       "</table>\n",
       "</div>"
      ],
      "text/plain": [
       "               Year      Distance  Engine_capacity(cm3)   Price(euro)\n",
       "count  37272.000000  3.727100e+04          3.727200e+04  3.727500e+04\n",
       "mean    2007.709165  4.778988e+05          1.901892e+03  9.568468e+03\n",
       "std        8.294733  4.604838e+06          8.308165e+03  5.282544e+04\n",
       "min     1900.000000 -2.050000e+05          0.000000e+00  1.000000e+00\n",
       "25%     2004.000000  9.000000e+04          1.499000e+03  3.300000e+03\n",
       "50%     2009.000000  1.700000e+05          1.800000e+03  6.490000e+03\n",
       "75%     2014.000000  2.300000e+05          2.000000e+03  1.179900e+04\n",
       "max     2021.000000  1.000000e+08          1.600000e+06  1.000000e+07"
      ]
     },
     "execution_count": 19,
     "metadata": {},
     "output_type": "execute_result"
    }
   ],
   "source": [
    "df[num_df_cols].describe()"
   ]
  },
  {
   "cell_type": "code",
   "execution_count": 20,
   "metadata": {},
   "outputs": [
    {
     "data": {
      "text/plain": [
       "Make        Model      Year    Style      Distance  Engine_capacity(cm3)  Fuel_type  Transmission  Price(euro)\n",
       "Alta marca  Alt model  2005.0  Sedan      0.0       1111.0                Petrol     Manual        1700.0         1\n",
       "Renault     Clio       2020.0  Hatchback  0.0       898.0                 Petrol     Manual        8799.0         1\n",
       "            19         1993.0  Hatchback  0.0       1800.0                Petrol     Manual        1350.0         1\n",
       "            Altele     2020.0  Crossover  0.0       0.0                   Electric   Automatic     13600.0        1\n",
       "            Captur     2020.0  Crossover  0.0       1300.0                Petrol     Automatic     16500.0        1\n",
       "                                                                                                                 ..\n",
       "Jeep        Compass    2012.0  Crossover  0.0       2000.0                Petrol     Automatic     6550.0         1\n",
       "KIA         Altele     2021.0  Sedan      0.0       2497.0                Petrol     Automatic     37999.0        1\n",
       "            Ceed       2018.0  Hatchback  0.0       1400.0                Petrol     Manual        5900.0         1\n",
       "            Ceed Sw    2021.0  Universal  0.0       1600.0                Petrol     Automatic     18300.0        1\n",
       "Xpeng       G3         2020.0  SUV        0.0       0.0                   Electric   Automatic     26000.0        1\n",
       "Name: count, Length: 745, dtype: int64"
      ]
     },
     "execution_count": 20,
     "metadata": {},
     "output_type": "execute_result"
    }
   ],
   "source": [
    "df[df['Distance']==0].value_counts()"
   ]
  },
  {
   "cell_type": "code",
   "execution_count": null,
   "metadata": {},
   "outputs": [
    {
     "data": {
      "text/plain": [
       "(0.0, 10000000.0)"
      ]
     },
     "execution_count": 27,
     "metadata": {},
     "output_type": "execute_result"
    },
    {
     "data": {
      "image/png": "[encoded data removed]",
      "text/plain": [
       "<Figure size 640x480 with 1 Axes>"
      ]
     },
     "metadata": {},
     "output_type": "display_data"
    }
   ],
   "source": [
    "plt.hist(x=df['Distance'])\n",
    "plt.xlim(0, 10000000)\n"
   ]
  },
  {
   "cell_type": "code",
   "execution_count": 32,
   "metadata": {},
   "outputs": [
    {
     "data": {
      "text/plain": [
       "(0.0, 1000000.0)"
      ]
     },
     "execution_count": 32,
     "metadata": {},
     "output_type": "execute_result"
    },
    {
     "data": {
      "image/png": "[encoded data removed]",
      "text/plain": [
       "<Figure size 640x480 with 1 Axes>"
      ]
     },
     "metadata": {},
     "output_type": "display_data"
    }
   ],
   "source": [
    "# анализ гистограмм\n",
    "question_dist = df[(df.Distance > 1e6)]\n",
    "df_ex = df.drop(question_dist.index)\n",
    "plt.hist(x=df_ex['Distance'])\n",
    "plt.xlim(0,1e6)"
   ]
  },
  {
   "cell_type": "markdown",
   "metadata": {},
   "source": [
    "## Работа с аномалиями"
   ]
  },
  {
   "cell_type": "markdown",
   "metadata": {},
   "source": [
    "Столбцы имеют аномалии. Работаем с каждым столбцом отдельно"
   ]
  },
  {
   "cell_type": "code",
   "execution_count": 12,
   "metadata": {},
   "outputs": [
    {
     "data": {
      "text/html": [
       "<div>\n",
       "<style scoped>\n",
       "    .dataframe tbody tr th:only-of-type {\n",
       "        vertical-align: middle;\n",
       "    }\n",
       "\n",
       "    .dataframe tbody tr th {\n",
       "        vertical-align: top;\n",
       "    }\n",
       "\n",
       "    .dataframe thead th {\n",
       "        text-align: right;\n",
       "    }\n",
       "</style>\n",
       "<table border=\"1\" class=\"dataframe\">\n",
       "  <thead>\n",
       "    <tr style=\"text-align: right;\">\n",
       "      <th></th>\n",
       "      <th>Make</th>\n",
       "      <th>Model</th>\n",
       "      <th>Year</th>\n",
       "      <th>Style</th>\n",
       "      <th>Distance</th>\n",
       "      <th>Engine_capacity(cm3)</th>\n",
       "      <th>Fuel_type</th>\n",
       "      <th>Transmission</th>\n",
       "      <th>Price(euro)</th>\n",
       "    </tr>\n",
       "  </thead>\n",
       "  <tbody>\n",
       "    <tr>\n",
       "      <th>37270</th>\n",
       "      <td>Land Rover</td>\n",
       "      <td>Freelander</td>\n",
       "      <td>2002.0</td>\n",
       "      <td>Crossover</td>\n",
       "      <td>225000.0</td>\n",
       "      <td>1800.0</td>\n",
       "      <td>Metan/Propan</td>\n",
       "      <td>Manual</td>\n",
       "      <td>4400.0</td>\n",
       "    </tr>\n",
       "    <tr>\n",
       "      <th>37271</th>\n",
       "      <td>Dacia</td>\n",
       "      <td>Logan Mcv</td>\n",
       "      <td>2015.0</td>\n",
       "      <td>Universal</td>\n",
       "      <td>89000.0</td>\n",
       "      <td>1500.0</td>\n",
       "      <td>Diesel</td>\n",
       "      <td>Manual</td>\n",
       "      <td>7000.0</td>\n",
       "    </tr>\n",
       "    <tr>\n",
       "      <th>37272</th>\n",
       "      <td>Renault</td>\n",
       "      <td>Modus</td>\n",
       "      <td>2009.0</td>\n",
       "      <td>Hatchback</td>\n",
       "      <td>225.0</td>\n",
       "      <td>1500.0</td>\n",
       "      <td>Diesel</td>\n",
       "      <td>Manual</td>\n",
       "      <td>4500.0</td>\n",
       "    </tr>\n",
       "    <tr>\n",
       "      <th>37273</th>\n",
       "      <td>Mazda</td>\n",
       "      <td>6</td>\n",
       "      <td>2006.0</td>\n",
       "      <td>Combi</td>\n",
       "      <td>370000.0</td>\n",
       "      <td>2000.0</td>\n",
       "      <td>Diesel</td>\n",
       "      <td>Manual</td>\n",
       "      <td>4000.0</td>\n",
       "    </tr>\n",
       "    <tr>\n",
       "      <th>37274</th>\n",
       "      <td>Renault</td>\n",
       "      <td>Grand Scenic</td>\n",
       "      <td>2006.0</td>\n",
       "      <td>Minivan</td>\n",
       "      <td>300000.0</td>\n",
       "      <td>1500.0</td>\n",
       "      <td>Diesel</td>\n",
       "      <td>Manual</td>\n",
       "      <td>4000.0</td>\n",
       "    </tr>\n",
       "  </tbody>\n",
       "</table>\n",
       "</div>"
      ],
      "text/plain": [
       "             Make         Model    Year      Style  Distance  \\\n",
       "37270  Land Rover    Freelander  2002.0  Crossover  225000.0   \n",
       "37271       Dacia     Logan Mcv  2015.0  Universal   89000.0   \n",
       "37272     Renault         Modus  2009.0  Hatchback     225.0   \n",
       "37273       Mazda             6  2006.0      Combi  370000.0   \n",
       "37274     Renault  Grand Scenic  2006.0    Minivan  300000.0   \n",
       "\n",
       "       Engine_capacity(cm3)     Fuel_type Transmission  Price(euro)  \n",
       "37270                1800.0  Metan/Propan       Manual       4400.0  \n",
       "37271                1500.0        Diesel       Manual       7000.0  \n",
       "37272                1500.0        Diesel       Manual       4500.0  \n",
       "37273                2000.0        Diesel       Manual       4000.0  \n",
       "37274                1500.0        Diesel       Manual       4000.0  "
      ]
     },
     "execution_count": 12,
     "metadata": {},
     "output_type": "execute_result"
    }
   ],
   "source": [
    "# анализ гистограмм\n",
    "question_dist = df[(df.Distance > 1e6) | (df.Distance == 0)]\n",
    "df = df.drop(question_dist.index)\n",
    "\n",
    "question_engine = df[df[\"Engine_capacity(cm3)\"] < 200]\n",
    "df = df.drop(question_engine.index)\n",
    "\n",
    "question_engine = df[df[\"Engine_capacity(cm3)\"] > 5000]\n",
    "df = df.drop(question_engine.index)\n",
    "\n",
    "question_price = df[(df[\"Price(euro)\"] < 101)]\n",
    "df = df.drop(question_price.index)\n",
    "\n",
    "question_price = df[df[\"Price(euro)\"] > 1e5]\n",
    "df = df.drop(question_price.index)\n",
    "\n",
    "question_year = df[df.Year < 1980]\n",
    "df = df.drop(question_year.index)\n",
    "\n",
    "df.tail()"
   ]
  },
  {
   "cell_type": "code",
   "execution_count": 14,
   "metadata": {},
   "outputs": [
    {
     "data": {
      "image/png": "[encoded data removed]",
      "text/plain": [
       "<Figure size 1600x800 with 4 Axes>"
      ]
     },
     "metadata": {},
     "output_type": "display_data"
    }
   ],
   "source": [
    "import numpy as np\n",
    "import matplotlib.pyplot as plt\n",
    "\n",
    "num_columns = df[num_df_cols].columns\n",
    "width = 2\n",
    "height = int(np.ceil(len(num_columns)/width))\n",
    "fig, ax = plt.subplots(nrows=height, ncols=width, figsize=(16,8))\n",
    "\n",
    "for idx, column_name in enumerate(num_columns):\n",
    "    plt.subplot(height,width, idx+1)\n",
    "    plt.hist(x=df[column_name])\n",
    "    plt.title(column_name)"
   ]
  },
  {
   "cell_type": "markdown",
   "metadata": {},
   "source": [
    "## Проверка на пропуски"
   ]
  },
  {
   "cell_type": "code",
   "execution_count": 37,
   "metadata": {},
   "outputs": [
    {
     "data": {
      "text/plain": [
       "Year                    2\n",
       "Distance                4\n",
       "Engine_capacity(cm3)    2\n",
       "Price(euro)             0\n",
       "dtype: int64"
      ]
     },
     "execution_count": 37,
     "metadata": {},
     "output_type": "execute_result"
    }
   ],
   "source": [
    "# Посмотрим на пропуски в числовых признаках\n",
    "df[num_df_cols].isna().sum()"
   ]
  },
  {
   "cell_type": "code",
   "execution_count": 38,
   "metadata": {},
   "outputs": [
    {
     "data": {
      "image/png": "[encoded data removed]",
      "text/plain": [
       "<Figure size 640x480 with 1 Axes>"
      ]
     },
     "metadata": {},
     "output_type": "display_data"
    },
    {
     "data": {
      "image/png": "[encoded data removed]",
      "text/plain": [
       "<Figure size 640x480 with 1 Axes>"
      ]
     },
     "metadata": {},
     "output_type": "display_data"
    }
   ],
   "source": [
    "# Построим график с пропущенными данными для наглядности\n",
    "import matplotlib.pyplot as plt\n",
    "\n",
    "def null(df):\n",
    "    h=df.isnull().sum()\n",
    "    g=pd.DataFrame(data=h,columns=[\"null\"])\n",
    "    g=g[g['null']>0]\n",
    "    plt.bar(g.index,g['null'])\n",
    "    plt.title(\"Количество пустых значений\")\n",
    "    plt.show()\n",
    "    plt.bar(g.index,g['null']/len(df))\n",
    "    plt.title(\"Пропущенные значения/количество данных\")\n",
    "    plt.show()\n",
    "\n",
    "null(df[num_df_cols]) "
   ]
  },
  {
   "cell_type": "markdown",
   "metadata": {},
   "source": [
    "## Заполнение пропусков"
   ]
  },
  {
   "cell_type": "code",
   "execution_count": 14,
   "metadata": {},
   "outputs": [
    {
     "data": {
      "text/plain": [
       "Year                    3\n",
       "Distance                4\n",
       "Engine_capacity(cm3)    3\n",
       "Price(euro)             0\n",
       "dtype: int64"
      ]
     },
     "execution_count": 14,
     "metadata": {},
     "output_type": "execute_result"
    }
   ],
   "source": [
    "# Посмотрим на пропуски в числовых признаках\n",
    "df[num_df_cols].isna().sum()"
   ]
  },
  {
   "cell_type": "code",
   "execution_count": 48,
   "metadata": {},
   "outputs": [
    {
     "data": {
      "text/html": [
       "<div>\n",
       "<style scoped>\n",
       "    .dataframe tbody tr th:only-of-type {\n",
       "        vertical-align: middle;\n",
       "    }\n",
       "\n",
       "    .dataframe tbody tr th {\n",
       "        vertical-align: top;\n",
       "    }\n",
       "\n",
       "    .dataframe thead th {\n",
       "        text-align: right;\n",
       "    }\n",
       "</style>\n",
       "<table border=\"1\" class=\"dataframe\">\n",
       "  <thead>\n",
       "    <tr style=\"text-align: right;\">\n",
       "      <th></th>\n",
       "      <th>Make</th>\n",
       "      <th>Model</th>\n",
       "      <th>Year</th>\n",
       "      <th>Style</th>\n",
       "      <th>Distance</th>\n",
       "      <th>Engine_capacity(cm3)</th>\n",
       "      <th>Fuel_type</th>\n",
       "      <th>Transmission</th>\n",
       "      <th>Price(euro)</th>\n",
       "    </tr>\n",
       "  </thead>\n",
       "  <tbody>\n",
       "    <tr>\n",
       "      <th>177</th>\n",
       "      <td>Fiat</td>\n",
       "      <td>Grande Punto</td>\n",
       "      <td>NaN</td>\n",
       "      <td>Hatchback</td>\n",
       "      <td>185000.0</td>\n",
       "      <td>1300.0</td>\n",
       "      <td>Diesel</td>\n",
       "      <td>Automatic</td>\n",
       "      <td>3600.0</td>\n",
       "    </tr>\n",
       "    <tr>\n",
       "      <th>197</th>\n",
       "      <td>Mercedes</td>\n",
       "      <td>Series (W123)</td>\n",
       "      <td>NaN</td>\n",
       "      <td>Universal</td>\n",
       "      <td>100000.0</td>\n",
       "      <td>2400.0</td>\n",
       "      <td>Diesel</td>\n",
       "      <td>Manual</td>\n",
       "      <td>1000.0</td>\n",
       "    </tr>\n",
       "  </tbody>\n",
       "</table>\n",
       "</div>"
      ],
      "text/plain": [
       "         Make          Model  Year      Style  Distance  Engine_capacity(cm3)  \\\n",
       "177      Fiat   Grande Punto   NaN  Hatchback  185000.0                1300.0   \n",
       "197  Mercedes  Series (W123)   NaN  Universal  100000.0                2400.0   \n",
       "\n",
       "    Fuel_type Transmission  Price(euro)  \n",
       "177    Diesel    Automatic       3600.0  \n",
       "197    Diesel       Manual       1000.0  "
      ]
     },
     "execution_count": 48,
     "metadata": {},
     "output_type": "execute_result"
    }
   ],
   "source": [
    "#отфильтруем пропущенные значения\n",
    "mask1 = df['Year'].isnull()==True\n",
    "df[mask1]"
   ]
  },
  {
   "cell_type": "code",
   "execution_count": null,
   "metadata": {},
   "outputs": [],
   "source": [
    "# для года значений всего два. можно заменить на среднее. или поискать информацию и заполнить данные самим"
   ]
  },
  {
   "cell_type": "code",
   "execution_count": 269,
   "metadata": {},
   "outputs": [],
   "source": [
    "# заменим пропуски средним значением\n",
    "df[num_df_cols] = df[num_df_cols].fillna(value=df[num_df_cols].mean())"
   ]
  },
  {
   "cell_type": "code",
   "execution_count": 271,
   "metadata": {},
   "outputs": [
    {
     "data": {
      "text/plain": [
       "Year                    0\n",
       "Distance                0\n",
       "Engine_capacity(cm3)    0\n",
       "Price(euro)             0\n",
       "dtype: int64"
      ]
     },
     "execution_count": 271,
     "metadata": {},
     "output_type": "execute_result"
    }
   ],
   "source": [
    "df[num_df_cols].isna().sum()"
   ]
  },
  {
   "cell_type": "markdown",
   "metadata": {},
   "source": [
    "## Добавление новых признаков"
   ]
  },
  {
   "cell_type": "code",
   "execution_count": 304,
   "metadata": {},
   "outputs": [],
   "source": [
    "# Добавим новый признак: km/year\n",
    "df['km_year'] = df.Distance / (2024 - df.Year)\n",
    "\n",
    "# удалим маленькие и большие значения\n",
    "question_km_year = df[df.km_year > 50e3]\n",
    "df = df.drop(question_km_year.index) \n",
    "question_km_year = df[df.km_year < 100]\n",
    "df = df.drop(question_km_year.index)\n",
    "\n",
    "# переназначим индексы\n",
    "df = df.reset_index(drop=True)"
   ]
  },
  {
   "cell_type": "code",
   "execution_count": 305,
   "metadata": {},
   "outputs": [
    {
     "data": {
      "text/plain": [
       "(array([3.4410e+03, 8.2050e+03, 1.3123e+04, 7.6770e+03, 2.3450e+03,\n",
       "        5.0000e+02, 1.2800e+02, 3.9000e+01, 2.9000e+01, 1.0000e+01]),\n",
       " array([  100.,  5090., 10080., 15070., 20060., 25050., 30040., 35030.,\n",
       "        40020., 45010., 50000.]),\n",
       " <BarContainer object of 10 artists>)"
      ]
     },
     "execution_count": 305,
     "metadata": {},
     "output_type": "execute_result"
    },
    {
     "data": {
      "image/png": "[encoded data removed]",
      "text/plain": [
       "<Figure size 1000x700 with 1 Axes>"
      ]
     },
     "metadata": {},
     "output_type": "display_data"
    }
   ],
   "source": [
    "plt.figure(figsize=(10,7))\n",
    "plt.hist(x = df['km_year'])"
   ]
  },
  {
   "cell_type": "markdown",
   "metadata": {},
   "source": [
    "## Нормализация данных"
   ]
  },
  {
   "cell_type": "code",
   "execution_count": 49,
   "metadata": {},
   "outputs": [
    {
     "data": {
      "text/html": [
       "<div>\n",
       "<style scoped>\n",
       "    .dataframe tbody tr th:only-of-type {\n",
       "        vertical-align: middle;\n",
       "    }\n",
       "\n",
       "    .dataframe tbody tr th {\n",
       "        vertical-align: top;\n",
       "    }\n",
       "\n",
       "    .dataframe thead th {\n",
       "        text-align: right;\n",
       "    }\n",
       "</style>\n",
       "<table border=\"1\" class=\"dataframe\">\n",
       "  <thead>\n",
       "    <tr style=\"text-align: right;\">\n",
       "      <th></th>\n",
       "      <th>Year</th>\n",
       "      <th>Distance</th>\n",
       "      <th>Engine_capacity(cm3)</th>\n",
       "      <th>Price(euro)</th>\n",
       "    </tr>\n",
       "  </thead>\n",
       "  <tbody>\n",
       "    <tr>\n",
       "      <th>10607</th>\n",
       "      <td>2000.0</td>\n",
       "      <td>290000.0</td>\n",
       "      <td>1800.0</td>\n",
       "      <td>2500.0</td>\n",
       "    </tr>\n",
       "    <tr>\n",
       "      <th>8655</th>\n",
       "      <td>1987.0</td>\n",
       "      <td>1111.0</td>\n",
       "      <td>1999.0</td>\n",
       "      <td>1300.0</td>\n",
       "    </tr>\n",
       "    <tr>\n",
       "      <th>14312</th>\n",
       "      <td>2006.0</td>\n",
       "      <td>263000.0</td>\n",
       "      <td>1400.0</td>\n",
       "      <td>3150.0</td>\n",
       "    </tr>\n",
       "  </tbody>\n",
       "</table>\n",
       "</div>"
      ],
      "text/plain": [
       "         Year  Distance  Engine_capacity(cm3)  Price(euro)\n",
       "10607  2000.0  290000.0                1800.0       2500.0\n",
       "8655   1987.0    1111.0                1999.0       1300.0\n",
       "14312  2006.0  263000.0                1400.0       3150.0"
      ]
     },
     "execution_count": 49,
     "metadata": {},
     "output_type": "execute_result"
    }
   ],
   "source": [
    "df[num_df_cols].sample(3)"
   ]
  },
  {
   "cell_type": "code",
   "execution_count": null,
   "metadata": {},
   "outputs": [],
   "source": [
    "DF_norm_num_df  = df.copy() # чтобы не портить исходный датафрейм - складываем копию в новый датафрейм\n",
    "Xmin = DF_norm_num_df[num_df_cols].min() # находим минимум (для каждого числового признака)\n",
    "Xmax = DF_norm_num_df[num_df_cols].max() # находим максимум (для каждого числового признака)\n",
    "                                                # ↓ каждый столбец делится на свою разницу максимума и минимума\n",
    "DF_norm_num_df = (DF_norm_num_df[num_df_cols] - Xmin)/( Xmax - Xmin) # реализуем нормализацию. с помощью матричных операций\n",
    "                                        # ↑ из каждого стобца вычитаем свой минимум"
   ]
  },
  {
   "cell_type": "code",
   "execution_count": 81,
   "metadata": {},
   "outputs": [
    {
     "data": {
      "image/png": "[encoded data removed]",
      "text/plain": [
       "<Figure size 1600x800 with 4 Axes>"
      ]
     },
     "metadata": {},
     "output_type": "display_data"
    }
   ],
   "source": [
    "import numpy as np\n",
    "\n",
    "num_columns = DF_norm_num_df.columns\n",
    "width = 2\n",
    "height = int(np.ceil(len(num_columns)/width))\n",
    "fig, ax = plt.subplots(nrows=height, ncols=width, figsize=(16,8))\n",
    "\n",
    "for idx, column_name in enumerate(num_columns):\n",
    "    plt.subplot(height,width, idx+1)\n",
    "    plt.hist(x=DF_norm_num_df[column_name])\n",
    "    plt.title(column_name)"
   ]
  },
  {
   "cell_type": "markdown",
   "metadata": {},
   "source": [
    "## Стандартизация данных"
   ]
  },
  {
   "cell_type": "code",
   "execution_count": 52,
   "metadata": {},
   "outputs": [
    {
     "data": {
      "text/html": [
       "<div>\n",
       "<style scoped>\n",
       "    .dataframe tbody tr th:only-of-type {\n",
       "        vertical-align: middle;\n",
       "    }\n",
       "\n",
       "    .dataframe tbody tr th {\n",
       "        vertical-align: top;\n",
       "    }\n",
       "\n",
       "    .dataframe thead th {\n",
       "        text-align: right;\n",
       "    }\n",
       "</style>\n",
       "<table border=\"1\" class=\"dataframe\">\n",
       "  <thead>\n",
       "    <tr style=\"text-align: right;\">\n",
       "      <th></th>\n",
       "      <th>Year</th>\n",
       "      <th>Distance</th>\n",
       "      <th>Engine_capacity(cm3)</th>\n",
       "      <th>Price(euro)</th>\n",
       "    </tr>\n",
       "  </thead>\n",
       "  <tbody>\n",
       "    <tr>\n",
       "      <th>17998</th>\n",
       "      <td>2010.0</td>\n",
       "      <td>2.0</td>\n",
       "      <td>1300.0</td>\n",
       "      <td>5900.0</td>\n",
       "    </tr>\n",
       "    <tr>\n",
       "      <th>12043</th>\n",
       "      <td>2016.0</td>\n",
       "      <td>141759.0</td>\n",
       "      <td>1461.0</td>\n",
       "      <td>13399.0</td>\n",
       "    </tr>\n",
       "    <tr>\n",
       "      <th>28883</th>\n",
       "      <td>2010.0</td>\n",
       "      <td>123000.0</td>\n",
       "      <td>1500.0</td>\n",
       "      <td>2999.0</td>\n",
       "    </tr>\n",
       "  </tbody>\n",
       "</table>\n",
       "</div>"
      ],
      "text/plain": [
       "         Year  Distance  Engine_capacity(cm3)  Price(euro)\n",
       "17998  2010.0       2.0                1300.0       5900.0\n",
       "12043  2016.0  141759.0                1461.0      13399.0\n",
       "28883  2010.0  123000.0                1500.0       2999.0"
      ]
     },
     "execution_count": 52,
     "metadata": {},
     "output_type": "execute_result"
    }
   ],
   "source": [
    "df[num_df_cols].sample(3)"
   ]
  },
  {
   "cell_type": "code",
   "execution_count": 54,
   "metadata": {},
   "outputs": [],
   "source": [
    "DF_scaled_num_df  = df.copy() # чтобы не портить исходный датафрейм - складываем копию датафрейма в новый датафрейм\n",
    "M = DF_scaled_num_df[num_df_cols].mean() # находим среднее (для каждого числового признака)\n",
    "STD = DF_scaled_num_df[num_df_cols].std() # находим стандартное отклонение (для каждого числового признака)\n",
    "DF_scaled_num_df = (DF_scaled_num_df-M)/STD # реализуем стандартизацию. матричные операции работают"
   ]
  },
  {
   "cell_type": "code",
   "execution_count": 55,
   "metadata": {},
   "outputs": [
    {
     "name": "stdout",
     "output_type": "stream",
     "text": [
      "Index(['Year', 'Distance', 'Engine_capacity(cm3)', 'Price(euro)'], dtype='object')\n"
     ]
    },
    {
     "data": {
      "image/png": "[encoded data removed]",
      "text/plain": [
       "<Figure size 1600x800 with 4 Axes>"
      ]
     },
     "metadata": {},
     "output_type": "display_data"
    }
   ],
   "source": [
    "import numpy as np\n",
    "\n",
    "num_columns = DF_norm_num_df.columns\n",
    "print(num_columns)\n",
    "width = 2\n",
    "height = int(np.ceil(len(num_columns)/width))\n",
    "fig, ax = plt.subplots(nrows=height, ncols=width, figsize=(16,8))\n",
    "\n",
    "for idx, column_name in enumerate(num_columns):\n",
    "    plt.subplot(height,width, idx+1)\n",
    "    plt.hist(x=DF_scaled_num_df[column_name])\n",
    "    plt.title(column_name)\n",
    "\n",
    "plt.tight_layout()"
   ]
  },
  {
   "cell_type": "markdown",
   "metadata": {},
   "source": [
    "# Работа с категориальными данными"
   ]
  },
  {
   "cell_type": "code",
   "execution_count": 19,
   "metadata": {},
   "outputs": [
    {
     "data": {
      "text/html": [
       "<div>\n",
       "<style scoped>\n",
       "    .dataframe tbody tr th:only-of-type {\n",
       "        vertical-align: middle;\n",
       "    }\n",
       "\n",
       "    .dataframe tbody tr th {\n",
       "        vertical-align: top;\n",
       "    }\n",
       "\n",
       "    .dataframe thead th {\n",
       "        text-align: right;\n",
       "    }\n",
       "</style>\n",
       "<table border=\"1\" class=\"dataframe\">\n",
       "  <thead>\n",
       "    <tr style=\"text-align: right;\">\n",
       "      <th></th>\n",
       "      <th>Make</th>\n",
       "      <th>Model</th>\n",
       "      <th>Style</th>\n",
       "      <th>Fuel_type</th>\n",
       "      <th>Transmission</th>\n",
       "    </tr>\n",
       "  </thead>\n",
       "  <tbody>\n",
       "    <tr>\n",
       "      <th>0</th>\n",
       "      <td>Toyota</td>\n",
       "      <td>Prius</td>\n",
       "      <td>Hatchback</td>\n",
       "      <td>Hybrid</td>\n",
       "      <td>Automatic</td>\n",
       "    </tr>\n",
       "    <tr>\n",
       "      <th>1</th>\n",
       "      <td>Renault</td>\n",
       "      <td>Grand Scenic</td>\n",
       "      <td>Universal</td>\n",
       "      <td>Diesel</td>\n",
       "      <td>Manual</td>\n",
       "    </tr>\n",
       "    <tr>\n",
       "      <th>2</th>\n",
       "      <td>Volkswagen</td>\n",
       "      <td>Golf</td>\n",
       "      <td>Hatchback</td>\n",
       "      <td>Petrol</td>\n",
       "      <td>Manual</td>\n",
       "    </tr>\n",
       "    <tr>\n",
       "      <th>3</th>\n",
       "      <td>Renault</td>\n",
       "      <td>Laguna</td>\n",
       "      <td>Universal</td>\n",
       "      <td>Diesel</td>\n",
       "      <td>Manual</td>\n",
       "    </tr>\n",
       "    <tr>\n",
       "      <th>4</th>\n",
       "      <td>Opel</td>\n",
       "      <td>Astra</td>\n",
       "      <td>Universal</td>\n",
       "      <td>Metan/Propan</td>\n",
       "      <td>Manual</td>\n",
       "    </tr>\n",
       "  </tbody>\n",
       "</table>\n",
       "</div>"
      ],
      "text/plain": [
       "         Make         Model      Style     Fuel_type Transmission\n",
       "0      Toyota         Prius  Hatchback        Hybrid    Automatic\n",
       "1     Renault  Grand Scenic  Universal        Diesel       Manual\n",
       "2  Volkswagen          Golf  Hatchback        Petrol       Manual\n",
       "3     Renault        Laguna  Universal        Diesel       Manual\n",
       "4        Opel         Astra  Universal  Metan/Propan       Manual"
      ]
     },
     "execution_count": 19,
     "metadata": {},
     "output_type": "execute_result"
    }
   ],
   "source": [
    "df[cat_df_cols].head()"
   ]
  },
  {
   "cell_type": "code",
   "execution_count": 20,
   "metadata": {},
   "outputs": [
    {
     "data": {
      "text/plain": [
       "Make            0\n",
       "Model           0\n",
       "Style           6\n",
       "Fuel_type       3\n",
       "Transmission    3\n",
       "dtype: int64"
      ]
     },
     "execution_count": 20,
     "metadata": {},
     "output_type": "execute_result"
    }
   ],
   "source": [
    "df[cat_df_cols].isna().sum()"
   ]
  },
  {
   "cell_type": "code",
   "execution_count": 22,
   "metadata": {},
   "outputs": [],
   "source": [
    "df.fillna(value={'Make': 'Other',\n",
    "                 'Model': 'Other', \n",
    "                 'Style': df.Style.mode(), \n",
    "                 'Fuel_type': df.Fuel_type.mode(), \n",
    "                 'Transmission ': df.Transmission.mode()\n",
    "                }, inplace=True)"
   ]
  },
  {
   "cell_type": "code",
   "execution_count": 23,
   "metadata": {},
   "outputs": [
    {
     "data": {
      "text/plain": [
       "Make             88\n",
       "Model           830\n",
       "Style            12\n",
       "Fuel_type         6\n",
       "Transmission      2\n",
       "dtype: int64"
      ]
     },
     "execution_count": 23,
     "metadata": {},
     "output_type": "execute_result"
    }
   ],
   "source": [
    "# кол-во уникальных значений\n",
    "df[cat_df_cols].nunique()"
   ]
  },
  {
   "cell_type": "code",
   "execution_count": 24,
   "metadata": {},
   "outputs": [
    {
     "data": {
      "text/plain": [
       "Make\n",
       "Volkswagen      4304\n",
       "Mercedes        3810\n",
       "Toyota          3776\n",
       "BMW             3221\n",
       "Renault         2988\n",
       "                ... \n",
       "Lamborghini        1\n",
       "McLaren            1\n",
       "Saturn             1\n",
       "Aston Martin       1\n",
       "Xpeng              1\n",
       "Name: count, Length: 88, dtype: int64"
      ]
     },
     "execution_count": 24,
     "metadata": {},
     "output_type": "execute_result"
    }
   ],
   "source": [
    "# Посмотрим на столбец Make\n",
    "counts = df.Make.value_counts() \n",
    "counts"
   ]
  },
  {
   "cell_type": "code",
   "execution_count": 25,
   "metadata": {},
   "outputs": [
    {
     "data": {
      "text/plain": [
       "32.0"
      ]
     },
     "execution_count": 25,
     "metadata": {},
     "output_type": "execute_result"
    }
   ],
   "source": [
    "counts.median() # оцениваем медиану встречаемости разных признаков"
   ]
  },
  {
   "cell_type": "code",
   "execution_count": 26,
   "metadata": {},
   "outputs": [
    {
     "data": {
      "text/plain": [
       "Make\n",
       "Smart               92\n",
       "GAZ                 88\n",
       "Daewoo              85\n",
       "Infiniti            83\n",
       "Jaguar              82\n",
       "Mini                80\n",
       "Dodge               68\n",
       "Lincoln             62\n",
       "Moskvich / Izh      52\n",
       "Alfa Romeo          47\n",
       "UAZ                 42\n",
       "Ssangyong           36\n",
       "Daihatsu            34\n",
       "Cadillac            30\n",
       "Tesla               29\n",
       "Alta marca          27\n",
       "Great Wall          21\n",
       "Chery               20\n",
       "Zaz                 20\n",
       "Byd                 18\n",
       "Acura               18\n",
       "Brilliance          18\n",
       "Lancia              18\n",
       "Saab                17\n",
       "Lada                15\n",
       "Lifan               12\n",
       "Isuzu               11\n",
       "GMC                 11\n",
       "LuAZ                10\n",
       "Bentley              6\n",
       "Hummer               5\n",
       "Changan              5\n",
       "Ravon                5\n",
       "Buick                5\n",
       "Maserati             4\n",
       "Jac                  4\n",
       "Haima                4\n",
       "Datsun               3\n",
       "Geely                3\n",
       "Haval                3\n",
       "Scion                3\n",
       "BAIC                 3\n",
       "Pontiac              3\n",
       "Faw                  2\n",
       "Mercedes-Maybach     2\n",
       "ARO                  2\n",
       "Ferrari              1\n",
       "Other                1\n",
       "Abarth               1\n",
       "Groz                 1\n",
       "Zotye                1\n",
       "Tata                 1\n",
       "Lamborghini          1\n",
       "McLaren              1\n",
       "Saturn               1\n",
       "Aston Martin         1\n",
       "Xpeng                1\n",
       "Name: count, dtype: int64"
      ]
     },
     "execution_count": 26,
     "metadata": {},
     "output_type": "execute_result"
    }
   ],
   "source": [
    "counts[counts<100] # посмотрим на марки которые встречаются реже чем 100 раз"
   ]
  },
  {
   "cell_type": "code",
   "execution_count": 27,
   "metadata": {},
   "outputs": [
    {
     "data": {
      "text/plain": [
       "(57,)"
      ]
     },
     "execution_count": 27,
     "metadata": {},
     "output_type": "execute_result"
    }
   ],
   "source": [
    "counts[counts<100].shape"
   ]
  },
  {
   "cell_type": "code",
   "execution_count": 28,
   "metadata": {},
   "outputs": [
    {
     "data": {
      "text/plain": [
       "Make\n",
       "Volkswagen        4304\n",
       "Mercedes          3810\n",
       "Toyota            3776\n",
       "BMW               3221\n",
       "Renault           2988\n",
       "Opel              2372\n",
       "Skoda             2069\n",
       "Audi              1898\n",
       "Ford              1687\n",
       "Nissan            1684\n",
       "Dacia             1670\n",
       "Hyundai           1596\n",
       "Honda             1118\n",
       "KIA                835\n",
       "Mitsubishi         802\n",
       "Lexus              722\n",
       "Volvo              698\n",
       "Vaz                684\n",
       "Mazda              582\n",
       "Peugeot            499\n",
       "Chevrolet          478\n",
       "Citroen            370\n",
       "Land Rover         334\n",
       "Seat               310\n",
       "Suzuki             282\n",
       "Rare               282\n",
       "Fiat               254\n",
       "Porsche            239\n",
       "Subaru             176\n",
       "Rover              122\n",
       "Chrysler           107\n",
       "Jeep               101\n",
       "Smart               92\n",
       "GAZ                 88\n",
       "Daewoo              85\n",
       "Infiniti            83\n",
       "Jaguar              82\n",
       "Mini                80\n",
       "Dodge               68\n",
       "Lincoln             62\n",
       "Moskvich / Izh      52\n",
       "Alfa Romeo          47\n",
       "UAZ                 42\n",
       "Ssangyong           36\n",
       "Daihatsu            34\n",
       "Cadillac            30\n",
       "Tesla               29\n",
       "Alta marca          27\n",
       "Name: count, dtype: int64"
      ]
     },
     "execution_count": 28,
     "metadata": {},
     "output_type": "execute_result"
    }
   ],
   "source": [
    "rare =  counts[(counts.values < 25)] # находим все редкие категории\n",
    "df['Make'] = df['Make'].replace(rare.index.values, 'Rare') # заменим все редкие значения на \"Rare\"\n",
    "                                # берем индексы, потому что в индексах rare скрыты редкие значения\n",
    "                                # применяем values чтобы получился массив numpy\n",
    "df.Make.value_counts() # пересчитаем сколько кого осталось"
   ]
  },
  {
   "cell_type": "code",
   "execution_count": 29,
   "metadata": {},
   "outputs": [
    {
     "data": {
      "text/plain": [
       "Model\n",
       "E Class     1382\n",
       "5 Series    1298\n",
       "Passat      1094\n",
       "Astra       1019\n",
       "Megane      1002\n",
       "            ... \n",
       "Z Series       1\n",
       "G Series       1\n",
       "90             1\n",
       "Samurai        1\n",
       "Delta          1\n",
       "Name: count, Length: 830, dtype: int64"
      ]
     },
     "execution_count": 29,
     "metadata": {},
     "output_type": "execute_result"
    }
   ],
   "source": [
    "# Обработаем признак Модель\n",
    "counts = df.Model.value_counts()\n",
    "\n",
    "counts"
   ]
  },
  {
   "cell_type": "code",
   "execution_count": 30,
   "metadata": {},
   "outputs": [
    {
     "data": {
      "text/plain": [
       "10.0"
      ]
     },
     "execution_count": 30,
     "metadata": {},
     "output_type": "execute_result"
    }
   ],
   "source": [
    "counts.median()"
   ]
  },
  {
   "cell_type": "code",
   "execution_count": 31,
   "metadata": {},
   "outputs": [
    {
     "data": {
      "text/plain": [
       "Model\n",
       "Es Series    99\n",
       "Lancer       99\n",
       "Kuga         98\n",
       "Aveo         98\n",
       "A8           97\n",
       "             ..\n",
       "Z Series      1\n",
       "G Series      1\n",
       "90            1\n",
       "Samurai       1\n",
       "Delta         1\n",
       "Name: count, Length: 741, dtype: int64"
      ]
     },
     "execution_count": 31,
     "metadata": {},
     "output_type": "execute_result"
    }
   ],
   "source": [
    "counts[counts<100]"
   ]
  },
  {
   "cell_type": "code",
   "execution_count": 32,
   "metadata": {},
   "outputs": [
    {
     "data": {
      "text/plain": [
       "Model\n",
       "Rare        7408\n",
       "E Class     1382\n",
       "5 Series    1298\n",
       "Passat      1094\n",
       "Astra       1019\n",
       "            ... \n",
       "i30           52\n",
       "Colt          52\n",
       "Carnival      52\n",
       "Insight       51\n",
       "Captur        51\n",
       "Name: count, Length: 159, dtype: int64"
      ]
     },
     "execution_count": 32,
     "metadata": {},
     "output_type": "execute_result"
    }
   ],
   "source": [
    "counts = df.Model.value_counts()\n",
    "rare =  counts[(counts.values <  50)]\n",
    "df['Model'] = df['Model'].replace(rare.index.values, 'Rare')\n",
    "df.Model.value_counts()"
   ]
  },
  {
   "cell_type": "markdown",
   "metadata": {},
   "source": [
    "## Кодирование категориальных признаков"
   ]
  },
  {
   "cell_type": "code",
   "execution_count": 15,
   "metadata": {},
   "outputs": [
    {
     "data": {
      "text/html": [
       "<div>\n",
       "<style scoped>\n",
       "    .dataframe tbody tr th:only-of-type {\n",
       "        vertical-align: middle;\n",
       "    }\n",
       "\n",
       "    .dataframe tbody tr th {\n",
       "        vertical-align: top;\n",
       "    }\n",
       "\n",
       "    .dataframe thead th {\n",
       "        text-align: right;\n",
       "    }\n",
       "</style>\n",
       "<table border=\"1\" class=\"dataframe\">\n",
       "  <thead>\n",
       "    <tr style=\"text-align: right;\">\n",
       "      <th></th>\n",
       "      <th>Make</th>\n",
       "      <th>Model</th>\n",
       "      <th>Style</th>\n",
       "      <th>Fuel_type</th>\n",
       "      <th>Transmission</th>\n",
       "    </tr>\n",
       "  </thead>\n",
       "  <tbody>\n",
       "    <tr>\n",
       "      <th>21723</th>\n",
       "      <td>Rover</td>\n",
       "      <td>400 Series</td>\n",
       "      <td>Sedan</td>\n",
       "      <td>Petrol</td>\n",
       "      <td>Manual</td>\n",
       "    </tr>\n",
       "    <tr>\n",
       "      <th>15569</th>\n",
       "      <td>Volvo</td>\n",
       "      <td>XC60</td>\n",
       "      <td>Crossover</td>\n",
       "      <td>Diesel</td>\n",
       "      <td>Automatic</td>\n",
       "    </tr>\n",
       "    <tr>\n",
       "      <th>35771</th>\n",
       "      <td>Toyota</td>\n",
       "      <td>Corolla</td>\n",
       "      <td>Hatchback</td>\n",
       "      <td>Petrol</td>\n",
       "      <td>Manual</td>\n",
       "    </tr>\n",
       "  </tbody>\n",
       "</table>\n",
       "</div>"
      ],
      "text/plain": [
       "         Make       Model      Style Fuel_type Transmission\n",
       "21723   Rover  400 Series      Sedan    Petrol       Manual\n",
       "15569   Volvo        XC60  Crossover    Diesel    Automatic\n",
       "35771  Toyota     Corolla  Hatchback    Petrol       Manual"
      ]
     },
     "execution_count": 15,
     "metadata": {},
     "output_type": "execute_result"
    }
   ],
   "source": [
    "df[cat_df_cols].sample(3)"
   ]
  },
  {
   "cell_type": "code",
   "execution_count": 16,
   "metadata": {},
   "outputs": [
    {
     "data": {
      "text/plain": [
       "array(['Automatic', 'Manual', nan], dtype=object)"
      ]
     },
     "execution_count": 16,
     "metadata": {},
     "output_type": "execute_result"
    }
   ],
   "source": [
    "df.Transmission.unique()"
   ]
  },
  {
   "cell_type": "code",
   "execution_count": 7,
   "metadata": {},
   "outputs": [
    {
     "data": {
      "text/plain": [
       "3"
      ]
     },
     "execution_count": 7,
     "metadata": {},
     "output_type": "execute_result"
    }
   ],
   "source": [
    "df.Transmission.isnull().sum()"
   ]
  },
  {
   "cell_type": "code",
   "execution_count": 68,
   "metadata": {},
   "outputs": [
    {
     "data": {
      "text/html": [
       "<div>\n",
       "<style scoped>\n",
       "    .dataframe tbody tr th:only-of-type {\n",
       "        vertical-align: middle;\n",
       "    }\n",
       "\n",
       "    .dataframe tbody tr th {\n",
       "        vertical-align: top;\n",
       "    }\n",
       "\n",
       "    .dataframe thead th {\n",
       "        text-align: right;\n",
       "    }\n",
       "</style>\n",
       "<table border=\"1\" class=\"dataframe\">\n",
       "  <thead>\n",
       "    <tr style=\"text-align: right;\">\n",
       "      <th></th>\n",
       "      <th>Make</th>\n",
       "      <th>Model</th>\n",
       "      <th>Year</th>\n",
       "      <th>Style</th>\n",
       "      <th>Distance</th>\n",
       "      <th>Engine_capacity(cm3)</th>\n",
       "      <th>Fuel_type</th>\n",
       "      <th>Price(euro)</th>\n",
       "      <th>Transmission_bin</th>\n",
       "    </tr>\n",
       "  </thead>\n",
       "  <tbody>\n",
       "    <tr>\n",
       "      <th>0</th>\n",
       "      <td>Toyota</td>\n",
       "      <td>Prius</td>\n",
       "      <td>2011.0</td>\n",
       "      <td>Hatchback</td>\n",
       "      <td>195000.0</td>\n",
       "      <td>1800.0</td>\n",
       "      <td>Hybrid</td>\n",
       "      <td>7750.0</td>\n",
       "      <td>0</td>\n",
       "    </tr>\n",
       "    <tr>\n",
       "      <th>1</th>\n",
       "      <td>Renault</td>\n",
       "      <td>Grand Scenic</td>\n",
       "      <td>2014.0</td>\n",
       "      <td>Universal</td>\n",
       "      <td>135000.0</td>\n",
       "      <td>1500.0</td>\n",
       "      <td>Diesel</td>\n",
       "      <td>8550.0</td>\n",
       "      <td>1</td>\n",
       "    </tr>\n",
       "    <tr>\n",
       "      <th>2</th>\n",
       "      <td>Volkswagen</td>\n",
       "      <td>Golf</td>\n",
       "      <td>1998.0</td>\n",
       "      <td>Hatchback</td>\n",
       "      <td>1.0</td>\n",
       "      <td>1400.0</td>\n",
       "      <td>Petrol</td>\n",
       "      <td>2200.0</td>\n",
       "      <td>1</td>\n",
       "    </tr>\n",
       "    <tr>\n",
       "      <th>3</th>\n",
       "      <td>Renault</td>\n",
       "      <td>Laguna</td>\n",
       "      <td>2012.0</td>\n",
       "      <td>Universal</td>\n",
       "      <td>110000.0</td>\n",
       "      <td>1500.0</td>\n",
       "      <td>Diesel</td>\n",
       "      <td>6550.0</td>\n",
       "      <td>1</td>\n",
       "    </tr>\n",
       "    <tr>\n",
       "      <th>4</th>\n",
       "      <td>Opel</td>\n",
       "      <td>Astra</td>\n",
       "      <td>2006.0</td>\n",
       "      <td>Universal</td>\n",
       "      <td>200000.0</td>\n",
       "      <td>1600.0</td>\n",
       "      <td>Metan/Propan</td>\n",
       "      <td>4100.0</td>\n",
       "      <td>1</td>\n",
       "    </tr>\n",
       "  </tbody>\n",
       "</table>\n",
       "</div>"
      ],
      "text/plain": [
       "         Make         Model    Year      Style  Distance  \\\n",
       "0      Toyota         Prius  2011.0  Hatchback  195000.0   \n",
       "1     Renault  Grand Scenic  2014.0  Universal  135000.0   \n",
       "2  Volkswagen          Golf  1998.0  Hatchback       1.0   \n",
       "3     Renault        Laguna  2012.0  Universal  110000.0   \n",
       "4        Opel         Astra  2006.0  Universal  200000.0   \n",
       "\n",
       "   Engine_capacity(cm3)     Fuel_type  Price(euro)  Transmission_bin  \n",
       "0                1800.0        Hybrid       7750.0                 0  \n",
       "1                1500.0        Diesel       8550.0                 1  \n",
       "2                1400.0        Petrol       2200.0                 1  \n",
       "3                1500.0        Diesel       6550.0                 1  \n",
       "4                1600.0  Metan/Propan       4100.0                 1  "
      ]
     },
     "execution_count": 68,
     "metadata": {},
     "output_type": "execute_result"
    }
   ],
   "source": [
    "import pandas as pd \n",
    "\n",
    "df['Transmission_bin'] = pd.get_dummies(data=df['Transmission'],drop_first=True)\n",
    "df.drop('Transmission',axis=1,inplace = True )\n",
    "df['Transmission_bin'] = df['Transmission_bin'].astype('int64')\n",
    "df.head()"
   ]
  },
  {
   "cell_type": "code",
   "execution_count": null,
   "metadata": {},
   "outputs": [],
   "source": [
    "df.sample(3)"
   ]
  },
  {
   "cell_type": "code",
   "execution_count": null,
   "metadata": {},
   "outputs": [
    {
     "data": {
      "text/html": [
       "<div>\n",
       "<style scoped>\n",
       "    .dataframe tbody tr th:only-of-type {\n",
       "        vertical-align: middle;\n",
       "    }\n",
       "\n",
       "    .dataframe tbody tr th {\n",
       "        vertical-align: top;\n",
       "    }\n",
       "\n",
       "    .dataframe thead th {\n",
       "        text-align: right;\n",
       "    }\n",
       "</style>\n",
       "<table border=\"1\" class=\"dataframe\">\n",
       "  <thead>\n",
       "    <tr style=\"text-align: right;\">\n",
       "      <th></th>\n",
       "      <th>Alfa Romeo</th>\n",
       "      <th>Audi</th>\n",
       "      <th>BMW</th>\n",
       "      <th>Chevrolet</th>\n",
       "      <th>Chrysler</th>\n",
       "      <th>Citroen</th>\n",
       "      <th>Dacia</th>\n",
       "      <th>Daewoo</th>\n",
       "      <th>Daihatsu</th>\n",
       "      <th>Dodge</th>\n",
       "      <th>...</th>\n",
       "      <th>Skoda</th>\n",
       "      <th>Smart</th>\n",
       "      <th>Ssangyong</th>\n",
       "      <th>Subaru</th>\n",
       "      <th>Suzuki</th>\n",
       "      <th>Toyota</th>\n",
       "      <th>UAZ</th>\n",
       "      <th>Vaz</th>\n",
       "      <th>Volkswagen</th>\n",
       "      <th>Volvo</th>\n",
       "    </tr>\n",
       "  </thead>\n",
       "  <tbody>\n",
       "    <tr>\n",
       "      <th>37270</th>\n",
       "      <td>0</td>\n",
       "      <td>0</td>\n",
       "      <td>0</td>\n",
       "      <td>0</td>\n",
       "      <td>0</td>\n",
       "      <td>0</td>\n",
       "      <td>0</td>\n",
       "      <td>0</td>\n",
       "      <td>0</td>\n",
       "      <td>0</td>\n",
       "      <td>...</td>\n",
       "      <td>0</td>\n",
       "      <td>0</td>\n",
       "      <td>0</td>\n",
       "      <td>0</td>\n",
       "      <td>0</td>\n",
       "      <td>0</td>\n",
       "      <td>0</td>\n",
       "      <td>0</td>\n",
       "      <td>0</td>\n",
       "      <td>0</td>\n",
       "    </tr>\n",
       "    <tr>\n",
       "      <th>37271</th>\n",
       "      <td>0</td>\n",
       "      <td>0</td>\n",
       "      <td>0</td>\n",
       "      <td>0</td>\n",
       "      <td>0</td>\n",
       "      <td>0</td>\n",
       "      <td>1</td>\n",
       "      <td>0</td>\n",
       "      <td>0</td>\n",
       "      <td>0</td>\n",
       "      <td>...</td>\n",
       "      <td>0</td>\n",
       "      <td>0</td>\n",
       "      <td>0</td>\n",
       "      <td>0</td>\n",
       "      <td>0</td>\n",
       "      <td>0</td>\n",
       "      <td>0</td>\n",
       "      <td>0</td>\n",
       "      <td>0</td>\n",
       "      <td>0</td>\n",
       "    </tr>\n",
       "    <tr>\n",
       "      <th>37272</th>\n",
       "      <td>0</td>\n",
       "      <td>0</td>\n",
       "      <td>0</td>\n",
       "      <td>0</td>\n",
       "      <td>0</td>\n",
       "      <td>0</td>\n",
       "      <td>0</td>\n",
       "      <td>0</td>\n",
       "      <td>0</td>\n",
       "      <td>0</td>\n",
       "      <td>...</td>\n",
       "      <td>0</td>\n",
       "      <td>0</td>\n",
       "      <td>0</td>\n",
       "      <td>0</td>\n",
       "      <td>0</td>\n",
       "      <td>0</td>\n",
       "      <td>0</td>\n",
       "      <td>0</td>\n",
       "      <td>0</td>\n",
       "      <td>0</td>\n",
       "    </tr>\n",
       "    <tr>\n",
       "      <th>37273</th>\n",
       "      <td>0</td>\n",
       "      <td>0</td>\n",
       "      <td>0</td>\n",
       "      <td>0</td>\n",
       "      <td>0</td>\n",
       "      <td>0</td>\n",
       "      <td>0</td>\n",
       "      <td>0</td>\n",
       "      <td>0</td>\n",
       "      <td>0</td>\n",
       "      <td>...</td>\n",
       "      <td>0</td>\n",
       "      <td>0</td>\n",
       "      <td>0</td>\n",
       "      <td>0</td>\n",
       "      <td>0</td>\n",
       "      <td>0</td>\n",
       "      <td>0</td>\n",
       "      <td>0</td>\n",
       "      <td>0</td>\n",
       "      <td>0</td>\n",
       "    </tr>\n",
       "    <tr>\n",
       "      <th>37274</th>\n",
       "      <td>0</td>\n",
       "      <td>0</td>\n",
       "      <td>0</td>\n",
       "      <td>0</td>\n",
       "      <td>0</td>\n",
       "      <td>0</td>\n",
       "      <td>0</td>\n",
       "      <td>0</td>\n",
       "      <td>0</td>\n",
       "      <td>0</td>\n",
       "      <td>...</td>\n",
       "      <td>0</td>\n",
       "      <td>0</td>\n",
       "      <td>0</td>\n",
       "      <td>0</td>\n",
       "      <td>0</td>\n",
       "      <td>0</td>\n",
       "      <td>0</td>\n",
       "      <td>0</td>\n",
       "      <td>0</td>\n",
       "      <td>0</td>\n",
       "    </tr>\n",
       "  </tbody>\n",
       "</table>\n",
       "<p>5 rows × 45 columns</p>\n",
       "</div>"
      ],
      "text/plain": [
       "       Alfa Romeo  Audi  BMW  Chevrolet  Chrysler  Citroen  Dacia  Daewoo  \\\n",
       "37270           0     0    0          0         0        0      0       0   \n",
       "37271           0     0    0          0         0        0      1       0   \n",
       "37272           0     0    0          0         0        0      0       0   \n",
       "37273           0     0    0          0         0        0      0       0   \n",
       "37274           0     0    0          0         0        0      0       0   \n",
       "\n",
       "       Daihatsu  Dodge  ...  Skoda  Smart  Ssangyong  Subaru  Suzuki  Toyota  \\\n",
       "37270         0      0  ...      0      0          0       0       0       0   \n",
       "37271         0      0  ...      0      0          0       0       0       0   \n",
       "37272         0      0  ...      0      0          0       0       0       0   \n",
       "37273         0      0  ...      0      0          0       0       0       0   \n",
       "37274         0      0  ...      0      0          0       0       0       0   \n",
       "\n",
       "       UAZ  Vaz  Volkswagen  Volvo  \n",
       "37270    0    0           0      0  \n",
       "37271    0    0           0      0  \n",
       "37272    0    0           0      0  \n",
       "37273    0    0           0      0  \n",
       "37274    0    0           0      0  \n",
       "\n",
       "[5 rows x 45 columns]"
      ]
     },
     "execution_count": 69,
     "metadata": {},
     "output_type": "execute_result"
    }
   ],
   "source": [
    "df_ohe = df.copy()\n",
    "df_ohe = pd.get_dummies(df_ohe['Make'])\n",
    "df_ohe = df_ohe.astype('int64')\n",
    "df_ohe.tail()"
   ]
  },
  {
   "cell_type": "code",
   "execution_count": 70,
   "metadata": {},
   "outputs": [
    {
     "data": {
      "text/plain": [
       "(35186, 45)"
      ]
     },
     "execution_count": 70,
     "metadata": {},
     "output_type": "execute_result"
    }
   ],
   "source": [
    "df_ohe.shape"
   ]
  },
  {
   "cell_type": "code",
   "execution_count": 33,
   "metadata": {},
   "outputs": [
    {
     "data": {
      "text/plain": [
       "array(['Hybrid', 'Diesel', 'Petrol', 'Metan/Propan', 'Electric',\n",
       "       'Plug-in Hybrid', nan], dtype=object)"
      ]
     },
     "execution_count": 33,
     "metadata": {},
     "output_type": "execute_result"
    }
   ],
   "source": [
    "df.Fuel_type.unique()"
   ]
  }
 ],
 "metadata": {
  "kernelspec": {
   "display_name": "MO_ipynb_py311",
   "language": "python",
   "name": "python3"
  },
  "language_info": {
   "codemirror_mode": {
    "name": "ipython",
    "version": 3
   },
   "file_extension": ".py",
   "mimetype": "text/x-python",
   "name": "python",
   "nbconvert_exporter": "python",
   "pygments_lexer": "ipython3",
   "version": "3.11.8"
  }
 },
 "nbformat": 4,
 "nbformat_minor": 2
}

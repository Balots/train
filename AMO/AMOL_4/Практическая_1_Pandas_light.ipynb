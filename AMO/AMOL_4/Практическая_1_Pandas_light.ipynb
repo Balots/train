{
 "cells": [
  {
   "cell_type": "markdown",
   "metadata": {
    "id": "LDrGFLK7kpQW"
   },
   "source": [
    "# Практическая работа №1. Pandas. Основы"
   ]
  },
  {
   "cell_type": "markdown",
   "metadata": {
    "id": "Kbdxg67fkv0H"
   },
   "source": [
    "**Необходимые инструменты:**\n",
    "\n",
    "Python >= 3.9 (установленная версия)\n",
    "\n",
    "Библиотека Pandas\n",
    "\n",
    "Текстовый редактор (например, Jupyter Notebook или Visual Studio Code)\n",
    "\n",
    "**Необходимые инструменты:**\n",
    "\n",
    "Для работы на компьютере вам понадобятся:\n",
    "\n",
    "* Python >= 3.9 (установленная версия)\n",
    "\n",
    "* Библиотека Pandas\n",
    "\n",
    "* Текстовый редактор (например, Jupyter Notebook или Visual Studio Code)\n",
    "\n",
    "Установить Pandas вы можете с помощью команды:\n",
    "!pip install pandas\n",
    "\n",
    "Её необходимо ввести в командную строку. При необходимости воспользуйтесь переменными окружения.\n",
    "\n"
   ]
  },
  {
   "cell_type": "markdown",
   "metadata": {
    "id": "t_bhD9yElFUm"
   },
   "source": [
    "## Базовые настройки\n",
    "\n",
    "Установите библиотеку"
   ]
  },
  {
   "cell_type": "code",
   "execution_count": null,
   "metadata": {
    "id": "hIp3ZS6zkveU"
   },
   "outputs": [],
   "source": [
    "!pip install pandas\n"
   ]
  },
  {
   "cell_type": "markdown",
   "metadata": {
    "id": "JbGVA2RRlVk1"
   },
   "source": [
    "Импортируйте библиотеку pandas, сохраните установленную версию и выведете её на экран\n",
    "\n",
    "\n",
    "```\n",
    "import pandas as pd\n",
    "\n",
    "pd_version = pd.__version__\n",
    "print(f\"Pandas version: {pd.__version__}\")\n",
    "\n",
    "```"
   ]
  },
  {
   "cell_type": "code",
   "execution_count": null,
   "metadata": {
    "colab": {
     "base_uri": "https://localhost:8080/"
    },
    "executionInfo": {
     "elapsed": 375,
     "status": "ok",
     "timestamp": 1727709156167,
     "user": {
      "displayName": "Наталья Мальцева",
      "userId": "18293210731886090099"
     },
     "user_tz": -300
    },
    "id": "V5nnu6kgkoQ1",
    "outputId": "89649af1-73c8-4893-9043-fb74d63d7094"
   },
   "outputs": [
    {
     "name": "stdout",
     "output_type": "stream",
     "text": [
      "Pandas version: 2.1.4\n"
     ]
    }
   ],
   "source": [
    "import pandas as pd\n",
    "\n",
    "pd_version = pd.__version__\n",
    "print(f\"Pandas version: {pd_version}\")"
   ]
  },
  {
   "cell_type": "markdown",
   "metadata": {
    "id": "-q372SkElsBc"
   },
   "source": [
    "## **1. Типы данных Series и DataFrame**"
   ]
  },
  {
   "cell_type": "markdown",
   "metadata": {
    "id": "oZWaLl3gmG1m"
   },
   "source": [
    "В Pandas существует два типа данных:  DataFrame и Series.\n",
    "\n",
    "**DataFrame** - 2-мерная структура (таблица), в которой можно хранить данные различного типа.  \n",
    "\n",
    "**Series** - одна колонка или вектор-столбец данных.\n",
    "\n",
    "![Снимок экрана 2024-07-22 134259.png](data:image/png;base64,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)"
   ]
  },
  {
   "cell_type": "markdown",
   "metadata": {
    "id": "NRhN1aWDFQw-"
   },
   "source": [
    "  Создание одномерного типа данных в Pandas:\n",
    "\n",
    "      pd.Series(data, index=None, dtype=None, name=None, copy=False)\n",
    "\n",
    "  Создание двухмерного типа данных в Pandas:\n",
    "\n",
    "      pd.Dataframe(data, index=None, dtype=None, copy=False)"
   ]
  },
  {
   "cell_type": "markdown",
   "metadata": {
    "id": "c-mWGYpb_HN3"
   },
   "source": [
    "**Основные параметры:**\n",
    "\n",
    "  **data**: данные для структурирования. <br>\n",
    "  Это могут быть различные структуры данных, в том числе:\n",
    "\n",
    "  - Массивы NumPy\n",
    "  - Списки списков\n",
    "  - Словари\n",
    "  - Другой фрейм данных\n",
    "  - Структурированный или однородный массив NumPy.\n",
    "\n",
    "**index** : определяет метки строк в DataFrame. Если он не указан, создается целочисленный индекс по умолчанию.\n",
    "\n",
    "**columns** : это метки столбцов в DataFrame. Если он не указан, создается целочисленный индекс по умолчанию.\n",
    "\n",
    "**dtype** : указывает тип данных для DataFrame. Если не указано, это выводится из данных.\n",
    "\n",
    "**copy** : логическое значение, указывающее, копировать ли данные.\n",
    "\n",
    "**name** : имя набора данных. Только для Series\n"
   ]
  },
  {
   "cell_type": "markdown",
   "metadata": {
    "id": "yn8iL8BmpuUU"
   },
   "source": [
    "#### **Практика 1.1. Создадим DataFrame c данными о пациентах**"
   ]
  },
  {
   "cell_type": "markdown",
   "metadata": {
    "id": "a5teonNgoKvD"
   },
   "source": [
    "  \n",
    "\n",
    "Таблица будет содержать столбцы ФИО, Возраст, и Рост пациентов.\n",
    "\n",
    "Создадим словарь с ключами \"Name\", \"Age\", \"Height (cm)\".\n",
    "\n",
    "Заполним произвольными значения\n"
   ]
  },
  {
   "cell_type": "code",
   "execution_count": null,
   "metadata": {
    "id": "Oo_Dof1BoFt8"
   },
   "outputs": [],
   "source": [
    "data_dict = {\"Name\": [\"Иванов Алексей\",\"Потапова Елена\",\"Жданов Антон\",],\n",
    "             \"Age\": [22, 35, 58],\n",
    "             \"Height (cm)\": [190, 180, 165]}"
   ]
  },
  {
   "cell_type": "markdown",
   "metadata": {
    "id": "QAj27Jaoq-AN"
   },
   "source": [
    "Конвертируем словарь в формат DataFrame:"
   ]
  },
  {
   "cell_type": "code",
   "execution_count": null,
   "metadata": {
    "id": "jbOVKd9rrCq6"
   },
   "outputs": [],
   "source": [
    "import pandas as pd\n",
    "\n",
    "df = pd.DataFrame(data_dict)"
   ]
  },
  {
   "cell_type": "markdown",
   "metadata": {
    "id": "N7HB8ZCYrIo-"
   },
   "source": [
    "Выведем содержимое таблицы:"
   ]
  },
  {
   "cell_type": "code",
   "execution_count": null,
   "metadata": {
    "colab": {
     "base_uri": "https://localhost:8080/"
    },
    "executionInfo": {
     "elapsed": 278,
     "status": "ok",
     "timestamp": 1730525847260,
     "user": {
      "displayName": "Наталья Мальцева",
      "userId": "18293210731886090099"
     },
     "user_tz": -300
    },
    "id": "9wzDbNwArifF",
    "outputId": "5662f0cc-bcc5-4c50-bdcd-478f13d51853"
   },
   "outputs": [
    {
     "name": "stdout",
     "output_type": "stream",
     "text": [
      "Пациенты:\n",
      "             Name  Age  Height (cm)  Weights\n",
      "0  Иванов Алексей   22          190       89\n",
      "1  Потапова Елена   35          180       90\n",
      "2    Жданов Антон   58          165       56\n"
     ]
    }
   ],
   "source": [
    "print(\"Пациенты:\")\n",
    "print(df)\n"
   ]
  },
  {
   "cell_type": "markdown",
   "metadata": {
    "id": "dBJzp5GyXSJZ"
   },
   "source": [
    "В уже созданный dataFrame добавлять столбцы можно указав названия столбца и присвоив значения:"
   ]
  },
  {
   "cell_type": "code",
   "execution_count": null,
   "metadata": {
    "colab": {
     "base_uri": "https://localhost:8080/"
    },
    "executionInfo": {
     "elapsed": 365,
     "status": "ok",
     "timestamp": 1727690374989,
     "user": {
      "displayName": "Наталья Мальцева",
      "userId": "18293210731886090099"
     },
     "user_tz": -300
    },
    "id": "cbvBAVywXad-",
    "outputId": "12ecad53-e9f8-48fb-b084-8dfce9b53c5d"
   },
   "outputs": [
    {
     "name": "stdout",
     "output_type": "stream",
     "text": [
      "             Name  Age  Height (cm)  Weight(kg)\n",
      "0  Иванов Алексей   22          190          67\n",
      "1  Потапова Елена   35          180          87\n",
      "2    Жданов Антон   58          165          90\n"
     ]
    }
   ],
   "source": [
    "# добавим новый столбец вес пациента\n",
    "df['Weight(kg)'] = [67,87,90]\n",
    "print(df)"
   ]
  },
  {
   "cell_type": "markdown",
   "metadata": {
    "id": "bweiOdmksGCG"
   },
   "source": [
    "### **Практика 1.2. Создадим одномерные наборы данных - Series**\n",
    "\n"
   ]
  },
  {
   "cell_type": "markdown",
   "metadata": {
    "id": "77oQ4qRx9Y_T"
   },
   "source": [
    "1. Конвертируем список в формат Series. Создадим список с весом пациентов:"
   ]
  },
  {
   "cell_type": "code",
   "execution_count": null,
   "metadata": {
    "colab": {
     "base_uri": "https://localhost:8080/"
    },
    "executionInfo": {
     "elapsed": 288,
     "status": "ok",
     "timestamp": 1730526041395,
     "user": {
      "displayName": "Наталья Мальцева",
      "userId": "18293210731886090099"
     },
     "user_tz": -300
    },
    "id": "towsCdvHv2xL",
    "outputId": "4cac4f47-8dc3-45c5-d075-dab8c581d2c8"
   },
   "outputs": [
    {
     "name": "stdout",
     "output_type": "stream",
     "text": [
      "Вес пациентов\n"
     ]
    }
   ],
   "source": [
    "import pandas as pd\n",
    "\n",
    "print(f\"Вес пациентов\")\n",
    "data_list = [72,80,45]"
   ]
  },
  {
   "cell_type": "markdown",
   "metadata": {
    "id": "DDCVJIvasVl0"
   },
   "source": [
    "Укажем данные - список data_list, имя столбца - \"Weights\""
   ]
  },
  {
   "cell_type": "code",
   "execution_count": null,
   "metadata": {
    "colab": {
     "base_uri": "https://localhost:8080/"
    },
    "executionInfo": {
     "elapsed": 283,
     "status": "ok",
     "timestamp": 1730526043259,
     "user": {
      "displayName": "Наталья Мальцева",
      "userId": "18293210731886090099"
     },
     "user_tz": -300
    },
    "id": "7qzr6o1qsYds",
    "outputId": "32e369e2-b856-4a16-da8e-1722737a7786"
   },
   "outputs": [
    {
     "name": "stdout",
     "output_type": "stream",
     "text": [
      "0    72\n",
      "1    80\n",
      "2    45\n",
      "Name: Weight, dtype: int64\n"
     ]
    }
   ],
   "source": [
    "weight = pd.Series(data_list, name = \"Weight\")\n",
    "print(weight)"
   ]
  },
  {
   "cell_type": "markdown",
   "metadata": {
    "id": "jipR10RpslBY"
   },
   "source": [
    "2. Конвертируем массив в формат Series. Создадим список с температурой пациентов:\n",
    "\n",
    "\n"
   ]
  },
  {
   "cell_type": "markdown",
   "metadata": {
    "id": "OZ5tp5yDwYcP"
   },
   "source": [
    "Создадим массив с температурой пациентов:"
   ]
  },
  {
   "cell_type": "code",
   "execution_count": null,
   "metadata": {
    "id": "SNhFFDBpu71h"
   },
   "outputs": [],
   "source": [
    "import numpy as np\n",
    "\n",
    "temperature_array = np.array([36.6, 36.6, 37])"
   ]
  },
  {
   "cell_type": "markdown",
   "metadata": {
    "id": "D8JZkkdOvmV3"
   },
   "source": [
    "Конвертируем в тип Series, где name=\"Temperature\" - имя столбца"
   ]
  },
  {
   "cell_type": "code",
   "execution_count": null,
   "metadata": {
    "colab": {
     "base_uri": "https://localhost:8080/",
     "height": 178
    },
    "executionInfo": {
     "elapsed": 338,
     "status": "ok",
     "timestamp": 1730526072062,
     "user": {
      "displayName": "Наталья Мальцева",
      "userId": "18293210731886090099"
     },
     "user_tz": -300
    },
    "id": "sg1reeHqwruM",
    "outputId": "82113055-a95b-470a-8d61-bc9ffbc6d7de"
   },
   "outputs": [
    {
     "data": {
      "text/html": [
       "<div>\n",
       "<style scoped>\n",
       "    .dataframe tbody tr th:only-of-type {\n",
       "        vertical-align: middle;\n",
       "    }\n",
       "\n",
       "    .dataframe tbody tr th {\n",
       "        vertical-align: top;\n",
       "    }\n",
       "\n",
       "    .dataframe thead th {\n",
       "        text-align: right;\n",
       "    }\n",
       "</style>\n",
       "<table border=\"1\" class=\"dataframe\">\n",
       "  <thead>\n",
       "    <tr style=\"text-align: right;\">\n",
       "      <th></th>\n",
       "      <th>Temperature</th>\n",
       "    </tr>\n",
       "  </thead>\n",
       "  <tbody>\n",
       "    <tr>\n",
       "      <th>0</th>\n",
       "      <td>36.6</td>\n",
       "    </tr>\n",
       "    <tr>\n",
       "      <th>1</th>\n",
       "      <td>36.6</td>\n",
       "    </tr>\n",
       "    <tr>\n",
       "      <th>2</th>\n",
       "      <td>37.0</td>\n",
       "    </tr>\n",
       "  </tbody>\n",
       "</table>\n",
       "</div><br><label><b>dtype:</b> float64</label>"
      ],
      "text/plain": [
       "0    36.6\n",
       "1    36.6\n",
       "2    37.0\n",
       "Name: Temperature, dtype: float64"
      ]
     },
     "execution_count": 14,
     "metadata": {},
     "output_type": "execute_result"
    }
   ],
   "source": [
    "temperature = pd.Series(temperature_array, name = \"Temperature\")\n",
    "temperature"
   ]
  },
  {
   "cell_type": "markdown",
   "metadata": {
    "id": "PWm7dGftxmnV"
   },
   "source": [
    "### **Самостоятельная работа №1:**"
   ]
  },
  {
   "cell_type": "markdown",
   "metadata": {
    "id": "1nmhsEDfxy7N"
   },
   "source": [
    "Создайте датасет домашних животных КотоКафе с колонками: Кличка, Год Рождения, Пол, Цвет, Порода.\n",
    "\n",
    "(имена колонок указывайте на английском: Name, YearBirth, Gender, Color, Breed)\n"
   ]
  },
  {
   "cell_type": "code",
   "execution_count": null,
   "metadata": {
    "id": "YjC99bk8zGuy"
   },
   "outputs": [],
   "source": [
    "# Your Code Here"
   ]
  },
  {
   "cell_type": "markdown",
   "metadata": {
    "id": "bGj2gqGYzGX2"
   },
   "source": [
    "Создайте одномерный набор данных о темпераменте кошек - Temperament"
   ]
  },
  {
   "cell_type": "code",
   "execution_count": null,
   "metadata": {
    "id": "jx0Q5tLGz8M0"
   },
   "outputs": [],
   "source": [
    "# Your Code Here"
   ]
  },
  {
   "cell_type": "markdown",
   "metadata": {
    "id": "df23BPhE0Ag3"
   },
   "source": [
    "## <b>2. Индексы в Pandas</b>"
   ]
  },
  {
   "cell_type": "markdown",
   "metadata": {
    "id": "8vOjbCA00Ag4"
   },
   "source": [
    "* Индексы в Pandas представляют собой метки, уникально идентифицирующие каждую строку или столбец.\n",
    "* Строковые индексы обычно называют метки или ключи.\n",
    "* Индекс столбцов соответствуют их называниям."
   ]
  },
  {
   "cell_type": "markdown",
   "metadata": {
    "id": "UygKCJ8OHCmr"
   },
   "source": [
    "**Доступ к индексам:**\n",
    "\n",
    "* df.index: Возвращает объект индекса строк.\n",
    "* df.columns: Возвращает объект индекса столбцов (список столбцов).\n"
   ]
  },
  {
   "cell_type": "markdown",
   "metadata": {
    "id": "FeDJUFPrHPU7"
   },
   "source": [
    "**Операции с индексами:**\n",
    "* df.set_index(col): Превращает столбец в индекс строк.\n",
    "* df.reset_index(drop=True/False): Превращает индекс строк в столбец. Параметр drop удаляет столбец из таблицы.\n",
    "* df.sort_index(ascending=True/False): Сортирует DataFrame по индексу. Параметр ascending сортирует по возрастанию или убыванию значений"
   ]
  },
  {
   "cell_type": "markdown",
   "metadata": {
    "id": "UH2qdNbz6ATZ"
   },
   "source": [
    "#### **Управление индексами**:\n",
    "1. Если индексы не указывать явно, они задаются как последовательные числа от 0 до 1 в формате RangeIndex. Конструкция RangeIndex обозначает границы индекса и шаг. Она предназначена для экономии памяти и ускорения работы с датафреймом.\n",
    "\n",
    "\n",
    "\n"
   ]
  },
  {
   "cell_type": "code",
   "execution_count": null,
   "metadata": {
    "colab": {
     "base_uri": "https://localhost:8080/"
    },
    "executionInfo": {
     "elapsed": 286,
     "status": "ok",
     "timestamp": 1730526350659,
     "user": {
      "displayName": "Наталья Мальцева",
      "userId": "18293210731886090099"
     },
     "user_tz": -300
    },
    "id": "ns78Ul_-DJUv",
    "outputId": "35a6e1f5-6d90-4ce6-a8f6-7e78f3658a43"
   },
   "outputs": [
    {
     "name": "stdout",
     "output_type": "stream",
     "text": [
      "Индексы строк: RangeIndex(start=0, stop=2, step=1)\n",
      "Индексы столбцов: RangeIndex(start=0, stop=5, step=1)\n"
     ]
    }
   ],
   "source": [
    "import numpy as np\n",
    "import pandas as pd\n",
    "\n",
    "#создадим NumPy массив\n",
    "data = np.array([[1, 7, 6, 5, 6], [4, 4, 4, 3, 1]])\n",
    "\n",
    "#конвертируем NumPy массив в pandas DataFrame\n",
    "df = pd.DataFrame(data=data)\n",
    "# Просмотр индекса строк\n",
    "print(f\"Индексы строк: {df.index}\")\n",
    "print(f\"Индексы столбцов: {df.columns}\")\n"
   ]
  },
  {
   "cell_type": "markdown",
   "metadata": {
    "id": "Pn4Lux8IDOta"
   },
   "source": [
    "2. Индексы можно задать самостоятельно во время создания DataFrame или после.\n",
    "\n"
   ]
  },
  {
   "cell_type": "code",
   "execution_count": null,
   "metadata": {
    "colab": {
     "base_uri": "https://localhost:8080/"
    },
    "executionInfo": {
     "elapsed": 310,
     "status": "ok",
     "timestamp": 1727710952833,
     "user": {
      "displayName": "Наталья Мальцева",
      "userId": "18293210731886090099"
     },
     "user_tz": -300
    },
    "id": "_3A1b0RCDn5r",
    "outputId": "825f250e-d8a5-49e6-8a32-c8dc914d9cff"
   },
   "outputs": [
    {
     "name": "stdout",
     "output_type": "stream",
     "text": [
      "Объект с индексами Index([10, 20, 30], dtype='int64')\n",
      "Новые индексы Index([100, 200, 300], dtype='int64')\n"
     ]
    }
   ],
   "source": [
    "# Пример создания индексов для строк:\n",
    "import pandas as pd\n",
    "\n",
    "# устанавливаем индексы строк как целые числа 10, 20 и 30\n",
    "df = pd.DataFrame({'Name': ['Alice', 'Bob', 'Aritra'],\n",
    "                   'Age': [25, 30, 35],\n",
    "                   'Location': ['Seattle', 'New York', 'Kona']},\n",
    "                  index=([10, 20, 30]))\n",
    "print(f\"Объект с индексами {df.index}\")\n",
    "\n",
    "# Затем индексы строк можно изменить\n",
    "df.index = [100, 200, 300]\n",
    "print(f\"Новые индексы {df.index}\")\n"
   ]
  },
  {
   "cell_type": "markdown",
   "metadata": {
    "id": "ehqq0A_YL4wq"
   },
   "source": [
    "Пример создания индексов для столбцов:"
   ]
  },
  {
   "cell_type": "code",
   "execution_count": null,
   "metadata": {
    "colab": {
     "base_uri": "https://localhost:8080/"
    },
    "executionInfo": {
     "elapsed": 899,
     "status": "ok",
     "timestamp": 1727893873312,
     "user": {
      "displayName": "Наталья Мальцева",
      "userId": "18293210731886090099"
     },
     "user_tz": -300
    },
    "id": "DpodvxyZKuNY",
    "outputId": "d3cffa0d-bf27-4183-8e23-40c77877b173"
   },
   "outputs": [
    {
     "name": "stdout",
     "output_type": "stream",
     "text": [
      "Индексы столбцов: Index(['A', 'B', 'C'], dtype='object')\n",
      "   A  B  C\n",
      "0  1  7  6\n",
      "1  4  4  1\n"
     ]
    }
   ],
   "source": [
    "#Пример создания индексов для столбцов\n",
    "import pandas as pd\n",
    "\n",
    "data = np.array([[1, 7, 6], [4, 4, 1]])\n",
    "\n",
    "#конвертируем NumPy массив в pandas DataFrame\n",
    "df = pd.DataFrame(data=data)\n",
    "\n",
    "#зададим индексы столбцов - названия колонок\n",
    "df.columns = ['A','B','C']\n",
    "# Просмотр индекса\n",
    "print(f\"Индексы столбцов: {df.columns}\")\n",
    "print(df)"
   ]
  },
  {
   "cell_type": "markdown",
   "metadata": {
    "id": "_wU6g6Y0F3Ew"
   },
   "source": [
    "3. В качестве индексов строк можно использовать существующий столбец в таблице\n",
    "\n",
    "\n",
    "\n"
   ]
  },
  {
   "cell_type": "code",
   "execution_count": null,
   "metadata": {
    "colab": {
     "base_uri": "https://localhost:8080/"
    },
    "executionInfo": {
     "elapsed": 289,
     "status": "ok",
     "timestamp": 1730526525579,
     "user": {
      "displayName": "Наталья Мальцева",
      "userId": "18293210731886090099"
     },
     "user_tz": -300
    },
    "id": "bVZSBBPEFvpJ",
    "outputId": "24c581f7-2021-4f2c-e411-0e80844138f3"
   },
   "outputs": [
    {
     "name": "stdout",
     "output_type": "stream",
     "text": [
      "Index([4, 5, 6], dtype='int64', name='B')\n"
     ]
    }
   ],
   "source": [
    "import pandas as pd\n",
    "\n",
    "# Создание DataFrame\n",
    "df = pd.DataFrame({'A': [1, 2, 3], 'B': [4, 5, 6], 'C': [7, 8, 9]})\n",
    "\n",
    "# Превращение столбца 'B' в индекс строк\n",
    "df_set_index = df.set_index('B')\n",
    "\n",
    "print(df_set_index.index)"
   ]
  },
  {
   "cell_type": "markdown",
   "metadata": {
    "id": "IYG6mCrsMiJq"
   },
   "source": [
    "4. Созданные индексы для строк можно отменить\n",
    "\n",
    "\n",
    "\n"
   ]
  },
  {
   "cell_type": "code",
   "execution_count": null,
   "metadata": {
    "colab": {
     "base_uri": "https://localhost:8080/"
    },
    "executionInfo": {
     "elapsed": 257,
     "status": "ok",
     "timestamp": 1730526641628,
     "user": {
      "displayName": "Наталья Мальцева",
      "userId": "18293210731886090099"
     },
     "user_tz": -300
    },
    "id": "gJBsjmnnMuJk",
    "outputId": "c98245c9-12bc-4a20-b3c1-f5d44906d248"
   },
   "outputs": [
    {
     "name": "stdout",
     "output_type": "stream",
     "text": [
      "Индексы строк: Index(['AAA', 'BBB', 'CCC'], dtype='object')\n",
      "Индексы/Названия столбцов: Index(['A', 'B', 'C'], dtype='object')\n",
      "  index  A  B  C\n",
      "0   AAA  1  4  7\n",
      "1   BBB  2  5  8\n",
      "2   CCC  3  6  9\n",
      "Индексы строк: RangeIndex(start=0, stop=3, step=1)\n",
      "Индексы/Названия столбцов: Index(['index', 'A', 'B', 'C'], dtype='object')\n"
     ]
    }
   ],
   "source": [
    "import pandas as pd\n",
    "\n",
    "# Создание DataFrame\n",
    "df = pd.DataFrame({'A': [1, 2, 3], 'B': [4, 5, 6], 'C': [7, 8, 9]}, index = ('AAA','BBB','CCC'))\n",
    "# вывод индексов\n",
    "print(f\"Индексы строк: {df.index}\")\n",
    "print(f\"Индексы/Названия столбцов: {df.columns}\")\n",
    "\n",
    "#теперь индексы будут заданы по-умолчанию\n",
    "df_droped_index = df.reset_index()\n",
    "print(df_droped_index)\n",
    "print(f\"Индексы строк: {df_droped_index.index}\")\n",
    "# В таблице индексы сохранятся как отдельный столбец\n",
    "print(f\"Индексы/Названия столбцов: {df_droped_index.columns}\")\n",
    "\n",
    "\n"
   ]
  },
  {
   "cell_type": "markdown",
   "metadata": {
    "id": "H5INI4fK0Ag6"
   },
   "source": [
    "### **Практика 2.1. Управление индексами**"
   ]
  },
  {
   "cell_type": "markdown",
   "metadata": {
    "id": "5Lg4Y-C-0Ag6"
   },
   "source": [
    "\n",
    "* Создадим словарь movies с ключами\n",
    "       [ID', 'Movie', 'Year', 'Ratings', 'Genre', 'Gross', 'Budget', 'Screens',\n",
    "       'Sequel', 'Sentiment', 'Views', 'Likes', 'Dislikes', 'Comments',\n",
    "       'Aggregate Followers']\n",
    "* Конвертируем его в dataFrame\n",
    "* Выведем список с названиями столбцов (индексы столбцов)\n",
    "* Выведем индексы строк\n",
    "* Зададим в качестве индексов строк столбец 'ID'"
   ]
  },
  {
   "cell_type": "code",
   "execution_count": null,
   "metadata": {
    "colab": {
     "base_uri": "https://localhost:8080/"
    },
    "executionInfo": {
     "elapsed": 295,
     "status": "ok",
     "timestamp": 1730526774281,
     "user": {
      "displayName": "Наталья Мальцева",
      "userId": "18293210731886090099"
     },
     "user_tz": -300
    },
    "id": "PWQoMYwy0Ag7",
    "outputId": "9887963f-a6f7-4183-d07d-d2c097fd107d"
   },
   "outputs": [
    {
     "name": "stdout",
     "output_type": "stream",
     "text": [
      "Индексы столбцов:\n",
      "Index(['ID', 'Movie', 'Year', 'Ratings', 'Genre', 'Gross', 'Budget', 'Screens',\n",
      "       'Sequel', 'Sentiment', 'Views', 'Likes', 'Dislikes', 'Comments',\n",
      "       'Aggregate Followers'],\n",
      "      dtype='object')\n",
      "Индексы строк по умолчанию:\n",
      "RangeIndex(start=0, stop=3, step=1)\n",
      "Индексы строк как ID:\n",
      "Index([16565, 56666, 96656], dtype='int64', name='ID')\n",
      "Без индексов :\n",
      "RangeIndex(start=0, stop=3, step=1)\n",
      "      ID                              Movie  Year  Ratings  Genre     Gross  \\\n",
      "2  96656  A Million Ways to Die in the West  2014      6.1      8  42600000   \n",
      "\n",
      "     Budget  Screens  Sequel  Sentiment    Views  Likes  Dislikes  Comments  \\\n",
      "2  40000000   3158.0       1          0  3013011   9595       419      1020   \n",
      "\n",
      "   Aggregate Followers  \n",
      "2              8153000  \n"
     ]
    }
   ],
   "source": [
    "import pandas as pd\n",
    "\n",
    "dict_movies = {'ID': [16565, 56666, 96656],\n",
    "          'Movie': ['Big Hero 6','And So It Goes','A Million Ways to Die in the West'],\n",
    "          'Year': [2014,2014,2014],\n",
    "          'Ratings': [7.9,5.7,6.1],\n",
    "          'Genre': [12,8,8],\n",
    "          'Gross': [222000000,15200000,42600000],\n",
    "          'Budget': [165000000,30000000,40000000],\n",
    "          'Screens': [3761.0,1762.0,3158.0],\n",
    "          'Sequel': [1,1,1],\n",
    "          'Sentiment': [29,0,0],\n",
    "          'Views': [4700023,519327,3013011],\n",
    "          'Likes': [14163,963,9595],\n",
    "          'Dislikes': [538,94,419],\n",
    "          'Comments': [1293,70,1020],\n",
    "          'Aggregate Followers': [199800,386400,8153000]\n",
    "}\n",
    "\n",
    "movies = pd.DataFrame(dict_movies)\n",
    "\n",
    "print(\"Индексы столбцов:\")\n",
    "print(movies.columns)\n",
    "\n",
    "print(\"Индексы строк по умолчанию:\")\n",
    "print(movies.index)\n",
    "\n",
    "movies.set_index('ID', inplace=True)\n",
    "\n",
    "print(\"Индексы строк как ID:\")\n",
    "print(movies.index)\n",
    "\n",
    "movies.reset_index(inplace=True)\n",
    "\n",
    "print(\"Без индексов :\")\n",
    "print(movies.index)\n",
    "\n",
    "print(movies.sample())"
   ]
  },
  {
   "cell_type": "markdown",
   "metadata": {
    "id": "QlBpnhVu0AhD"
   },
   "source": [
    "### **Самостоятельная работа №2:**"
   ]
  },
  {
   "cell_type": "markdown",
   "metadata": {
    "id": "mndv_pLY0AhD"
   },
   "source": [
    "* Загрузите данные из файла movies_small_df.xlsx в dataframe my_movies,\n",
    "* Укажите в качестве индекса столбец с названием 'ID'.\n",
    "* Выведите список столбцов.\n"
   ]
  },
  {
   "cell_type": "code",
   "execution_count": null,
   "metadata": {
    "id": "OUHYC1JK0AhD"
   },
   "outputs": [],
   "source": [
    "# Ваш код\n",
    "import pandas as pd\n",
    "\n",
    "df = pd.read_csv(\"data/movies_small_df.csv\")\n",
    "# or\n",
    "# df = pd.read_excel(\"имя файла\")"
   ]
  },
  {
   "cell_type": "markdown",
   "metadata": {
    "id": "SV8ZTYSUZvvz"
   },
   "source": [
    "## **3. Тип данных в столбцах**"
   ]
  },
  {
   "cell_type": "markdown",
   "metadata": {
    "id": "sMYQfrMCZvv8"
   },
   "source": [
    "Pandas поддерживает следующие типы данных\n",
    "* float64\n",
    "* int64\n",
    "* datetime64 - Даты и время\n",
    "* bool - логические значения (True, False)\n",
    "* category - категориальные признаки (пол, цвет)\n",
    "* object - для остальных типов признаков\n"
   ]
  },
  {
   "cell_type": "markdown",
   "metadata": {
    "id": "al7XSDbiZvv8"
   },
   "source": [
    "**Просмотр типов:**\n",
    "\n",
    "* df.dtypes - возвращает объект dtypes со списком типов данных в столбцах"
   ]
  },
  {
   "cell_type": "code",
   "execution_count": null,
   "metadata": {
    "colab": {
     "base_uri": "https://localhost:8080/"
    },
    "executionInfo": {
     "elapsed": 490,
     "status": "ok",
     "timestamp": 1721903106070,
     "user": {
      "displayName": "Наталья Мальцева",
      "userId": "18293210731886090099"
     },
     "user_tz": -300
    },
    "id": "TZgXmuZKabEC",
    "outputId": "b4e51c15-c94c-4482-9077-fc195bc9d9a6"
   },
   "outputs": [
    {
     "name": "stdout",
     "output_type": "stream",
     "text": [
      "Типы данных: \n",
      " c1    object\n",
      "c2     int64\n",
      "dtype: object\n"
     ]
    }
   ],
   "source": [
    "df = pd.DataFrame({ 'c1':[ 'high' ,'high', 'low', 'low'], 'c2': [0, 23, 17, 4]})\n",
    "print(f\"Типы данных: \\n {df.dtypes}\")"
   ]
  },
  {
   "cell_type": "markdown",
   "metadata": {
    "id": "tqSxOkVq2oar"
   },
   "source": [
    "**Изменение типа столбца:**\n",
    "\n",
    "* df.astype()"
   ]
  },
  {
   "cell_type": "code",
   "execution_count": 4,
   "metadata": {
    "colab": {
     "base_uri": "https://localhost:8080/"
    },
    "executionInfo": {
     "elapsed": 312,
     "status": "ok",
     "timestamp": 1727895015777,
     "user": {
      "displayName": "Наталья Мальцева",
      "userId": "18293210731886090099"
     },
     "user_tz": -300
    },
    "id": "23cvL6Uj25tH",
    "outputId": "57f5a019-e3e6-477d-8084-aac34201a55d"
   },
   "outputs": [
    {
     "name": "stdout",
     "output_type": "stream",
     "text": [
      "Типы данных по-умолчанию: \n",
      " c1     object\n",
      "c2    float64\n",
      "dtype: object\n",
      "C2 тип int64\n",
      "0     0\n",
      "1    23\n",
      "2    17\n",
      "3     4\n",
      "Name: c2, dtype: int64\n"
     ]
    }
   ],
   "source": [
    "import pandas as pd\n",
    "\n",
    "df = pd.DataFrame({ 'c1':[ 'high' ,'high', 'low', 'low'], 'c2': [0.0, 23.0, 17.1, 4.3]})\n",
    "print(f\"Типы данных по-умолчанию: \\n {df.dtypes}\")\n",
    "print(\"C2 тип int64\")\n",
    "print(df['c2'].astype('int64'))"
   ]
  },
  {
   "cell_type": "markdown",
   "metadata": {
    "id": "xkFM3vK2Zvv8"
   },
   "source": [
    "**Выборка столбцов по типу:**\n",
    "* df.select_dtypes(include=['float64', 'int64`], exclude=['double'])"
   ]
  },
  {
   "cell_type": "code",
   "execution_count": 5,
   "metadata": {
    "colab": {
     "base_uri": "https://localhost:8080/"
    },
    "executionInfo": {
     "elapsed": 348,
     "status": "ok",
     "timestamp": 1727712418690,
     "user": {
      "displayName": "Наталья Мальцева",
      "userId": "18293210731886090099"
     },
     "user_tz": -300
    },
    "id": "ol-eOsqdbNtu",
    "outputId": "10ca78ad-6e16-483c-dcd0-dde05ca2458b"
   },
   "outputs": [
    {
     "name": "stdout",
     "output_type": "stream",
     "text": [
      "Только числа: \n",
      "    c2\n",
      "0   0\n",
      "1  23\n",
      "2  17\n",
      "3   4\n"
     ]
    }
   ],
   "source": [
    "df = pd.DataFrame({ 'c1':[ 'high' ,'high', 'low', 'low'], 'c2': [0, 23, 17, 4]})\n",
    "print(f\"Только числа: \\n {df.select_dtypes('int64')}\")"
   ]
  },
  {
   "cell_type": "markdown",
   "metadata": {
    "id": "UfmmpUl2Zvv9"
   },
   "source": [
    "### **Практика 3.1. Выборка признаков по типу данных**"
   ]
  },
  {
   "cell_type": "markdown",
   "metadata": {
    "id": "5_pgGD2OZvv9"
   },
   "source": [
    "\n",
    "* Создадим датасет movies\n",
    "* Выведем список типов данных для каждого столбца\n",
    "* Выберем признаки с типом 'object' и 'float64'"
   ]
  },
  {
   "cell_type": "code",
   "execution_count": null,
   "metadata": {
    "colab": {
     "base_uri": "https://localhost:8080/"
    },
    "executionInfo": {
     "elapsed": 379,
     "status": "ok",
     "timestamp": 1727712454133,
     "user": {
      "displayName": "Наталья Мальцева",
      "userId": "18293210731886090099"
     },
     "user_tz": -300
    },
    "id": "GBLSbP09Zvv9",
    "outputId": "736025b0-2f43-41cd-baff-b6ee0ce876c7"
   },
   "outputs": [
    {
     "name": "stdout",
     "output_type": "stream",
     "text": [
      "Типы данных:\n"
     ]
    },
    {
     "data": {
      "text/plain": [
       "ID                       int64\n",
       "Movie                   object\n",
       "Year                     int64\n",
       "Ratings                float64\n",
       "Genre                    int64\n",
       "Gross                    int64\n",
       "Budget                   int64\n",
       "Screens                float64\n",
       "Sequel                   int64\n",
       "Sentiment                int64\n",
       "Views                    int64\n",
       "Likes                    int64\n",
       "Dislikes                 int64\n",
       "Comments                 int64\n",
       "Aggregate Followers      int64\n",
       "dtype: object"
      ]
     },
     "metadata": {},
     "output_type": "display_data"
    },
    {
     "name": "stdout",
     "output_type": "stream",
     "text": [
      "Признаки c текстовыми и дробные типами:\n"
     ]
    },
    {
     "data": {
      "text/html": [
       "<div>\n",
       "<style scoped>\n",
       "    .dataframe tbody tr th:only-of-type {\n",
       "        vertical-align: middle;\n",
       "    }\n",
       "\n",
       "    .dataframe tbody tr th {\n",
       "        vertical-align: top;\n",
       "    }\n",
       "\n",
       "    .dataframe thead th {\n",
       "        text-align: right;\n",
       "    }\n",
       "</style>\n",
       "<table border=\"1\" class=\"dataframe\">\n",
       "  <thead>\n",
       "    <tr style=\"text-align: right;\">\n",
       "      <th></th>\n",
       "      <th>Movie</th>\n",
       "      <th>Ratings</th>\n",
       "      <th>Screens</th>\n",
       "    </tr>\n",
       "  </thead>\n",
       "  <tbody>\n",
       "    <tr>\n",
       "      <th>0</th>\n",
       "      <td>Big Hero 6</td>\n",
       "      <td>7.9</td>\n",
       "      <td>3761.0</td>\n",
       "    </tr>\n",
       "    <tr>\n",
       "      <th>1</th>\n",
       "      <td>And So It Goes</td>\n",
       "      <td>5.7</td>\n",
       "      <td>1762.0</td>\n",
       "    </tr>\n",
       "    <tr>\n",
       "      <th>2</th>\n",
       "      <td>A Million Ways to Die in the West</td>\n",
       "      <td>6.1</td>\n",
       "      <td>3158.0</td>\n",
       "    </tr>\n",
       "  </tbody>\n",
       "</table>\n",
       "</div>"
      ],
      "text/plain": [
       "                               Movie  Ratings  Screens\n",
       "0                         Big Hero 6      7.9   3761.0\n",
       "1                     And So It Goes      5.7   1762.0\n",
       "2  A Million Ways to Die in the West      6.1   3158.0"
      ]
     },
     "metadata": {},
     "output_type": "display_data"
    },
    {
     "name": "stdout",
     "output_type": "stream",
     "text": [
      "Все числа:\n"
     ]
    },
    {
     "data": {
      "text/html": [
       "<div>\n",
       "<style scoped>\n",
       "    .dataframe tbody tr th:only-of-type {\n",
       "        vertical-align: middle;\n",
       "    }\n",
       "\n",
       "    .dataframe tbody tr th {\n",
       "        vertical-align: top;\n",
       "    }\n",
       "\n",
       "    .dataframe thead th {\n",
       "        text-align: right;\n",
       "    }\n",
       "</style>\n",
       "<table border=\"1\" class=\"dataframe\">\n",
       "  <thead>\n",
       "    <tr style=\"text-align: right;\">\n",
       "      <th></th>\n",
       "      <th>ID</th>\n",
       "      <th>Year</th>\n",
       "      <th>Ratings</th>\n",
       "      <th>Genre</th>\n",
       "      <th>Gross</th>\n",
       "      <th>Budget</th>\n",
       "      <th>Screens</th>\n",
       "      <th>Sequel</th>\n",
       "      <th>Sentiment</th>\n",
       "      <th>Views</th>\n",
       "      <th>Likes</th>\n",
       "      <th>Dislikes</th>\n",
       "      <th>Comments</th>\n",
       "      <th>Aggregate Followers</th>\n",
       "    </tr>\n",
       "  </thead>\n",
       "  <tbody>\n",
       "    <tr>\n",
       "      <th>0</th>\n",
       "      <td>16565</td>\n",
       "      <td>2014</td>\n",
       "      <td>7.9</td>\n",
       "      <td>12</td>\n",
       "      <td>222000000</td>\n",
       "      <td>165000000</td>\n",
       "      <td>3761.0</td>\n",
       "      <td>1</td>\n",
       "      <td>29</td>\n",
       "      <td>4700023</td>\n",
       "      <td>14163</td>\n",
       "      <td>538</td>\n",
       "      <td>1293</td>\n",
       "      <td>199800</td>\n",
       "    </tr>\n",
       "    <tr>\n",
       "      <th>1</th>\n",
       "      <td>56666</td>\n",
       "      <td>2014</td>\n",
       "      <td>5.7</td>\n",
       "      <td>8</td>\n",
       "      <td>15200000</td>\n",
       "      <td>30000000</td>\n",
       "      <td>1762.0</td>\n",
       "      <td>1</td>\n",
       "      <td>0</td>\n",
       "      <td>519327</td>\n",
       "      <td>963</td>\n",
       "      <td>94</td>\n",
       "      <td>70</td>\n",
       "      <td>386400</td>\n",
       "    </tr>\n",
       "    <tr>\n",
       "      <th>2</th>\n",
       "      <td>96656</td>\n",
       "      <td>2014</td>\n",
       "      <td>6.1</td>\n",
       "      <td>8</td>\n",
       "      <td>42600000</td>\n",
       "      <td>40000000</td>\n",
       "      <td>3158.0</td>\n",
       "      <td>1</td>\n",
       "      <td>0</td>\n",
       "      <td>3013011</td>\n",
       "      <td>9595</td>\n",
       "      <td>419</td>\n",
       "      <td>1020</td>\n",
       "      <td>8153000</td>\n",
       "    </tr>\n",
       "  </tbody>\n",
       "</table>\n",
       "</div>"
      ],
      "text/plain": [
       "      ID  Year  Ratings  Genre      Gross     Budget  Screens  Sequel  \\\n",
       "0  16565  2014      7.9     12  222000000  165000000   3761.0       1   \n",
       "1  56666  2014      5.7      8   15200000   30000000   1762.0       1   \n",
       "2  96656  2014      6.1      8   42600000   40000000   3158.0       1   \n",
       "\n",
       "   Sentiment    Views  Likes  Dislikes  Comments  Aggregate Followers  \n",
       "0         29  4700023  14163       538      1293               199800  \n",
       "1          0   519327    963        94        70               386400  \n",
       "2          0  3013011   9595       419      1020              8153000  "
      ]
     },
     "metadata": {},
     "output_type": "display_data"
    }
   ],
   "source": [
    "import pandas as pd\n",
    "\n",
    "dict_movies = {'ID': [16565, 56666, 96656],\n",
    "          'Movie': ['Big Hero 6','And So It Goes','A Million Ways to Die in the West'],\n",
    "          'Year': [2014,2014,2014],\n",
    "          'Ratings': [7.9,5.7,6.1],\n",
    "          'Genre': [12,8,8],\n",
    "          'Gross': [222000000,15200000,42600000],\n",
    "          'Budget': [165000000,30000000,40000000],\n",
    "          'Screens': [3761.0,1762.0,3158.0],\n",
    "          'Sequel': [1,1,1],\n",
    "          'Sentiment': [29,0,0],\n",
    "          'Views': [4700023,519327,3013011],\n",
    "          'Likes': [14163,963,9595],\n",
    "          'Dislikes': [538,94,419],\n",
    "          'Comments': [1293,70,1020],\n",
    "          'Aggregate Followers': [199800,386400,8153000]\n",
    "}\n",
    "\n",
    "movies = pd.DataFrame(dict_movies)\n",
    "\n",
    "print(\"Типы данных:\")\n",
    "display(movies.dtypes)\n",
    "\n",
    "print(\"Признаки c текстовыми и дробные типами:\")\n",
    "display(movies.select_dtypes(['object','float64']))\n",
    "\n",
    "print(\"Все числа:\")\n",
    "display(movies.select_dtypes('number'))\n"
   ]
  },
  {
   "cell_type": "markdown",
   "metadata": {
    "id": "zwqQWsLiZvv9"
   },
   "source": [
    "### **Самостоятельная работа №3:**"
   ]
  },
  {
   "cell_type": "markdown",
   "metadata": {
    "id": "g_D5IxSNdTRE"
   },
   "source": [
    "* Создайте DataFrame со столбцами: 'team' (строка), 'points' (целые числа),'rebounds'(целые числа),'blocks(целые числа).\n",
    "* Заполните данными\n",
    "* Выберите столбцы с типом 'object'"
   ]
  },
  {
   "cell_type": "code",
   "execution_count": null,
   "metadata": {
    "id": "YJHftyaNZvv9"
   },
   "outputs": [],
   "source": [
    "# Ваш код\n"
   ]
  },
  {
   "cell_type": "markdown",
   "metadata": {
    "id": "X_1TJjG64dgG"
   },
   "source": [
    "## **4. Сохранение/Выгрузка данных в файл/из файла**"
   ]
  },
  {
   "cell_type": "markdown",
   "metadata": {
    "id": "m6Fgu1Ph4dgL"
   },
   "source": [
    "### 4.1 Основные форматы файлов для хранения данных:"
   ]
  },
  {
   "cell_type": "markdown",
   "metadata": {
    "id": "vymAGPq84dgL"
   },
   "source": [
    "\n",
    "***CSV*** (Comma Separated Values): Простой текстовый формат, разделенный запятыми, подходит для небольших и средних по размеру наборов данных.\n",
    "\n",
    "**Excel** (xlsx, xlsm, xlsx): Универсальный формат для хранения табличных данных, но может быть громоздким и сложным для работы с большими объемами данных.\n",
    "\n",
    "**JSON** (JavaScript Object Notation): Легкий текстовый формат, удобный для обмена данными между веб-приложениями и Python.\n",
    "\n",
    "**Feather:** Быстрый бинарный формат, разработанный специально для Pandas, обеспечивает эффективное сжатие и чтение данных.\n",
    "\n",
    "**Parquet:** Колоночный формат, оптимизированный для хранения больших наборов данных, обеспечивает высокую скорость сжатия и чтения.\n",
    "\n",
    "**HDF5** (Hierarchical Data Format): Гибкий формат, позволяющий хранить разнородные данные, включая массивы, таблицы и метаданные.\n",
    "\n"
   ]
  },
  {
   "cell_type": "markdown",
   "metadata": {
    "id": "k_1kU2xt4dgL"
   },
   "source": [
    "### 4.2 Функции Pandas для чтения данных в формат DataFrame:"
   ]
  },
  {
   "cell_type": "markdown",
   "metadata": {
    "id": "G_71BAv44dgL"
   },
   "source": [
    "#### 4.2.1 CSV:"
   ]
  },
  {
   "cell_type": "markdown",
   "metadata": {
    "id": "AY-N-DGJ4dgL"
   },
   "source": [
    "\n",
    "Выгрузка данных из файлов с расширением *.csv:\n",
    "```\n",
    "import pandas as pd\n",
    "\n",
    "df = pd.read_csv(\"your_file.csv\", sep, header, name, index_col)\n",
    "```\n",
    "<div>\n",
    "Ключевые параметры:\n",
    "\n",
    "* filepath: путь к CSV-файлу.\n",
    "* sep: разделитель, используемый для разделения значений (по умолчанию — «,»).\n",
    "* header: номера строк, которые будут использоваться в качестве имен столбцов.\n",
    "* name: список имен столбцов, которые будут использоваться, если нет строки заголовка.\n",
    "* index_col: столбец, который будет использоваться в качестве индекса строки.\n",
    "* usecols: столбцы для включения в DataFrame.\n",
    "* dtype: типы данных для столбцов.\n",
    "* skiprows: количество строк, которые нужно пропустить в начале файла.\n",
    "* nrows: количество строк для чтения.\n",
    "* na_values: значения, которые следует считать отсутствующими.\n",
    "* keep_default_na: конвертировать ли существующие значения NaN в значение NaN Python по умолчанию.\n",
    "* verbose: следует ли печатать информацию о данных.\n",
    "* parse_dates: анализировать ли даты.\n",
    "* engine: механизм, используемый для чтения файла.\n",
    "\n",
    "</div>\n",
    "\n",
    "Пример использования:\n",
    "\n",
    "```\n",
    "import pandas as pd\n",
    "\n",
    "df = pd.read_csv(\"data.csv\", sep=\";\", header=0, index_col=\"ID\", usecols=[\"ID\", \"Name\", \"Age\"], parse_dates=[\"Date\"])\n",
    "```\n"
   ]
  },
  {
   "cell_type": "markdown",
   "metadata": {
    "id": "ju9ho12D4dgM"
   },
   "source": [
    "#### 4.2.2 Excel:"
   ]
  },
  {
   "cell_type": "markdown",
   "metadata": {
    "id": "XiRvAlTM4dgM"
   },
   "source": [
    "\n",
    "Выгрузка данных из файлов с расширениями xls, xlsx, xlsm, xlsb, odf, ods и odt:\n",
    "```\n",
    "import pandas as pd\n",
    "\n",
    "df = pd.read_excel(filepath = \"data.xlsx\", sep=';', sheet_name=\"Sheet2\", header=2, index_col=0, usecols=\"A:C\", parse_dates=[\"Date\"])\n",
    "\n",
    "```\n",
    "\n",
    "Ключевые параметры:\n",
    "* filepath: путь к CSV-файлу.\n",
    "* sep: разделитель, используемый для разделения значений (по умолчанию — «,»).\n",
    "* sheet_name: имя листа с данными.\n",
    "* header: номера строк, которые будут использоваться в качестве имен столбцов.\n",
    "* name: список имен столбцов, которые будут использоваться, если нет строки заголовка.\n",
    "* index_col: столбец, который будет использоваться в качестве индекса строки.\n",
    "* usecols: столбцы для включения в DataFrame.\n",
    "* dtype: типы данных для столбцов.\n",
    "* skiprows: количество строк, которые нужно пропустить в начале файла.\n",
    "* nrows: количество строк для чтения.\n",
    "* na_values: значения, которые следует считать отсутствующими.\n",
    "* keep_default_na: конвертировать ли существующие значения NaN в значение NaN Python по умолчанию.\n",
    "* verbose: следует ли печатать информацию о данных.\n",
    "* parse_dates: анализировать ли даты.\n",
    "* engine: механизм, используемый для чтения файла.\n",
    "\n",
    "Пример использования:\n",
    "\n",
    "```\n",
    "import pandas as pd\n",
    "\n",
    "df = pd.read_excel(\"data.xlsx\", sheet_name=\"Sheet2\", header=2, index_col=0, usecols=\"A:C\", parse_dates=[\"Date\"])\n",
    "\n",
    "```\n",
    "\n",
    "Этот код считывает второй лист файла Excel, использует третью строку в качестве заголовка, устанавливает первый столбец в качестве индекса, выбирает столбцы от A до C и анализирует столбец «Дата» как даты."
   ]
  },
  {
   "cell_type": "markdown",
   "metadata": {
    "id": "T2KhDjiaHPhU"
   },
   "source": [
    "### 4.3 Функции Pandas для сохранения данных через Pandas"
   ]
  },
  {
   "cell_type": "markdown",
   "metadata": {
    "id": "13fyp5mC4dgM"
   },
   "source": [
    "**Запись данных:**\n",
    "\n",
    "Сохранить датасет в нужный формат можно с помощью одноименных методов:\n",
    "\n",
    "**CSV**:\n",
    "`dataframe.to_csv('filepath.csv')`\n",
    "\n",
    "**JSON**:\n",
    "`dataframe.to_json('filepath.json')`\n",
    "\n",
    "**Excel**:\n",
    "`dataframe.to_excel('filepath.xls')`\n",
    "\n",
    "**SQL**: `dataframe.to_sql('filepath.sql')`\n",
    "\n",
    "**HDF5**:\n",
    "`dataframe.to_hdf('filepath.hdf')`"
   ]
  },
  {
   "cell_type": "markdown",
   "metadata": {
    "id": "5bTBTo_4HPhb"
   },
   "source": [
    "#### 4.2.1 CSV:"
   ]
  },
  {
   "cell_type": "markdown",
   "metadata": {
    "id": "B3wb8CTeHPhb"
   },
   "source": [
    "\n",
    "Сохранение в формат *.csv:\n",
    "```\n",
    "import pandas as pd\n",
    "\n",
    "df = DataFrame.to_csv(filepath, sep)\n",
    "```\n",
    "<div>\n",
    "Ключевые параметры:\n",
    "\n",
    "filepath: путь к CSV-файлу.\n",
    "\n",
    "sep: разделитель, используемый для разделения значений (по умолчанию — «,»).\n",
    "\n",
    "</div>\n",
    "\n",
    "Пример использования:\n",
    "\n",
    "```\n",
    "import pandas as pd\n",
    "\n",
    "df= pd.DataFrame({'A': ['foo', 'bar'],\n",
    "    'B': [4, 3] })\n",
    "df.to_csv(\"data.csv\", sep=\";\")\n",
    "```\n"
   ]
  },
  {
   "cell_type": "markdown",
   "metadata": {
    "id": "opXxFAiz4dgM"
   },
   "source": [
    "### **Практика 4.1. Загрузим данные из файла Excel**"
   ]
  },
  {
   "cell_type": "markdown",
   "metadata": {
    "id": "9xTa-SIV4dgM"
   },
   "source": [
    "\n",
    "\n",
    "*   Загрузим файл movies_small_df.xlsx в окружение JupyterNotebook (вкладка Files)\n",
    "*   Выгрузим в dataframe movies\n",
    "*   Выведем информацию о датасете\n",
    "\n",
    "\n",
    "\n",
    "\n",
    "\n"
   ]
  },
  {
   "cell_type": "code",
   "execution_count": null,
   "metadata": {
    "colab": {
     "base_uri": "https://localhost:8080/"
    },
    "executionInfo": {
     "elapsed": 695,
     "status": "ok",
     "timestamp": 1727713577202,
     "user": {
      "displayName": "Наталья Мальцева",
      "userId": "18293210731886090099"
     },
     "user_tz": -300
    },
    "id": "O91-sY2z4dgM",
    "outputId": "5554ef85-ebc8-41d7-aa2c-2ffad062e3c3"
   },
   "outputs": [
    {
     "name": "stdout",
     "output_type": "stream",
     "text": [
      "<class 'pandas.core.frame.DataFrame'>\n",
      "RangeIndex: 25 entries, 0 to 24\n",
      "Data columns (total 15 columns):\n",
      " #   Column               Non-Null Count  Dtype  \n",
      "---  ------               --------------  -----  \n",
      " 0   ID                   25 non-null     int64  \n",
      " 1   Movie                25 non-null     object \n",
      " 2   Year                 25 non-null     int64  \n",
      " 3   Ratings              25 non-null     float64\n",
      " 4   Genre                25 non-null     int64  \n",
      " 5   Gross                25 non-null     int64  \n",
      " 6   Budget               25 non-null     int64  \n",
      " 7   Screens              23 non-null     float64\n",
      " 8   Sequel               25 non-null     int64  \n",
      " 9   Sentiment            25 non-null     int64  \n",
      " 10  Views                25 non-null     int64  \n",
      " 11  Likes                25 non-null     int64  \n",
      " 12  Dislikes             25 non-null     int64  \n",
      " 13  Comments             25 non-null     int64  \n",
      " 14  Aggregate Followers  25 non-null     int64  \n",
      "dtypes: float64(2), int64(12), object(1)\n",
      "memory usage: 3.1+ KB\n",
      "None\n"
     ]
    }
   ],
   "source": [
    "import pandas as pd\n",
    "\n",
    "movies = pd.read_excel(\"data/movies_small_df.xlsx\")\n",
    "\n",
    "print(movies.info())\n"
   ]
  },
  {
   "cell_type": "markdown",
   "metadata": {
    "id": "ODkYZQ1t4dgM"
   },
   "source": [
    "Сохраним датасет в формат *.csv:"
   ]
  },
  {
   "cell_type": "code",
   "execution_count": null,
   "metadata": {
    "id": "e0bhsjlQ4dgM"
   },
   "outputs": [],
   "source": [
    "import pandas as pd\n",
    "\n",
    "movies.to_csv(\"movies_df.csv\")"
   ]
  },
  {
   "cell_type": "markdown",
   "metadata": {
    "id": "FFLQimzH4dgM"
   },
   "source": [
    "### **Самостоятельная работа №4:**"
   ]
  },
  {
   "cell_type": "markdown",
   "metadata": {
    "id": "vGwFJEcU4dgM"
   },
   "source": [
    "Загрузите данные из файла movies_small.csv в dataframe my_movies, укажите в качестве индекса столбец с названием 'ID'\n"
   ]
  },
  {
   "cell_type": "code",
   "execution_count": null,
   "metadata": {
    "id": "-nb75RdG4dgM"
   },
   "outputs": [],
   "source": [
    "# Ваш код\n"
   ]
  },
  {
   "cell_type": "markdown",
   "metadata": {
    "id": "9h5yKx-6eYVd"
   },
   "source": [
    "## **5. Встроенные методы анализа и обработки данных**"
   ]
  },
  {
   "cell_type": "markdown",
   "metadata": {
    "id": "pKbCFm-FeYVm"
   },
   "source": [
    "### 5.1 Управление столбцами:"
   ]
  },
  {
   "cell_type": "markdown",
   "metadata": {
    "id": "s2nb3-meeYVm"
   },
   "source": [
    "Основные методы и свойства управления столбцами:\n",
    "* Список всех столбцов хранится в свойстве **.columns**\n",
    "* Чтобы переименовать столбец можно воспользоваться методом **rename**.\n",
    "\n",
    "```\n",
    "df.rename(columns={\"Old name\":\"New name\"})\n",
    "```\n",
    "\n",
    "\n"
   ]
  },
  {
   "cell_type": "code",
   "execution_count": null,
   "metadata": {
    "colab": {
     "base_uri": "https://localhost:8080/"
    },
    "executionInfo": {
     "elapsed": 301,
     "status": "ok",
     "timestamp": 1730528611607,
     "user": {
      "displayName": "Наталья Мальцева",
      "userId": "18293210731886090099"
     },
     "user_tz": -300
    },
    "id": "XI7KxFzjfJOg",
    "outputId": "2cb89080-8001-4601-b2aa-772ceedba137"
   },
   "outputs": [
    {
     "name": "stdout",
     "output_type": "stream",
     "text": [
      "Столбцы: Index(['Name', 'Age', 'Height(cm)', 'City'], dtype='object')\n",
      "Столбцы: ['Name' 'Age' 'Height(cm)' 'City']\n",
      "      Name  Age  Height(cm)         City Country\n",
      "0    Alice   25         158     New York   Tokio\n",
      "1      Bob   30         189  Los Angeles   Tokio\n",
      "2  Charlie   28         170      Chicago   Tokio\n",
      "  Full Name  Age  Height(cm)         City Country\n",
      "0     Alice   25         158     New York   Tokio\n",
      "1       Bob   30         189  Los Angeles   Tokio\n",
      "2   Charlie   28         170      Chicago   Tokio\n"
     ]
    }
   ],
   "source": [
    "import pandas as pd\n",
    "\n",
    "data = {'Name': ['Alice', 'Bob', 'Charlie'],\n",
    "        'Age': [25, 30, 28],\n",
    "        'Height(cm)': [158, 189, 170],\n",
    "        'City': ['New York', 'Los Angeles', 'Chicago']}\n",
    "\n",
    "df = pd.DataFrame(data)\n",
    "\n",
    "# Список всех столбцов\n",
    "print(f\"Столбцы: {df.columns}\")\n",
    "print(f\"Столбцы: {df.columns.values}\")\n",
    "\n",
    "# Добавление нового столбца с данными\n",
    "df['Country'] = 'Tokio'\n",
    "print(df)\n",
    "\n",
    "# Переименование столбца\n",
    "df.rename(columns={'Name': 'Full Name'}, inplace=True)\n",
    "print(df)"
   ]
  },
  {
   "cell_type": "markdown",
   "metadata": {
    "id": "MmBh5udeeYVn"
   },
   "source": [
    "### 5.2 Встроенные методы статистических показателей"
   ]
  },
  {
   "cell_type": "markdown",
   "metadata": {
    "id": "vRjviPEVeYVn"
   },
   "source": [
    "1. DataFrame и Series имеют большое количество встроенных статистических методов для анализа данных, таких как\n",
    "* sum,\n",
    "* max,\n",
    "* min,\n",
    "* mean,\n",
    "* count и тд."
   ]
  },
  {
   "cell_type": "code",
   "execution_count": null,
   "metadata": {
    "colab": {
     "base_uri": "https://localhost:8080/"
    },
    "executionInfo": {
     "elapsed": 292,
     "status": "ok",
     "timestamp": 1730528657707,
     "user": {
      "displayName": "Наталья Мальцева",
      "userId": "18293210731886090099"
     },
     "user_tz": -300
    },
    "id": "mzSBzYTtjMCj",
    "outputId": "00efc662-8685-4eee-b4b9-7e0381bb1aaa"
   },
   "outputs": [
    {
     "name": "stdout",
     "output_type": "stream",
     "text": [
      "Среднее значнение для каждого столбца:\n",
      "A    3.0\n",
      "B    3.0\n",
      "C    5.2\n",
      "dtype: float64\n",
      "Среднее значнение столбца А:\n",
      "3.0\n",
      "Сумма по столбцам:\n",
      "A    15\n",
      "B    15\n",
      "C    26\n",
      "dtype: int64\n"
     ]
    }
   ],
   "source": [
    "import pandas as pd\n",
    "\n",
    "data = {\n",
    "        'A': [1, 2, 3, 4, 5],\n",
    "        'B': [5, 4, 3, 2, 1],\n",
    "        'C': [8, 9, 3, 4, 2]}\n",
    "df = pd.DataFrame(data)\n",
    "print(\"Среднее значнение для каждого столбца:\")\n",
    "print(df.mean())\n",
    "\n",
    "print(\"Среднее значнение столбца А:\")\n",
    "print(df['A'].mean())\n",
    "\n",
    "print(\"Сумма по столбцам:\")\n",
    "print(df.sum())\n"
   ]
  },
  {
   "cell_type": "markdown",
   "metadata": {
    "id": "HbC67zDGjNOH"
   },
   "source": [
    "2. Метод **describe** - выводит основные статистические показатели по каждому столбцу:\n",
    "\n",
    "count - количество\n",
    "\n",
    "mean - среднее\n",
    "\n",
    "std - стандартное отклонение\n",
    "\n",
    "min - минимальное значение\n",
    "\n",
    "max - максимальное\n",
    "\n",
    "25%-75% - процентили данных\n"
   ]
  },
  {
   "cell_type": "code",
   "execution_count": null,
   "metadata": {
    "colab": {
     "base_uri": "https://localhost:8080/"
    },
    "executionInfo": {
     "elapsed": 298,
     "status": "ok",
     "timestamp": 1730528732817,
     "user": {
      "displayName": "Наталья Мальцева",
      "userId": "18293210731886090099"
     },
     "user_tz": -300
    },
    "id": "wpLS3v5liqKx",
    "outputId": "ec51d89b-037c-487f-90d7-0b35a0bda38b"
   },
   "outputs": [
    {
     "name": "stdout",
     "output_type": "stream",
     "text": [
      "   count  mean       std  min  25%  50%  75%  max\n",
      "A    5.0   3.0  1.581139  1.0  2.0  3.0  4.0  5.0\n",
      "B    5.0   3.0  1.581139  1.0  2.0  3.0  4.0  5.0\n"
     ]
    }
   ],
   "source": [
    "import pandas as pd\n",
    "\n",
    "data = {'Aasd': ['a', 'q', 'w', 'd', 'e'],\n",
    "    'A': [1, 2, 3, 4, 5],\n",
    "        'B': [5, 4, 3, 2, 1]}\n",
    "df = pd.DataFrame(data)\n",
    "\n",
    "print(df.describe().T)"
   ]
  },
  {
   "cell_type": "markdown",
   "metadata": {
    "id": "4R42NXhEBN50"
   },
   "source": [
    "### 5.3 Предварительный анализ данных"
   ]
  },
  {
   "cell_type": "markdown",
   "metadata": {
    "id": "rRrbyAM-jfqg"
   },
   "source": [
    "*  Просмотр списка столбцов и их типов - .info()"
   ]
  },
  {
   "cell_type": "code",
   "execution_count": null,
   "metadata": {
    "colab": {
     "base_uri": "https://localhost:8080/"
    },
    "executionInfo": {
     "elapsed": 365,
     "status": "ok",
     "timestamp": 1730529377950,
     "user": {
      "displayName": "Наталья Мальцева",
      "userId": "18293210731886090099"
     },
     "user_tz": -300
    },
    "id": "xITl6-UEjp-T",
    "outputId": "a2cbae09-efe4-49d3-8f5d-6836875fd338"
   },
   "outputs": [
    {
     "name": "stdout",
     "output_type": "stream",
     "text": [
      "<class 'pandas.core.frame.DataFrame'>\n",
      "RangeIndex: 6 entries, 0 to 5\n",
      "Data columns (total 2 columns):\n",
      " #   Column  Non-Null Count  Dtype \n",
      "---  ------  --------------  ----- \n",
      " 0   A       6 non-null      int64 \n",
      " 1   B       6 non-null      object\n",
      "dtypes: int64(1), object(1)\n",
      "memory usage: 224.0+ bytes\n",
      "None\n"
     ]
    }
   ],
   "source": [
    "import pandas as pd\n",
    "\n",
    "data = {'A': [1, 2, 3, 1, 2, 4],\n",
    "        'B': ['a', 'b', 'a', 'c', 'a', 'b']}\n",
    "df = pd.DataFrame(data)\n",
    "print(df.info())"
   ]
  },
  {
   "cell_type": "markdown",
   "metadata": {
    "id": "2EAwF2YdBN5-"
   },
   "source": [
    "* Просмотр уникальных значений в столбце (Series)  - .unique()"
   ]
  },
  {
   "cell_type": "code",
   "execution_count": null,
   "metadata": {
    "colab": {
     "base_uri": "https://localhost:8080/"
    },
    "executionInfo": {
     "elapsed": 274,
     "status": "ok",
     "timestamp": 1730529469941,
     "user": {
      "displayName": "Наталья Мальцева",
      "userId": "18293210731886090099"
     },
     "user_tz": -300
    },
    "id": "BxaWMtJAGecz",
    "outputId": "aebb983b-02fe-4126-8b99-51d4dd431baa"
   },
   "outputs": [
    {
     "name": "stdout",
     "output_type": "stream",
     "text": [
      "[1 2 3 4]\n",
      "['a' 'b' 'c']\n"
     ]
    }
   ],
   "source": [
    "import pandas as pd\n",
    "\n",
    "data = {'A': [1, 2, 3, 1, 2, 4],\n",
    "        'B': ['a', 'b', 'a', 'c', 'a', 'b']}\n",
    "df = pd.DataFrame(data)\n",
    "\n",
    "# Уникальные данные в столбце А\n",
    "unique_values_A = df['A'].unique()\n",
    "print(unique_values_A)\n",
    "\n",
    "# Уникальные данные в столбце B\n",
    "unique_values_B = df['B'].unique()\n",
    "print(unique_values_B)"
   ]
  },
  {
   "cell_type": "markdown",
   "metadata": {
    "id": "mts02YOmJtrd"
   },
   "source": [
    "* Количество уникальных значений в датасете  - .nunique()"
   ]
  },
  {
   "cell_type": "code",
   "execution_count": null,
   "metadata": {
    "colab": {
     "base_uri": "https://localhost:8080/"
    },
    "executionInfo": {
     "elapsed": 305,
     "status": "ok",
     "timestamp": 1730529477126,
     "user": {
      "displayName": "Наталья Мальцева",
      "userId": "18293210731886090099"
     },
     "user_tz": -300
    },
    "id": "qyKhV9VeJ3qX",
    "outputId": "c5b0a554-ffed-4e60-a58c-a8fd1354a435"
   },
   "outputs": [
    {
     "name": "stdout",
     "output_type": "stream",
     "text": [
      "Уникальные значения без попусков: Name          7\n",
      "Age           4\n",
      "City          4\n",
      "Experience    4\n",
      "dtype: int64\n",
      "Уникальные значения без попусков: Name          7\n",
      "Age           4\n",
      "City          4\n",
      "Experience    4\n",
      "dtype: int64\n"
     ]
    }
   ],
   "source": [
    "import numpy as np\n",
    "import pandas as pd\n",
    "\n",
    "# Создадим список с данными о сотрудниках\n",
    "empoyees = [('Михаил', 34, 'Самара', 5) ,\n",
    "          ('Роман', 31, 'Рязань' , 7) ,\n",
    "          ('Анна', 16, np.NaN, 11) ,\n",
    "          ('Мария', 31,'Москва' , 7) ,\n",
    "          ('Вероника', np.NaN, 'Москва' , 4) ,\n",
    "          ('Дмитрий', 35, 'Омск', 5 ),\n",
    "          (np.NaN,np.NaN,np.NaN,np.NaN),\n",
    "          ('Шамиль', 35, 'Рязань', 11)\n",
    "          ]\n",
    "# Созадим датафрейм\n",
    "employees_df = pd.DataFrame(empoyees, columns=['Name', 'Age', 'City', 'Experience'], index=['a', 'b', 'c', 'd', 'e', 'f', 'g','q'])\n",
    "\n",
    "# пропуски не считаются\n",
    "count_unique_values = employees_df.nunique()\n",
    "print(f\"Уникальные значения без попусков: {count_unique_values}\")\n",
    "\n",
    "# с учетом пропусков\n",
    "count_unique_values = employees_df.nunique(dropna=True)\n",
    "print(f\"Уникальные значения без попусков: {count_unique_values}\")"
   ]
  },
  {
   "cell_type": "markdown",
   "metadata": {
    "id": "iS82JYAieYVn"
   },
   "source": [
    "### **Практика 5.1. Предварительный анализ данных**"
   ]
  },
  {
   "cell_type": "markdown",
   "metadata": {
    "id": "qa_rS5EoeYVn"
   },
   "source": [
    "* Загрузим файл movies_small_df.xlsx в окружение JupyterNotebook (вкладка Files)\n",
    "* Выведите количество строк и столбцов\n",
    "* Выведите общую информацию о столбца и их типах\n",
    "* Выведите список столбцов\n",
    "* Выведите основные статистические показатели по всем столбцам\n",
    "* Выведите средний рейтинг фильмов\n",
    "* Выведите количество фильмов по каждому жанру\n",
    "\n",
    "\n",
    "\n",
    "\n",
    "\n",
    "\n"
   ]
  },
  {
   "cell_type": "code",
   "execution_count": null,
   "metadata": {
    "colab": {
     "base_uri": "https://localhost:8080/"
    },
    "executionInfo": {
     "elapsed": 328,
     "status": "ok",
     "timestamp": 1727687734926,
     "user": {
      "displayName": "Наталья Мальцева",
      "userId": "18293210731886090099"
     },
     "user_tz": -300
    },
    "id": "c4QCc2LVeYVn",
    "outputId": "d98d8839-d0bd-4b64-adf3-a02dbab553a1"
   },
   "outputs": [
    {
     "name": "stdout",
     "output_type": "stream",
     "text": [
      "Размерность по каждой оси (количество строк и столбцов):\n",
      "(25, 15)\n",
      "Список столбцов:\n",
      "<class 'pandas.core.frame.DataFrame'>\n",
      "RangeIndex: 25 entries, 0 to 24\n",
      "Data columns (total 15 columns):\n",
      " #   Column               Non-Null Count  Dtype  \n",
      "---  ------               --------------  -----  \n",
      " 0   ID                   25 non-null     int64  \n",
      " 1   Movie                25 non-null     object \n",
      " 2   Year                 25 non-null     int64  \n",
      " 3   Ratings              25 non-null     float64\n",
      " 4   Genre                25 non-null     int64  \n",
      " 5   Gross                25 non-null     int64  \n",
      " 6   Budget               25 non-null     int64  \n",
      " 7   Screens              23 non-null     float64\n",
      " 8   Sequel               25 non-null     int64  \n",
      " 9   Sentiment            25 non-null     int64  \n",
      " 10  Views                25 non-null     int64  \n",
      " 11  Likes                25 non-null     int64  \n",
      " 12  Dislikes             25 non-null     int64  \n",
      " 13  Comments             25 non-null     int64  \n",
      " 14  Aggregate Followers  25 non-null     int64  \n",
      "dtypes: float64(2), int64(12), object(1)\n",
      "memory usage: 3.1+ KB\n",
      "None\n",
      "Movies:\n",
      "      ID                   Movie  Year  Ratings  Genre      Gross     Budget  \\\n",
      "0  16565                 13 Sins  2014      6.3      8       9130    4000000   \n",
      "1  56666          22 Jump Street  2014      7.1      1  192000000   50000000   \n",
      "2  96656          3 Days to Kill  2014      6.2      1   30700000   28000000   \n",
      "3  65166  300: Rise of an Empire  2014      6.3      1  106000000  110000000   \n",
      "4  35651       A Haunted House 2  2014      4.7      8   17300000    3500000   \n",
      "\n",
      "   Screens  Sequel  Sentiment    Views  Likes  Dislikes  Comments  \\\n",
      "0     45.0       1          0  3280543   4632       425       636   \n",
      "1   3306.0       2          2   583289   3465        61       186   \n",
      "2   2872.0       1          0   304861    328        34        47   \n",
      "3   3470.0       2          0   452917   2429       132       590   \n",
      "4   2310.0       2          0  3145573  12163       610      1082   \n",
      "\n",
      "   Aggregate Followers  \n",
      "0              1120000  \n",
      "1             12350000  \n",
      "2               483000  \n",
      "3               568000  \n",
      "4              1923800  \n",
      "Список столбцов:\n",
      "Index(['ID', 'Movie', 'Year', 'Ratings', 'Genre', 'Gross', 'Budget', 'Screens',\n",
      "       'Sequel', 'Sentiment', 'Views', 'Likes', 'Dislikes', 'Comments',\n",
      "       'Aggregate Followers'],\n",
      "      dtype='object')\n",
      "основные статистические показатели данных:\n",
      "                 ID    Year    Ratings      Genre         Gross        Budget  \\\n",
      "count     25.000000    25.0  25.000000  25.000000  2.500000e+01  2.500000e+01   \n",
      "mean   50818.880000  2014.0   6.280000   5.440000  5.429528e+07  2.935200e+07   \n",
      "std    26092.465284     0.0   0.930054   3.948417  8.438832e+07  3.836771e+07   \n",
      "min    13235.000000  2014.0   4.400000   1.000000  9.130000e+03  5.000000e+05   \n",
      "25%    32356.000000  2014.0   5.700000   3.000000  1.870000e+06  5.000000e+06   \n",
      "50%    53269.000000  2014.0   6.300000   3.000000  2.160000e+07  1.250000e+07   \n",
      "75%    65166.000000  2014.0   6.900000   8.000000  4.860000e+07  4.000000e+07   \n",
      "max    98898.000000  2014.0   8.000000  15.000000  3.500000e+08  1.650000e+08   \n",
      "\n",
      "           Screens  Sequel  Sentiment         Views         Likes  \\\n",
      "count    23.000000    25.0  25.000000  2.500000e+01     25.000000   \n",
      "mean   1988.782609     1.2   2.120000  2.979569e+06   7270.440000   \n",
      "std    1385.187515     0.5   6.002222  3.861317e+06   8274.756346   \n",
      "min      18.000000     1.0  -2.000000  7.128000e+03      1.000000   \n",
      "25%     626.500000     1.0   0.000000  5.951940e+05   2210.000000   \n",
      "50%    2310.000000     1.0   0.000000  1.854103e+06   4632.000000   \n",
      "75%    3171.500000     1.0   2.000000  3.915978e+06   9595.000000   \n",
      "max    3761.000000     3.0  29.000000  1.903290e+07  38810.000000   \n",
      "\n",
      "          Dislikes    Comments  Aggregate Followers  \n",
      "count    25.000000    25.00000         2.500000e+01  \n",
      "mean    518.280000   936.76000         3.418248e+06  \n",
      "std     893.768777  1025.19922         5.949317e+06  \n",
      "min       0.000000     0.00000         2.182000e+03  \n",
      "25%     132.000000   186.00000         1.306550e+05  \n",
      "50%     255.000000   685.00000         5.680000e+05  \n",
      "75%     532.000000  1150.00000         3.209000e+06  \n",
      "max    4382.000000  4392.00000         2.169730e+07  \n",
      "Средний рейтинг фильмов:\n",
      "6.28\n",
      "Уникальные жанры фильмов:\n",
      "[ 8  1  3 10 15 12]\n",
      "Количество фильмов по каждому жанру:\n",
      "<class 'pandas.core.series.Series'>\n",
      "Index([8, 3, 1, 10, 15, 12], dtype='int64', name='Genre')\n",
      "Genre\n",
      "8     9\n",
      "3     7\n",
      "1     6\n",
      "10    1\n",
      "15    1\n",
      "12    1\n",
      "Name: count, dtype: int64\n"
     ]
    }
   ],
   "source": [
    "import pandas as pd\n",
    "\n",
    "# Загрузим данные в переменную movies\n",
    "movies = pd.read_csv(\"data/movies_small_df.csv\")\n",
    "# Выведем информацию о наборе данных\n",
    "print(\"Размерность по каждой оси (количество строк и столбцов):\")\n",
    "print(f\"{movies.shape}\")\n",
    "\n",
    "# Выведем информацию о наборе данных\n",
    "print(\"Список столбцов:\")\n",
    "print(f\"{movies.info()}\")\n",
    "# Посмотрим на сами данные\n",
    "print(\"Movies:\")\n",
    "print(f\"{movies.head(5)}\")\n",
    "# Выведем список столбцов\n",
    "print(\"Список столбцов:\")\n",
    "print(f\"{movies.columns}\")\n",
    "# Выведем основные статистические показатели по всем столбцам\n",
    "print(\"основные статистические показатели данных:\")\n",
    "print(f\"{movies.describe()}\")\n",
    "\n",
    "#Выведем средний рейтинг фильмов\n",
    "print(\"Средний рейтинг фильмов:\")\n",
    "print(f\"{movies['Ratings'].mean()}\")\n",
    "#Выведем количество фильмов по каждому жанру\n",
    "print(\"Уникальные жанры фильмов:\")\n",
    "print(f\"{movies['Genre'].unique()}\")\n",
    "print(\"Количество фильмов по каждому жанру:\")\n",
    "vc = movies['Genre'].value_counts()\n",
    "print(f\"{movies['Genre'].value_counts()}\")\n"
   ]
  },
  {
   "cell_type": "markdown",
   "metadata": {
    "id": "-oiNVI4TeYVn"
   },
   "source": [
    "### **Самостоятельная работа №5:**"
   ]
  },
  {
   "cell_type": "markdown",
   "metadata": {
    "id": "6oVwgIsCeYVn"
   },
   "source": [
    "* Загрузите данные из файла books_part1.csv в dataframe books\n",
    "* Выведите размерность данных\n",
    "* Выведите список столбцов\n",
    "* Выведите первые несколько строк\n",
    "* Выведите список уникальных издателей и количество книг для каждого издания\n",
    "* В переменную books_numbers сохраните только числовые признаки\n",
    "* Выведите основные показатели статистики (min, max, mean и тд) для датасета books_numbers\n",
    "\n"
   ]
  },
  {
   "cell_type": "code",
   "execution_count": null,
   "metadata": {
    "id": "NTNASZR1eYVn"
   },
   "outputs": [],
   "source": [
    "# Ваш код\n"
   ]
  },
  {
   "cell_type": "markdown",
   "metadata": {
    "id": "fuMhRQBIAh-t"
   },
   "source": [
    "## **6. Выборка данных**"
   ]
  },
  {
   "cell_type": "markdown",
   "metadata": {
    "id": "mmRqJn1QAh-2"
   },
   "source": [
    "### **6.1 Выборка столбцов:**"
   ]
  },
  {
   "cell_type": "markdown",
   "metadata": {
    "id": "3ofiALBcAh-2"
   },
   "source": [
    "Существует несколько способов выбрать определенные столбцы в DataFrame:\n",
    "\n",
    "\n"
   ]
  },
  {
   "cell_type": "markdown",
   "metadata": {
    "id": "ILf0NDz_Ah-2"
   },
   "source": [
    "#### **1. Использование квадратных скобок**:\n",
    "* Заключите имена столбцов в квадратные скобки, отделяя их запятыми.\n",
    "\n",
    "* Возвращает Series, если выбран один столбец, и DataFrame, если выбрано несколько столбцов."
   ]
  },
  {
   "cell_type": "markdown",
   "metadata": {
    "id": "OOpjGIrwAh-2"
   },
   "source": [
    "Пример:\n",
    "```\n",
    "import pandas as pd\n",
    "\n",
    "# Создание DataFrame\n",
    "df = pd.DataFrame({'A': [1, 2, 3], 'B': [4, 5, 6], 'C': [7, 8, 9]})\n",
    "\n",
    "# Выбор столбца 'A'\n",
    "df_A = df['A']\n",
    "\n",
    "# Выбор столбцов 'A' и 'B'\n",
    "df_AB = df[['A', 'B']]\n",
    "```\n",
    "\n"
   ]
  },
  {
   "cell_type": "markdown",
   "metadata": {
    "id": "1V8MoGgUAh-2"
   },
   "source": [
    "#### **2. Использование метода loc:**\n",
    "* Позволяет использовать как целые числа (индексы), так и имена столбцов.\n",
    "* Для двухмерных данных требует индексы по обеим осям.\n",
    "* Возвращает Series или DataFrame в зависимости от выбранного количества столбцов."
   ]
  },
  {
   "cell_type": "markdown",
   "metadata": {
    "id": "VrcXI7s2Ah-2"
   },
   "source": [
    "Пример:\n",
    "\n"
   ]
  },
  {
   "cell_type": "code",
   "execution_count": null,
   "metadata": {
    "colab": {
     "base_uri": "https://localhost:8080/"
    },
    "executionInfo": {
     "elapsed": 347,
     "status": "ok",
     "timestamp": 1728411406005,
     "user": {
      "displayName": "Наталья Мальцева",
      "userId": "18293210731886090099"
     },
     "user_tz": -300
    },
    "id": "Xd4OnCTshSPm",
    "outputId": "f21c0de8-61f8-4ddf-f45e-ede352ea168b"
   },
   "outputs": [
    {
     "name": "stdout",
     "output_type": "stream",
     "text": [
      "       A  B\n",
      "uid34  1  4\n",
      "ui46   2  5\n",
      "rew78  3  6\n",
      "По индексу: A    2\n",
      "B    5\n",
      "Name: ui46, dtype: int64\n"
     ]
    }
   ],
   "source": [
    "import pandas as pd\n",
    "\n",
    "# Создание DataFrame\n",
    "df = pd.DataFrame({'A': [1, 2, 3], 'B': [4, 5, 6], 'C': [7, 8, 9]},index=['uid34','ui46','rew78'])\n",
    "\n",
    "# Выбор столбца 'A'\n",
    "df_A = df.loc[:, 'A']\n",
    "\n",
    "# Выбор столбцов 'A' и 'B'\n",
    "df_AB = df.loc[:, ['A', 'B']]\n",
    "print(df_AB)\n",
    "\n",
    "# Выбор столбцов 'A' и 'B'\n",
    "df_2AB = df.loc['ui46', ['A', 'B']]\n",
    "print(f\"По индексу: {df_2AB}\")"
   ]
  },
  {
   "cell_type": "markdown",
   "metadata": {
    "id": "QTlruIv0Ah-2"
   },
   "source": [
    "#### **3. Использование метода iloc:**\n",
    "* Выборка строк и столбцов по их порядковому месту в таблице.\n",
    "* Возвращает Series или DataFrame в зависимости от выбранного количества столбцов."
   ]
  },
  {
   "cell_type": "markdown",
   "metadata": {
    "id": "xxrig2nfAh-2"
   },
   "source": [
    "Пример:\n",
    "```\n",
    "import pandas as pd\n",
    "\n",
    "# Создание DataFrame\n",
    "df = pd.DataFrame({'A': [1, 2, 3], 'B': [4, 5, 6], 'C': [7, 8, 9]})\n",
    "\n",
    "# Выбор столбца 'A' (первый столбец)\n",
    "df_A = df.iloc[:, 0]\n",
    "\n",
    "# Выбор столбцов 'A' и 'B' (первый и второй столбцы)\n",
    "df_AB = df.iloc[:, [0, 1]]\n",
    "\n",
    "```\n",
    "\n"
   ]
  },
  {
   "cell_type": "code",
   "execution_count": null,
   "metadata": {
    "colab": {
     "base_uri": "https://localhost:8080/"
    },
    "executionInfo": {
     "elapsed": 342,
     "status": "ok",
     "timestamp": 1728411543012,
     "user": {
      "displayName": "Наталья Мальцева",
      "userId": "18293210731886090099"
     },
     "user_tz": -300
    },
    "id": "b1i2NDWBgzTE",
    "outputId": "8dabad34-7de9-43c0-c06b-56f9f5d9eba7"
   },
   "outputs": [
    {
     "name": "stdout",
     "output_type": "stream",
     "text": [
      "   A  B  C\n",
      "0  1  4  7\n",
      "1  2  5  8\n",
      "2  3  6  9\n",
      "Filter \n",
      "    A  B\n",
      "1  2  5\n",
      "2  3  6\n"
     ]
    }
   ],
   "source": [
    "import pandas as pd\n",
    "\n",
    "# Создание DataFrame\n",
    "df = pd.DataFrame({'A': [1, 2, 3], 'B': [4, 5, 6], 'C': [7, 8, 9]})\n",
    "print(df)\n",
    "# Выбор столбцов 'A' и 'B' (первый и второй столбцы)\n",
    "print(f\"Filter \\n {df.iloc[1:, [0, 1]]}\")"
   ]
  },
  {
   "cell_type": "markdown",
   "metadata": {
    "id": "gg7yL1S4Ah-2"
   },
   "source": [
    "#### **4. Использование атрибута . :**\n",
    "* Работает с именами столбцов без пробелов.\n",
    "* Возвращает Series объект"
   ]
  },
  {
   "cell_type": "markdown",
   "metadata": {
    "id": "a8eBNHGLAh-2"
   },
   "source": [
    "Пример:\n",
    "```\n",
    "import pandas as pd\n",
    "\n",
    "# Создание DataFrame\n",
    "df = pd.DataFrame({'A': [1, 2, 3], 'B': [4, 5, 6], 'C': [7, 8, 9]})\n",
    "\n",
    "# Выбор столбца 'A'\n",
    "df_A = df.A\n",
    "```\n",
    "\n"
   ]
  },
  {
   "cell_type": "markdown",
   "metadata": {
    "id": "A90GeI7fKanh"
   },
   "source": [
    "### **Практика 6.1. Выберем столбцы из датасета Books**"
   ]
  },
  {
   "cell_type": "markdown",
   "metadata": {
    "id": "jDCB3jebK49l"
   },
   "source": [
    "* Выгрузим данные из файла books_part1.csv\n",
    "* Выведем список с названиями столбцов (индексы столбцов)\n",
    "* Зададим в качестве индексов строк столбец 'ISBN'\n",
    "* Выберем столбец Year-Of-Publication\n",
    "* Выберем столбцы 'Book-Title' и 'Publisher'\n",
    "* Выберем столбцы 'Book-Title' и 'Book-Author' с помощью метода loc\n",
    "* Выберем первый и третий столбец c помощью метода iloc"
   ]
  },
  {
   "cell_type": "code",
   "execution_count": null,
   "metadata": {
    "colab": {
     "base_uri": "https://localhost:8080/"
    },
    "executionInfo": {
     "elapsed": 292,
     "status": "ok",
     "timestamp": 1730530127346,
     "user": {
      "displayName": "Наталья Мальцева",
      "userId": "18293210731886090099"
     },
     "user_tz": -300
    },
    "id": "0JjKwbXXLmtJ",
    "outputId": "eb094fa6-171c-49df-b234-5172e1225550"
   },
   "outputs": [
    {
     "name": "stdout",
     "output_type": "stream",
     "text": [
      "Столбцы-признаки: Index(['Book-Title', 'Book-Author', 'Year-Of-Publication', 'Publisher',\n",
      "       'Image-URL-S', 'Image-URL-M'],\n",
      "      dtype='object')\n",
      "Индексы-строк: Index(['0195153448', '0002005018', '0060973129', '0374157065', '0393045218',\n",
      "       '0399135782', '0425176428', '0671870432', '0679425608', '074322678X',\n",
      "       ...\n",
      "       '0062548689', '0824519302', '0451182006', '0425186709', '0671026682',\n",
      "       '0684846608', '0399151613', '0330314971', '051788433X', '0688160999'],\n",
      "      dtype='object', name='ISBN', length=13368)\n",
      "\n",
      " Year of publication : \n",
      " ISBN\n",
      "0195153448    2002\n",
      "0002005018    2001\n",
      "0060973129    1991\n",
      "0374157065    1999\n",
      "0393045218    1999\n",
      "Name: Year-Of-Publication, dtype: int64\n",
      "\n",
      " Tile and Publisher Books Info: \n",
      "                                                    Book-Title  \\\n",
      "ISBN                                                            \n",
      "0195153448                                Classical Mythology   \n",
      "0002005018                                       Clara Callan   \n",
      "0060973129                               Decision in Normandy   \n",
      "0374157065  Flu: The Story of the Great Influenza Pandemic...   \n",
      "0393045218                             The Mummies of Urumchi   \n",
      "\n",
      "                             Publisher  \n",
      "ISBN                                    \n",
      "0195153448     Oxford University Press  \n",
      "0002005018       HarperFlamingo Canada  \n",
      "0060973129             HarperPerennial  \n",
      "0374157065        Farrar Straus Giroux  \n",
      "0393045218  W. W. Norton &amp; Company  \n",
      "\n",
      "  Titles and authors of books subset loc: \n",
      "                                                    Book-Title  \\\n",
      "ISBN                                                            \n",
      "0195153448                                Classical Mythology   \n",
      "0002005018                                       Clara Callan   \n",
      "0060973129                               Decision in Normandy   \n",
      "0374157065  Flu: The Story of the Great Influenza Pandemic...   \n",
      "0393045218                             The Mummies of Urumchi   \n",
      "\n",
      "                     Book-Author  \n",
      "ISBN                              \n",
      "0195153448    Mark P. O. Morford  \n",
      "0002005018  Richard Bruce Wright  \n",
      "0060973129          Carlo D'Este  \n",
      "0374157065      Gina Bari Kolata  \n",
      "0393045218       E. J. W. Barber  \n",
      "\n",
      " Iloc. Author and publisher: \n",
      "                      Book-Author                   Publisher\n",
      "ISBN                                                        \n",
      "0195153448    Mark P. O. Morford     Oxford University Press\n",
      "0002005018  Richard Bruce Wright       HarperFlamingo Canada\n",
      "0060973129          Carlo D'Este             HarperPerennial\n",
      "0374157065      Gina Bari Kolata        Farrar Straus Giroux\n",
      "0393045218       E. J. W. Barber  W. W. Norton &amp; Company\n"
     ]
    }
   ],
   "source": [
    "import pandas as pd\n",
    "\n",
    "df_books = pd.read_csv(\"data/books_part1.csv\")\n",
    "df_books.set_index('ISBN', inplace = True)\n",
    "print(f\"Столбцы-признаки: {df_books.columns}\")\n",
    "print(f\"Индексы-строк: {df_books.index}\")\n",
    "\n",
    "publication_years = df_books['Year-Of-Publication']\n",
    "print(f\"\\n Year of publication : \\n {publication_years.head()}\")\n",
    "\n",
    "title_pub_books_info = df_books[['Book-Title','Publisher']]\n",
    "print(f\"\\n Tile and Publisher Books Info: \\n {title_pub_books_info.head()}\")\n",
    "\n",
    "title_author_books = df_books.loc[:, ['Book-Title','Book-Author']]\n",
    "print(f\"\\n  Titles and authors of books subset loc: \\n {title_author_books.head()}\")\n",
    "\n",
    "author_publisher_books = df_books.iloc[:, [1,3]]\n",
    "print(f\"\\n Iloc. Author and publisher: \\n {author_publisher_books.head()}\")"
   ]
  },
  {
   "cell_type": "markdown",
   "metadata": {
    "id": "DrBBQQV4S6OG"
   },
   "source": [
    "### **Самостоятельная работа №6.1. Выборка столбцов**"
   ]
  },
  {
   "cell_type": "markdown",
   "metadata": {
    "id": "h2ty-r1-TCyo"
   },
   "source": [
    "* Загрузите данные из файла empl.csv в dataframe empl_df (обратите внимание на разделитель данных).\n",
    "* Укажите в качестве индекса столбец с названием 'tin'.\n",
    "* Выведите список столбцов.\n",
    "* С помощью метода loc выберите столбец 'org_name'\n",
    "* Удалите индексы из таблицы\n",
    "* С помощью оператора [] выберите столбец 'tin', 'org_name', 'region'\n"
   ]
  },
  {
   "cell_type": "markdown",
   "metadata": {
    "id": "vLWDEg7FAh-3"
   },
   "source": [
    "### **6.2 Выборка строк:**"
   ]
  },
  {
   "cell_type": "markdown",
   "metadata": {
    "id": "t8f0XRq2Ah-3"
   },
   "source": [
    "Методы выборки строк:\n",
    "\n",
    "\n"
   ]
  },
  {
   "cell_type": "markdown",
   "metadata": {
    "id": "zPzupoKvAh-3"
   },
   "source": [
    "#### **1. Использование метода loc:**\n",
    "* Выборка данных по индексу строк"
   ]
  },
  {
   "cell_type": "markdown",
   "metadata": {
    "id": "ulkWCxnUAh-3"
   },
   "source": [
    "Пример:\n",
    "\n"
   ]
  },
  {
   "cell_type": "code",
   "execution_count": null,
   "metadata": {
    "colab": {
     "base_uri": "https://localhost:8080/"
    },
    "executionInfo": {
     "elapsed": 305,
     "status": "ok",
     "timestamp": 1730530321001,
     "user": {
      "displayName": "Наталья Мальцева",
      "userId": "18293210731886090099"
     },
     "user_tz": -300
    },
    "id": "luPQ8K3rjpUn",
    "outputId": "1180bf81-f125-4726-e4d1-403e3816c221"
   },
   "outputs": [
    {
     "name": "stdout",
     "output_type": "stream",
     "text": [
      "A    1\n",
      "B    4\n",
      "C    7\n",
      "Name: 100, dtype: int64\n",
      "A    2\n",
      "C    8\n",
      "Name: 200, dtype: int64\n",
      "     A  C\n",
      "100  1  7\n",
      "300  3  9\n"
     ]
    }
   ],
   "source": [
    "import pandas as pd\n",
    "\n",
    "# Создание DataFrame\n",
    "df = pd.DataFrame({'A': [1, 2, 3], 'B': [4, 5, 6], 'C': [7, 8, 9]}, index = (100,200,300))\n",
    "\n",
    "# Выбор строки с индексом 100\n",
    "df_100A = df.loc[100, :]\n",
    "\n",
    "print(df_100A)\n",
    "\n",
    "# Выбор строки с индексом 200 и столбцов 'A','C'\n",
    "df_200AC = df.loc[200, ['A','C']]\n",
    "\n",
    "print(df_200AC)\n",
    "\n",
    "# Выбор строк с индексом 100 и 300  и столбцов 'A','C'\n",
    "df_100300AC = df.loc[[100,300], ['A','C']]\n",
    "\n",
    "print(df_100300AC)"
   ]
  },
  {
   "cell_type": "markdown",
   "metadata": {
    "id": "RmEEl8q7Ah-3"
   },
   "source": [
    "#### **2. Использование метода iloc:**\n",
    "* Выборка по номеру строки в таблице.\n",
    "* Поддерживает выборку по диапазонам."
   ]
  },
  {
   "cell_type": "markdown",
   "metadata": {
    "id": "h0YwX0idAh-3"
   },
   "source": [
    "Пример:\n",
    "\n"
   ]
  },
  {
   "cell_type": "code",
   "execution_count": null,
   "metadata": {
    "colab": {
     "base_uri": "https://localhost:8080/",
     "height": 112
    },
    "executionInfo": {
     "elapsed": 421,
     "status": "ok",
     "timestamp": 1730530347005,
     "user": {
      "displayName": "Наталья Мальцева",
      "userId": "18293210731886090099"
     },
     "user_tz": -300
    },
    "id": "1UawC3izklpk",
    "outputId": "7b51c05d-e734-462b-dcbe-64b7c04aa6da"
   },
   "outputs": [
    {
     "data": {
      "application/vnd.google.colaboratory.intrinsic+json": {
       "summary": "{\n  \"name\": \"df_2\",\n  \"rows\": 2,\n  \"fields\": [\n    {\n      \"column\": \"A\",\n      \"properties\": {\n        \"dtype\": \"number\",\n        \"std\": 1,\n        \"min\": 1,\n        \"max\": 3,\n        \"num_unique_values\": 2,\n        \"samples\": [\n          3,\n          1\n        ],\n        \"semantic_type\": \"\",\n        \"description\": \"\"\n      }\n    },\n    {\n      \"column\": \"B\",\n      \"properties\": {\n        \"dtype\": \"number\",\n        \"std\": 1,\n        \"min\": 4,\n        \"max\": 6,\n        \"num_unique_values\": 2,\n        \"samples\": [\n          6,\n          4\n        ],\n        \"semantic_type\": \"\",\n        \"description\": \"\"\n      }\n    },\n    {\n      \"column\": \"C\",\n      \"properties\": {\n        \"dtype\": \"number\",\n        \"std\": 1,\n        \"min\": 7,\n        \"max\": 9,\n        \"num_unique_values\": 2,\n        \"samples\": [\n          9,\n          7\n        ],\n        \"semantic_type\": \"\",\n        \"description\": \"\"\n      }\n    }\n  ]\n}",
       "type": "dataframe",
       "variable_name": "df_2"
      },
      "text/html": [
       "\n",
       "  <div id=\"df-60caeee7-21ff-4331-ab8b-52988c744910\" class=\"colab-df-container\">\n",
       "    <div>\n",
       "<style scoped>\n",
       "    .dataframe tbody tr th:only-of-type {\n",
       "        vertical-align: middle;\n",
       "    }\n",
       "\n",
       "    .dataframe tbody tr th {\n",
       "        vertical-align: top;\n",
       "    }\n",
       "\n",
       "    .dataframe thead th {\n",
       "        text-align: right;\n",
       "    }\n",
       "</style>\n",
       "<table border=\"1\" class=\"dataframe\">\n",
       "  <thead>\n",
       "    <tr style=\"text-align: right;\">\n",
       "      <th></th>\n",
       "      <th>A</th>\n",
       "      <th>B</th>\n",
       "      <th>C</th>\n",
       "    </tr>\n",
       "  </thead>\n",
       "  <tbody>\n",
       "    <tr>\n",
       "      <th>0</th>\n",
       "      <td>1</td>\n",
       "      <td>4</td>\n",
       "      <td>7</td>\n",
       "    </tr>\n",
       "    <tr>\n",
       "      <th>2</th>\n",
       "      <td>3</td>\n",
       "      <td>6</td>\n",
       "      <td>9</td>\n",
       "    </tr>\n",
       "  </tbody>\n",
       "</table>\n",
       "</div>\n",
       "    <div class=\"colab-df-buttons\">\n",
       "\n",
       "  <div class=\"colab-df-container\">\n",
       "    <button class=\"colab-df-convert\" onclick=\"convertToInteractive('df-60caeee7-21ff-4331-ab8b-52988c744910')\"\n",
       "            title=\"Convert this dataframe to an interactive table.\"\n",
       "            style=\"display:none;\">\n",
       "\n",
       "  <svg xmlns=\"http://www.w3.org/2000/svg\" height=\"24px\" viewBox=\"0 -960 960 960\">\n",
       "    <path d=\"M120-120v-720h720v720H120Zm60-500h600v-160H180v160Zm220 220h160v-160H400v160Zm0 220h160v-160H400v160ZM180-400h160v-160H180v160Zm440 0h160v-160H620v160ZM180-180h160v-160H180v160Zm440 0h160v-160H620v160Z\"/>\n",
       "  </svg>\n",
       "    </button>\n",
       "\n",
       "  <style>\n",
       "    .colab-df-container {\n",
       "      display:flex;\n",
       "      gap: 12px;\n",
       "    }\n",
       "\n",
       "    .colab-df-convert {\n",
       "      background-color: #E8F0FE;\n",
       "      border: none;\n",
       "      border-radius: 50%;\n",
       "      cursor: pointer;\n",
       "      display: none;\n",
       "      fill: #1967D2;\n",
       "      height: 32px;\n",
       "      padding: 0 0 0 0;\n",
       "      width: 32px;\n",
       "    }\n",
       "\n",
       "    .colab-df-convert:hover {\n",
       "      background-color: #E2EBFA;\n",
       "      box-shadow: 0px 1px 2px rgba(60, 64, 67, 0.3), 0px 1px 3px 1px rgba(60, 64, 67, 0.15);\n",
       "      fill: #174EA6;\n",
       "    }\n",
       "\n",
       "    .colab-df-buttons div {\n",
       "      margin-bottom: 4px;\n",
       "    }\n",
       "\n",
       "    [theme=dark] .colab-df-convert {\n",
       "      background-color: #3B4455;\n",
       "      fill: #D2E3FC;\n",
       "    }\n",
       "\n",
       "    [theme=dark] .colab-df-convert:hover {\n",
       "      background-color: #434B5C;\n",
       "      box-shadow: 0px 1px 3px 1px rgba(0, 0, 0, 0.15);\n",
       "      filter: drop-shadow(0px 1px 2px rgba(0, 0, 0, 0.3));\n",
       "      fill: #FFFFFF;\n",
       "    }\n",
       "  </style>\n",
       "\n",
       "    <script>\n",
       "      const buttonEl =\n",
       "        document.querySelector('#df-60caeee7-21ff-4331-ab8b-52988c744910 button.colab-df-convert');\n",
       "      buttonEl.style.display =\n",
       "        google.colab.kernel.accessAllowed ? 'block' : 'none';\n",
       "\n",
       "      async function convertToInteractive(key) {\n",
       "        const element = document.querySelector('#df-60caeee7-21ff-4331-ab8b-52988c744910');\n",
       "        const dataTable =\n",
       "          await google.colab.kernel.invokeFunction('convertToInteractive',\n",
       "                                                    [key], {});\n",
       "        if (!dataTable) return;\n",
       "\n",
       "        const docLinkHtml = 'Like what you see? Visit the ' +\n",
       "          '<a target=\"_blank\" href=https://colab.research.google.com/notebooks/data_table.ipynb>data table notebook</a>'\n",
       "          + ' to learn more about interactive tables.';\n",
       "        element.innerHTML = '';\n",
       "        dataTable['output_type'] = 'display_data';\n",
       "        await google.colab.output.renderOutput(dataTable, element);\n",
       "        const docLink = document.createElement('div');\n",
       "        docLink.innerHTML = docLinkHtml;\n",
       "        element.appendChild(docLink);\n",
       "      }\n",
       "    </script>\n",
       "  </div>\n",
       "\n",
       "\n",
       "<div id=\"df-77e3e160-c797-44e3-aebc-692eaf8d9bd8\">\n",
       "  <button class=\"colab-df-quickchart\" onclick=\"quickchart('df-77e3e160-c797-44e3-aebc-692eaf8d9bd8')\"\n",
       "            title=\"Suggest charts\"\n",
       "            style=\"display:none;\">\n",
       "\n",
       "<svg xmlns=\"http://www.w3.org/2000/svg\" height=\"24px\"viewBox=\"0 0 24 24\"\n",
       "     width=\"24px\">\n",
       "    <g>\n",
       "        <path d=\"M19 3H5c-1.1 0-2 .9-2 2v14c0 1.1.9 2 2 2h14c1.1 0 2-.9 2-2V5c0-1.1-.9-2-2-2zM9 17H7v-7h2v7zm4 0h-2V7h2v10zm4 0h-2v-4h2v4z\"/>\n",
       "    </g>\n",
       "</svg>\n",
       "  </button>\n",
       "\n",
       "<style>\n",
       "  .colab-df-quickchart {\n",
       "      --bg-color: #E8F0FE;\n",
       "      --fill-color: #1967D2;\n",
       "      --hover-bg-color: #E2EBFA;\n",
       "      --hover-fill-color: #174EA6;\n",
       "      --disabled-fill-color: #AAA;\n",
       "      --disabled-bg-color: #DDD;\n",
       "  }\n",
       "\n",
       "  [theme=dark] .colab-df-quickchart {\n",
       "      --bg-color: #3B4455;\n",
       "      --fill-color: #D2E3FC;\n",
       "      --hover-bg-color: #434B5C;\n",
       "      --hover-fill-color: #FFFFFF;\n",
       "      --disabled-bg-color: #3B4455;\n",
       "      --disabled-fill-color: #666;\n",
       "  }\n",
       "\n",
       "  .colab-df-quickchart {\n",
       "    background-color: var(--bg-color);\n",
       "    border: none;\n",
       "    border-radius: 50%;\n",
       "    cursor: pointer;\n",
       "    display: none;\n",
       "    fill: var(--fill-color);\n",
       "    height: 32px;\n",
       "    padding: 0;\n",
       "    width: 32px;\n",
       "  }\n",
       "\n",
       "  .colab-df-quickchart:hover {\n",
       "    background-color: var(--hover-bg-color);\n",
       "    box-shadow: 0 1px 2px rgba(60, 64, 67, 0.3), 0 1px 3px 1px rgba(60, 64, 67, 0.15);\n",
       "    fill: var(--button-hover-fill-color);\n",
       "  }\n",
       "\n",
       "  .colab-df-quickchart-complete:disabled,\n",
       "  .colab-df-quickchart-complete:disabled:hover {\n",
       "    background-color: var(--disabled-bg-color);\n",
       "    fill: var(--disabled-fill-color);\n",
       "    box-shadow: none;\n",
       "  }\n",
       "\n",
       "  .colab-df-spinner {\n",
       "    border: 2px solid var(--fill-color);\n",
       "    border-color: transparent;\n",
       "    border-bottom-color: var(--fill-color);\n",
       "    animation:\n",
       "      spin 1s steps(1) infinite;\n",
       "  }\n",
       "\n",
       "  @keyframes spin {\n",
       "    0% {\n",
       "      border-color: transparent;\n",
       "      border-bottom-color: var(--fill-color);\n",
       "      border-left-color: var(--fill-color);\n",
       "    }\n",
       "    20% {\n",
       "      border-color: transparent;\n",
       "      border-left-color: var(--fill-color);\n",
       "      border-top-color: var(--fill-color);\n",
       "    }\n",
       "    30% {\n",
       "      border-color: transparent;\n",
       "      border-left-color: var(--fill-color);\n",
       "      border-top-color: var(--fill-color);\n",
       "      border-right-color: var(--fill-color);\n",
       "    }\n",
       "    40% {\n",
       "      border-color: transparent;\n",
       "      border-right-color: var(--fill-color);\n",
       "      border-top-color: var(--fill-color);\n",
       "    }\n",
       "    60% {\n",
       "      border-color: transparent;\n",
       "      border-right-color: var(--fill-color);\n",
       "    }\n",
       "    80% {\n",
       "      border-color: transparent;\n",
       "      border-right-color: var(--fill-color);\n",
       "      border-bottom-color: var(--fill-color);\n",
       "    }\n",
       "    90% {\n",
       "      border-color: transparent;\n",
       "      border-bottom-color: var(--fill-color);\n",
       "    }\n",
       "  }\n",
       "</style>\n",
       "\n",
       "  <script>\n",
       "    async function quickchart(key) {\n",
       "      const quickchartButtonEl =\n",
       "        document.querySelector('#' + key + ' button');\n",
       "      quickchartButtonEl.disabled = true;  // To prevent multiple clicks.\n",
       "      quickchartButtonEl.classList.add('colab-df-spinner');\n",
       "      try {\n",
       "        const charts = await google.colab.kernel.invokeFunction(\n",
       "            'suggestCharts', [key], {});\n",
       "      } catch (error) {\n",
       "        console.error('Error during call to suggestCharts:', error);\n",
       "      }\n",
       "      quickchartButtonEl.classList.remove('colab-df-spinner');\n",
       "      quickchartButtonEl.classList.add('colab-df-quickchart-complete');\n",
       "    }\n",
       "    (() => {\n",
       "      let quickchartButtonEl =\n",
       "        document.querySelector('#df-77e3e160-c797-44e3-aebc-692eaf8d9bd8 button');\n",
       "      quickchartButtonEl.style.display =\n",
       "        google.colab.kernel.accessAllowed ? 'block' : 'none';\n",
       "    })();\n",
       "  </script>\n",
       "</div>\n",
       "    </div>\n",
       "  </div>\n"
      ],
      "text/plain": [
       "   A  B  C\n",
       "0  1  4  7\n",
       "2  3  6  9"
      ]
     },
     "execution_count": 33,
     "metadata": {},
     "output_type": "execute_result"
    }
   ],
   "source": [
    "import pandas as pd\n",
    "\n",
    "# Создание DataFrame\n",
    "df = pd.DataFrame({'A': [1, 2, 3], 'B': [4, 5, 6], 'C': [7, 8, 9]})\n",
    "\n",
    "# Выбор 0 строки\n",
    "df_0 = df.iloc[0,:]\n",
    "\n",
    "df_0\n",
    "\n",
    "# Выбор c 0 по 2 строки\n",
    "df_1 = df.iloc[0:2,:]\n",
    "\n",
    "df_1\n",
    "\n",
    "# Выбор 0 и 2 строки\n",
    "df_2 = df.iloc[[0,2],:]\n",
    "\n",
    "df_2"
   ]
  },
  {
   "cell_type": "markdown",
   "metadata": {
    "id": "YfsqygivwI7p"
   },
   "source": [
    "### **Практика 6.2. Выберем строки из датасета Books**"
   ]
  },
  {
   "cell_type": "code",
   "execution_count": null,
   "metadata": {
    "colab": {
     "base_uri": "https://localhost:8080/"
    },
    "collapsed": true,
    "executionInfo": {
     "elapsed": 287,
     "status": "ok",
     "timestamp": 1730530395349,
     "user": {
      "displayName": "Наталья Мальцева",
      "userId": "18293210731886090099"
     },
     "user_tz": -300
    },
    "id": "dJXXTGJvwVfL",
    "jupyter": {
     "outputs_hidden": true
    },
    "outputId": "29f120bf-873e-4570-9844-1666943855c9"
   },
   "outputs": [
    {
     "name": "stdout",
     "output_type": "stream",
     "text": [
      "Общая информация о таблице: <bound method DataFrame.info of                                                    Book-Title  \\\n",
      "ISBN                                                            \n",
      "0195153448                                Classical Mythology   \n",
      "0002005018                                       Clara Callan   \n",
      "0060973129                               Decision in Normandy   \n",
      "0374157065  Flu: The Story of the Great Influenza Pandemic...   \n",
      "0393045218                             The Mummies of Urumchi   \n",
      "...                                                       ...   \n",
      "0684846608                         Fountain Society : A NOVEL   \n",
      "0399151613                          The Jane Austen Book Club   \n",
      "0330314971                                  Focaults Pendulum   \n",
      "051788433X  Extraordinary Popular Delusions &amp; the Madn...   \n",
      "0688160999          Biomimicry: Innovation Inspired by Nature   \n",
      "\n",
      "                     Book-Author  Year-Of-Publication  \\\n",
      "ISBN                                                    \n",
      "0195153448    Mark P. O. Morford                 2002   \n",
      "0002005018  Richard Bruce Wright                 2001   \n",
      "0060973129          Carlo D'Este                 1991   \n",
      "0374157065      Gina Bari Kolata                 1999   \n",
      "0393045218       E. J. W. Barber                 1999   \n",
      "...                          ...                  ...   \n",
      "0684846608            Wes Craven                 1999   \n",
      "0399151613      Karen Joy Fowler                 2004   \n",
      "0330314971           Umberto Eco                    0   \n",
      "051788433X        Charles MacKay                 1995   \n",
      "0688160999      Janine M. Benyus                 1998   \n",
      "\n",
      "                             Publisher  \\\n",
      "ISBN                                     \n",
      "0195153448     Oxford University Press   \n",
      "0002005018       HarperFlamingo Canada   \n",
      "0060973129             HarperPerennial   \n",
      "0374157065        Farrar Straus Giroux   \n",
      "0393045218  W. W. Norton &amp; Company   \n",
      "...                                ...   \n",
      "0684846608        Simon &amp; Schuster   \n",
      "0399151613            Marian Wood Book   \n",
      "0330314971               Pan Books Ltd   \n",
      "051788433X     Three Rivers Press (CA)   \n",
      "0688160999   Perennial (HarperCollins)   \n",
      "\n",
      "                                                  Image-URL-S  \\\n",
      "ISBN                                                            \n",
      "0195153448  http://images.amazon.com/images/P/0195153448.0...   \n",
      "0002005018  http://images.amazon.com/images/P/0002005018.0...   \n",
      "0060973129  http://images.amazon.com/images/P/0060973129.0...   \n",
      "0374157065  http://images.amazon.com/images/P/0374157065.0...   \n",
      "0393045218  http://images.amazon.com/images/P/0393045218.0...   \n",
      "...                                                       ...   \n",
      "0684846608  http://images.amazon.com/images/P/0684846608.0...   \n",
      "0399151613  http://images.amazon.com/images/P/0399151613.0...   \n",
      "0330314971  http://images.amazon.com/images/P/0330314971.0...   \n",
      "051788433X  http://images.amazon.com/images/P/051788433X.0...   \n",
      "0688160999  http://images.amazon.com/images/P/0688160999.0...   \n",
      "\n",
      "                                                  Image-URL-M  \n",
      "ISBN                                                           \n",
      "0195153448  http://images.amazon.com/images/P/0195153448.0...  \n",
      "0002005018  http://images.amazon.com/images/P/0002005018.0...  \n",
      "0060973129  http://images.amazon.com/images/P/0060973129.0...  \n",
      "0374157065  http://images.amazon.com/images/P/0374157065.0...  \n",
      "0393045218  http://images.amazon.com/images/P/0393045218.0...  \n",
      "...                                                       ...  \n",
      "0684846608  http://images.amazon.com/images/P/0684846608.0...  \n",
      "0399151613  http://images.amazon.com/images/P/0399151613.0...  \n",
      "0330314971  http://images.amazon.com/images/P/0330314971.0...  \n",
      "051788433X  http://images.amazon.com/images/P/051788433X.0...  \n",
      "0688160999  http://images.amazon.com/images/P/0688160999.0...  \n",
      "\n",
      "[13368 rows x 6 columns]>\n",
      "Индексы-строк: Index(['0195153448', '0002005018', '0060973129', '0374157065', '0393045218',\n",
      "       '0399135782', '0425176428', '0671870432', '0679425608', '074322678X',\n",
      "       ...\n",
      "       '0062548689', '0824519302', '0451182006', '0425186709', '0671026682',\n",
      "       '0684846608', '0399151613', '0330314971', '051788433X', '0688160999'],\n",
      "      dtype='object', name='ISBN', length=13368)\n",
      "C 1 по 10 строки:                                                    Book-Title  \\\n",
      "ISBN                                                            \n",
      "0002005018                                       Clara Callan   \n",
      "0060973129                               Decision in Normandy   \n",
      "0374157065  Flu: The Story of the Great Influenza Pandemic...   \n",
      "0393045218                             The Mummies of Urumchi   \n",
      "0399135782                             The Kitchen God's Wife   \n",
      "0425176428  What If?: The World's Foremost Military Histor...   \n",
      "0671870432                                    PLEADING GUILTY   \n",
      "0679425608  Under the Black Flag: The Romance and the Real...   \n",
      "074322678X            Where You'll Find Me: And Other Stories   \n",
      "\n",
      "                     Book-Author  Year-Of-Publication  \n",
      "ISBN                                                   \n",
      "0002005018  Richard Bruce Wright                 2001  \n",
      "0060973129          Carlo D'Este                 1991  \n",
      "0374157065      Gina Bari Kolata                 1999  \n",
      "0393045218       E. J. W. Barber                 1999  \n",
      "0399135782               Amy Tan                 1991  \n",
      "0425176428         Robert Cowley                 2000  \n",
      "0671870432           Scott Turow                 1993  \n",
      "0679425608       David Cordingly                 1996  \n",
      "074322678X           Ann Beattie                 2002  \n",
      "C 1 по 10 строки:                       Book-Title\n",
      "ISBN                            \n",
      "0002005018          Clara Callan\n",
      "0060973129  Decision in Normandy\n"
     ]
    }
   ],
   "source": [
    "import pandas as pd\n",
    "\n",
    "df_books = pd.read_csv(\"data/books_part1.csv\")\n",
    "df_books.set_index('ISBN', inplace = True)\n",
    "print(f\"Общая информация о таблице: {df_books.info}\")\n",
    "print(f\"Индексы-строк: {df_books.index}\")\n",
    "\n",
    "print(f\"C 1 по 10 строки: {df_books.iloc[1:10,:3]}\")\n",
    "print(f\"C 1 по 10 строки: {df_books.loc[['0002005018','0060973129'],['Book-Title']]}\")"
   ]
  },
  {
   "cell_type": "markdown",
   "metadata": {
    "id": "kW0VMpMnMBh_"
   },
   "source": [
    "### **Самостоятельная работа №6.2. Выборка строк**"
   ]
  },
  {
   "cell_type": "markdown",
   "metadata": {
    "id": "rwrzxyU_MIxh"
   },
   "source": [
    "* Загрузите данные из файла empl.csv в dataframe empl_df (обратите внимание на разделитель данных).\n",
    "* Укажите в качестве индекса столбец с названием 'tin'.\n",
    "* Выведите список столбцов.\n",
    "* С помощью метода loc выберите строки c индексами [323389352,  323397610,  542002689] и столбец 'org_name'\n",
    "* С помощью метода iloc выберите первые 30 строк и 2 по 4 столбцы"
   ]
  },
  {
   "cell_type": "markdown",
   "metadata": {
    "id": "WgNdmXX_Ah-3"
   },
   "source": [
    "### **6.3. Выборка данных по условию**\n",
    "* В качестве индекса в методе loc можно использовать одно или несколько условий\n"
   ]
  },
  {
   "cell_type": "markdown",
   "metadata": {
    "id": "73cBObXAnsc_"
   },
   "source": [
    "Пример с условие выборки по строкам\n",
    "```\n",
    "df.loc[условие1]\n",
    "```\n",
    "\n",
    "Пример с условие выборки по строкам и столбцу\n",
    "```\n",
    "df.loc[условие1, условие2]\n",
    "```\n",
    "\n",
    "Пример с двумя условиями для строк и оператором ИЛИ\n",
    "```\n",
    "df[((условие1) | (условие2))]\n",
    "```\n",
    "\n",
    "Пример с двумя условиями для строк и оператором И\n",
    "```\n",
    "df[((условие1) & (условие2))]\n",
    "```\n"
   ]
  },
  {
   "cell_type": "markdown",
   "metadata": {
    "id": "RnUAiGDRAh-3"
   },
   "source": [
    "Пример:\n"
   ]
  },
  {
   "cell_type": "code",
   "execution_count": null,
   "metadata": {
    "colab": {
     "base_uri": "https://localhost:8080/"
    },
    "executionInfo": {
     "elapsed": 412,
     "status": "ok",
     "timestamp": 1730530740619,
     "user": {
      "displayName": "Наталья Мальцева",
      "userId": "18293210731886090099"
     },
     "user_tz": -300
    },
    "id": "By_nYKlziG-K",
    "outputId": "08c097bc-2ac4-4f25-e263-8efabbea80a6"
   },
   "outputs": [
    {
     "name": "stdout",
     "output_type": "stream",
     "text": [
      "Возраст больше 4: \n",
      " 1    B\n",
      "2    D\n",
      "Name: Name, dtype: object\n",
      "\n",
      "Работодатель W и N: \n",
      "   Employers  EmpCount\n",
      "0         W        40\n",
      "7         N        60\n",
      "\n",
      "Количество работников в W и N: \n",
      " 0    40\n",
      "7    60\n",
      "Name: EmpCount, dtype: int64\n",
      "\n",
      "Работодатели с количеством работников в диапазоне от 50 до 70: \n",
      " 3    A\n",
      "Name: Employers, dtype: object\n"
     ]
    }
   ],
   "source": [
    "import pandas as pd\n",
    "\n",
    "# Создание DataFrame\n",
    "df = pd.DataFrame({'Name': ['A', 'B', 'D'], 'Age': [4, 5, 6]})\n",
    "\n",
    "# Выбор столбца 'A' и возраста >4\n",
    "subset1 = df.loc[df[\"Age\"]>4, \"Name\"]\n",
    "\n",
    "print(f\"Возраст больше 4: \\n {subset1}\")\n",
    "\n",
    "# Создание DataFrame\n",
    "df = pd.DataFrame({'Employers': ['W', 'T', 'Q', 'A', 'L', 'U','C', 'N', 'Z'], 'EmpCount': [40, 57, 67, 98, 41, 50, 30, 60, 30]})\n",
    "\n",
    "# Выбор работодателя W и N\n",
    "subset2 = df.loc[((df[\"Employers\"]=='W') | (df[\"Employers\"]=='N'))]\n",
    "\n",
    "print(f\"\\nРаботодатель W и N: \\n {subset2}\")\n",
    "\n",
    "# Выбор работодателя W и N и столбец EmpCount\n",
    "subset2 = df.loc[((df[\"Employers\"]=='W') | (df[\"Employers\"]=='N')),'EmpCount']\n",
    "\n",
    "print(f\"\\nКоличество работников в W и N: \\n {subset2}\")\n",
    "\n",
    "# Работодатели с количеством работников в диапазоне от 50 до 70\n",
    "subset3 = df.loc[((df['EmpCount']>=50) & (df['EmpCount']>=70)),\"Employers\"]\n",
    "\n",
    "print(f\"\\nРаботодатели с количеством работников в диапазоне от 50 до 70: \\n {subset3}\")"
   ]
  },
  {
   "cell_type": "markdown",
   "metadata": {
    "id": "tEOfoYWczgu0"
   },
   "source": [
    "### **Практика 6.3. Выборка данных из датасета Books**"
   ]
  },
  {
   "cell_type": "markdown",
   "metadata": {
    "id": "uWpWMnTnzgu5"
   },
   "source": [
    "* Выберите данные за 1999 год"
   ]
  },
  {
   "cell_type": "code",
   "execution_count": null,
   "metadata": {
    "colab": {
     "base_uri": "https://localhost:8080/"
    },
    "executionInfo": {
     "elapsed": 418,
     "status": "ok",
     "timestamp": 1730530828279,
     "user": {
      "displayName": "Наталья Мальцева",
      "userId": "18293210731886090099"
     },
     "user_tz": -300
    },
    "id": "x_cxnZxjzgu5",
    "outputId": "de5bc114-eb51-44a0-d6c7-66e0dd9c000a"
   },
   "outputs": [
    {
     "name": "stdout",
     "output_type": "stream",
     "text": [
      "Размерность подвыборки: (965, 6)\n",
      "Год публикаций 1999:\n",
      "                                                    Book-Title  \\\n",
      "ISBN                                                            \n",
      "0374157065  Flu: The Story of the Great Influenza Pandemic...   \n",
      "0393045218                             The Mummies of Urumchi   \n",
      "1552041778                                           Jane Doe   \n",
      "\n",
      "                 Book-Author  \n",
      "ISBN                          \n",
      "0374157065  Gina Bari Kolata  \n",
      "0393045218   E. J. W. Barber  \n",
      "1552041778      R. J. Kaiser  \n"
     ]
    }
   ],
   "source": [
    "import pandas as pd\n",
    "\n",
    "df_books = pd.read_csv(\"data/books_part1.csv\")\n",
    "df_books.set_index('ISBN', inplace = True)\n",
    "\n",
    "#Условие можно сохраить в отдельную переменную и использовать её в дальнейшем\n",
    "mask = (df_books['Year-Of-Publication']==1999)\n",
    "\n",
    "year_1999 = df_books[mask]\n",
    "\n",
    "#Выведем количество строк подвыборки\n",
    "print(f\"Размерность подвыборки: {year_1999.shape}\", end='\\n')\n",
    "#Выведем первые 3 столбца и 2 строки\n",
    "print(f\"Год публикаций 1999:\\n {year_1999.iloc[:3,:2]}\", end='\\n')"
   ]
  },
  {
   "cell_type": "markdown",
   "metadata": {
    "id": "0qB_Qnsazgu5"
   },
   "source": [
    "* Выберите книги изданий 'Tempo' и 'Life Works Books'"
   ]
  },
  {
   "cell_type": "code",
   "execution_count": null,
   "metadata": {
    "colab": {
     "base_uri": "https://localhost:8080/"
    },
    "executionInfo": {
     "elapsed": 285,
     "status": "ok",
     "timestamp": 1730530868062,
     "user": {
      "displayName": "Наталья Мальцева",
      "userId": "18293210731886090099"
     },
     "user_tz": -300
    },
    "id": "TGJ8Ntrdzgu5",
    "outputId": "413a9390-b7c7-4de4-fc51-3793ab012646"
   },
   "outputs": [
    {
     "name": "stdout",
     "output_type": "stream",
     "text": [
      "Размерность подвыборки: (2, 6)\n",
      "Издания ('Victor Books', 'HarperPerennial'):\n",
      " ISBN\n",
      "0060973129            Decision in Normandy\n",
      "0896939758    What Happens When Women Pray\n",
      "Name: Book-Title, dtype: object\n"
     ]
    }
   ],
   "source": [
    "import pandas as pd\n",
    "\n",
    "df_books = pd.read_csv(\"data/books_part1.csv\")\n",
    "df_books.set_index('ISBN', inplace = True)\n",
    "\n",
    "publishers = ('Victor Books', 'HarperPerennial')\n",
    "#Используем условный оператор ИЛИ\n",
    "mask = ((df_books['Publisher']=='Victor Books')|(df_books['Publisher']=='HarperPerennial'))\n",
    "\n",
    "publishers_subset = df_books[mask]\n",
    "\n",
    "#Выведем количество строк подвыборки\n",
    "print(f\"Размерность подвыборки: {publishers_subset.shape}\", end='\\n')\n",
    "#Выведем название этих книг\n",
    "print(f\"Издания {publishers}:\\n {publishers_subset.iloc[:,0]}\", end='\\n')"
   ]
  },
  {
   "cell_type": "markdown",
   "metadata": {
    "id": "P1Po4skFzgu5"
   },
   "source": [
    "* Выберите книги с длиной заголовка более 30 символов, опубликованные в 1967 году"
   ]
  },
  {
   "cell_type": "code",
   "execution_count": null,
   "metadata": {
    "colab": {
     "base_uri": "https://localhost:8080/"
    },
    "executionInfo": {
     "elapsed": 267,
     "status": "ok",
     "timestamp": 1730530988725,
     "user": {
      "displayName": "Наталья Мальцева",
      "userId": "18293210731886090099"
     },
     "user_tz": -300
    },
    "id": "MeVEKB6lzgu5",
    "outputId": "183aadcf-b854-4c4d-f97e-0fa7e2f56dd8"
   },
   "outputs": [
    {
     "name": "stdout",
     "output_type": "stream",
     "text": [
      "Размерность подвыборки: (1, 7)\n",
      "Год публикаций 1967:\n",
      " ISBN\n",
      "0448095440    The Clue in the Crossword Cipher (Nancy Drew M...\n",
      "Name: Book-Title, dtype: object\n"
     ]
    }
   ],
   "source": [
    "import pandas as pd\n",
    "\n",
    "df_books = pd.read_csv(\"data/books_part1.csv\")\n",
    "df_books.set_index('ISBN', inplace = True)\n",
    "\n",
    "#Добавим новый столбец - количество символов в заголовке\n",
    "df_books['title_len'] = df_books['Book-Title'].str.len()\n",
    "\n",
    "b_mask = (df_books['Year-Of-Publication']==1967) & (df_books['title_len']>30)\n",
    "publishers_subset = df_books[b_mask]\n",
    "\n",
    "#Выведем количество строк подвыборки\n",
    "print(f\"Размерность подвыборки: {publishers_subset.shape}\", end='\\n')\n",
    "#Выведем название этих книг\n",
    "print(f\"Год публикаций 1967:\\n {publishers_subset.iloc[:,0]}\", end='\\n')"
   ]
  },
  {
   "cell_type": "markdown",
   "metadata": {
    "id": "4j5f7Ylfm57n"
   },
   "source": [
    "### **Самостоятельная работа №6.3. Выборка по условию**"
   ]
  },
  {
   "cell_type": "markdown",
   "metadata": {
    "id": "e2_Zv9pqnAkn"
   },
   "source": [
    "* Загрузите данные из файла revexp.csv (данные о доходах и расходах организаций) в dataframe df\n",
    "* Выберите все данные за один год\n",
    "* Выберите все доходы(revenue) = 0\n",
    "* Выберите организации чьи расходы (expenditure) больше 8873000\n"
   ]
  },
  {
   "cell_type": "markdown",
   "metadata": {
    "id": "zgfYQQI3LPdU"
   },
   "source": [
    "### **6.4. Head, Sample**\n"
   ]
  },
  {
   "cell_type": "markdown",
   "metadata": {
    "id": "hPKS_oTjqhhJ"
   },
   "source": [
    "Head:\n",
    "* Возвращает первые n строк DataFrame\n",
    "* Полезно для быстрой проверки структуры и содержимого данных\n",
    "\n",
    "```\n",
    "df.head(n=5)\n",
    "```\n",
    "* n: Количество элементов для возврата\n",
    "\n"
   ]
  },
  {
   "cell_type": "code",
   "execution_count": null,
   "metadata": {
    "id": "INSOZgzxpE1B"
   },
   "outputs": [],
   "source": [
    "import pandas as pd\n",
    "\n",
    "data = {'Id': [1, 2, 3, 4, 5],\n",
    "        'Class': ['a', 'b', 'c', 'd', 'e']}\n",
    "df = pd.DataFrame(data)\n",
    "\n",
    "#Вернет 5 первых строк\n",
    "print(df.head())\n",
    "print(df.head(3))  # Prints the first 3 rows"
   ]
  },
  {
   "cell_type": "markdown",
   "metadata": {
    "id": "1CUezSDiqbU9"
   },
   "source": [
    "Sample:\n",
    "* Возвращает случайную выборку элементов по указанной оси\n",
    "* Полезно для исследовательского анализа данных, обучения модели или любой ситуации, когда вам требуется случайное подмножество ваших данных\n",
    "\n",
    "```\n",
    "df.sample(n=None, frac=None, replace=False, weights=None, random_state=None, axis=None)\n",
    "```\n",
    "\n",
    "* n: Количество элементов для возврата\n",
    "* frac: Доля элементов для возврата\n",
    "* replace: Выборка с повторением (по умолчанию False)\n",
    "* weights: Веса для выборки\n",
    "* random_state: Начальное значение для генератора случайных чисел\n",
    "* axis: Ось для выборки (0 для строк, 1 для столбцов)\n"
   ]
  },
  {
   "cell_type": "code",
   "execution_count": null,
   "metadata": {
    "colab": {
     "base_uri": "https://localhost:8080/"
    },
    "executionInfo": {
     "elapsed": 289,
     "status": "ok",
     "timestamp": 1730532360232,
     "user": {
      "displayName": "Наталья Мальцева",
      "userId": "18293210731886090099"
     },
     "user_tz": -300
    },
    "id": "flEonHaqqquT",
    "outputId": "1f7fbb7b-1385-48ab-bac0-26e6aab1eb21"
   },
   "outputs": [
    {
     "name": "stdout",
     "output_type": "stream",
     "text": [
      "   Column1 Column2\n",
      "2        3       c\n",
      "4        5       e\n",
      "3        4       d\n",
      "   Column1 Column2\n",
      "0        1       a\n",
      "   Column1 Column2\n",
      "1        2       b\n",
      "2        3       c\n",
      "4        5       e\n",
      "4        5       e\n",
      "0        1       a\n"
     ]
    }
   ],
   "source": [
    "import pandas as pd\n",
    "import numpy as np\n",
    "\n",
    "# Создание DataFrame\n",
    "data = {'Column1': [1, 2, 3, 4, 5],\n",
    "        'Column2': ['a', 'b', 'c', 'd', 'e']}\n",
    "df = pd.DataFrame(data)\n",
    "\n",
    "# Выбор 3 случайных строк\n",
    "sample_df = df.sample(n=3)\n",
    "print(sample_df)\n",
    "\n",
    "# Выбор 20% случайных строк\n",
    "sample_df = df.sample(frac=0.2)\n",
    "print(sample_df)\n",
    "\n",
    "# Выборка с возможностью повторений\n",
    "sample_df = df.sample(n=5, replace=True)\n",
    "print(sample_df)"
   ]
  },
  {
   "cell_type": "markdown",
   "metadata": {
    "id": "bh1gny0XKCxJ"
   },
   "source": [
    "### **Практика 6.4. Выборка данных из датасета Books**"
   ]
  },
  {
   "cell_type": "markdown",
   "metadata": {
    "id": "7zRFwqkLtHpN"
   },
   "source": [
    "* Загрузите данные из файла books_part15.csv\n",
    "* Выведите первые 3 строки\n",
    "* Выведите случайные 5 строк\n",
    "* Выведите 2% данных\n",
    "* Выберите строки с возможностью повторения"
   ]
  },
  {
   "cell_type": "code",
   "execution_count": null,
   "metadata": {
    "colab": {
     "base_uri": "https://localhost:8080/"
    },
    "executionInfo": {
     "elapsed": 335,
     "status": "ok",
     "timestamp": 1730532460842,
     "user": {
      "displayName": "Наталья Мальцева",
      "userId": "18293210731886090099"
     },
     "user_tz": -300
    },
    "id": "UfmskjbHtIAi",
    "outputId": "a74ee26b-1325-4f3c-b06a-fee6012c1728"
   },
   "outputs": [
    {
     "name": "stdout",
     "output_type": "stream",
     "text": [
      "Список столбцов: \n",
      " Index(['Book-Title', 'Book-Author', 'Year-Of-Publication', 'Publisher',\n",
      "       'Image-URL-S'],\n",
      "      dtype='object')\n",
      "Первые три строки: \n",
      "                       Book-Title           Book-Author  Year-Of-Publication  \\\n",
      "ISBN                                                                          \n",
      "0195153448   Classical Mythology    Mark P. O. Morford                 2002   \n",
      "0002005018          Clara Callan  Richard Bruce Wright                 2001   \n",
      "0060973129  Decision in Normandy          Carlo D'Este                 1991   \n",
      "\n",
      "                          Publisher  \\\n",
      "ISBN                                  \n",
      "0195153448  Oxford University Press   \n",
      "0002005018    HarperFlamingo Canada   \n",
      "0060973129          HarperPerennial   \n",
      "\n",
      "                                                  Image-URL-S  \n",
      "ISBN                                                           \n",
      "0195153448  http://images.amazon.com/images/P/0195153448.0...  \n",
      "0002005018  http://images.amazon.com/images/P/0002005018.0...  \n",
      "0060973129  http://images.amazon.com/images/P/0060973129.0...  \n",
      "\n",
      "\n",
      "Случайные 5 строк: \n",
      "                                                    Book-Title    Book-Author  \\\n",
      "ISBN                                                                           \n",
      "0007101953                                          At Ruby's  Frank DeLaney   \n",
      "0571197779                                  Life Is Elsewhere  Milan Kundera   \n",
      "074347502X  Exploring the Matrix: Visions of the Cyber Future    Karen Haber   \n",
      "0060269928                            Absolutely Normal Chaos  Sharon Creech   \n",
      "0441001866               Martin the Warrior (Redwall, Book 6)  Brian Jacques   \n",
      "\n",
      "            Year-Of-Publication                 Publisher  \\\n",
      "ISBN                                                        \n",
      "0007101953                 2001  HarperCollins Publishers   \n",
      "0571197779                 2000         Faber &amp; Faber   \n",
      "074347502X                 2003                   I Books   \n",
      "0060269928                 1995             HarperCollins   \n",
      "0441001866                 1996                 Ace Books   \n",
      "\n",
      "                                                  Image-URL-S  \n",
      "ISBN                                                           \n",
      "0007101953  http://images.amazon.com/images/P/0007101953.0...  \n",
      "0571197779  http://images.amazon.com/images/P/0571197779.0...  \n",
      "074347502X  http://images.amazon.com/images/P/074347502X.0...  \n",
      "0060269928  http://images.amazon.com/images/P/0060269928.0...  \n",
      "0441001866  http://images.amazon.com/images/P/0441001866.0...  \n",
      "                                                   Book-Title  \\\n",
      "ISBN                                                            \n",
      "0060294884  The Paper Doorway : Funny Verse and Nothing Worse   \n",
      "0385334206                             Breakfast of Champions   \n",
      "9724119378                         O Deus Das Pequenas Coisas   \n",
      "0061061433                                   Year's Best SF 7   \n",
      "0393321096                            The Abyssinian: A Novel   \n",
      "...                                                       ...   \n",
      "2290045764                    Extension Du Domain De La Lutte   \n",
      "0380977788                                           Coraline   \n",
      "1740592409    Lonely Planet Victoria (Lonely Planet Victoria)   \n",
      "0441005195            Jovah's Angel (Samaria Trilogy, Book 2)   \n",
      "0140430083  The Personal History of David Copperfield (Pen...   \n",
      "\n",
      "                      Book-Author  Year-Of-Publication  \\\n",
      "ISBN                                                     \n",
      "0060294884            Dean Koontz                 2001   \n",
      "0385334206          Kurt Vonnegut                 1999   \n",
      "9724119378                    Roy                 1998   \n",
      "0061061433      David G. Hartwell                 2002   \n",
      "0393321096  Jean-Christophe Rufin                 2000   \n",
      "...                           ...                  ...   \n",
      "2290045764     Michel Houellebecq                 2002   \n",
      "0380977788            Neil Gaiman                 2002   \n",
      "1740592409         Chris Rowthorn                 2002   \n",
      "0441005195           Sharon Shinn                 1998   \n",
      "0140430083        Charles Dickens                 1966   \n",
      "\n",
      "                             Publisher  \\\n",
      "ISBN                                     \n",
      "0060294884               HarperCollins   \n",
      "0385334206                       Delta   \n",
      "9724119378                 Edicoes Asa   \n",
      "0061061433                         Eos   \n",
      "0393321096   W.W. Norton &amp; Company   \n",
      "...                                ...   \n",
      "2290045764            European Book Co   \n",
      "0380977788               HarperCollins   \n",
      "1740592409  Lonely Planet Publications   \n",
      "0441005195                   Ace Books   \n",
      "0140430083               Penguin Books   \n",
      "\n",
      "                                                  Image-URL-S  \n",
      "ISBN                                                           \n",
      "0060294884  http://images.amazon.com/images/P/0060294884.0...  \n",
      "0385334206  http://images.amazon.com/images/P/0385334206.0...  \n",
      "9724119378  http://images.amazon.com/images/P/9724119378.0...  \n",
      "0061061433  http://images.amazon.com/images/P/0061061433.0...  \n",
      "0393321096  http://images.amazon.com/images/P/0393321096.0...  \n",
      "...                                                       ...  \n",
      "2290045764  http://images.amazon.com/images/P/2290045764.0...  \n",
      "0380977788  http://images.amazon.com/images/P/0380977788.0...  \n",
      "1740592409  http://images.amazon.com/images/P/1740592409.0...  \n",
      "0441005195  http://images.amazon.com/images/P/0441005195.0...  \n",
      "0140430083  http://images.amazon.com/images/P/0140430083.0...  \n",
      "\n",
      "[267 rows x 5 columns]\n",
      "                                                   Book-Title  \\\n",
      "ISBN                                                            \n",
      "0310220033                                           Vanished   \n",
      "0743477081                                 Forever and Always   \n",
      "0590509616  Gargoyles Don't Drive School Buses (Adventures...   \n",
      "0812566629                                           Darwinia   \n",
      "0812022009    Basic tips on the scholastic aptitude test, SAT   \n",
      "\n",
      "                      Book-Author  Year-Of-Publication  \\\n",
      "ISBN                                                     \n",
      "0310220033           Alton Gansky                 2000   \n",
      "0743477081          Jude Deveraux                 2003   \n",
      "0590509616           Debbie Dadey                 1996   \n",
      "0812566629  Robert Charles Wilson                 1999   \n",
      "0812022009    Samuel C Brownstein                 1981   \n",
      "\n",
      "                                   Publisher  \\\n",
      "ISBN                                           \n",
      "0310220033      Zondervan Publishing Company   \n",
      "0743477081                      Pocket Books   \n",
      "0590509616                        Scholastic   \n",
      "0812566629                         Tor Books   \n",
      "0812022009  Barron's Educational Series, inc   \n",
      "\n",
      "                                                  Image-URL-S  \n",
      "ISBN                                                           \n",
      "0310220033  http://images.amazon.com/images/P/0310220033.0...  \n",
      "0743477081  http://images.amazon.com/images/P/0743477081.0...  \n",
      "0590509616  http://images.amazon.com/images/P/0590509616.0...  \n",
      "0812566629  http://images.amazon.com/images/P/0812566629.0...  \n",
      "0812022009  http://images.amazon.com/images/P/0812022009.0...  \n"
     ]
    }
   ],
   "source": [
    "import pandas as pd\n",
    "\n",
    "df_books = pd.read_csv(\"data/books_col15.csv\")\n",
    "df_books.set_index('ISBN', inplace = True)\n",
    "\n",
    "print(f\"Список столбцов: \\n {df_books.columns}\", end='\\n')\n",
    "print(f\"Первые три строки: \\n {df_books.head(3)}\", end='\\n')\n",
    "print(f\"\\n\\nСлучайные 5 строк: \\n {df_books.sample(5)}\", end='\\n')\n",
    "# Выбор 2% случайных строк\n",
    "print(df_books.sample(frac=0.02))\n",
    "# Выборка с возможностью повторений\n",
    "print(df_books.sample(n=5, replace=True))"
   ]
  },
  {
   "cell_type": "markdown",
   "metadata": {
    "id": "OaaUCq1psSlI"
   },
   "source": [
    "### **Самостоятельная 6. Выборка данных**"
   ]
  },
  {
   "cell_type": "markdown",
   "metadata": {
    "id": "ZPlbbMfOM9L1"
   },
   "source": [
    "* Выгрузите данные из smb.csv.\n",
    "* Выведите 5 случайных строк\n",
    "* Выведите 15 первых строк"
   ]
  },
  {
   "cell_type": "markdown",
   "metadata": {
    "id": "OGLLEi26le5c"
   },
   "source": [
    "## **7. Объединение датасетов**"
   ]
  },
  {
   "cell_type": "markdown",
   "metadata": {
    "id": "s6yPEdJClryk"
   },
   "source": [
    "### **7.1 Concat**"
   ]
  },
  {
   "cell_type": "markdown",
   "metadata": {
    "id": "so7O6OA_lwWe"
   },
   "source": [
    "Позволяет объединять несколько объектов Pandas (Series или DataFrames) вдоль определенной оси (добавить строки или столбцы) по индексам.\n",
    "\n",
    "Ключевые параметры\n",
    "* objs: список или словарь объектов Pandas для объединения\n",
    "* axis: ось, вдоль которой выполняется объединение. 0 для строк, 1 для столбцов (по умолчанию 0).\n",
    "* ignore_index: bool, по-умолчанию False, переназначать индексы добавленным данным или нет\n",
    "* join: {'inner', 'outer'}, по умолчанию 'outer', метод объединения индексов таблиц."
   ]
  },
  {
   "cell_type": "code",
   "execution_count": 13,
   "metadata": {
    "colab": {
     "base_uri": "https://localhost:8080/"
    },
    "executionInfo": {
     "elapsed": 264,
     "status": "ok",
     "timestamp": 1730532683842,
     "user": {
      "displayName": "Наталья Мальцева",
      "userId": "18293210731886090099"
     },
     "user_tz": -300
    },
    "id": "XTdkRR5nmFJq",
    "outputId": "5207d731-4d04-4365-e522-4ca317db558c"
   },
   "outputs": [
    {
     "data": {
      "text/html": [
       "<div>\n",
       "<style scoped>\n",
       "    .dataframe tbody tr th:only-of-type {\n",
       "        vertical-align: middle;\n",
       "    }\n",
       "\n",
       "    .dataframe tbody tr th {\n",
       "        vertical-align: top;\n",
       "    }\n",
       "\n",
       "    .dataframe thead th {\n",
       "        text-align: right;\n",
       "    }\n",
       "</style>\n",
       "<table border=\"1\" class=\"dataframe\">\n",
       "  <thead>\n",
       "    <tr style=\"text-align: right;\">\n",
       "      <th></th>\n",
       "      <th>A</th>\n",
       "      <th>B</th>\n",
       "    </tr>\n",
       "  </thead>\n",
       "  <tbody>\n",
       "    <tr>\n",
       "      <th>0</th>\n",
       "      <td>1</td>\n",
       "      <td>3</td>\n",
       "    </tr>\n",
       "    <tr>\n",
       "      <th>1</th>\n",
       "      <td>2</td>\n",
       "      <td>4</td>\n",
       "    </tr>\n",
       "    <tr>\n",
       "      <th>0</th>\n",
       "      <td>5</td>\n",
       "      <td>7</td>\n",
       "    </tr>\n",
       "    <tr>\n",
       "      <th>1</th>\n",
       "      <td>6</td>\n",
       "      <td>8</td>\n",
       "    </tr>\n",
       "  </tbody>\n",
       "</table>\n",
       "</div>"
      ],
      "text/plain": [
       "   A  B\n",
       "0  1  3\n",
       "1  2  4\n",
       "0  5  7\n",
       "1  6  8"
      ]
     },
     "metadata": {},
     "output_type": "display_data"
    },
    {
     "name": "stdout",
     "output_type": "stream",
     "text": [
      "\n"
     ]
    },
    {
     "data": {
      "text/html": [
       "<div>\n",
       "<style scoped>\n",
       "    .dataframe tbody tr th:only-of-type {\n",
       "        vertical-align: middle;\n",
       "    }\n",
       "\n",
       "    .dataframe tbody tr th {\n",
       "        vertical-align: top;\n",
       "    }\n",
       "\n",
       "    .dataframe thead th {\n",
       "        text-align: right;\n",
       "    }\n",
       "</style>\n",
       "<table border=\"1\" class=\"dataframe\">\n",
       "  <thead>\n",
       "    <tr style=\"text-align: right;\">\n",
       "      <th></th>\n",
       "      <th>A</th>\n",
       "      <th>B</th>\n",
       "    </tr>\n",
       "  </thead>\n",
       "  <tbody>\n",
       "    <tr>\n",
       "      <th>0</th>\n",
       "      <td>1</td>\n",
       "      <td>3</td>\n",
       "    </tr>\n",
       "    <tr>\n",
       "      <th>1</th>\n",
       "      <td>2</td>\n",
       "      <td>4</td>\n",
       "    </tr>\n",
       "    <tr>\n",
       "      <th>2</th>\n",
       "      <td>5</td>\n",
       "      <td>7</td>\n",
       "    </tr>\n",
       "    <tr>\n",
       "      <th>3</th>\n",
       "      <td>6</td>\n",
       "      <td>8</td>\n",
       "    </tr>\n",
       "  </tbody>\n",
       "</table>\n",
       "</div>"
      ],
      "text/plain": [
       "   A  B\n",
       "0  1  3\n",
       "1  2  4\n",
       "2  5  7\n",
       "3  6  8"
      ]
     },
     "metadata": {},
     "output_type": "display_data"
    }
   ],
   "source": [
    "#Объедиение строк из разных таблиц\n",
    "import pandas as pd\n",
    "\n",
    "# Create sample DataFrames\n",
    "df1 = pd.DataFrame({'A': [1, 2], 'B': [3, 4]})\n",
    "df2 = pd.DataFrame({'A': [5, 6], 'B': [7, 8]})\n",
    "\n",
    "# Объединение вдоль оси 0 - строки, индексы будут скопированы из двух таблиц\n",
    "result = pd.concat([df1, df2])\n",
    "display(result)\n",
    "print(\"\")\n",
    "# Объединение вдоль оси 0 - строки, индексы будут продолжены для новых данных\n",
    "result = pd.concat([df1, df2], ignore_index=True)\n",
    "display(result)"
   ]
  },
  {
   "cell_type": "code",
   "execution_count": 14,
   "metadata": {
    "colab": {
     "base_uri": "https://localhost:8080/"
    },
    "executionInfo": {
     "elapsed": 285,
     "status": "ok",
     "timestamp": 1730532801369,
     "user": {
      "displayName": "Наталья Мальцева",
      "userId": "18293210731886090099"
     },
     "user_tz": -300
    },
    "id": "T8OufuHwm-2t",
    "outputId": "875d4d61-b483-4a61-965f-572018a3f521"
   },
   "outputs": [
    {
     "name": "stdout",
     "output_type": "stream",
     "text": [
      "Result1:\n"
     ]
    },
    {
     "data": {
      "text/html": [
       "<div>\n",
       "<style scoped>\n",
       "    .dataframe tbody tr th:only-of-type {\n",
       "        vertical-align: middle;\n",
       "    }\n",
       "\n",
       "    .dataframe tbody tr th {\n",
       "        vertical-align: top;\n",
       "    }\n",
       "\n",
       "    .dataframe thead th {\n",
       "        text-align: right;\n",
       "    }\n",
       "</style>\n",
       "<table border=\"1\" class=\"dataframe\">\n",
       "  <thead>\n",
       "    <tr style=\"text-align: right;\">\n",
       "      <th></th>\n",
       "      <th>A</th>\n",
       "      <th>B</th>\n",
       "      <th>A</th>\n",
       "      <th>B</th>\n",
       "    </tr>\n",
       "  </thead>\n",
       "  <tbody>\n",
       "    <tr>\n",
       "      <th>0</th>\n",
       "      <td>1</td>\n",
       "      <td>3</td>\n",
       "      <td>5</td>\n",
       "      <td>7</td>\n",
       "    </tr>\n",
       "    <tr>\n",
       "      <th>1</th>\n",
       "      <td>2</td>\n",
       "      <td>4</td>\n",
       "      <td>6</td>\n",
       "      <td>8</td>\n",
       "    </tr>\n",
       "  </tbody>\n",
       "</table>\n",
       "</div>"
      ],
      "text/plain": [
       "   A  B  A  B\n",
       "0  1  3  5  7\n",
       "1  2  4  6  8"
      ]
     },
     "metadata": {},
     "output_type": "display_data"
    },
    {
     "name": "stdout",
     "output_type": "stream",
     "text": [
      "Result2:\n"
     ]
    },
    {
     "data": {
      "text/html": [
       "<div>\n",
       "<style scoped>\n",
       "    .dataframe tbody tr th:only-of-type {\n",
       "        vertical-align: middle;\n",
       "    }\n",
       "\n",
       "    .dataframe tbody tr th {\n",
       "        vertical-align: top;\n",
       "    }\n",
       "\n",
       "    .dataframe thead th {\n",
       "        text-align: right;\n",
       "    }\n",
       "</style>\n",
       "<table border=\"1\" class=\"dataframe\">\n",
       "  <thead>\n",
       "    <tr style=\"text-align: right;\">\n",
       "      <th></th>\n",
       "      <th>0</th>\n",
       "      <th>1</th>\n",
       "      <th>2</th>\n",
       "      <th>3</th>\n",
       "    </tr>\n",
       "  </thead>\n",
       "  <tbody>\n",
       "    <tr>\n",
       "      <th>0</th>\n",
       "      <td>1</td>\n",
       "      <td>3</td>\n",
       "      <td>5</td>\n",
       "      <td>7</td>\n",
       "    </tr>\n",
       "    <tr>\n",
       "      <th>1</th>\n",
       "      <td>2</td>\n",
       "      <td>4</td>\n",
       "      <td>6</td>\n",
       "      <td>8</td>\n",
       "    </tr>\n",
       "  </tbody>\n",
       "</table>\n",
       "</div>"
      ],
      "text/plain": [
       "   0  1  2  3\n",
       "0  1  3  5  7\n",
       "1  2  4  6  8"
      ]
     },
     "metadata": {},
     "output_type": "display_data"
    }
   ],
   "source": [
    "import pandas as pd\n",
    "\n",
    "df1 = pd.DataFrame({'A': [1, 2], 'B': [3, 4]})\n",
    "df2 = pd.DataFrame({'A': [5, 6], 'B': [7, 8]})\n",
    "\n",
    "# Объединение вдоль оси 1 - столбцы, названия столбцов будут повторяться\n",
    "result = pd.concat([df1, df2], axis=1)\n",
    "print(\"Result1:\")\n",
    "display(result)\n",
    "print(\"Result2:\")\n",
    "# Объединение вдоль оси 1 - столбцы, названия столбцов переназначаться\n",
    "result = pd.concat([df1, df2], axis=1, ignore_index = True)\n",
    "display(result)"
   ]
  },
  {
   "cell_type": "code",
   "execution_count": 20,
   "metadata": {
    "colab": {
     "base_uri": "https://localhost:8080/"
    },
    "executionInfo": {
     "elapsed": 303,
     "status": "ok",
     "timestamp": 1726734356302,
     "user": {
      "displayName": "Наталья Мальцева",
      "userId": "18293210731886090099"
     },
     "user_tz": -300
    },
    "id": "ErZf4DupXA_s",
    "outputId": "ad3f98e3-32ee-47b6-c030-e090e10b3130"
   },
   "outputs": [
    {
     "data": {
      "text/html": [
       "<div>\n",
       "<style scoped>\n",
       "    .dataframe tbody tr th:only-of-type {\n",
       "        vertical-align: middle;\n",
       "    }\n",
       "\n",
       "    .dataframe tbody tr th {\n",
       "        vertical-align: top;\n",
       "    }\n",
       "\n",
       "    .dataframe thead th {\n",
       "        text-align: right;\n",
       "    }\n",
       "</style>\n",
       "<table border=\"1\" class=\"dataframe\">\n",
       "  <thead>\n",
       "    <tr style=\"text-align: right;\">\n",
       "      <th></th>\n",
       "      <th>A</th>\n",
       "      <th>B</th>\n",
       "      <th>C</th>\n",
       "      <th>D</th>\n",
       "    </tr>\n",
       "  </thead>\n",
       "  <tbody>\n",
       "    <tr>\n",
       "      <th>0</th>\n",
       "      <td>A0</td>\n",
       "      <td>B0</td>\n",
       "      <td>C0</td>\n",
       "      <td>D0</td>\n",
       "    </tr>\n",
       "    <tr>\n",
       "      <th>1</th>\n",
       "      <td>A1</td>\n",
       "      <td>B1</td>\n",
       "      <td>C1</td>\n",
       "      <td>D1</td>\n",
       "    </tr>\n",
       "    <tr>\n",
       "      <th>2</th>\n",
       "      <td>A2</td>\n",
       "      <td>B2</td>\n",
       "      <td>C2</td>\n",
       "      <td>D2</td>\n",
       "    </tr>\n",
       "    <tr>\n",
       "      <th>3</th>\n",
       "      <td>A3</td>\n",
       "      <td>B3</td>\n",
       "      <td>C3</td>\n",
       "      <td>D3</td>\n",
       "    </tr>\n",
       "  </tbody>\n",
       "</table>\n",
       "</div>"
      ],
      "text/plain": [
       "    A   B   C   D\n",
       "0  A0  B0  C0  D0\n",
       "1  A1  B1  C1  D1\n",
       "2  A2  B2  C2  D2\n",
       "3  A3  B3  C3  D3"
      ]
     },
     "metadata": {},
     "output_type": "display_data"
    },
    {
     "data": {
      "text/html": [
       "<div>\n",
       "<style scoped>\n",
       "    .dataframe tbody tr th:only-of-type {\n",
       "        vertical-align: middle;\n",
       "    }\n",
       "\n",
       "    .dataframe tbody tr th {\n",
       "        vertical-align: top;\n",
       "    }\n",
       "\n",
       "    .dataframe thead th {\n",
       "        text-align: right;\n",
       "    }\n",
       "</style>\n",
       "<table border=\"1\" class=\"dataframe\">\n",
       "  <thead>\n",
       "    <tr style=\"text-align: right;\">\n",
       "      <th></th>\n",
       "      <th>B</th>\n",
       "      <th>D</th>\n",
       "      <th>F</th>\n",
       "    </tr>\n",
       "  </thead>\n",
       "  <tbody>\n",
       "    <tr>\n",
       "      <th>2</th>\n",
       "      <td>B2</td>\n",
       "      <td>D2</td>\n",
       "      <td>F2</td>\n",
       "    </tr>\n",
       "    <tr>\n",
       "      <th>3</th>\n",
       "      <td>B3</td>\n",
       "      <td>D3</td>\n",
       "      <td>F3</td>\n",
       "    </tr>\n",
       "    <tr>\n",
       "      <th>6</th>\n",
       "      <td>B6</td>\n",
       "      <td>D6</td>\n",
       "      <td>F6</td>\n",
       "    </tr>\n",
       "    <tr>\n",
       "      <th>7</th>\n",
       "      <td>B7</td>\n",
       "      <td>D7</td>\n",
       "      <td>F7</td>\n",
       "    </tr>\n",
       "  </tbody>\n",
       "</table>\n",
       "</div>"
      ],
      "text/plain": [
       "    B   D   F\n",
       "2  B2  D2  F2\n",
       "3  B3  D3  F3\n",
       "6  B6  D6  F6\n",
       "7  B7  D7  F7"
      ]
     },
     "metadata": {},
     "output_type": "display_data"
    },
    {
     "name": "stdout",
     "output_type": "stream",
     "text": [
      "Общие данные в таблицах\n"
     ]
    },
    {
     "data": {
      "text/html": [
       "<div>\n",
       "<style scoped>\n",
       "    .dataframe tbody tr th:only-of-type {\n",
       "        vertical-align: middle;\n",
       "    }\n",
       "\n",
       "    .dataframe tbody tr th {\n",
       "        vertical-align: top;\n",
       "    }\n",
       "\n",
       "    .dataframe thead th {\n",
       "        text-align: right;\n",
       "    }\n",
       "</style>\n",
       "<table border=\"1\" class=\"dataframe\">\n",
       "  <thead>\n",
       "    <tr style=\"text-align: right;\">\n",
       "      <th></th>\n",
       "      <th>A</th>\n",
       "      <th>B</th>\n",
       "      <th>C</th>\n",
       "      <th>D</th>\n",
       "      <th>B</th>\n",
       "      <th>D</th>\n",
       "      <th>F</th>\n",
       "    </tr>\n",
       "  </thead>\n",
       "  <tbody>\n",
       "    <tr>\n",
       "      <th>2</th>\n",
       "      <td>A2</td>\n",
       "      <td>B2</td>\n",
       "      <td>C2</td>\n",
       "      <td>D2</td>\n",
       "      <td>B2</td>\n",
       "      <td>D2</td>\n",
       "      <td>F2</td>\n",
       "    </tr>\n",
       "    <tr>\n",
       "      <th>3</th>\n",
       "      <td>A3</td>\n",
       "      <td>B3</td>\n",
       "      <td>C3</td>\n",
       "      <td>D3</td>\n",
       "      <td>B3</td>\n",
       "      <td>D3</td>\n",
       "      <td>F3</td>\n",
       "    </tr>\n",
       "  </tbody>\n",
       "</table>\n",
       "</div>"
      ],
      "text/plain": [
       "    A   B   C   D   B   D   F\n",
       "2  A2  B2  C2  D2  B2  D2  F2\n",
       "3  A3  B3  C3  D3  B3  D3  F3"
      ]
     },
     "metadata": {},
     "output_type": "display_data"
    },
    {
     "name": "stdout",
     "output_type": "stream",
     "text": [
      "Объединение данных двух таблиц: \n"
     ]
    },
    {
     "data": {
      "text/html": [
       "<div>\n",
       "<style scoped>\n",
       "    .dataframe tbody tr th:only-of-type {\n",
       "        vertical-align: middle;\n",
       "    }\n",
       "\n",
       "    .dataframe tbody tr th {\n",
       "        vertical-align: top;\n",
       "    }\n",
       "\n",
       "    .dataframe thead th {\n",
       "        text-align: right;\n",
       "    }\n",
       "</style>\n",
       "<table border=\"1\" class=\"dataframe\">\n",
       "  <thead>\n",
       "    <tr style=\"text-align: right;\">\n",
       "      <th></th>\n",
       "      <th>A</th>\n",
       "      <th>B</th>\n",
       "      <th>C</th>\n",
       "      <th>D</th>\n",
       "      <th>B</th>\n",
       "      <th>D</th>\n",
       "      <th>F</th>\n",
       "    </tr>\n",
       "  </thead>\n",
       "  <tbody>\n",
       "    <tr>\n",
       "      <th>0</th>\n",
       "      <td>A0</td>\n",
       "      <td>B0</td>\n",
       "      <td>C0</td>\n",
       "      <td>D0</td>\n",
       "      <td>NaN</td>\n",
       "      <td>NaN</td>\n",
       "      <td>NaN</td>\n",
       "    </tr>\n",
       "    <tr>\n",
       "      <th>1</th>\n",
       "      <td>A1</td>\n",
       "      <td>B1</td>\n",
       "      <td>C1</td>\n",
       "      <td>D1</td>\n",
       "      <td>NaN</td>\n",
       "      <td>NaN</td>\n",
       "      <td>NaN</td>\n",
       "    </tr>\n",
       "    <tr>\n",
       "      <th>2</th>\n",
       "      <td>A2</td>\n",
       "      <td>B2</td>\n",
       "      <td>C2</td>\n",
       "      <td>D2</td>\n",
       "      <td>B2</td>\n",
       "      <td>D2</td>\n",
       "      <td>F2</td>\n",
       "    </tr>\n",
       "    <tr>\n",
       "      <th>3</th>\n",
       "      <td>A3</td>\n",
       "      <td>B3</td>\n",
       "      <td>C3</td>\n",
       "      <td>D3</td>\n",
       "      <td>B3</td>\n",
       "      <td>D3</td>\n",
       "      <td>F3</td>\n",
       "    </tr>\n",
       "    <tr>\n",
       "      <th>6</th>\n",
       "      <td>NaN</td>\n",
       "      <td>NaN</td>\n",
       "      <td>NaN</td>\n",
       "      <td>NaN</td>\n",
       "      <td>B6</td>\n",
       "      <td>D6</td>\n",
       "      <td>F6</td>\n",
       "    </tr>\n",
       "    <tr>\n",
       "      <th>7</th>\n",
       "      <td>NaN</td>\n",
       "      <td>NaN</td>\n",
       "      <td>NaN</td>\n",
       "      <td>NaN</td>\n",
       "      <td>B7</td>\n",
       "      <td>D7</td>\n",
       "      <td>F7</td>\n",
       "    </tr>\n",
       "  </tbody>\n",
       "</table>\n",
       "</div>"
      ],
      "text/plain": [
       "     A    B    C    D    B    D    F\n",
       "0   A0   B0   C0   D0  NaN  NaN  NaN\n",
       "1   A1   B1   C1   D1  NaN  NaN  NaN\n",
       "2   A2   B2   C2   D2   B2   D2   F2\n",
       "3   A3   B3   C3   D3   B3   D3   F3\n",
       "6  NaN  NaN  NaN  NaN   B6   D6   F6\n",
       "7  NaN  NaN  NaN  NaN   B7   D7   F7"
      ]
     },
     "metadata": {},
     "output_type": "display_data"
    }
   ],
   "source": [
    "# Сравним методы объединения\n",
    "import pandas as pd\n",
    "\n",
    "df1 = pd.DataFrame(\n",
    "    {\n",
    "        \"A\": [\"A0\", \"A1\", \"A2\", \"A3\"],\n",
    "        \"B\": [\"B0\", \"B1\", \"B2\", \"B3\"],\n",
    "        \"C\": [\"C0\", \"C1\", \"C2\", \"C3\"],\n",
    "        \"D\": [\"D0\", \"D1\", \"D2\", \"D3\"],\n",
    "    },\n",
    "    index=[0, 1, 2, 3],\n",
    ")\n",
    "\n",
    "df2 = pd.DataFrame(\n",
    "    {\n",
    "        \"B\": [\"B2\", \"B3\", \"B6\", \"B7\"],\n",
    "        \"D\": [\"D2\", \"D3\", \"D6\", \"D7\"],\n",
    "        \"F\": [\"F2\", \"F3\", \"F6\", \"F7\"],\n",
    "    },\n",
    "    index=[2, 3, 6, 7],\n",
    ")\n",
    "display(df1)\n",
    "display(df2)\n",
    "#объединим только те данные которые есть в двух таблицах\n",
    "new_df = pd.concat([df1, df2], axis=1, join='inner')\n",
    "print(\"Общие данные в таблицах\")\n",
    "display(new_df)\n",
    "\n",
    "#Добавим новый данные для несовпадающих индексов а для совпадающих индексов дополним данные\n",
    "new_df = pd.concat([df1, df2], axis=1, join='outer')\n",
    "print(\"Объединение данных двух таблиц: \")\n",
    "display(new_df)"
   ]
  },
  {
   "cell_type": "markdown",
   "metadata": {
    "id": "sPOBztBq5hGG"
   },
   "source": [
    "### **Практика 7.1. Объединение датасетов**"
   ]
  },
  {
   "cell_type": "markdown",
   "metadata": {
    "id": "c4KJWkL_8RSo"
   },
   "source": [
    "* Создадим два датасета с информацией о книгах и о рейтинге\n",
    "* Объединим данные по индексам которые есть в обеих таблицах\n",
    "* Объединим все данные\n"
   ]
  },
  {
   "cell_type": "code",
   "execution_count": null,
   "metadata": {
    "colab": {
     "base_uri": "https://localhost:8080/"
    },
    "executionInfo": {
     "elapsed": 293,
     "status": "ok",
     "timestamp": 1727431319201,
     "user": {
      "displayName": "Наталья Мальцева",
      "userId": "18293210731886090099"
     },
     "user_tz": -300
    },
    "id": "VSe9pI-G5vTX",
    "outputId": "8dd5cc91-c0a9-4ddc-d4c8-3c85a78971aa"
   },
   "outputs": [
    {
     "name": "stdout",
     "output_type": "stream",
     "text": [
      "Информация о книгах\n",
      "  ISBN Title Genre Raiting\n",
      "0    0    B0    C0       2\n",
      "1    1    B1    C1       9\n",
      "2    2    B2    C2       2\n",
      "Данные не повторяются\n",
      "  ISBN Title Genre Raiting\n",
      "0    0    B0    C0       2\n",
      "1    1    B1    C1       9\n",
      "2    2    B2    C2       2\n",
      "4    3    B3    C3     NaN\n",
      "8  NaN   NaN   NaN       7\n"
     ]
    }
   ],
   "source": [
    "# Сравним методы объединения\n",
    "import pandas as pd\n",
    "\n",
    "df_books = pd.DataFrame(\n",
    "    {\n",
    "        \"ISBN\": [\"0\", \"1\", \"2\", \"3\"],\n",
    "        \"Title\": [\"B0\", \"B1\", \"B2\", \"B3\"],\n",
    "        \"Genre\": [\"C0\", \"C1\", \"C2\", \"C3\"]\n",
    "    },\n",
    "    index=[0, 1, 2, 4],\n",
    ")\n",
    "\n",
    "books_raiting = pd.DataFrame(\n",
    "    {\n",
    "        \"Raiting\": [\"2\", \"9\", \"2\", \"7\"]\n",
    "    },\n",
    "    index=[0, 1, 2, 8],\n",
    ")\n",
    "\n",
    "#объединим только те данные которые есть в двух таблицах\n",
    "df_full = pd.concat([df_books, books_raiting], axis=1, join='inner')\n",
    "print(\"Информация о книгах\")\n",
    "print(df_full)\n",
    "\n",
    "#Изменим способ объединения, добавим все данные с двух таблиц\n",
    "df_outer = pd.concat([df_books, books_raiting], axis=1,join='outer')\n",
    "print(\"Данные не повторяются\")\n",
    "print(df_outer)"
   ]
  },
  {
   "cell_type": "markdown",
   "metadata": {
    "id": "Jb6vuqT_VENo"
   },
   "source": [
    "### **Самостоятельная 7. Объединение таблиц**"
   ]
  },
  {
   "cell_type": "markdown",
   "metadata": {
    "id": "xZjHBMNuVWpl"
   },
   "source": [
    "* Создайте из списков empoyees и empoyees_group датафреймы.\n",
    "* Для датасета с информацией о сотрудниках установите названия столбцов: ['Name', 'Age', 'City', 'Experience']\n",
    "* Задайте ключи сотрудникам: ['a', 'b', 'c', 'd', 'e', 'f', 'g']\n",
    "* Для датасета с информацией об отделах сотрудников установите названия столбцов: ['index', 'Group']\n",
    "* В качестве ключей установите столбец 'index'\n",
    "* Объедините датасеты. Укажите метод outer для объединения.\n",
    "* Заполните пропуски в столбце 'Group' значениями 'not_specified'\n",
    "\n"
   ]
  },
  {
   "cell_type": "code",
   "execution_count": null,
   "metadata": {
    "id": "FMR6k6RIMhFS"
   },
   "outputs": [],
   "source": [
    "\n",
    "#Ваш код тут"
   ]
  },
  {
   "cell_type": "markdown",
   "metadata": {
    "id": "So7zU0lVm3ZH"
   },
   "source": [
    "## **8. Графики в Pandas**"
   ]
  },
  {
   "cell_type": "markdown",
   "metadata": {
    "id": "ihQ10EhCgyjQ"
   },
   "source": [
    "### **8.1.Метод Plot**"
   ]
  },
  {
   "cell_type": "markdown",
   "metadata": {
    "id": "AQkIdgDyh7ML"
   },
   "source": [
    "\n",
    "\n",
    "```\n",
    "dataFrame.plot(kind, x, y)\n",
    "```\n",
    "\n"
   ]
  },
  {
   "cell_type": "markdown",
   "metadata": {
    "id": "U-t9AbKy-VBA"
   },
   "source": [
    "x, y - столбцы датафрейма для отображения на графике"
   ]
  },
  {
   "cell_type": "markdown",
   "metadata": {
    "id": "cFrlWCTPhCyF"
   },
   "source": [
    "Основные типы графиков\n",
    "\n",
    "kind: Определяет тип графика.\n",
    "\n",
    "Доступные значения:\n",
    "\n",
    "* 'line': Линейный график (по умолчанию)\n",
    "\n",
    "* 'bar': Вертикальная столбчатая диаграмма\n",
    "\n",
    "* 'barh': Горизонтальная столбчатая диаграмма\n",
    "\n",
    "* 'hist': Гистограмма\n",
    "\n",
    "* 'box': Ящик с усами\n",
    "\n",
    "* 'area': График площади\n",
    "\n",
    "И многие другие"
   ]
  },
  {
   "cell_type": "markdown",
   "metadata": {
    "id": "az88OHHZhpqP"
   },
   "source": [
    "Параметры форматирования\n",
    "\n",
    "* figsize: Размер фигуры в дюймах (ширина, высота)\n",
    "* title: Заголовок графика\n",
    "* xlabel: Метка оси X\n",
    "* ylabel: Метка оси Y\n",
    "* grid: Отображать ли сетку\n",
    "* legend: Отображать ли легенду\n",
    "* color: Цвет графика\n",
    "* style: Стиль линии (для линейных графиков)\n",
    "* marker: Маркер для линии (для линейных графиков)\n",
    "* xlim: Ограничения по оси X\n",
    "* ylim: Ограничения по оси Y\n",
    "* rot: Угол поворота меток оси X"
   ]
  },
  {
   "cell_type": "code",
   "execution_count": 1,
   "metadata": {
    "colab": {
     "base_uri": "https://localhost:8080/",
     "height": 466
    },
    "executionInfo": {
     "elapsed": 483,
     "status": "ok",
     "timestamp": 1730533863082,
     "user": {
      "displayName": "Наталья Мальцева",
      "userId": "18293210731886090099"
     },
     "user_tz": -300
    },
    "id": "fPcrAmr1gPOY",
    "outputId": "42a9a7b3-d1ba-4036-c87b-04df93743e7a"
   },
   "outputs": [
    {
     "data": {
      "text/plain": [
       "<Axes: xlabel='x'>"
      ]
     },
     "execution_count": 1,
     "metadata": {},
     "output_type": "execute_result"
    },
    {
     "data": {
      "image/png": "[encoded data removed]",
      "text/plain": [
       "<Figure size 640x480 with 1 Axes>"
      ]
     },
     "metadata": {},
     "output_type": "display_data"
    }
   ],
   "source": [
    "import pandas as pd\n",
    "\n",
    "# Создаем DataFrame с примерами данных\n",
    "data = {'x': [1, 2, 3, 4, 5],\n",
    "        'y': [2, 4, 5, 4, 5]}\n",
    "df = pd.DataFrame(data)\n",
    "\n",
    "# Линейный график\n",
    "df.plot(kind='line', x='x', y='y')\n"
   ]
  },
  {
   "cell_type": "markdown",
   "metadata": {
    "id": "K8kX68VNisNL"
   },
   "source": [
    "### **8.2. Метод hist**"
   ]
  },
  {
   "cell_type": "markdown",
   "metadata": {
    "id": "LtcVA6eiisNS"
   },
   "source": [
    "\n",
    "Метод hist позволяет наглядно отобразить распределение данных в таблице\n",
    "```\n",
    "df.hist(column=None, by=None, grid=True, xlabelsize=None, xrot=None, ylabelsize=None, yrot=None, ax=None, sharex=False, sharey=False, figsize=None, layout=None, bins=10)\n",
    "\n",
    "```\n",
    "\n"
   ]
  },
  {
   "cell_type": "markdown",
   "metadata": {
    "id": "s2Vd_mRAisNS"
   },
   "source": [
    "Основные параметры\n",
    "* bins: Количество интервалов (корзин) для гистограммы. Можно задать числом или последовательностью.\n",
    "* range: Кортеж, указывающий минимальное и максимальное значение для данных.\n",
    "* density: Если True, то гистограмма будет нормирована, чтобы площадь под ней была равна 1.\n",
    "* cumulative: Если True, то гистограмма будет кумулятивной.\n",
    "* histtype: Тип гистограммы: 'bar' (по умолчанию), 'step', 'stepfilled'.\n",
    "* align: Выравнивание баров: 'left', 'mid', 'right'.\n",
    "* orientation: Ориентация гистограммы: 'vertical' (по умолчанию), 'horizontal'.\n",
    "* column: Eсли передано, будет использоваться для ограничения данных подмножеством столбцов.\n",
    "* by: Если передано, то используется для формирования гистограмм по отдельным группам.\n",
    "\n",
    "\n",
    "Параметры форматирования:\n",
    "* color: Цвет гистограммы.\n",
    "* edgecolor: Цвет границ баров.\n",
    "* linewidth: Ширина границ баров.\n",
    "* alpha: Прозрачность.\n",
    "* label: Метка для легенды.\n",
    "* ax: Оси, на которых будет построен график."
   ]
  },
  {
   "cell_type": "code",
   "execution_count": null,
   "metadata": {
    "colab": {
     "base_uri": "https://localhost:8080/",
     "height": 487
    },
    "executionInfo": {
     "elapsed": 662,
     "status": "ok",
     "timestamp": 1728413806724,
     "user": {
      "displayName": "Наталья Мальцева",
      "userId": "18293210731886090099"
     },
     "user_tz": -300
    },
    "id": "T6fHlAdSisNS",
    "outputId": "660fb820-662f-4b3d-90e2-fc6afacc35dc"
   },
   "outputs": [
    {
     "data": {
      "text/plain": [
       "array([[<Axes: title={'center': 'x'}>, <Axes: title={'center': 'y'}>]],\n",
       "      dtype=object)"
      ]
     },
     "execution_count": 19,
     "metadata": {},
     "output_type": "execute_result"
    },
    {
     "data": {
      "image/png": "[encoded data removed]",
      "text/plain": [
       "<Figure size 640x480 with 2 Axes>"
      ]
     },
     "metadata": {},
     "output_type": "display_data"
    }
   ],
   "source": [
    "import pandas as pd\n",
    "\n",
    "# Создаем DataFrame с примерами данных\n",
    "data = {'x': [1, 2, 2, 1, 1],\n",
    "        'y': [2, 4, 5, 4, 6]}\n",
    "df = pd.DataFrame(data)\n",
    "\n",
    "# Распределение данных по каждому столбцу\n",
    "df.hist()\n"
   ]
  },
  {
   "cell_type": "code",
   "execution_count": null,
   "metadata": {
    "colab": {
     "base_uri": "https://localhost:8080/",
     "height": 459
    },
    "executionInfo": {
     "elapsed": 1112,
     "status": "ok",
     "timestamp": 1730534140572,
     "user": {
      "displayName": "Наталья Мальцева",
      "userId": "18293210731886090099"
     },
     "user_tz": -300
    },
    "id": "mXk-quO9dh5a",
    "outputId": "a313628e-ed92-489b-89e1-65771a8e207e"
   },
   "outputs": [
    {
     "data": {
      "image/png": "[encoded data removed]",
      "text/plain": [
       "<Figure size 640x480 with 2 Axes>"
      ]
     },
     "metadata": {},
     "output_type": "display_data"
    }
   ],
   "source": [
    "data = {'type': ['oval', 'oval', 'square', 'square', 'oval'],\n",
    "        'length': [1.5, 0.5, 1.2, 0.9, 3],\n",
    "        'width': [0.7, 0.2, 0.15, 0.2, 1.1]}\n",
    "index = ['rew4', 'dfb2', 'wer3', 'chn4', 'hrs2']\n",
    "df = pd.DataFrame(data, index=index)\n",
    "hist = df.hist(bins=3, by = 'type')"
   ]
  },
  {
   "cell_type": "markdown",
   "metadata": {
    "id": "L52rymEsm3ZN"
   },
   "source": [
    "### **Практика 8.1. Построим графики для таблицы Movies**"
   ]
  },
  {
   "cell_type": "markdown",
   "metadata": {
    "id": "an4K7ouaAOon"
   },
   "source": [
    "* Построим график зависимости размера бюджета от количества лайков\n",
    "* Зададим тип графика - bar\n",
    "* Установим заголовок и подписи осей\n",
    "* Добавим решетку\n",
    "* Поменяем цвет графика"
   ]
  },
  {
   "cell_type": "code",
   "execution_count": null,
   "metadata": {
    "colab": {
     "base_uri": "https://localhost:8080/",
     "height": 954
    },
    "executionInfo": {
     "elapsed": 670,
     "status": "ok",
     "timestamp": 1727432982841,
     "user": {
      "displayName": "Наталья Мальцева",
      "userId": "18293210731886090099"
     },
     "user_tz": -300
    },
    "id": "I_ToqmPpm3ZN",
    "outputId": "16e94cb0-b1a8-4232-dcc8-67e808515e85"
   },
   "outputs": [
    {
     "name": "stdout",
     "output_type": "stream",
     "text": [
      "<class 'pandas.core.frame.DataFrame'>\n",
      "RangeIndex: 25 entries, 0 to 24\n",
      "Data columns (total 15 columns):\n",
      " #   Column               Non-Null Count  Dtype  \n",
      "---  ------               --------------  -----  \n",
      " 0   ID                   25 non-null     int64  \n",
      " 1   Movie                25 non-null     object \n",
      " 2   Year                 25 non-null     int64  \n",
      " 3   Ratings              25 non-null     float64\n",
      " 4   Genre                25 non-null     int64  \n",
      " 5   Gross                25 non-null     int64  \n",
      " 6   Budget               25 non-null     int64  \n",
      " 7   Screens              23 non-null     float64\n",
      " 8   Sequel               25 non-null     int64  \n",
      " 9   Sentiment            25 non-null     int64  \n",
      " 10  Views                25 non-null     int64  \n",
      " 11  Likes                25 non-null     int64  \n",
      " 12  Dislikes             25 non-null     int64  \n",
      " 13  Comments             25 non-null     int64  \n",
      " 14  Aggregate Followers  25 non-null     int64  \n",
      "dtypes: float64(2), int64(12), object(1)\n",
      "memory usage: 3.1+ KB\n",
      "None\n"
     ]
    },
    {
     "data": {
      "text/plain": [
       "<Axes: title={'center': 'Зависимость бюджета от лайков'}, xlabel='Budget', ylabel='Likes'>"
      ]
     },
     "execution_count": 44,
     "metadata": {},
     "output_type": "execute_result"
    },
    {
     "data": {
      "image/png": "[encoded data removed]",
      "text/plain": [
       "<Figure size 640x480 with 1 Axes>"
      ]
     },
     "metadata": {},
     "output_type": "display_data"
    }
   ],
   "source": [
    "import pandas as pd\n",
    "\n",
    "df_movies = pd.read_excel(\"data/movies_small_df.xlsx\")\n",
    "\n",
    "print(df_movies.info())\n",
    "\n",
    "df_movies.plot(kind = 'bar', x = 'Budget', y='Likes', title = 'Зависимость бюджета от лайков', color='c', ylabel='Likes', xlabel='Budget', grid=True)"
   ]
  },
  {
   "cell_type": "code",
   "execution_count": null,
   "metadata": {
    "colab": {
     "base_uri": "https://localhost:8080/",
     "height": 713
    },
    "executionInfo": {
     "elapsed": 2670,
     "status": "ok",
     "timestamp": 1727433116909,
     "user": {
      "displayName": "Наталья Мальцева",
      "userId": "18293210731886090099"
     },
     "user_tz": -300
    },
    "id": "ozLbltjtCUSr",
    "outputId": "47128179-6cbe-463d-f93e-4bd11c42d2cc"
   },
   "outputs": [
    {
     "data": {
      "text/plain": [
       "array([[<Axes: title={'center': 'ID'}>, <Axes: title={'center': 'Year'}>,\n",
       "        <Axes: title={'center': 'Ratings'}>,\n",
       "        <Axes: title={'center': 'Genre'}>],\n",
       "       [<Axes: title={'center': 'Gross'}>,\n",
       "        <Axes: title={'center': 'Budget'}>,\n",
       "        <Axes: title={'center': 'Screens'}>,\n",
       "        <Axes: title={'center': 'Sequel'}>],\n",
       "       [<Axes: title={'center': 'Sentiment'}>,\n",
       "        <Axes: title={'center': 'Views'}>,\n",
       "        <Axes: title={'center': 'Likes'}>,\n",
       "        <Axes: title={'center': 'Dislikes'}>],\n",
       "       [<Axes: title={'center': 'Comments'}>,\n",
       "        <Axes: title={'center': 'Aggregate Followers'}>, <Axes: >,\n",
       "        <Axes: >]], dtype=object)"
      ]
     },
     "execution_count": 45,
     "metadata": {},
     "output_type": "execute_result"
    },
    {
     "data": {
      "image/png": "[encoded data removed]",
      "text/plain": [
       "<Figure size 640x480 with 16 Axes>"
      ]
     },
     "metadata": {},
     "output_type": "display_data"
    }
   ],
   "source": [
    "df_movies.hist()"
   ]
  },
  {
   "cell_type": "markdown",
   "metadata": {
    "id": "M_jQKPIpm3ZN"
   },
   "source": [
    "### **Самостоятельная работа №8:**"
   ]
  },
  {
   "cell_type": "markdown",
   "metadata": {
    "id": "hrA43AqUm3ZN"
   },
   "source": [
    "Выполните предварительный анализ данных для таблицы revexp:\n",
    "* Постройте график распределения данных\n",
    "* Постройте график распределения доходов за последний год"
   ]
  },
  {
   "cell_type": "code",
   "execution_count": null,
   "metadata": {
    "id": "1wnjsP8bPiL6"
   },
   "outputs": [],
   "source": [
    "# ваш код тут"
   ]
  },
  {
   "cell_type": "markdown",
   "metadata": {
    "id": "55lWAgHUuCQF"
   },
   "source": [
    "## **9. Работа с пропусками**"
   ]
  },
  {
   "cell_type": "markdown",
   "metadata": {
    "id": "eJba_OOzuCQQ"
   },
   "source": [
    "Очень часто в датасетах встречаются пропуски в данных.\n",
    "В файле csv они могут выглядеть так\n",
    "\n",
    "\n",
    "```\n",
    "..., Donald S Whitney,,Nav..\n",
    "```\n",
    "Считывая данные из файла, Pandas заполняет прощенные значения значениями np.nan.\n",
    "\n",
    "\n",
    "\n",
    "\n",
    "\n"
   ]
  },
  {
   "cell_type": "markdown",
   "metadata": {
    "id": "DRYDfAbZSgC2"
   },
   "source": [
    "### **9.1 Поиск пропущенных значений df.isna()/ df.isnull()**\n",
    "\n"
   ]
  },
  {
   "cell_type": "markdown",
   "metadata": {
    "id": "X-TILqFaSsAR"
   },
   "source": [
    "Для фильтрации пропущенных значений существуют методы **df.isna()**/ **df.isnull()**.\n",
    "\n",
    "Они выводят булеву маску для каждой ячейки в таблице.  \n",
    "\n",
    "Её можно использовать для отбора данных или в других методах, например sum()."
   ]
  },
  {
   "cell_type": "code",
   "execution_count": null,
   "metadata": {
    "colab": {
     "base_uri": "https://localhost:8080/"
    },
    "executionInfo": {
     "elapsed": 309,
     "status": "ok",
     "timestamp": 1728414259435,
     "user": {
      "displayName": "Наталья Мальцева",
      "userId": "18293210731886090099"
     },
     "user_tz": -300
    },
    "id": "lyz4N5l1QXkt",
    "outputId": "bff78b05-7b6f-49de-c178-43a47d042481"
   },
   "outputs": [
    {
     "name": "stdout",
     "output_type": "stream",
     "text": [
      "Булевая маска заполненных данных: \n",
      "        A      B      C\n",
      "0  False  False  False\n",
      "1  False   True  False\n",
      "2   True  False   True\n",
      "3  False   True  False\n",
      "\n",
      " Строки с пропущенными значения в столбце 'B': \n",
      "       A    B    C\n",
      "1  2.0  NaN  2.0\n",
      "3  4.0  NaN  4.0\n",
      "Количество пропущенных значений в каждом столбце: \n",
      "A    1\n",
      "B    2\n",
      "C    1\n",
      "dtype: int64\n"
     ]
    }
   ],
   "source": [
    "import pandas as pd\n",
    "import numpy as np\n",
    "\n",
    "data = {'A': [1, 2, np.nan, 4],\n",
    "        'B': ['a', np.nan, 'c', np.nan],\n",
    "        'C': [1.0, 2.0, np.nan, 4.0]}\n",
    "df = pd.DataFrame(data)\n",
    "\n",
    "print(f\"Булевая маска пропусков данных: \\n {df.isnull()}\")\n",
    "print(f\"\\n Строки с пропущенными значения в столбце 'B': \\n  {df[df['B'].isnull()==True]}\")\n",
    "print(f\"Количество пропущенных значений в каждом столбце: \\n{df.isnull().sum()}\")\n"
   ]
  },
  {
   "cell_type": "markdown",
   "metadata": {
    "id": "LKndjSB9W2t4"
   },
   "source": [
    "### **9.2 Заполнение пропусков .fillna()**\n",
    "\n"
   ]
  },
  {
   "cell_type": "markdown",
   "metadata": {
    "id": "A9308gAnW-e5"
   },
   "source": [
    "Заполнить пропущенные значения можно фиксированными значениями, либо методами интерполяции\n",
    "\n"
   ]
  },
  {
   "cell_type": "code",
   "execution_count": null,
   "metadata": {
    "id": "XnvuKGN3XvP1"
   },
   "outputs": [],
   "source": [
    "import pandas as pd\n",
    "import numpy as np\n",
    "\n",
    "data = {'A': [1, 2, np.nan, 4],\n",
    "        'B': ['a', np.nan, 'c', 'd'],\n",
    "        'C': [1.0, 2.0, np.nan, 4.0]}\n",
    "\n",
    "df = pd.DataFrame(data)\n",
    "\n",
    "# Выберем столбцы с числовыми значениями\n",
    "num_df = df.select_dtypes(('int64', 'float64'))\n",
    "\n",
    "# Заполним пропущенных значений - средним по столбцу\n",
    "df_filled = num_df.fillna(num_df.mean())\n",
    "\n",
    "# Заполним пропущенных значений - медианной\n",
    "df_filled = num_df.fillna(num_df.median())\n",
    "\n",
    "# Заполним пропущенных значений - модой\n",
    "df_filled = df.fillna(df.mode().iloc[0])  # если значений моды несколько выбираем первую\n",
    "\n",
    "# Объединим несколько разных методов заполнения пропусков для нескольких столбцов: для столбца A заполним нулями, для B - значением 'missing'\n",
    "df_filled = df.fillna({'A': 0, 'B': 'missing'})\n",
    "\n",
    "# Заполним пропуски предыдущим, не пустым значением\n",
    "df_filled_ffill = df.fillna(method='ffill')\n",
    "\n",
    "# Заполним пропущенные значения линейной интерполяцией\n",
    "df_filled_interpolate = df.interpolate()\n"
   ]
  },
  {
   "cell_type": "markdown",
   "metadata": {
    "id": "FvJ5wQgDXDDF"
   },
   "source": [
    "### **9.3 Удаление пропущенных значений с помощью метода .dropna**\n",
    "\n"
   ]
  },
  {
   "cell_type": "markdown",
   "metadata": {
    "id": "CN_kQfkOXDDN"
   },
   "source": [
    "\n",
    "```\n",
    ".dropna(axis=0, how='any', inplace=False)\n",
    "\n",
    "```\n",
    "\n",
    "\n",
    "* axis - (0 удаляет строки, содержащие пропущенные значения, 1 удаляет столбцы)\n",
    "* how - ('any' если хотя бы одно NA, удаляет эту строку или столбец, 'all' только если все значения NA)\n",
    "* inplace - (False выполняет операцию и возвращает копию объекта, True выполняет операцию на месте и возвращает None)"
   ]
  },
  {
   "cell_type": "markdown",
   "metadata": {
    "id": "pKuh9q7VUNgl"
   },
   "source": [
    "### **Практика 9.1. Обработка пропущенных значений в таблице Books**"
   ]
  },
  {
   "cell_type": "markdown",
   "metadata": {
    "id": "Rl1dz_kVL16P"
   },
   "source": [
    "* Удалим строки с полностью пропущенными данными.\n",
    "* Выведем строки с пропущенными данными.\n",
    "* Заполним пропуски в столбце ‘Book-Author’ значением ‘Unknown’, столбец 'Publisher' модой, Год издания: медианной.\n",
    "* Проверим остались ли пропуски."
   ]
  },
  {
   "cell_type": "code",
   "execution_count": null,
   "metadata": {
    "colab": {
     "base_uri": "https://localhost:8080/"
    },
    "executionInfo": {
     "elapsed": 330,
     "status": "ok",
     "timestamp": 1727693376791,
     "user": {
      "displayName": "Наталья Мальцева",
      "userId": "18293210731886090099"
     },
     "user_tz": -300
    },
    "id": "4JLnJtjtUNgn",
    "outputId": "4974d57e-d8e5-46d6-9a96-1b098ae4c15c"
   },
   "outputs": [
    {
     "name": "stdout",
     "output_type": "stream",
     "text": [
      "Пропуски по столбцам: \n",
      " Unnamed: 0.1            1\n",
      "Unnamed: 0              1\n",
      "Book-Title              1\n",
      "Book-Author             2\n",
      "Year-Of-Publication    84\n",
      "Publisher               5\n",
      "dtype: int64\n",
      "Строки с пропущенными авторами: \n",
      "             Unnamed: 0.1  Unnamed: 0                            Book-Title\n",
      "ISBN                                                                      \n",
      "0452264464          19.0        19.0  Beloved (Plume Contemporary Fiction)\n",
      "NaN                  NaN         NaN                                   NaN\n",
      "Строки с пропущенными изданиями: \n",
      "             Unnamed: 0.1  Unnamed: 0                               Book-Title\n",
      "ISBN                                                                         \n",
      "0002005018           1.0         1.0                             Clara Callan\n",
      "0887841740          12.0        12.0                       The Middle Stories\n",
      "0440234743          18.0        18.0                            The Testament\n",
      "0679725393         416.0       416.0  The House of Mirth (Library of America)\n",
      "NaN                  NaN         NaN                                      NaN\n",
      "Пропуски по столбцам: \n",
      " Unnamed: 0.1           1\n",
      "Unnamed: 0             1\n",
      "Book-Title             1\n",
      "Book-Author            0\n",
      "Year-Of-Publication    0\n",
      "Publisher              0\n",
      "dtype: int64\n"
     ]
    }
   ],
   "source": [
    "import pandas as pd\n",
    "\n",
    "# Загрузим данные\n",
    "df_books = pd.read_csv(\"data/books_part_with_nan.csv\")\n",
    "\n",
    "#Установим индексы для строк из столбца 'ISBN'\n",
    "df_books.set_index('ISBN', inplace=True)\n",
    "\n",
    "#Выведем количество пропущенных значений по столбцам\n",
    "print(f\"Пропуски по столбцам: \\n {df_books.isnull().sum()}\")\n",
    "\n",
    "#Выведем строки с пропущенными данными\n",
    "mask1 = df_books['Book-Author'].isnull()==True\n",
    "print(f\"Строки с пропущенными авторами: \\n {df_books[mask1].iloc[:,:3]}\")\n",
    "mask2 = df_books['Publisher'].isnull()==True\n",
    "print(f\"Строки с пропущенными изданиями: \\n {df_books[mask2].iloc[:,:3]}\")\n",
    "\n",
    "# Заполним пропуски в столбце ‘Book-Author’ значением ‘Unknown’, столбец 'Publisher' модой, Год издания: средним значением\n",
    "df_books.fillna({'Book-Author':'Unknown',\n",
    "                 'Publisher':df_books['Publisher'].mode().values[0],\n",
    "                 'Year-Of-Publication':df_books['Year-Of-Publication'].median()},\n",
    "                 inplace=True)\n",
    "\n",
    "#Проверим остались ли пропуски\n",
    "print(f\"Пропуски по столбцам: \\n {df_books.isnull().sum()}\")"
   ]
  },
  {
   "cell_type": "markdown",
   "metadata": {
    "id": "-L7xgfpZqyO3"
   },
   "source": [
    "### **Самостоятельная работа №9:**"
   ]
  },
  {
   "cell_type": "markdown",
   "metadata": {
    "id": "xdv-gU-ZCQLQ"
   },
   "source": [
    "Выгрузите данные из файла 'tech-stocks.csv'.\n",
    "* Заполните пропуски для числовых значений медианной, для строковых - значением 'other'.\n",
    "* Удалите строки где все значения пропущены.\n",
    "* Удалите столбцы где все значения пропущены."
   ]
  }
 ],
 "metadata": {
  "colab": {
   "authorship_tag": "ABX9TyOPsmeGOTlrX6AXzXkpKAxH",
   "provenance": []
  },
  "kernelspec": {
   "display_name": "Python 3 (ipykernel)",
   "language": "python",
   "name": "python3"
  },
  "language_info": {
   "codemirror_mode": {
    "name": "ipython",
    "version": 3
   },
   "file_extension": ".py",
   "mimetype": "text/x-python",
   "name": "python",
   "nbconvert_exporter": "python",
   "pygments_lexer": "ipython3",
   "version": "3.12.3"
  }
 },
 "nbformat": 4,
 "nbformat_minor": 4
}

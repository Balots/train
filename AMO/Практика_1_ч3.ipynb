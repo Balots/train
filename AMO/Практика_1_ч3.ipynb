{
 "cells": [
  {
   "cell_type": "markdown",
   "metadata": {},
   "source": [
    "# Практика 1. Часть 3\n"
   ]
  },
  {
   "cell_type": "markdown",
   "metadata": {},
   "source": [
    "### Создание векторов в torch"
   ]
  },
  {
   "cell_type": "markdown",
   "metadata": {},
   "source": [
    "Тензор является основным строительным блоком в PyTorch. <br>\n",
    "Он представляет собой многомерный массив данных, который может содержать элементы различных типов. \n",
    "Параметры torch.tensor:\n",
    "1. data: <br>\n",
    "Первый и самый важный аргумент - это данные, которые вы хотите поместить в тензор. <br>\n",
    "Это может быть список, кортеж, NumPy массив, другой тензор или скалярное значение. <br>\n",
    "Тип данных будет автоматически определен на основе входных данных, но вы можете указать его явно с помощью аргумента dtype. <br>\n",
    "2. dtype: <br>\n",
    "Позволяет явно указать тип данных тензора. <br>\n",
    "Например: torch.float32, torch.int64, torch.bool. <br>\n",
    "Если не указан, тип данных будет выведен автоматически. <br>\n",
    "3. device: <br>\n",
    "Позволяет указать, на каком устройстве будет храниться тензор: CPU или GPU. <br>\n",
    "Например: torch.device('cuda:0') для первого GPU или torch.device('cpu') для CPU. <br>\n",
    "Если не указан, будет использовано устройство по умолчанию. "
   ]
  },
  {
   "cell_type": "code",
   "execution_count": null,
   "metadata": {},
   "outputs": [
    {
     "name": "stdout",
     "output_type": "stream",
     "text": [
      "Вектор: tensor([1, 2, 3])\n",
      "Вектор 0: tensor([0., 0., 0., 0., 0.])\n",
      "Вектор 1: tensor([1., 1., 1.])\n",
      "tensor([1., 2., 3.])\n",
      "tensor([0, 2, 4, 6, 8])\n"
     ]
    }
   ],
   "source": [
    "import torch\n",
    "\n",
    "# Создание вектора из списка\n",
    "v = torch.tensor([1, 2, 3])\n",
    "print(f\"Вектор: {v}\")\n",
    "\n",
    "# Создание вектора нулей\n",
    "v = torch.zeros(5)\n",
    "print(f\"Вектор 0: {v}\")\n",
    "\n",
    "# Создание вектора единиц\n",
    "v = torch.ones(3)\n",
    "print(f\"Вектор 1: {v}\")\n",
    "\n",
    "# Создание вектора с типом float\n",
    "tensor = torch.tensor([1, 2, 3], dtype=torch.float32)\n",
    "print(tensor)  # Вывод: tensor([1., 2., 3.])\n",
    "\n",
    "# Создание вектора чисел в диапазоне от 0 до 10 (не включая 10), с шагом 2\n",
    "tensor = torch.arange(0, 10, 2)\n",
    "print(tensor)  # Вывод: tensor([0, 2, 4, 6, 8])"
   ]
  },
  {
   "cell_type": "code",
   "execution_count": 44,
   "metadata": {},
   "outputs": [
    {
     "name": "stdout",
     "output_type": "stream",
     "text": [
      "a:  tensor([0, 1, 2])\n",
      "b:  tensor([0, 1])\n",
      "a:  tensor([ 5, 10, 15, 20, 25, 30, 35, 40, 45, 50, 55, 60, 65, 70, 75, 80, 85, 90,\n",
      "        95])\n"
     ]
    }
   ],
   "source": [
    "#  Создание векторов последовательных чисел\n",
    "a = torch.arange(3)\n",
    "b = torch.arange(2)\n",
    "print(\"a: \", a)\n",
    "print(\"b: \", b)\n",
    "\n",
    "# Использование шага\n",
    "a = torch.arange(5,100,5)\n",
    "print(\"a: \", a)"
   ]
  },
  {
   "cell_type": "markdown",
   "metadata": {},
   "source": [
    "### Операции с векторами в Torch"
   ]
  },
  {
   "cell_type": "markdown",
   "metadata": {},
   "source": [
    "1. Нормирование вектора"
   ]
  },
  {
   "cell_type": "code",
   "execution_count": null,
   "metadata": {},
   "outputs": [],
   "source": [
    "import torch\n",
    "\n",
    "v = torch.tensor([3, 4])\n",
    "v_norm = v / torch.norm(v)\n",
    "\n",
    "print(v_norm) "
   ]
  },
  {
   "cell_type": "code",
   "execution_count": null,
   "metadata": {},
   "outputs": [
    {
     "name": "stdout",
     "output_type": "stream",
     "text": [
      "L1 норма вектора v: 9.0\n",
      "L2 норма вектора v: 5.385164737701416\n"
     ]
    }
   ],
   "source": [
    "import torch\n",
    "\n",
    "v = torch.tensor([3., -4., 2.])\n",
    "\n",
    "# Вычисляем L1 норму\n",
    "l1_norm = torch.norm(v, p=1)\n",
    "\n",
    "# Вычисляем L2 норму\n",
    "l2_norm = torch.norm(v)\n",
    "\n",
    "print(f\"L1 норма вектора v: {l1_norm}\") \n",
    "print(f\"L2 норма вектора v: {l2_norm}\") "
   ]
  },
  {
   "cell_type": "markdown",
   "metadata": {},
   "source": [
    "##### Вектор случайных чисел"
   ]
  },
  {
   "cell_type": "markdown",
   "metadata": {},
   "source": [
    "torch.rand():\n",
    "\n",
    "1. Создает тензор, заполненный случайными числами из равномерного распределения [0, 1).\n",
    "2. Принимает в качестве аргумента размерность тензора.\n",
    "\n"
   ]
  },
  {
   "cell_type": "code",
   "execution_count": null,
   "metadata": {},
   "outputs": [
    {
     "name": "stdout",
     "output_type": "stream",
     "text": [
      "tensor([[0.4485, 0.7280, 0.0976],\n",
      "        [0.2416, 0.1911, 0.0133]])\n"
     ]
    }
   ],
   "source": [
    "tensor = torch.rand(2, 3)\n",
    "print(tensor)"
   ]
  },
  {
   "cell_type": "markdown",
   "metadata": {},
   "source": [
    "#### Равномерное распределение"
   ]
  },
  {
   "cell_type": "markdown",
   "metadata": {},
   "source": [
    "torch.linspace()\n",
    "1. Создает одномерный тензор, содержащий равномерно распределенные числа в заданном диапазоне.\n",
    "2. Принимает в качестве аргументов начальное значение, конечное значение и количество элементов."
   ]
  },
  {
   "cell_type": "code",
   "execution_count": null,
   "metadata": {},
   "outputs": [],
   "source": [
    "tensor = torch.linspace(0, 1, 5)\n",
    "print(tensor)  # Вывод: tensor([0.0000, 0.2500, 0.5000, 0.7500, 1.0000])"
   ]
  },
  {
   "cell_type": "markdown",
   "metadata": {},
   "source": [
    "#### Нормальное распределение"
   ]
  },
  {
   "cell_type": "markdown",
   "metadata": {},
   "source": [
    "torch.randn():\n",
    "\n",
    "1. Создает тензор, заполненный случайными числами из нормального распределения [0, 1).\n",
    "2. Принимает в качестве аргумента размерность тензора."
   ]
  },
  {
   "cell_type": "code",
   "execution_count": null,
   "metadata": {},
   "outputs": [
    {
     "name": "stdout",
     "output_type": "stream",
     "text": [
      "tensor([[ 0.6221,  0.9211,  2.4029],\n",
      "        [-0.2867,  0.0131,  0.1800]])\n"
     ]
    }
   ],
   "source": [
    "tensor = torch.randn(2, 3)\n",
    "print(tensor)"
   ]
  },
  {
   "cell_type": "markdown",
   "metadata": {},
   "source": [
    "#### Скалярное произведение в Torch"
   ]
  },
  {
   "cell_type": "code",
   "execution_count": null,
   "metadata": {},
   "outputs": [
    {
     "name": "stdout",
     "output_type": "stream",
     "text": [
      "tensor(32)\n"
     ]
    }
   ],
   "source": [
    "import torch\n",
    "\n",
    "# Создаем два одномерных тензора\n",
    "a = torch.tensor([1, 2, 3])\n",
    "b = torch.tensor([4, 5, 6])\n",
    "\n",
    "# Вычисляем скалярное произведение\n",
    "result = torch.dot(a, b)\n",
    "\n",
    "# Выводим результат\n",
    "print(result)  # Вывод: tensor(32)"
   ]
  },
  {
   "cell_type": "markdown",
   "metadata": {},
   "source": [
    "#### Угол между векторами"
   ]
  },
  {
   "cell_type": "markdown",
   "metadata": {},
   "source": [
    "Единицы измерения углов: <br>\n",
    "1. Градус (°)— это наиболее распространенная единица измерения углов. <br>\n",
    "Полный оборот составляет 360 градусов. <br>\n",
    "Прямой угол равен 90 градусам. <br>\n",
    "Обычно используется в повседневной жизни, навигации, геодезии и других областях.<br><br>\n",
    "2. Радианы<br>\n",
    "Радиан (рад) — это другая единица измерения углов, основанная на отношении длины дуги окружности к ее радиусу.<br>\n",
    "Полный оборот составляет 2π радианов (приблизительно 6.28 радианов).<br>\n",
    "Угол в 1 радиан соответствует дуге, длина которой равна радиусу окружности.<br>\n",
    "Радианы чаще используются в математике, физике и других точных науках, особенно там, где используются тригонометрические функции."
   ]
  },
  {
   "cell_type": "markdown",
   "metadata": {},
   "source": [
    "Радианы в Torch:\n",
    "\n",
    "1. torch.acos(cos_angle) возвращает арккосинус числа, что и будет углом в радианах.\n",
    "\n",
    "Градусы в Torch:\n",
    "\n",
    "2. torch.rad2deg() - переводит углы из радиан в градусы"
   ]
  },
  {
   "cell_type": "code",
   "execution_count": null,
   "metadata": {},
   "outputs": [
    {
     "name": "stdout",
     "output_type": "stream",
     "text": [
      "Угол между векторами в радианах: 1.5707963705062866\n",
      "Угол между векторами в градусах: 90.0\n"
     ]
    }
   ],
   "source": [
    "import torch\n",
    "\n",
    "vector1 = torch.tensor([1.0, 0.0])\n",
    "vector2 = torch.tensor([0.0, 1.0])\n",
    "\n",
    "cos_angle = torch.dot(vector1, vector2) / (torch.norm(vector1) * torch.norm(vector2))\n",
    "angle_rad = torch.acos(cos_angle)\n",
    "theta = torch.rad2deg(angle_rad)\n",
    "print(f\"Угол между векторами в радианах: {angle_rad}\")\n",
    "print(f\"Угол между векторами в градусах: {theta}\")"
   ]
  },
  {
   "cell_type": "markdown",
   "metadata": {},
   "source": [
    "#### Косинусное сходство"
   ]
  },
  {
   "cell_type": "markdown",
   "metadata": {},
   "source": [
    "torch.nn.CosineSimilarity - это модуль в PyTorch, который вычисляет косинусное сходство между двумя тензорами."
   ]
  },
  {
   "cell_type": "code",
   "execution_count": null,
   "metadata": {},
   "outputs": [],
   "source": [
    "import torch\n",
    "import torch.nn as nn\n",
    "\n",
    "# Пример 1: Сходство между двумя векторами\n",
    "a = torch.tensor([1, 2, 3])\n",
    "b = torch.tensor([4, 5, 6])\n",
    "\n",
    "cos = nn.CosineSimilarity(dim=0) # dim=0 для векторов\n",
    "similarity = cos(a, b)\n",
    "print(similarity) # Выведет тензор, содержащий косинусное сходство"
   ]
  },
  {
   "cell_type": "markdown",
   "metadata": {},
   "source": [
    "## Матрицы в Torch"
   ]
  },
  {
   "cell_type": "markdown",
   "metadata": {},
   "source": [
    "### Создание матрицы"
   ]
  },
  {
   "cell_type": "markdown",
   "metadata": {},
   "source": [
    "Создание матрицы как многомерного тензора"
   ]
  },
  {
   "cell_type": "code",
   "execution_count": 6,
   "metadata": {},
   "outputs": [
    {
     "name": "stdout",
     "output_type": "stream",
     "text": [
      "tensor([[1, 2],\n",
      "        [3, 4]])\n",
      "torch.Size([2, 2])\n"
     ]
    }
   ],
   "source": [
    "import torch \n",
    "\n",
    "# Создание тензора из списка\n",
    "tensor_from_list = torch.tensor([[1, 2], [3, 4]])\n",
    "print(tensor_from_list)\n",
    "# размер матрицы\n",
    "print(tensor_from_list.size())\n"
   ]
  },
  {
   "cell_type": "code",
   "execution_count": 10,
   "metadata": {},
   "outputs": [],
   "source": [
    "# Создание тензора типа float32 на GPU\n",
    "tensor = torch.tensor([1, 2, 3], dtype=torch.float32, device='cuda:0')"
   ]
  },
  {
   "cell_type": "markdown",
   "metadata": {},
   "source": [
    "Создание тензоров заполненных определенными значениями."
   ]
  },
  {
   "cell_type": "code",
   "execution_count": null,
   "metadata": {},
   "outputs": [],
   "source": [
    "import torch \n",
    "\n",
    "# Создание тензора размером 3x4, заполненного нулями\n",
    "zeros_tensor = torch.zeros(3, 4)\n",
    "print(zeros_tensor)\n",
    "# Создание тензора размером 2x2, заполненного единицами\n",
    "ones_tensor = torch.ones(2, 2)\n",
    "print(ones_tensor)\n",
    "\n",
    "# Создание тензора размером 5, заполненного случайными числами\n",
    "rand_tensor = torch.rand(5)\n",
    "print(rand_tensor)\n",
    "\n",
    "# Создание единичной матрицы размером 3x3\n",
    "eye_tensor = torch.eye(3)\n",
    "print(eye_tensor)"
   ]
  },
  {
   "cell_type": "markdown",
   "metadata": {},
   "source": [
    "Создание тензоров с помощью Numpy массивов"
   ]
  },
  {
   "cell_type": "code",
   "execution_count": 8,
   "metadata": {},
   "outputs": [
    {
     "name": "stdout",
     "output_type": "stream",
     "text": [
      "tensor([[1, 2],\n",
      "        [3, 4]], dtype=torch.int32)\n"
     ]
    }
   ],
   "source": [
    "import numpy as np\n",
    "\n",
    "numpy_array = np.array([[1, 2], [3, 4]])\n",
    "\n",
    "# Создание тензора из NumPy массива\n",
    "tensor_from_numpy = torch.from_numpy(numpy_array)\n",
    "\n",
    "print(tensor_from_numpy)"
   ]
  },
  {
   "cell_type": "markdown",
   "metadata": {},
   "source": [
    "1. torch.arange() - создает тензор с равномерно распределенными значениями в заданном диапазоне.\n",
    "2. torch.linspace() - создает тензор с заданным количеством равномерно распределенных значений в заданном диапазоне."
   ]
  },
  {
   "cell_type": "code",
   "execution_count": 9,
   "metadata": {},
   "outputs": [
    {
     "name": "stdout",
     "output_type": "stream",
     "text": [
      "tensor([0, 2, 4, 6, 8])\n",
      "tensor([0.0000, 0.2500, 0.5000, 0.7500, 1.0000])\n"
     ]
    }
   ],
   "source": [
    "# Создание тензора со значениями от 0 до 10 с шагом 2\n",
    "arange_tensor = torch.arange(0, 10, 2)\n",
    "\n",
    "# Создание тензора с 5 равномерно распределенными значениями от 0 до 1\n",
    "linspace_tensor = torch.linspace(0, 1, 5)\n",
    "\n",
    "print(arange_tensor)\n",
    "print(linspace_tensor)"
   ]
  },
  {
   "cell_type": "markdown",
   "metadata": {},
   "source": [
    "### Изменение размера тензора"
   ]
  },
  {
   "cell_type": "markdown",
   "metadata": {},
   "source": [
    "1. torch.reshape() \n",
    "Cоздаёт новый тензор с указанной формой, содержащий те же данные, что и исходный тензор. "
   ]
  },
  {
   "cell_type": "code",
   "execution_count": 11,
   "metadata": {},
   "outputs": [
    {
     "name": "stdout",
     "output_type": "stream",
     "text": [
      "tensor([[-0.4411,  0.5824,  0.1193],\n",
      "        [ 0.4851, -0.7021, -1.2793]])\n",
      "tensor([[-0.4411,  0.5824],\n",
      "        [ 0.1193,  0.4851],\n",
      "        [-0.7021, -1.2793]])\n"
     ]
    }
   ],
   "source": [
    "import torch\n",
    "\n",
    "x = torch.randn(2, 3)\n",
    "y = torch.reshape(x, (3, 2))\n",
    "\n",
    "print(x)\n",
    "print(y)"
   ]
  },
  {
   "cell_type": "code",
   "execution_count": 4,
   "metadata": {},
   "outputs": [
    {
     "name": "stdout",
     "output_type": "stream",
     "text": [
      "torch.Size([3, 4])\n",
      "Преобразование в вектор:\n",
      " tensor([ 0.6887, -0.5643, -0.7125, -0.2874,  1.9468,  0.3766, -1.3811, -0.5578,\n",
      "        -0.1174, -1.6530, -0.8558, -1.8282])\n"
     ]
    }
   ],
   "source": [
    "import torch\n",
    "x = torch.randn(3, 4)\n",
    "print(x.shape)\n",
    "# Преобразуем тензор в вектор\n",
    "z = torch.reshape(x, (-1,))\n",
    "print(\"Преобразование в вектор:\\n\", z)"
   ]
  },
  {
   "cell_type": "markdown",
   "metadata": {},
   "source": [
    "2. tensor.resize_() <br>\n",
    "Метод resize_() изменяет размер тензора \"на месте\", добавляя или удаляя элементы."
   ]
  },
  {
   "cell_type": "code",
   "execution_count": 12,
   "metadata": {},
   "outputs": [
    {
     "name": "stdout",
     "output_type": "stream",
     "text": [
      "tensor([[ 0.1220,  2.7521],\n",
      "        [ 0.5965, -1.8363],\n",
      "        [ 1.4549, -2.4965]])\n"
     ]
    }
   ],
   "source": [
    "x = torch.randn(2, 3)\n",
    "x.resize_(3, 2)\n",
    "\n",
    "print(x)"
   ]
  },
  {
   "cell_type": "markdown",
   "metadata": {},
   "source": [
    "3. torch.squeeze() <br>\n",
    "Функция torch.squeeze() удаляет все измерения тензора, которые равны 1."
   ]
  },
  {
   "cell_type": "code",
   "execution_count": 14,
   "metadata": {},
   "outputs": [
    {
     "name": "stdout",
     "output_type": "stream",
     "text": [
      "tensor([[[-0.0347, -0.8439,  0.1719]],\n",
      "\n",
      "        [[-1.5335,  0.7850,  0.0569]]])\n",
      "torch.Size([2, 1, 3])\n",
      "torch.Size([2, 3])\n"
     ]
    }
   ],
   "source": [
    "x = torch.randn(2, 1, 3)\n",
    "print(x)\n",
    "y = torch.squeeze(x)\n",
    "\n",
    "print(x.shape)\n",
    "print(y.shape)"
   ]
  },
  {
   "cell_type": "markdown",
   "metadata": {},
   "source": [
    "4. torch.unsqueeze() <br>\n",
    "Функция torch.unsqueeze() добавляет новое измерение с размером 1 в указанное место."
   ]
  },
  {
   "cell_type": "code",
   "execution_count": 17,
   "metadata": {},
   "outputs": [
    {
     "name": "stdout",
     "output_type": "stream",
     "text": [
      "tensor([[ 1.0468, -0.7103,  0.0638],\n",
      "        [-0.8268, -0.0117, -1.2106]])\n",
      "torch.Size([2, 3])\n",
      "torch.Size([1, 2, 3])\n",
      "tensor([[[ 1.0468, -0.7103,  0.0638],\n",
      "         [-0.8268, -0.0117, -1.2106]]])\n"
     ]
    }
   ],
   "source": [
    "x = torch.randn(2, 3)\n",
    "y = torch.unsqueeze(x, 0)\n",
    "print(x)\n",
    "print(x.shape)\n",
    "print(y.shape)\n",
    "print(y)"
   ]
  },
  {
   "cell_type": "code",
   "execution_count": 6,
   "metadata": {},
   "outputs": [
    {
     "name": "stdout",
     "output_type": "stream",
     "text": [
      "Исходный тензор:\n",
      " tensor([1, 2, 3])\n",
      "Тензор с добавленным измерением в начале:\n",
      " tensor([[1, 2, 3]])\n",
      "Тензор с добавленным измерением в конце:\n",
      " tensor([[1],\n",
      "        [2],\n",
      "        [3]])\n"
     ]
    }
   ],
   "source": [
    "import torch\n",
    "\n",
    "# Создаем тензор размером (3,)\n",
    "x = torch.tensor([1, 2, 3])\n",
    "print(\"Исходный тензор:\\n\", x)\n",
    "\n",
    "# Добавляем измерение в начале (dim=0)\n",
    "y = torch.unsqueeze(x, 0)\n",
    "print(\"Тензор с добавленным измерением в начале:\\n\", y)\n",
    "\n",
    "# Добавляем измерение в конце (dim=-1)\n",
    "z = torch.unsqueeze(x, -1)\n",
    "print(\"Тензор с добавленным измерением в конце:\\n\", z)"
   ]
  },
  {
   "cell_type": "markdown",
   "metadata": {},
   "source": [
    "4. torch.flatten() <br>\n",
    "Функция torch.flatten() превращая многомерный тензор в одномерный."
   ]
  },
  {
   "cell_type": "code",
   "execution_count": 18,
   "metadata": {},
   "outputs": [
    {
     "name": "stdout",
     "output_type": "stream",
     "text": [
      "torch.Size([2, 3, 4])\n",
      "torch.Size([24])\n"
     ]
    }
   ],
   "source": [
    "x = torch.randn(2, 3, 4)\n",
    "y = torch.flatten(x)\n",
    "\n",
    "print(x.shape)\n",
    "print(y.shape)\n"
   ]
  },
  {
   "cell_type": "markdown",
   "metadata": {},
   "source": [
    "### Операции с матрицами"
   ]
  },
  {
   "cell_type": "code",
   "execution_count": 11,
   "metadata": {},
   "outputs": [
    {
     "name": "stdout",
     "output_type": "stream",
     "text": [
      "tensor([[1, 2, 3],\n",
      "        [4, 5, 6]])\n",
      "torch.Size([2, 3])\n",
      "Результаты суммы по столбцам: tensor([5, 7, 9])\n",
      "Результаты суммы по строкам: tensor([ 6, 15])\n"
     ]
    }
   ],
   "source": [
    "# Суммирование по строкам\n",
    "import torch\n",
    "\n",
    "# Создаем тензор размером 2x3\n",
    "matrix = torch.tensor([[1, 2, 3], [4, 5, 6]])\n",
    "print(matrix)\n",
    "print(matrix.shape)\n",
    "print(f\"Результаты суммы по столбцам: {torch.sum(matrix, dim=0)}\")\n",
    "print(f\"Результаты суммы по строкам: {torch.sum(matrix, dim=1)}\")"
   ]
  },
  {
   "cell_type": "code",
   "execution_count": null,
   "metadata": {},
   "outputs": [
    {
     "name": "stdout",
     "output_type": "stream",
     "text": [
      "Исходная матрица:\n",
      " tensor([[1, 2, 3],\n",
      "        [4, 5, 6]])\n",
      "Транспонированная матрица:\n",
      " tensor([[1, 4],\n",
      "        [2, 5],\n",
      "        [3, 6]])\n",
      "Исходная матрица:\n",
      " tensor([[1, 2, 3],\n",
      "        [4, 5, 6]])\n",
      "Транспонированная матрица:\n",
      " tensor([[1, 4],\n",
      "        [2, 5],\n",
      "        [3, 6]])\n"
     ]
    }
   ],
   "source": [
    "# Транспонирование матриц\n",
    "import torch\n",
    "\n",
    "# Создаем тензор размером 2x3\n",
    "matrix = torch.tensor([[1, 2, 3], [4, 5, 6]])\n",
    "\n",
    "# Транспонируем матрицу с помощью .Т\n",
    "transposed_matrix = matrix.T\n",
    "\n",
    "print(\"Исходная матрица:\\n\", matrix)\n",
    "print(\"Транспонированная матрица:\\n\", transposed_matrix)\n"
   ]
  },
  {
   "cell_type": "markdown",
   "metadata": {},
   "source": [
    "Функция torch.transpose() позволяет транспонировать тензор, указав две размерности, которые нужно поменять местами. Этот способ также подходит для тензоров любой размерности."
   ]
  },
  {
   "cell_type": "code",
   "execution_count": 21,
   "metadata": {},
   "outputs": [
    {
     "name": "stdout",
     "output_type": "stream",
     "text": [
      "Исходная матрица:\n",
      " tensor([[1, 2, 3],\n",
      "        [4, 5, 6]])\n",
      "Транспонированная матрица:\n",
      " tensor([[1, 4],\n",
      "        [2, 5],\n",
      "        [3, 6]])\n"
     ]
    }
   ],
   "source": [
    "# Транспонируем матрицу, меняя местами измерения 0 и 1\n",
    "transposed_matrix = torch.transpose(matrix, 0, 1)\n",
    "\n",
    "print(\"Исходная матрица:\\n\", matrix)\n",
    "print(\"Транспонированная матрица:\\n\", transposed_matrix)"
   ]
  },
  {
   "cell_type": "markdown",
   "metadata": {},
   "source": [
    "##### Математические операции с матрицами"
   ]
  },
  {
   "cell_type": "code",
   "execution_count": 23,
   "metadata": {},
   "outputs": [
    {
     "name": "stdout",
     "output_type": "stream",
     "text": [
      "tensor([[ 6,  8],\n",
      "        [10, 12]])\n"
     ]
    }
   ],
   "source": [
    "# Создаем две матрицы одинаковой размерности\n",
    "matrix1 = torch.tensor([[1, 2], [3, 4]])\n",
    "matrix2 = torch.tensor([[5, 6], [7, 8]])\n",
    "\n",
    "# Складываем матрицы\n",
    "sum_matrix = matrix1 + matrix2\n",
    "\n",
    "print(sum_matrix)"
   ]
  },
  {
   "cell_type": "code",
   "execution_count": 24,
   "metadata": {},
   "outputs": [
    {
     "name": "stdout",
     "output_type": "stream",
     "text": [
      "tensor([[ 6,  8],\n",
      "        [10, 12]])\n"
     ]
    }
   ],
   "source": [
    "# Использование метода add для сложения матриц\n",
    "sum_matrix = torch.add(matrix1, matrix2)\n",
    "print(sum_matrix)"
   ]
  },
  {
   "cell_type": "code",
   "execution_count": null,
   "metadata": {},
   "outputs": [
    {
     "name": "stdout",
     "output_type": "stream",
     "text": [
      "tensor([[ 6,  8],\n",
      "        [10, 12]])\n"
     ]
    }
   ],
   "source": [
    "# Использование метода add_ для сложения матриц \"на месте\"\n",
    "matrix1.add_(matrix2)\n",
    "print(matrix1)"
   ]
  },
  {
   "cell_type": "code",
   "execution_count": 26,
   "metadata": {},
   "outputs": [
    {
     "name": "stdout",
     "output_type": "stream",
     "text": [
      "tensor([[19, 22],\n",
      "        [43, 50]])\n"
     ]
    }
   ],
   "source": [
    "# Умножение матриц\n",
    "matrix1 = torch.tensor([[1, 2], [3, 4]])  # Размерность 2x2\n",
    "matrix2 = torch.tensor([[5, 6], [7, 8]])  # Размерность 2x2\n",
    "\n",
    "product_matrix = matrix1 @ matrix2\n",
    "\n",
    "print(product_matrix)"
   ]
  },
  {
   "cell_type": "code",
   "execution_count": 13,
   "metadata": {},
   "outputs": [
    {
     "name": "stdout",
     "output_type": "stream",
     "text": [
      "Tensor1\n",
      "tensor([[[-0.0801,  0.0536, -1.0565, -0.2469],\n",
      "         [ 0.3288,  1.4014,  0.1354,  0.7890]],\n",
      "\n",
      "        [[ 0.2604,  1.1753,  0.9018, -0.4523],\n",
      "         [ 1.4418, -1.2072, -1.2442,  1.7572]],\n",
      "\n",
      "        [[ 1.2418, -0.3190, -1.1277,  0.5194],\n",
      "         [-0.6730,  1.0076, -1.6904, -2.0569]]])\n",
      "Tensor2\n",
      "tensor([[[-0.0585, -1.1400, -0.9493,  1.1328,  0.2996],\n",
      "         [ 0.0676,  0.3819, -0.0177,  0.9182,  0.0314],\n",
      "         [-1.0897,  1.3288,  0.0714,  0.6886, -0.8958],\n",
      "         [-0.2281,  0.5697, -1.4220,  2.1679, -0.5996]],\n",
      "\n",
      "        [[-1.3856,  1.5373, -0.8553,  0.0646, -1.3839],\n",
      "         [ 1.3495,  0.5502,  1.1204, -1.0643, -0.5206],\n",
      "         [-1.0629, -0.5376, -0.8594,  0.3387,  0.7457],\n",
      "         [ 0.1371, -1.2221, -0.1281,  0.8484,  1.1643]],\n",
      "\n",
      "        [[ 0.2778,  0.4516, -0.2492, -1.3796, -0.4216],\n",
      "         [ 1.4331, -2.1764, -0.3011, -1.1227,  0.9495],\n",
      "         [-0.1824,  0.5733,  1.5256,  0.3199, -0.8612],\n",
      "         [-0.4161, -0.0628,  1.6809,  0.6120,  1.0472]]])\n",
      "Размер матрицы в результате\n",
      "torch.Size([3, 2, 5])\n"
     ]
    }
   ],
   "source": [
    "# Создаем два тензора, содержащие батчи матриц\n",
    "tensor1 = torch.randn(3, 2, 4)  # Размерность 3x2x4 (3 матрицы 2x4)\n",
    "tensor2 = torch.randn(3, 4, 5)  # Размерность 3x4x5 (3 матрицы 4x5)\n",
    "print(\"Tensor1\")\n",
    "print(tensor1)\n",
    "\n",
    "print(\"Tensor2\")\n",
    "print(tensor2)\n",
    "\n",
    "# Умножаем батчи матриц\n",
    "result = torch.matmul(tensor1, tensor2)\n",
    "print(\"Размер матрицы в результате\")\n",
    "print(result.shape)\n",
    "\n",
    "# До запуска программы угадай размер тензора result"
   ]
  },
  {
   "cell_type": "markdown",
   "metadata": {},
   "source": [
    "##### Объединение матриц"
   ]
  },
  {
   "cell_type": "markdown",
   "metadata": {},
   "source": [
    "1. torch.cat() -  позволяет объединять тензоры вдоль существующей оси. <br>\n",
    "\n",
    "- tensors: кортеж или список тензоров, которые нужно объединить.\n",
    "- dim: ось, вдоль которой происходит объединение (по умолчанию 0).\n",
    "- out: опциональный тензор, в который записывается результат."
   ]
  },
  {
   "cell_type": "code",
   "execution_count": 30,
   "metadata": {},
   "outputs": [
    {
     "name": "stdout",
     "output_type": "stream",
     "text": [
      "tensor([[1, 2],\n",
      "        [3, 4],\n",
      "        [5, 6],\n",
      "        [7, 8]])\n",
      "tensor([[1, 2, 5, 6],\n",
      "        [3, 4, 7, 8]])\n"
     ]
    }
   ],
   "source": [
    "import torch\n",
    "\n",
    "tensor1 = torch.tensor([[1, 2], [3, 4]])\n",
    "tensor2 = torch.tensor([[5, 6], [7, 8]])\n",
    "\n",
    "# Объединение вдоль оси 0 (вертикально)\n",
    "result = torch.cat((tensor1, tensor2), dim=0)\n",
    "print(result)\n",
    "\n",
    "# Объединение вдоль оси 1 (горизонтально)\n",
    "result = torch.cat((tensor1, tensor2), dim=1)\n",
    "print(result)"
   ]
  },
  {
   "cell_type": "markdown",
   "metadata": {},
   "source": [
    "2. torch.stack() создает новую ось и объединяет тензоры вдоль нее.\n",
    "\n",
    "Параметры:\n",
    "- tensors: кортеж или список тензоров, которые нужно объединить.\n",
    "- dim: индекс новой оси (по умолчанию 0).\n",
    "- out: опциональный тензор, в который записывается результат."
   ]
  },
  {
   "cell_type": "code",
   "execution_count": 32,
   "metadata": {},
   "outputs": [
    {
     "name": "stdout",
     "output_type": "stream",
     "text": [
      "tensor([[1, 2, 3],\n",
      "        [4, 5, 6]])\n",
      "tensor([[1, 4],\n",
      "        [2, 5],\n",
      "        [3, 6]])\n"
     ]
    }
   ],
   "source": [
    "import torch\n",
    "\n",
    "tensor1 = torch.tensor([1, 2, 3])\n",
    "tensor2 = torch.tensor([4, 5, 6])\n",
    "\n",
    "# Объединение вдоль новой оси 0\n",
    "result = torch.stack((tensor1, tensor2), dim=0)\n",
    "print(result)\n",
    "\n",
    "# Объединение вдоль новой оси 1\n",
    "result = torch.stack((tensor1, tensor2), dim=1)\n",
    "print(result)"
   ]
  },
  {
   "cell_type": "markdown",
   "metadata": {},
   "source": [
    "##### Определитель матриц"
   ]
  },
  {
   "cell_type": "code",
   "execution_count": 41,
   "metadata": {},
   "outputs": [
    {
     "name": "stdout",
     "output_type": "stream",
     "text": [
      "[[1. 2.]\n",
      " [3. 4.]]\n",
      "tensor(-2., dtype=torch.float64)\n"
     ]
    }
   ],
   "source": [
    "import numpy as np\n",
    "\n",
    "# Создаем матрицу\n",
    "A = np.array([[1, 2], [3, 4]], dtype=np.float64)\n",
    "print(A)\n",
    "# Вычисляем определитель\n",
    "determinant = torch.det(torch.from_numpy(A))\n",
    "print(determinant)\n"
   ]
  },
  {
   "cell_type": "code",
   "execution_count": 43,
   "metadata": {},
   "outputs": [
    {
     "name": "stdout",
     "output_type": "stream",
     "text": [
      "Матрица C обратима\n"
     ]
    }
   ],
   "source": [
    "import torch\n",
    "\n",
    "C = torch.tensor([[1, 2], [3, 4]], dtype=torch.float64)\n",
    "\n",
    "if torch.det(C) != 0:\n",
    "    print(\"Матрица C обратима\")\n",
    "    C_inv = torch.inverse(C)  # Вычисляем обратную матрицу\n",
    "else:\n",
    "    print(\"Матрица C не обратима\")"
   ]
  },
  {
   "cell_type": "markdown",
   "metadata": {},
   "source": [
    "#### Добавление границ матрицы"
   ]
  },
  {
   "cell_type": "markdown",
   "metadata": {},
   "source": [
    "torch.nn.functional.pad(input, pad, mode='constant', value=0)\n",
    "\n",
    "1. input: входной тензор.\n",
    "2. pad: кортеж, задающий количество добавляемых элементов с каждой стороны.\n",
    "        Для 1D тензора: (padding_left, padding_right)\n",
    "        Для 2D тензора: (padding_left, padding_right, padding_top, padding_bottom)\n",
    "        Для 3D тензора: (padding_left, padding_right, padding_top, padding_bottom, padding_front, padding_back)\n",
    "3. mode: режим заполнения.\n",
    "    - 'constant': заполнение постоянным значением (значение по умолчанию).\n",
    "    - 'reflect': зеркальное отражение значений с границы.\n",
    "    - 'replicate': повторение граничных значений.\n",
    "    - 'circular': циклическое заполнение.\n",
    "4. value: значение для заполнения в режиме 'constant' (по умолчанию 0)."
   ]
  },
  {
   "cell_type": "code",
   "execution_count": 44,
   "metadata": {},
   "outputs": [
    {
     "name": "stdout",
     "output_type": "stream",
     "text": [
      "Исходный тензор:\n",
      " tensor([[-1.7689, -0.0439, -0.9477],\n",
      "        [-0.8946, -0.1907, -1.2569],\n",
      "        [ 1.7252,  1.4710, -2.3177]])\n",
      "Тензор с padding:\n",
      " tensor([[ 0.0000,  0.0000,  0.0000,  0.0000,  0.0000],\n",
      "        [ 0.0000, -1.7689, -0.0439, -0.9477,  0.0000],\n",
      "        [ 0.0000, -0.8946, -0.1907, -1.2569,  0.0000],\n",
      "        [ 0.0000,  1.7252,  1.4710, -2.3177,  0.0000],\n",
      "        [ 0.0000,  0.0000,  0.0000,  0.0000,  0.0000]])\n"
     ]
    }
   ],
   "source": [
    "import torch\n",
    "import torch.nn.functional as F\n",
    "\n",
    "# Создаем тензор размером 3x3\n",
    "tensor = torch.randn(3, 3)\n",
    "\n",
    "# Добавляем padding 1 со всех сторон\n",
    "padded_tensor = F.pad(tensor, (1, 1, 1, 1), mode='constant', value=0)\n",
    "\n",
    "print(\"Исходный тензор:\\n\", tensor)\n",
    "print(\"Тензор с padding:\\n\", padded_tensor)"
   ]
  },
  {
   "cell_type": "markdown",
   "metadata": {},
   "source": [
    "## Линейнные вычисления"
   ]
  },
  {
   "cell_type": "markdown",
   "metadata": {},
   "source": [
    "torch.linalg.solve() используется для решения системы линейных уравнений вида Ax = b, где A - квадратная матрица, x - вектор неизвестных, b - вектор свободных членов."
   ]
  },
  {
   "cell_type": "code",
   "execution_count": null,
   "metadata": {},
   "outputs": [],
   "source": [
    "A = torch.randn(1000, 1000)\n",
    "b = torch.randn(1000)\n",
    "print(torch.linalg.solve(A, b))  #A^{-1} b"
   ]
  },
  {
   "cell_type": "markdown",
   "metadata": {},
   "source": [
    "torch.linalg.eigh(A): Вычисляет собственные значения и векторы для эрмитовых или симметричных матриц."
   ]
  },
  {
   "cell_type": "code",
   "execution_count": null,
   "metadata": {},
   "outputs": [],
   "source": [
    "A = torch.tensor([[4, 1], [1, 4]])\n",
    "w, v = torch.linalg.eigh(A)\n",
    "\n",
    "print(\"Собственные значения:\\n\", w)\n",
    "print(\"Собственные векторы:\\n\", v)"
   ]
  },
  {
   "cell_type": "markdown",
   "metadata": {},
   "source": [
    "## Статистические операции над матрицами"
   ]
  },
  {
   "cell_type": "markdown",
   "metadata": {},
   "source": [
    "torch.mean(input, dim=None, keepdim=False): Вычисляет среднее значение элементов тензора. <br>\n",
    "\n",
    "- input: Входной тензор.\n",
    "- dim: Измерение, по которому вычисляется среднее значение. Если None, вычисляется среднее значение всех элементов тензора.\n",
    "- keepdim: Если True, размерность dim сохраняется в выходном тензоре."
   ]
  },
  {
   "cell_type": "code",
   "execution_count": 23,
   "metadata": {},
   "outputs": [
    {
     "name": "stdout",
     "output_type": "stream",
     "text": [
      "tensor(3., dtype=torch.float16)\n",
      "tensor([2., 3.], dtype=torch.float16)\n"
     ]
    }
   ],
   "source": [
    "import torch\n",
    "\n",
    "x = torch.tensor([1, 2, 3, 4, 5], dtype=torch.float16)\n",
    "mean_x = torch.mean(x)  # Вычисляет среднее значение всех элементов\n",
    "print(mean_x)\n",
    "\n",
    "y = torch.tensor([[1, 2], [3, 4]], dtype=torch.float16)\n",
    "mean_y_dim0 = torch.mean(y, dim=0)  # Вычисляет среднее значение по измерениям 0 (столбцам)\n",
    "print(mean_y_dim0) "
   ]
  },
  {
   "cell_type": "markdown",
   "metadata": {},
   "source": [
    "torch.median(input, dim=None): Вычисляет медиану элементов тензора. <br>\n",
    "- input: Входной тензор.\n",
    "- dim: Измерение, по которому вычисляется медиана. Если None, вычисляется медиана всех элементов тензора."
   ]
  },
  {
   "cell_type": "code",
   "execution_count": 24,
   "metadata": {},
   "outputs": [
    {
     "name": "stdout",
     "output_type": "stream",
     "text": [
      "tensor(3)\n"
     ]
    }
   ],
   "source": [
    "x = torch.tensor([1, 3, 2, 4, 5])\n",
    "median_x = torch.median(x)  # Вычисляет медиану всех элементов\n",
    "print(median_x)  # Выведет: tensor(3.)"
   ]
  },
  {
   "cell_type": "markdown",
   "metadata": {},
   "source": [
    "torch.var(input, dim=None, unbiased=True, keepdim=False): Вычисляет дисперсию элементов тензора. <br>\n",
    "\n",
    "- input: Входной тензор.\n",
    "- dim: Измерение, по которому вычисляется дисперсия. Если None, вычисляется дисперсия всех элементов тензора.\n",
    "- unbiased: Если True, используется несмещенная оценка дисперсии (делится на N-1). Если False, используется смещенная оценка дисперсии (делится на N).\n",
    "- keepdim: Если True, размерность dim сохраняется в выходном тензоре."
   ]
  },
  {
   "cell_type": "code",
   "execution_count": 26,
   "metadata": {},
   "outputs": [
    {
     "name": "stdout",
     "output_type": "stream",
     "text": [
      "tensor(2.5000, dtype=torch.float16)\n"
     ]
    }
   ],
   "source": [
    "x = torch.tensor([1, 2, 3, 4, 5], dtype=torch.float16)\n",
    "var_x = torch.var(x)  # Вычисляет дисперсию всех элементов\n",
    "print(var_x)  # Выведет: tensor(2.5)"
   ]
  },
  {
   "cell_type": "markdown",
   "metadata": {},
   "source": [
    "torch.std(input, dim=None, unbiased=True, keepdim=False): Вычисляет стандартное отклонение элементов тензора.\n",
    "<br>\n",
    "- input: Входной тензор.\n",
    "- dim: Измерение, по которому вычисляется стандартное отклонение. Если None, вычисляется стандартное отклонение всех элементов тензора.\n",
    "- unbiased: Если True, используется несмещенная оценка стандартного отклонения (делится на N-1). Если False, используется смещенная оценка стандартного отклонения (делится на N).\n",
    "- keepdim: Если True, размерность dim сохраняется в выходном тензоре."
   ]
  },
  {
   "cell_type": "code",
   "execution_count": 28,
   "metadata": {},
   "outputs": [
    {
     "name": "stdout",
     "output_type": "stream",
     "text": [
      "tensor(1.5811, dtype=torch.float16)\n"
     ]
    }
   ],
   "source": [
    "x = torch.tensor([1, 2, 3, 4, 5], dtype=torch.float16)\n",
    "std_x = torch.std(x)  # Вычисляет стандартное отклонение всех элементов\n",
    "print(std_x)  # Выведет: tensor(1.5811)"
   ]
  },
  {
   "cell_type": "markdown",
   "metadata": {},
   "source": [
    "torch.min(input)/torch.max(input): Возвращают минимальное/максимальное значение в тензоре.\n",
    "\n",
    "torch.argmin(input)/torch.argmax(input): Возвращают индекс минимального/максимального значения в тензоре."
   ]
  },
  {
   "cell_type": "code",
   "execution_count": 31,
   "metadata": {},
   "outputs": [
    {
     "name": "stdout",
     "output_type": "stream",
     "text": [
      "Минимум: 1, Максимум: 5, Индекс минимума: 0, Индекс максимума: 4\n"
     ]
    }
   ],
   "source": [
    "x = torch.tensor([1, 2, 3, 4, 5])\n",
    "\n",
    "min_x = torch.min(x)\n",
    "max_x = torch.max(x)\n",
    "\n",
    "argmin_x = torch.argmin(x)\n",
    "argmax_x = torch.argmax(x)\n",
    "\n",
    "print(f\"Минимум: {min_x}, Максимум: {max_x}, Индекс минимума: {argmin_x}, Индекс максимума: {argmax_x}\")\n",
    "# Выведет: Минимум: 1, Максимум: 5, Индекс минимума: 0, Индекс максимума: 4"
   ]
  },
  {
   "cell_type": "code",
   "execution_count": 32,
   "metadata": {},
   "outputs": [
    {
     "name": "stdout",
     "output_type": "stream",
     "text": [
      "tensor([4, 2, 5])\n"
     ]
    }
   ],
   "source": [
    "# Сравнение двух матриц\n",
    "\n",
    "tensor1 = torch.tensor([1, 2, 3])\n",
    "tensor2 = torch.tensor([4, 0, 5])\n",
    "max_tensor = torch.max(tensor1, tensor2)\n",
    "print(max_tensor)  # Выведет: tensor([4, 2, 5])"
   ]
  },
  {
   "cell_type": "code",
   "execution_count": 35,
   "metadata": {},
   "outputs": [
    {
     "name": "stdout",
     "output_type": "stream",
     "text": [
      "torch.return_types.max(\n",
      "values=tensor([7, 8, 9]),\n",
      "indices=tensor([2, 2, 2]))\n",
      "tensor([7, 8, 9])\n",
      "torch.return_types.max(\n",
      "values=tensor([3, 6, 9]),\n",
      "indices=tensor([2, 2, 2]))\n"
     ]
    }
   ],
   "source": [
    "matrix = torch.tensor([[1, 2, 3], [4, 5, 6], [7, 8, 9]])\n",
    "\n",
    "# Поиск максимумов по столбцам (dim=0)\n",
    "max_values_along_dim0 = torch.max(matrix, dim=0)\n",
    "print(max_values_along_dim0)\n",
    "\n",
    "# Взять максимальные значения\n",
    "print(max_values_along_dim0.values)\n",
    "\n",
    "# Поиск максимумов по строкам (dim=1)\n",
    "max_values_along_dim1 = torch.max(matrix, dim=1)\n",
    "print(max_values_along_dim1)\n"
   ]
  },
  {
   "cell_type": "markdown",
   "metadata": {},
   "source": [
    "torch.topk() - используется для получения k наибольших элементов тензора (значений и их индексов) вдоль указанного измерения.\n",
    "\n",
    "torch.topk(input, k, dim=None, largest=True, sorted=True)\n",
    "\n",
    "- input (Tensor): Входной тензор.\n",
    "- k (int): Количество k наибольших элементов, которые нужно получить.\n",
    "- dim (int, optional): Размерность, вдоль которой нужно искать наибольшие элементы. Если не указано, поиск ведется по последней размерности.\n",
    "- largest (bool, optional): Если True (по умолчанию), возвращаются наибольшие элементы. Если False, возвращаются наименьшие элементы.\n",
    "- sorted (bool, optional): Если True (по умолчанию), возвращаемые элементы будут отсортированы по убыванию (или возрастанию, если largest=False)."
   ]
  },
  {
   "cell_type": "code",
   "execution_count": 45,
   "metadata": {},
   "outputs": [
    {
     "name": "stdout",
     "output_type": "stream",
     "text": [
      "Значения: tensor([9, 8, 7])\n",
      "Индексы: tensor([4, 2, 6])\n"
     ]
    }
   ],
   "source": [
    "import torch\n",
    "\n",
    "x = torch.tensor([5, 2, 8, 1, 9, 3, 7, 4, 6])\n",
    "k = 3\n",
    "values, indices = torch.topk(x, k)\n",
    "\n",
    "print(\"Значения:\", values)\n",
    "print(\"Индексы:\", indices)"
   ]
  },
  {
   "cell_type": "code",
   "execution_count": null,
   "metadata": {},
   "outputs": [],
   "source": [
    "matrix = torch.tensor([[1, 5, 2], [8, 3, 9], [4, 7, 6]])\n",
    "k = 2\n",
    "dim = 0  # вдоль столбцов\n",
    "values, indices = torch.topk(matrix, k, dim=dim)\n",
    "\n",
    "print(\"Значения:\\n\", values)\n",
    "print(\"Индексы:\\n\", indices)"
   ]
  },
  {
   "cell_type": "code",
   "execution_count": 46,
   "metadata": {},
   "outputs": [
    {
     "name": "stdout",
     "output_type": "stream",
     "text": [
      "Значения:\n",
      " tensor([[1, 2],\n",
      "        [3, 8],\n",
      "        [4, 6]])\n",
      "Индексы:\n",
      " tensor([[0, 2],\n",
      "        [1, 0],\n",
      "        [0, 2]])\n"
     ]
    }
   ],
   "source": [
    "matrix = torch.tensor([[1, 5, 2], [8, 3, 9], [4, 7, 6]])\n",
    "k = 2\n",
    "dim = 1  # вдоль строк\n",
    "largest = False  # наименьшие элементы\n",
    "values, indices = torch.topk(matrix, k, dim=dim, largest=largest)\n",
    "\n",
    "print(\"Значения:\\n\", values)\n",
    "print(\"Индексы:\\n\", indices)"
   ]
  },
  {
   "cell_type": "code",
   "execution_count": 47,
   "metadata": {},
   "outputs": [
    {
     "name": "stdout",
     "output_type": "stream",
     "text": [
      "Значения: tensor([9, 8])\n",
      "Индексы: tensor([4, 2])\n"
     ]
    }
   ],
   "source": [
    "tensor = torch.tensor([5, 2, 8, 1, 9, 3, 7, 4, 6])\n",
    "k = 2\n",
    "sorted = False  # сортировка по возрастанию\n",
    "values, indices = torch.topk(tensor, k, sorted=sorted)\n",
    "\n",
    "print(\"Значения:\", values)\n",
    "print(\"Индексы:\", indices)"
   ]
  }
 ],
 "metadata": {
  "kernelspec": {
   "display_name": "Python 3 (ipykernel)",
   "language": "python",
   "name": "python3"
  },
  "language_info": {
   "codemirror_mode": {
    "name": "ipython",
    "version": 3
   },
   "file_extension": ".py",
   "mimetype": "text/x-python",
   "name": "python",
   "nbconvert_exporter": "python",
   "pygments_lexer": "ipython3",
   "version": "3.12.3"
  }
 },
 "nbformat": 4,
 "nbformat_minor": 4
}

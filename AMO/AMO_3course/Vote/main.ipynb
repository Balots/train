{
 "cells": [
  {
   "cell_type": "code",
   "execution_count": 2,
   "id": "01e1eeab-1cb8-445d-b5ae-b9b28fc4be5b",
   "metadata": {},
   "outputs": [
    {
     "data": {
      "text/plain": [
       "['sepal.length', 'sepal.width', 'petal.length', 'petal.width', 'species']"
      ]
     },
     "execution_count": 2,
     "metadata": {},
     "output_type": "execute_result"
    }
   ],
   "source": [
    "import pandas as pd\n",
    "import numpy as np\n",
    "\n",
    "df = pd.read_csv('iris.csv')\n",
    "df.columns.tolist()"
   ]
  },
  {
   "cell_type": "code",
   "execution_count": 3,
   "id": "4fdf4e5e-483e-43e0-85d0-8a765690b5e9",
   "metadata": {},
   "outputs": [
    {
     "name": "stdout",
     "output_type": "stream",
     "text": [
      "Logistic Regression accuracy: 0.9733\n",
      "SVC accuracy: 0.9733\n",
      "KNN accuracy: 0.9667\n",
      "Voting (Hard) accuracy: 0.9733\n",
      "Voting (Soft) accuracy: 0.9667\n",
      "Best weighted voting accuracy: 0.9733\n",
      "\n",
      "--- КРИТЕРИИ ПРОХОЖДЕНИЯ ---\n",
      "lr >= 0.8: True\n",
      "svc >= 0.8: True\n",
      "knn >= 0.75: True\n",
      "hard_v_cls >= 0.8: True\n",
      "soft_v_cls >= 0.8: True\n",
      "accuracy_gridcv >= 0.8: True\n"
     ]
    }
   ],
   "source": [
    "import pandas as pd\n",
    "import numpy as np\n",
    "from sklearn.preprocessing import LabelEncoder\n",
    "from sklearn.model_selection import cross_val_score, GridSearchCV\n",
    "from sklearn.linear_model import LogisticRegression\n",
    "from sklearn.svm import SVC\n",
    "from sklearn.neighbors import KNeighborsClassifier\n",
    "from sklearn.ensemble import VotingClassifier\n",
    "\n",
    "df = pd.read_csv('iris.csv')\n",
    "\n",
    "X = df[['sepal.length', 'sepal.width', 'petal.length', 'petal.width']]\n",
    "y = df['species']\n",
    "\n",
    "le = LabelEncoder()\n",
    "y = le.fit_transform(y)\n",
    "\n",
    "lr_model = LogisticRegression(max_iter=200)\n",
    "svc_model = SVC(probability=True, kernel='rbf')\n",
    "knn_model = KNeighborsClassifier(n_neighbors=3)\n",
    "\n",
    "lr_scores = cross_val_score(lr_model, X, y, cv=10, scoring='accuracy')\n",
    "svc_scores = cross_val_score(svc_model, X, y, cv=10, scoring='accuracy')\n",
    "knn_scores = cross_val_score(knn_model, X, y, cv=10, scoring='accuracy')\n",
    "\n",
    "lr = lr_scores.mean()\n",
    "svc = svc_scores.mean()\n",
    "knn = knn_scores.mean()\n",
    "\n",
    "print(f\"Logistic Regression accuracy: {lr:.4f}\")\n",
    "print(f\"SVC accuracy: {svc:.4f}\")\n",
    "print(f\"KNN accuracy: {knn:.4f}\")\n",
    "\n",
    "hard_voting = VotingClassifier(estimators=[('lr', lr_model), ('svc', svc_model), ('knn', knn_model)], voting='hard')\n",
    "hard_voting_scores = cross_val_score(hard_voting, X, y, cv=10, scoring='accuracy')\n",
    "hard_v_cls = hard_voting_scores.mean()\n",
    "print(f\"Voting (Hard) accuracy: {hard_v_cls:.4f}\")\n",
    "\n",
    "soft_voting = VotingClassifier(estimators=[('lr', lr_model), ('svc', svc_model), ('knn', knn_model)], voting='soft')\n",
    "soft_voting_scores = cross_val_score(soft_voting, X, y, cv=10, scoring='accuracy')\n",
    "soft_v_cls = soft_voting_scores.mean()\n",
    "print(f\"Voting (Soft) accuracy: {soft_v_cls:.4f}\")\n",
    "\n",
    "weights = []\n",
    "for i in range(1, 4):\n",
    "    for j in range(1, 4):\n",
    "        for k in range(1, 4):\n",
    "            weights.append((i, j, k))\n",
    "\n",
    "soft_voting = VotingClassifier(estimators=[('lr', lr_model), ('svc', svc_model), ('knn', knn_model)], voting='soft')\n",
    "\n",
    "param_grid = {'weights': weights}\n",
    "grid = GridSearchCV(soft_voting, param_grid, cv=10, scoring='accuracy')\n",
    "grid.fit(X, y)\n",
    "\n",
    "accuracy_gridcv = grid.best_score_\n",
    "print(f\"Best weighted voting accuracy: {accuracy_gridcv:.4f}\")\n",
    "\n",
    "# ====== Условия прохождения ======\n",
    "print(\"\\n--- КРИТЕРИИ ПРОХОЖДЕНИЯ ---\")\n",
    "print(f\"lr >= 0.8: {lr >= 0.8}\")\n",
    "print(f\"svc >= 0.8: {svc >= 0.8}\")\n",
    "print(f\"knn >= 0.75: {knn >= 0.75}\")\n",
    "print(f\"hard_v_cls >= 0.8: {hard_v_cls >= 0.8}\")\n",
    "print(f\"soft_v_cls >= 0.8: {soft_v_cls >= 0.8}\")\n",
    "print(f\"accuracy_gridcv >= 0.8: {accuracy_gridcv >= 0.8}\")"
   ]
  },
  {
   "cell_type": "code",
   "execution_count": 4,
   "id": "3519c8ee-9096-4a6f-91e2-a316607010a9",
   "metadata": {},
   "outputs": [
    {
     "data": {
      "text/plain": [
       "['Age',\n",
       " 'Sex',\n",
       " 'ChestPainType',\n",
       " 'RestingBP',\n",
       " 'Cholesterol',\n",
       " 'FastingBS',\n",
       " 'RestingECG',\n",
       " 'MaxHR',\n",
       " 'ExerciseAngina',\n",
       " 'Oldpeak',\n",
       " 'ST_Slope',\n",
       " 'HeartDisease']"
      ]
     },
     "execution_count": 4,
     "metadata": {},
     "output_type": "execute_result"
    }
   ],
   "source": [
    "import pandas as pd\n",
    "import numpy as np\n",
    "\n",
    "df = pd.read_csv('heart.csv')\n",
    "df.columns.tolist()"
   ]
  },
  {
   "cell_type": "code",
   "execution_count": 5,
   "id": "51ea8534-71bd-4d6b-8d28-387bef74106f",
   "metadata": {},
   "outputs": [
    {
     "name": "stdout",
     "output_type": "stream",
     "text": [
      "Данные загружены: 918 строк, 12 столбцов\n",
      "После удаления выбросов: 587 строк\n"
     ]
    },
    {
     "name": "stderr",
     "output_type": "stream",
     "text": [
      "C:\\Users\\ЖарболовАлиКуанышеви\\AppData\\Local\\Programs\\Python\\Python311\\Lib\\site-packages\\sklearn\\linear_model\\_logistic.py:1237: FutureWarning: 'multi_class' was deprecated in version 1.5 and will be removed in 1.7. From then on, binary problems will be fit as proper binary  logistic regression models (as if multi_class='ovr' were set). Leave it to its default value to avoid this warning.\n",
      "  warnings.warn(\n",
      "C:\\Users\\ЖарболовАлиКуанышеви\\AppData\\Local\\Programs\\Python\\Python311\\Lib\\site-packages\\sklearn\\linear_model\\_logistic.py:1237: FutureWarning: 'multi_class' was deprecated in version 1.5 and will be removed in 1.7. From then on, binary problems will be fit as proper binary  logistic regression models (as if multi_class='ovr' were set). Leave it to its default value to avoid this warning.\n",
      "  warnings.warn(\n",
      "C:\\Users\\ЖарболовАлиКуанышеви\\AppData\\Local\\Programs\\Python\\Python311\\Lib\\site-packages\\sklearn\\linear_model\\_logistic.py:1237: FutureWarning: 'multi_class' was deprecated in version 1.5 and will be removed in 1.7. From then on, binary problems will be fit as proper binary  logistic regression models (as if multi_class='ovr' were set). Leave it to its default value to avoid this warning.\n",
      "  warnings.warn(\n",
      "C:\\Users\\ЖарболовАлиКуанышеви\\AppData\\Local\\Programs\\Python\\Python311\\Lib\\site-packages\\sklearn\\linear_model\\_logistic.py:1237: FutureWarning: 'multi_class' was deprecated in version 1.5 and will be removed in 1.7. From then on, binary problems will be fit as proper binary  logistic regression models (as if multi_class='ovr' were set). Leave it to its default value to avoid this warning.\n",
      "  warnings.warn(\n",
      "C:\\Users\\ЖарболовАлиКуанышеви\\AppData\\Local\\Programs\\Python\\Python311\\Lib\\site-packages\\sklearn\\linear_model\\_logistic.py:1237: FutureWarning: 'multi_class' was deprecated in version 1.5 and will be removed in 1.7. From then on, binary problems will be fit as proper binary  logistic regression models (as if multi_class='ovr' were set). Leave it to its default value to avoid this warning.\n",
      "  warnings.warn(\n",
      "C:\\Users\\ЖарболовАлиКуанышеви\\AppData\\Local\\Programs\\Python\\Python311\\Lib\\site-packages\\sklearn\\linear_model\\_logistic.py:1237: FutureWarning: 'multi_class' was deprecated in version 1.5 and will be removed in 1.7. From then on, binary problems will be fit as proper binary  logistic regression models (as if multi_class='ovr' were set). Leave it to its default value to avoid this warning.\n",
      "  warnings.warn(\n",
      "C:\\Users\\ЖарболовАлиКуанышеви\\AppData\\Local\\Programs\\Python\\Python311\\Lib\\site-packages\\sklearn\\linear_model\\_logistic.py:1237: FutureWarning: 'multi_class' was deprecated in version 1.5 and will be removed in 1.7. From then on, binary problems will be fit as proper binary  logistic regression models (as if multi_class='ovr' were set). Leave it to its default value to avoid this warning.\n",
      "  warnings.warn(\n"
     ]
    },
    {
     "name": "stdout",
     "output_type": "stream",
     "text": [
      "VotingClassifier (hard) recall (CV=5): 0.8300\n",
      "VotingClassifier (soft) recall (CV=5): 0.8400\n",
      "ROC AUC Score: 0.9162\n"
     ]
    },
    {
     "name": "stderr",
     "output_type": "stream",
     "text": [
      "C:\\Users\\ЖарболовАлиКуанышеви\\AppData\\Local\\Programs\\Python\\Python311\\Lib\\site-packages\\sklearn\\linear_model\\_logistic.py:1237: FutureWarning: 'multi_class' was deprecated in version 1.5 and will be removed in 1.7. From then on, binary problems will be fit as proper binary  logistic regression models (as if multi_class='ovr' were set). Leave it to its default value to avoid this warning.\n",
      "  warnings.warn(\n",
      "C:\\Users\\ЖарболовАлиКуанышеви\\AppData\\Local\\Programs\\Python\\Python311\\Lib\\site-packages\\sklearn\\linear_model\\_logistic.py:1237: FutureWarning: 'multi_class' was deprecated in version 1.5 and will be removed in 1.7. From then on, binary problems will be fit as proper binary  logistic regression models (as if multi_class='ovr' were set). Leave it to its default value to avoid this warning.\n",
      "  warnings.warn(\n",
      "C:\\Users\\ЖарболовАлиКуанышеви\\AppData\\Local\\Programs\\Python\\Python311\\Lib\\site-packages\\sklearn\\linear_model\\_logistic.py:1237: FutureWarning: 'multi_class' was deprecated in version 1.5 and will be removed in 1.7. From then on, binary problems will be fit as proper binary  logistic regression models (as if multi_class='ovr' were set). Leave it to its default value to avoid this warning.\n",
      "  warnings.warn(\n",
      "C:\\Users\\ЖарболовАлиКуанышеви\\AppData\\Local\\Programs\\Python\\Python311\\Lib\\site-packages\\sklearn\\linear_model\\_logistic.py:1237: FutureWarning: 'multi_class' was deprecated in version 1.5 and will be removed in 1.7. From then on, binary problems will be fit as proper binary  logistic regression models (as if multi_class='ovr' were set). Leave it to its default value to avoid this warning.\n",
      "  warnings.warn(\n"
     ]
    }
   ],
   "source": [
    "import pandas as pd\n",
    "import numpy as np\n",
    "from sklearn.model_selection import train_test_split, cross_val_score\n",
    "from sklearn.preprocessing import StandardScaler, LabelEncoder\n",
    "from sklearn.linear_model import LogisticRegression\n",
    "from sklearn.neighbors import KNeighborsClassifier\n",
    "from sklearn.svm import SVC\n",
    "from sklearn.ensemble import VotingClassifier\n",
    "from sklearn.metrics import roc_auc_score, roc_curve\n",
    "\n",
    "DATA_PATH = 'heart.csv'\n",
    "df = pd.read_csv(DATA_PATH)\n",
    "print(f\"Данные загружены: {df.shape[0]} строк, {df.shape[1]} столбцов\")\n",
    "\n",
    "numeric_cols = df.select_dtypes(include=[np.number]).columns\n",
    "for col in numeric_cols:\n",
    "    Q1 = df[col].quantile(0.25)\n",
    "    Q3 = df[col].quantile(0.75)\n",
    "    IQR = Q3 - Q1\n",
    "    lower = Q1 - 1.5 * IQR\n",
    "    upper = Q3 + 1.5 * IQR\n",
    "    df = df[(df[col] >= lower) & (df[col] <= upper)]\n",
    "\n",
    "print(f\"После удаления выбросов: {df.shape[0]} строк\")\n",
    "\n",
    "cat_cols = df.select_dtypes(include=['object']).columns\n",
    "for col in cat_cols:\n",
    "    le = LabelEncoder()\n",
    "    df[col] = le.fit_transform(df[col])\n",
    "\n",
    "X = df.drop('HeartDisease', axis=1)\n",
    "y = df['HeartDisease']\n",
    "\n",
    "X_train, X_test, y_train, y_test = train_test_split(X, y, test_size=0.2, random_state=42, stratify=y)\n",
    "\n",
    "scaler = StandardScaler()\n",
    "X_train = scaler.fit_transform(X_train)\n",
    "X_test = scaler.transform(X_test)\n",
    "\n",
    "lr_model = LogisticRegression(solver='lbfgs', multi_class='multinomial', max_iter=200)\n",
    "knn_model = KNeighborsClassifier()\n",
    "svc_model = SVC(gamma='auto', probability=True)\n",
    "\n",
    "hard_voting = VotingClassifier(estimators=[('lr', lr_model), ('knn', knn_model), ('svc', svc_model)], voting='hard')\n",
    "VC_hard_cv_score = cross_val_score(hard_voting, X_train, y_train, cv=5, scoring='recall').mean()\n",
    "print(f\"VotingClassifier (hard) recall (CV=5): {VC_hard_cv_score:.4f}\")\n",
    "\n",
    "soft_voting = VotingClassifier(estimators=[('lr', lr_model), ('knn', knn_model), ('svc', svc_model)], voting='soft')\n",
    "VC_soft_cv_score = cross_val_score(soft_voting, X_train, y_train, cv=5, scoring='recall').mean()\n",
    "print(f\"VotingClassifier (soft) recall (CV=5): {VC_soft_cv_score:.4f}\")\n",
    "\n",
    "soft_voting.fit(X_train, y_train)\n",
    "y_pred_proba = soft_voting.predict_proba(X_test)[:, 1]\n",
    "ROCAUCscore = roc_auc_score(y_test, y_pred_proba)\n",
    "print(f\"ROC AUC Score: {ROCAUCscore:.4f}\")\n"
   ]
  },
  {
   "cell_type": "code",
   "execution_count": null,
   "id": "b805449d-7e7c-407d-8a4e-2f5fd5d3590f",
   "metadata": {},
   "outputs": [],
   "source": []
  }
 ],
 "metadata": {
  "kernelspec": {
   "display_name": "Python 3 (ipykernel)",
   "language": "python",
   "name": "python3"
  },
  "language_info": {
   "codemirror_mode": {
    "name": "ipython",
    "version": 3
   },
   "file_extension": ".py",
   "mimetype": "text/x-python",
   "name": "python",
   "nbconvert_exporter": "python",
   "pygments_lexer": "ipython3",
   "version": "3.11.5"
  }
 },
 "nbformat": 4,
 "nbformat_minor": 5
}

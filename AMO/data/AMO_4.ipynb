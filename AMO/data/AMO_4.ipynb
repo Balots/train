{
 "cells": [
  {
   "cell_type": "code",
   "execution_count": 2,
   "id": "cfdf501c-85f1-48ba-b9fd-2deaa8067bd0",
   "metadata": {},
   "outputs": [],
   "source": [
    "import pandas as pd\n",
    "import numpy as np"
   ]
  },
  {
   "cell_type": "code",
   "execution_count": 3,
   "id": "37091b15-68e8-4e77-86e5-a20fd8143d21",
   "metadata": {},
   "outputs": [
    {
     "data": {
      "text/plain": [
       "'2.2.3'"
      ]
     },
     "execution_count": 3,
     "metadata": {},
     "output_type": "execute_result"
    }
   ],
   "source": [
    "pd.__version__"
   ]
  },
  {
   "cell_type": "code",
   "execution_count": 8,
   "id": "ab0ba41d-cb3e-4ea3-af58-53157a2a7a10",
   "metadata": {},
   "outputs": [
    {
     "name": "stdout",
     "output_type": "stream",
     "text": [
      "     Name  Age  Height (cm)\n",
      "0   Andry   20          170\n",
      "1  Garold   21          180\n",
      "2   James   22          190\n"
     ]
    }
   ],
   "source": [
    "data_dict = {'Name':['Andry', 'Garold', 'James'], 'Age':[20, 21, 22], 'Height (cm)': [170, 180, 190]}\n",
    "df = pd.DataFrame(data_dict)\n",
    "print(df)"
   ]
  },
  {
   "cell_type": "code",
   "execution_count": null,
   "id": "e79d1b1b-1e03-4b67-8e60-17869d8e97e0",
   "metadata": {},
   "outputs": [],
   "source": []
  },
  {
   "cell_type": "code",
   "execution_count": null,
   "id": "dc53fa6f-dd44-460d-9674-2cc0cbfd9b2b",
   "metadata": {},
   "outputs": [],
   "source": []
  }
 ],
 "metadata": {
  "kernelspec": {
   "display_name": "Python 3 (ipykernel)",
   "language": "python",
   "name": "python3"
  },
  "language_info": {
   "codemirror_mode": {
    "name": "ipython",
    "version": 3
   },
   "file_extension": ".py",
   "mimetype": "text/x-python",
   "name": "python",
   "nbconvert_exporter": "python",
   "pygments_lexer": "ipython3",
   "version": "3.12.3"
  }
 },
 "nbformat": 4,
 "nbformat_minor": 5
}

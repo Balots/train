{
 "cells": [
  {
   "cell_type": "code",
   "execution_count": 6,
   "id": "ff9a824d-5546-49fc-9419-14641482a351",
   "metadata": {},
   "outputs": [],
   "source": [
    "import torch\n",
    "\n",
    "x1 = torch.tensor([[1, 2, 3],[4, 5, 6]])\n",
    "x2 = torch.reshape(x1, (1, 2, 3))\n",
    "x3 = torch.reshape(x2, (2, 1, 3))"
   ]
  },
  {
   "cell_type": "code",
   "execution_count": 9,
   "id": "4092113e-211d-4db7-a300-e50c349c53b5",
   "metadata": {},
   "outputs": [],
   "source": [
    "x = torch.tensor([1, 2, 3])\n",
    "y = torch.tensor([[1], [2], [3]])\n",
    "result = x + y"
   ]
  },
  {
   "cell_type": "code",
   "execution_count": 10,
   "id": "95629202-00aa-4401-89ac-6e7ede4e67e6",
   "metadata": {},
   "outputs": [
    {
     "data": {
      "text/plain": [
       "tensor([[2, 3, 4],\n",
       "        [3, 4, 5],\n",
       "        [4, 5, 6]])"
      ]
     },
     "execution_count": 10,
     "metadata": {},
     "output_type": "execute_result"
    }
   ],
   "source": [
    "result"
   ]
  },
  {
   "cell_type": "code",
   "execution_count": 25,
   "id": "f30a5ab8-8dca-4f43-9562-cca865d9dd51",
   "metadata": {},
   "outputs": [
    {
     "data": {
      "text/plain": [
       "1.0"
      ]
     },
     "execution_count": 25,
     "metadata": {},
     "output_type": "execute_result"
    }
   ],
   "source": [
    "matrix = torch.tensor([[2, 1], [1, -3]], dtype=torch.float64)\n",
    "vec = torch.tensor([5, -8], dtype=torch.float64)\n",
    "\n",
    "x = torch.linalg.solve(matrix,vec)"
   ]
  },
  {
   "cell_type": "code",
   "execution_count": 26,
   "id": "dc1de6fd-68e0-4649-bdc4-966249329da1",
   "metadata": {},
   "outputs": [],
   "source": [
    "matrix = torch.tensor([[[2, 1], [1, -3]], \n",
    "                       [[3, 2], [1, -2]]], dtype=torch.float64)\n",
    "vec = torch.tensor([[5, -8], [7, -5]], dtype=torch.float64)\n",
    "\n",
    "x = torch.linalg.solve(matrix,vec)"
   ]
  },
  {
   "cell_type": "code",
   "execution_count": 38,
   "id": "85d8bd4a-339f-474f-b30b-169df17c7433",
   "metadata": {},
   "outputs": [],
   "source": [
    "D = torch.tensor([1, 2, 3], dtype=torch.float16)\n",
    "R = torch.tensor([4, 5, 6], dtype=torch.float16)\n",
    "\n",
    "d1 = torch.diag(D)\n",
    "result = d1 @ R"
   ]
  },
  {
   "cell_type": "code",
   "execution_count": 68,
   "id": "151ba545-3098-45bf-9665-cb6351b23e78",
   "metadata": {},
   "outputs": [],
   "source": [
    "import numpy as np\n",
    "\n",
    "Cls1 = np.array([0.9, 0.08, 0.02]) \n",
    "Cls2 = np.array([0.1, 0.8, 0.1]) \n",
    "Cls3 = np.array([0.01, 0.85, 0.14]) \n",
    "Cls4 = np.array([0.25, 0.65, 0.10]) \n",
    "Cls5 = np.array([0.05, 0.9, 0.05])\n",
    "\n",
    "M = np.concatenate([Cls1, Cls2, Cls3, Cls4, Cls5], axis=0)\n",
    "M.resize(3, 5)\n",
    "\n",
    "result_clf = torch.from_numpy(M)\n",
    "sum_result = torch.sum(result_clf, dim=1)\n",
    "mean_in_cols = torch.mean(result_clf, dim=1)\n",
    "max_in_row = torch.max(result_clf, dim=0)"
   ]
  },
  {
   "cell_type": "code",
   "execution_count": 96,
   "id": "bcce28aa-b71c-4aba-b058-2e6d4e71b981",
   "metadata": {},
   "outputs": [],
   "source": [
    "matrix = torch.rand(20)\n",
    "values, indices = torch.topk(matrix, 5)\n",
    "for num in indices:\n",
    "    matrix[num] = 0\n",
    "matrix = torch.reshape(matrix, (10, 2))"
   ]
  },
  {
   "cell_type": "code",
   "execution_count": 97,
   "id": "727a081f-8d11-4e19-b5e8-74b4948b0925",
   "metadata": {},
   "outputs": [
    {
     "data": {
      "text/plain": [
       "tensor([[0.0000, 0.7918],\n",
       "        [0.4891, 0.0000],\n",
       "        [0.6157, 0.0000],\n",
       "        [0.6806, 0.7247],\n",
       "        [0.7743, 0.7311],\n",
       "        [0.1576, 0.6749],\n",
       "        [0.0000, 0.2927],\n",
       "        [0.1515, 0.3021],\n",
       "        [0.4393, 0.0000],\n",
       "        [0.3256, 0.7164]])"
      ]
     },
     "execution_count": 97,
     "metadata": {},
     "output_type": "execute_result"
    }
   ],
   "source": [
    "matrix"
   ]
  },
  {
   "cell_type": "code",
   "execution_count": 87,
   "id": "277c126a-b440-4afe-8d57-c3d0f4a12ace",
   "metadata": {},
   "outputs": [],
   "source": [
    "\n"
   ]
  },
  {
   "cell_type": "code",
   "execution_count": null,
   "id": "c581efd2-81a7-4885-a27f-6e6d267dc438",
   "metadata": {},
   "outputs": [],
   "source": []
  }
 ],
 "metadata": {
  "kernelspec": {
   "display_name": "Python 3 (ipykernel)",
   "language": "python",
   "name": "python3"
  },
  "language_info": {
   "codemirror_mode": {
    "name": "ipython",
    "version": 3
   },
   "file_extension": ".py",
   "mimetype": "text/x-python",
   "name": "python",
   "nbconvert_exporter": "python",
   "pygments_lexer": "ipython3",
   "version": "3.12.3"
  }
 },
 "nbformat": 4,
 "nbformat_minor": 5
}

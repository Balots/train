{
 "cells": [
  {
   "cell_type": "code",
   "execution_count": 1,
   "id": "460a01e4-5f66-44b7-aef2-a915004c5258",
   "metadata": {},
   "outputs": [
    {
     "name": "stdout",
     "output_type": "stream",
     "text": [
      "torch version: 2.6\n",
      "Using device: cuda\n",
      "cuda:  cu124\n",
      "Cuda is available: True\n",
      "number of devices: 1\n",
      "NVIDIA GeForce RTX 4070\n",
      "Memory Usage:\n",
      "Allocated: 0.0 GB\n",
      "Cached:    0.0 GB\n",
      "default data type: torch.float32\n",
      "available number of workers: 24\n"
     ]
    },
    {
     "name": "stderr",
     "output_type": "stream",
     "text": [
      "/home/balots/jupyter-venv/lib/python3.12/site-packages/torch/__init__.py:1236: UserWarning: torch.set_default_tensor_type() is deprecated as of PyTorch 2.1, please use torch.set_default_dtype() and torch.set_default_device() as alternatives. (Triggered internally at /pytorch/torch/csrc/tensor/python_tensor.cpp:434.)\n",
      "  _C._set_default_tensor_type(t)\n"
     ]
    }
   ],
   "source": [
    "import os\n",
    "from pathlib import Path\n",
    "from PIL import Image\n",
    "import numpy as np\n",
    "import pandas as pd\n",
    "import random\n",
    "import time\n",
    "import matplotlib.pyplot as plt\n",
    "\n",
    "from sklearn.preprocessing import LabelEncoder\n",
    "\n",
    "import torch\n",
    "from torch.utils.data import Dataset\n",
    "import torch\n",
    "import torch.nn as nn\n",
    "import torch.nn.functional as F\n",
    "import torch.optim as optim\n",
    "\n",
    "import torchvision\n",
    "from torchvision import transforms, models\n",
    "from tqdm.notebook import tqdm, trange\n",
    "\n",
    "\n",
    "\n",
    "def torch_stats(): \n",
    "    torch_version = \".\".join(torch.__version__.split(\".\")[:2])\n",
    "    print('torch version:',torch_version)\n",
    "    \n",
    "    device = torch.device('cuda' if torch.cuda.is_available() else 'cpu')\n",
    "    print('Using device:', device)\n",
    "    dtype = torch.float32\n",
    "    \n",
    "    if device.type == 'cuda':\n",
    "        cuda_version  = torch.__version__.split(\"+\")[-1]\n",
    "        print(\"cuda: \", cuda_version)\n",
    "        \n",
    "        torch.set_default_tensor_type(torch.cuda.FloatTensor)\n",
    "        print('Cuda is available:',torch.cuda.is_available())\n",
    "\n",
    "        n_devices = torch.cuda.device_count()\n",
    "        print('number of devices: %d'%(n_devices))\n",
    "        if n_devices > 0:\n",
    "            device = 'cuda:0'\n",
    "        for cnt_device in range(n_devices):\n",
    "            print(torch.cuda.get_device_name(cnt_device))\n",
    "            print('Memory Usage:')\n",
    "            print('Allocated:', round(torch.cuda.memory_allocated(cnt_device)/1024**3,1), 'GB')\n",
    "            print('Cached:   ', round(torch.cuda.memory_reserved(cnt_device)/1024**3,1), 'GB')\n",
    "\n",
    "\n",
    "    torch.set_default_dtype(dtype) # float32\n",
    "    print('default data type:',dtype)\n",
    "    \n",
    "    num_workers=os.cpu_count()\n",
    "    print ('available number of workers:',num_workers)\n",
    "    \n",
    "    return device, dtype, num_workers\n",
    "#-------------------------------\n",
    "def torch_seed(seed = 42, deterministic = True):\n",
    "    random.seed(seed) # random and transforms\n",
    "    np.random.seed(seed) #numpy\n",
    "    torch.manual_seed(seed) #cpu\n",
    "    torch.cuda.manual_seed(seed) #gpu\n",
    "    torch.backends.cudnn.deterministic=deterministic #cudnn \n",
    "\n",
    "\n",
    "\n",
    "device, dtype, num_workers = torch_stats()\n",
    "torch_seed(seed = 42, deterministic = True)\n",
    "\n",
    "from torchvision.datasets.utils import download_and_extract_archive\n",
    "url = 'https://github.com/MVRonkin/Deep-Learning-Foundation-Course/raw/main/2024Light/ContestDataset.zip'\n",
    "root_directory = os.path.join(os.getcwd(),'.')\n",
    "download_and_extract_archive(url, root_directory)"
   ]
  },
  {
   "cell_type": "code",
   "execution_count": 2,
   "id": "631442ff-0b35-4d61-ab7d-0a03474e9be9",
   "metadata": {},
   "outputs": [
    {
     "data": {
      "text/plain": [
       "['train', 'test.csv', 'test_open', 'test', 'train.csv', 'test_open.csv']"
      ]
     },
     "execution_count": 2,
     "metadata": {},
     "output_type": "execute_result"
    }
   ],
   "source": [
    "SIZE = (32,32)\n",
    "\n",
    "#transform_ = lambda x: x.flatten()/255\n",
    "\n",
    "transform = transforms.Compose([\n",
    "    transforms.Resize((32, 32)),\n",
    "    transforms.Grayscale(),\n",
    "    transforms.RandomHorizontalFlip(),\n",
    "    transforms.RandomRotation(10),\n",
    "    transforms.ToTensor(),\n",
    "    transforms.Normalize(mean=[0.5], std=[0.5]),\n",
    "])\n",
    "\n",
    "path2data = \"./ContestDataset/\"\n",
    "os.listdir(path2data)"
   ]
  },
  {
   "cell_type": "code",
   "execution_count": 3,
   "id": "7ecd1966-c72f-4790-b3ef-1e7726183d3a",
   "metadata": {},
   "outputs": [
    {
     "name": "stdout",
     "output_type": "stream",
     "text": [
      "[0 1 2 3 4] ['airplane' 'automobile' 'bird' 'cat' 'deer']\n"
     ]
    }
   ],
   "source": [
    "from sklearn.preprocessing import LabelEncoder\n",
    "le = LabelEncoder()\n",
    "csv = pd.read_csv(os.path.join(path2data,'test_open.csv'))\n",
    "print(np.unique(le.fit_transform(csv['class'])), csv['class'].unique() )"
   ]
  },
  {
   "cell_type": "code",
   "execution_count": 4,
   "id": "dea2ac4a-41a2-4733-93a1-605811715b91",
   "metadata": {},
   "outputs": [],
   "source": [
    "class ContestDataset(Dataset):\n",
    "    def __init__(self, image_dir='train', data_path='train.csv', transform=None, le=False):\n",
    "        self.image_dir = image_dir\n",
    "        self.transform = transform\n",
    "        self.le = le\n",
    "\n",
    "        csv = pd.read_csv(data_path)\n",
    "\n",
    "        # --- Удаляем дубликаты и сбрасываем индекс ---\n",
    "        csv = csv.drop_duplicates(subset=['file_name'], keep='first').reset_index(drop=True)\n",
    "\n",
    "        self.fnames = csv['file_name']\n",
    "\n",
    "        if 'class' in csv.columns:\n",
    "            if self.le == False:\n",
    "                self.le = LabelEncoder()\n",
    "                self.le.fit(csv['class'])\n",
    "\n",
    "            self.class_names = list(csv['class'].unique())\n",
    "            self.labels = self.le.transform(csv['class'])\n",
    "            self.labels_exist = True\n",
    "        else:\n",
    "            self.labels = None\n",
    "            self.labels_exist = False\n",
    "\n",
    "    def __len__(self):\n",
    "        return len(self.fnames)\n",
    "\n",
    "    def __getitem__(self, idx):\n",
    "        img_path = os.path.join(self.image_dir, self.fnames.iloc[idx])\n",
    "        img = Image.open(img_path)\n",
    "    \n",
    "        if self.transform:\n",
    "            img = self.transform(img)\n",
    "        else:\n",
    "            img = transforms.ToTensor()(img)\n",
    "    \n",
    "        if self.labels_exist:\n",
    "            label = self.labels[idx]\n",
    "        else:\n",
    "            label = self.fnames.iloc[idx]\n",
    "    \n",
    "        return img, label"
   ]
  },
  {
   "cell_type": "code",
   "execution_count": 5,
   "id": "39e2e159-87b6-4ed1-a76b-0fd53ffcd586",
   "metadata": {},
   "outputs": [],
   "source": [
    "train_data =  ContestDataset(image_dir = os.path.join(path2data,'train'), \n",
    "                             data_path = os.path.join(path2data,'train.csv'),                              \n",
    "                             transform=transform, le = le)\n",
    "\n",
    "test_data =  ContestDataset(image_dir = os.path.join(path2data,'test_open'), \n",
    "                            data_path = os.path.join(path2data,'test_open.csv'), \n",
    "                            transform=transform, le = le)\n",
    "\n",
    "submit_data =  ContestDataset(image_dir = os.path.join(path2data,'test'), \n",
    "                              data_path = os.path.join(path2data,'test.csv'), \n",
    "                              transform=transform, le = le)"
   ]
  },
  {
   "cell_type": "code",
   "execution_count": 6,
   "id": "36bb3adc-6c68-468a-9931-f044f3add67e",
   "metadata": {},
   "outputs": [
    {
     "data": {
      "text/plain": [
       "<torch._C.Generator at 0x7c77a5829310>"
      ]
     },
     "execution_count": 6,
     "metadata": {},
     "output_type": "execute_result"
    }
   ],
   "source": [
    "g = torch.Generator(device)  # ← Always CPU for random_split\n",
    "g.manual_seed(42)"
   ]
  },
  {
   "cell_type": "code",
   "execution_count": 7,
   "id": "578cd7fb-753a-4f79-abfd-a9540dc08372",
   "metadata": {},
   "outputs": [
    {
     "name": "stdout",
     "output_type": "stream",
     "text": [
      "Training data size : 3896, Validation data size : 974, Test data size : 1970\n"
     ]
    }
   ],
   "source": [
    "TRAIN_RATIO = 0.8\n",
    "\n",
    "n_train_examples = int(len(train_data) * TRAIN_RATIO)\n",
    "n_valid_examples = len(train_data) - n_train_examples\n",
    "\n",
    "train_data, valid_data = torch.utils.data.random_split(train_data, [n_train_examples, n_valid_examples], generator=g)\n",
    "\n",
    "print(f\"Training data size : {len(train_data)}, Validation data size : {len(valid_data)}, Test data size : {len(test_data)}\")"
   ]
  },
  {
   "cell_type": "code",
   "execution_count": 8,
   "id": "e0ad2a04-350f-453b-b972-2b6abcc8f460",
   "metadata": {},
   "outputs": [
    {
     "name": "stdout",
     "output_type": "stream",
     "text": [
      "Training data batches : 61, Validation data batches : 16, Test data batches : 31, Submit data batches : 31\n"
     ]
    }
   ],
   "source": [
    "import torch.utils.data as data\n",
    "\n",
    "BATCH_SIZE = 64\n",
    "\n",
    "train_loader = data.DataLoader(train_data,\n",
    "                                 shuffle=True,\n",
    "                                 batch_size=BATCH_SIZE,\n",
    "                                 generator=g)\n",
    "\n",
    "val_loader = data.DataLoader(valid_data,\n",
    "                                 batch_size=BATCH_SIZE,\n",
    "                                 generator=g)\n",
    "\n",
    "test_loader = data.DataLoader(test_data,\n",
    "                                batch_size=BATCH_SIZE,\n",
    "                             generator=g)\n",
    "\n",
    "\n",
    "submit_loader = data.DataLoader(submit_data,\n",
    "                                batch_size=BATCH_SIZE,\n",
    "                               generator=g)\n",
    " \n",
    "print(f\"Training data batches : {len(train_loader)}, Validation data batches : {len(val_loader)}, Test data batches : {len(test_loader)}, Submit data batches : {len(test_loader)}\")"
   ]
  },
  {
   "cell_type": "code",
   "execution_count": 9,
   "id": "711e680f-0454-45db-b9f6-d3a8762e167a",
   "metadata": {},
   "outputs": [],
   "source": [
    "class CNNModel(nn.Module):\n",
    "    def __init__(self, num_classes=5):\n",
    "        super().__init__()\n",
    "        \n",
    "        self.conv_layers = nn.Sequential(\n",
    "            # [1, 32, 32] → [32, 32, 32]\n",
    "            nn.Conv2d(1, 32, kernel_size=3, padding=1),\n",
    "            nn.BatchNorm2d(32),\n",
    "            nn.ReLU(),\n",
    "            nn.MaxPool2d(2),       # [32, 16, 16]\n",
    "\n",
    "            nn.Conv2d(32, 64, kernel_size=3, padding=1),\n",
    "            nn.BatchNorm2d(64),\n",
    "            nn.ReLU(),\n",
    "            nn.MaxPool2d(2),       # [64, 8, 8]\n",
    "\n",
    "            nn.Conv2d(64, 128, kernel_size=3, padding=1),\n",
    "            nn.BatchNorm2d(128),\n",
    "            nn.ReLU(),\n",
    "            nn.MaxPool2d(2),       # [128, 4, 4]\n",
    "            nn.Dropout(0.3),\n",
    "        )\n",
    "\n",
    "        self.fc_layers = nn.Sequential(\n",
    "            nn.Linear(128 * 4 * 4, 256),\n",
    "            nn.ReLU(),\n",
    "            nn.Dropout(0.4),\n",
    "            nn.Linear(256, num_classes)\n",
    "        )\n",
    "\n",
    "    def forward(self, x):\n",
    "        # Вход из DataLoader теперь (batch, 1, 32, 32)\n",
    "        x = self.conv_layers(x)\n",
    "        x = torch.flatten(x, 1)\n",
    "        x = self.fc_layers(x)\n",
    "        return x\n"
   ]
  },
  {
   "cell_type": "code",
   "execution_count": 10,
   "id": "0b4e5b94-0bfd-47fe-9935-40200ef768d9",
   "metadata": {},
   "outputs": [],
   "source": [
    "def train(model, dataloader, optimizer, criterion, metric,  device):\n",
    "\n",
    "    epoch_loss = 0\n",
    "    epoch_acc  = 0\n",
    "\n",
    "    model.train()\n",
    "\n",
    "    for (x, y) in tqdm(dataloader, desc=\"Training\", leave=False):\n",
    "\n",
    "        x, y = x.to(device).float(), y.to(device).long()\n",
    "\n",
    "        optimizer.zero_grad(set_to_none = True)\n",
    "\n",
    "        y_pred = model(x)\n",
    "\n",
    "        loss = criterion(y_pred, y)\n",
    "        acc  = metric(y_pred, y)\n",
    "\n",
    "        loss.backward()\n",
    "        optimizer.step()\n",
    "\n",
    "        epoch_loss += loss.item()\n",
    "        epoch_acc  += acc.item()\n",
    "\n",
    "    return epoch_loss / len(dataloader), epoch_acc / len(dataloader)\n",
    "\n",
    "def evaluate(model, dataloader, criterion, metric, device):\n",
    "\n",
    "    epoch_loss = 0\n",
    "    epoch_acc  = 0\n",
    "\n",
    "    model.eval()\n",
    "\n",
    "    with torch.inference_mode():\n",
    "        \n",
    "        for (x, y) in tqdm(dataloader, desc=\"Evaluating\", leave=False):\n",
    "\n",
    "            x, y = x.to(device).float(), y.to(device).long()\n",
    "\n",
    "            y_pred = model.forward(x)\n",
    "            \n",
    "            loss = criterion(y_pred, y)\n",
    "            acc  = metric( y_pred, y)\n",
    "\n",
    "            epoch_loss += loss.item()\n",
    "            epoch_acc  += acc.item()\n",
    "\n",
    "    return epoch_loss / len(dataloader), epoch_acc / len(dataloader)\n",
    "\n",
    "def epoch_time(start_time, end_time):\n",
    "    elapsed_time = end_time - start_time\n",
    "    elapsed_mins = int(elapsed_time / 60)\n",
    "    elapsed_secs = int(elapsed_time - (elapsed_mins * 60))\n",
    "    return elapsed_mins, elapsed_secs\n",
    "\n",
    "EPOCHS = 100\n",
    "\n",
    "def fit(model, train_loader, val_loader, optimizer, criterion, metric, epochs = EPOCHS, device='cpu',  path_best = 'best_model.pt', verbose = True):\n",
    "\n",
    "   \n",
    "    best_valid_loss = float('inf')\n",
    "\n",
    "    for epoch in trange(epochs):\n",
    "\n",
    "        start_time = time.monotonic()\n",
    "\n",
    "        train_loss, train_acc = train(model, train_loader, optimizer, criterion, metric, device)\n",
    "        valid_loss, valid_acc = evaluate(model, val_loader, criterion, metric, device)\n",
    "\n",
    "        if valid_loss < best_valid_loss:\n",
    "            best_valid_loss = valid_loss\n",
    "            torch.save(model.state_dict(), path_best)\n",
    "\n",
    "        end_time = time.monotonic()\n",
    "\n",
    "        epoch_mins, epoch_secs = epoch_time(start_time, end_time)\n",
    "\n",
    "        if verbose == True:\n",
    "            print(f'Epoch: {epoch+1:02} | Epoch Time: {epoch_mins}m {epoch_secs}s')\n",
    "            print(f'\\tTrain Loss: {train_loss:.3f} | Train Acc: {train_acc*100:.2f}%',\n",
    "            f' | Val. Loss: {valid_loss:.3f} | Val. Acc: {valid_acc*100:.2f}%') "
   ]
  },
  {
   "cell_type": "code",
   "execution_count": 12,
   "id": "5549b9c6-0a0e-4f40-8ebe-6093f30e127f",
   "metadata": {},
   "outputs": [
    {
     "data": {
      "application/vnd.jupyter.widget-view+json": {
       "model_id": "e7d2ad97cfd64de7a39a76d301bed763",
       "version_major": 2,
       "version_minor": 0
      },
      "text/plain": [
       "  0%|          | 0/50 [00:00<?, ?it/s]"
      ]
     },
     "metadata": {},
     "output_type": "display_data"
    },
    {
     "data": {
      "application/vnd.jupyter.widget-view+json": {
       "model_id": "9f3527bb91c6487db51ace7b7687b1eb",
       "version_major": 2,
       "version_minor": 0
      },
      "text/plain": [
       "Training:   0%|          | 0/61 [00:00<?, ?it/s]"
      ]
     },
     "metadata": {},
     "output_type": "display_data"
    },
    {
     "data": {
      "application/vnd.jupyter.widget-view+json": {
       "model_id": "45ed2a473dec47038f1f1564b0609034",
       "version_major": 2,
       "version_minor": 0
      },
      "text/plain": [
       "Evaluating:   0%|          | 0/16 [00:00<?, ?it/s]"
      ]
     },
     "metadata": {},
     "output_type": "display_data"
    },
    {
     "name": "stdout",
     "output_type": "stream",
     "text": [
      "Epoch: 01 | Epoch Time: 0m 1s\n",
      "\tTrain Loss: 1.423 | Train Acc: 38.42%  | Val. Loss: 1.233 | Val. Acc: 51.87%\n"
     ]
    },
    {
     "data": {
      "application/vnd.jupyter.widget-view+json": {
       "model_id": "7cf43e315333411eba478d08c8f45568",
       "version_major": 2,
       "version_minor": 0
      },
      "text/plain": [
       "Training:   0%|          | 0/61 [00:00<?, ?it/s]"
      ]
     },
     "metadata": {},
     "output_type": "display_data"
    },
    {
     "data": {
      "application/vnd.jupyter.widget-view+json": {
       "model_id": "3ccdd05c6201493a846ca1804e5be0fb",
       "version_major": 2,
       "version_minor": 0
      },
      "text/plain": [
       "Evaluating:   0%|          | 0/16 [00:00<?, ?it/s]"
      ]
     },
     "metadata": {},
     "output_type": "display_data"
    },
    {
     "name": "stdout",
     "output_type": "stream",
     "text": [
      "Epoch: 02 | Epoch Time: 0m 1s\n",
      "\tTrain Loss: 1.245 | Train Acc: 47.18%  | Val. Loss: 1.153 | Val. Acc: 52.11%\n"
     ]
    },
    {
     "data": {
      "application/vnd.jupyter.widget-view+json": {
       "model_id": "3153f06260584472b3ecd51bcb42b0c9",
       "version_major": 2,
       "version_minor": 0
      },
      "text/plain": [
       "Training:   0%|          | 0/61 [00:00<?, ?it/s]"
      ]
     },
     "metadata": {},
     "output_type": "display_data"
    },
    {
     "data": {
      "application/vnd.jupyter.widget-view+json": {
       "model_id": "27acc4bb004c4fedb029747592f9a609",
       "version_major": 2,
       "version_minor": 0
      },
      "text/plain": [
       "Evaluating:   0%|          | 0/16 [00:00<?, ?it/s]"
      ]
     },
     "metadata": {},
     "output_type": "display_data"
    },
    {
     "name": "stdout",
     "output_type": "stream",
     "text": [
      "Epoch: 03 | Epoch Time: 0m 1s\n",
      "\tTrain Loss: 1.159 | Train Acc: 50.15%  | Val. Loss: 1.107 | Val. Acc: 53.71%\n"
     ]
    },
    {
     "data": {
      "application/vnd.jupyter.widget-view+json": {
       "model_id": "8b0af3ec0e1b4458aeb62a98892c2328",
       "version_major": 2,
       "version_minor": 0
      },
      "text/plain": [
       "Training:   0%|          | 0/61 [00:00<?, ?it/s]"
      ]
     },
     "metadata": {},
     "output_type": "display_data"
    },
    {
     "data": {
      "application/vnd.jupyter.widget-view+json": {
       "model_id": "030adc9a4c514525a54b14c386753ae0",
       "version_major": 2,
       "version_minor": 0
      },
      "text/plain": [
       "Evaluating:   0%|          | 0/16 [00:00<?, ?it/s]"
      ]
     },
     "metadata": {},
     "output_type": "display_data"
    },
    {
     "name": "stdout",
     "output_type": "stream",
     "text": [
      "Epoch: 04 | Epoch Time: 0m 1s\n",
      "\tTrain Loss: 1.119 | Train Acc: 52.41%  | Val. Loss: 1.127 | Val. Acc: 55.78%\n"
     ]
    },
    {
     "data": {
      "application/vnd.jupyter.widget-view+json": {
       "model_id": "bd9d3cbd03934c5f9268933b789b2ec6",
       "version_major": 2,
       "version_minor": 0
      },
      "text/plain": [
       "Training:   0%|          | 0/61 [00:00<?, ?it/s]"
      ]
     },
     "metadata": {},
     "output_type": "display_data"
    },
    {
     "data": {
      "application/vnd.jupyter.widget-view+json": {
       "model_id": "f8191d9ab7034edb8b6dd0848faca969",
       "version_major": 2,
       "version_minor": 0
      },
      "text/plain": [
       "Evaluating:   0%|          | 0/16 [00:00<?, ?it/s]"
      ]
     },
     "metadata": {},
     "output_type": "display_data"
    },
    {
     "name": "stdout",
     "output_type": "stream",
     "text": [
      "Epoch: 05 | Epoch Time: 0m 1s\n",
      "\tTrain Loss: 1.068 | Train Acc: 54.72%  | Val. Loss: 1.014 | Val. Acc: 59.33%\n"
     ]
    },
    {
     "data": {
      "application/vnd.jupyter.widget-view+json": {
       "model_id": "e0ed87ce05464f758bcaefcb247ee538",
       "version_major": 2,
       "version_minor": 0
      },
      "text/plain": [
       "Training:   0%|          | 0/61 [00:00<?, ?it/s]"
      ]
     },
     "metadata": {},
     "output_type": "display_data"
    },
    {
     "data": {
      "application/vnd.jupyter.widget-view+json": {
       "model_id": "db6ac8f05c734a91800d0389a04c2289",
       "version_major": 2,
       "version_minor": 0
      },
      "text/plain": [
       "Evaluating:   0%|          | 0/16 [00:00<?, ?it/s]"
      ]
     },
     "metadata": {},
     "output_type": "display_data"
    },
    {
     "name": "stdout",
     "output_type": "stream",
     "text": [
      "Epoch: 06 | Epoch Time: 0m 1s\n",
      "\tTrain Loss: 1.066 | Train Acc: 55.17%  | Val. Loss: 0.978 | Val. Acc: 59.18%\n"
     ]
    },
    {
     "data": {
      "application/vnd.jupyter.widget-view+json": {
       "model_id": "8cb0093f500a4a92a700ad776a08e56a",
       "version_major": 2,
       "version_minor": 0
      },
      "text/plain": [
       "Training:   0%|          | 0/61 [00:00<?, ?it/s]"
      ]
     },
     "metadata": {},
     "output_type": "display_data"
    },
    {
     "data": {
      "application/vnd.jupyter.widget-view+json": {
       "model_id": "5a9dd851043149ad850393c567fe255e",
       "version_major": 2,
       "version_minor": 0
      },
      "text/plain": [
       "Evaluating:   0%|          | 0/16 [00:00<?, ?it/s]"
      ]
     },
     "metadata": {},
     "output_type": "display_data"
    },
    {
     "name": "stdout",
     "output_type": "stream",
     "text": [
      "Epoch: 07 | Epoch Time: 0m 1s\n",
      "\tTrain Loss: 1.032 | Train Acc: 56.86%  | Val. Loss: 1.030 | Val. Acc: 58.01%\n"
     ]
    },
    {
     "data": {
      "application/vnd.jupyter.widget-view+json": {
       "model_id": "988a86618e744ac480a76a0fc1871557",
       "version_major": 2,
       "version_minor": 0
      },
      "text/plain": [
       "Training:   0%|          | 0/61 [00:00<?, ?it/s]"
      ]
     },
     "metadata": {},
     "output_type": "display_data"
    },
    {
     "data": {
      "application/vnd.jupyter.widget-view+json": {
       "model_id": "853b75f9a4f942b992774cb55645ac5f",
       "version_major": 2,
       "version_minor": 0
      },
      "text/plain": [
       "Evaluating:   0%|          | 0/16 [00:00<?, ?it/s]"
      ]
     },
     "metadata": {},
     "output_type": "display_data"
    },
    {
     "name": "stdout",
     "output_type": "stream",
     "text": [
      "Epoch: 08 | Epoch Time: 0m 1s\n",
      "\tTrain Loss: 1.006 | Train Acc: 58.15%  | Val. Loss: 0.991 | Val. Acc: 59.24%\n"
     ]
    },
    {
     "data": {
      "application/vnd.jupyter.widget-view+json": {
       "model_id": "ac483fb0149b4af6b165b257f6983e6e",
       "version_major": 2,
       "version_minor": 0
      },
      "text/plain": [
       "Training:   0%|          | 0/61 [00:00<?, ?it/s]"
      ]
     },
     "metadata": {},
     "output_type": "display_data"
    },
    {
     "data": {
      "application/vnd.jupyter.widget-view+json": {
       "model_id": "4db53837e5a34c88bc94f0f2840631c7",
       "version_major": 2,
       "version_minor": 0
      },
      "text/plain": [
       "Evaluating:   0%|          | 0/16 [00:00<?, ?it/s]"
      ]
     },
     "metadata": {},
     "output_type": "display_data"
    },
    {
     "name": "stdout",
     "output_type": "stream",
     "text": [
      "Epoch: 09 | Epoch Time: 0m 1s\n",
      "\tTrain Loss: 0.988 | Train Acc: 59.24%  | Val. Loss: 0.941 | Val. Acc: 61.54%\n"
     ]
    },
    {
     "data": {
      "application/vnd.jupyter.widget-view+json": {
       "model_id": "a66a7b171932425a92c7f7cf012ce9ae",
       "version_major": 2,
       "version_minor": 0
      },
      "text/plain": [
       "Training:   0%|          | 0/61 [00:00<?, ?it/s]"
      ]
     },
     "metadata": {},
     "output_type": "display_data"
    },
    {
     "data": {
      "application/vnd.jupyter.widget-view+json": {
       "model_id": "8b413f9d2e7044048877f3a252f75a09",
       "version_major": 2,
       "version_minor": 0
      },
      "text/plain": [
       "Evaluating:   0%|          | 0/16 [00:00<?, ?it/s]"
      ]
     },
     "metadata": {},
     "output_type": "display_data"
    },
    {
     "name": "stdout",
     "output_type": "stream",
     "text": [
      "Epoch: 10 | Epoch Time: 0m 1s\n",
      "\tTrain Loss: 0.977 | Train Acc: 59.15%  | Val. Loss: 0.972 | Val. Acc: 62.36%\n"
     ]
    },
    {
     "data": {
      "application/vnd.jupyter.widget-view+json": {
       "model_id": "a4f698bdc31544f1865bd89132cdcbe7",
       "version_major": 2,
       "version_minor": 0
      },
      "text/plain": [
       "Training:   0%|          | 0/61 [00:00<?, ?it/s]"
      ]
     },
     "metadata": {},
     "output_type": "display_data"
    },
    {
     "data": {
      "application/vnd.jupyter.widget-view+json": {
       "model_id": "b17bb0305d9c4826bc520d41344bd905",
       "version_major": 2,
       "version_minor": 0
      },
      "text/plain": [
       "Evaluating:   0%|          | 0/16 [00:00<?, ?it/s]"
      ]
     },
     "metadata": {},
     "output_type": "display_data"
    },
    {
     "name": "stdout",
     "output_type": "stream",
     "text": [
      "Epoch: 11 | Epoch Time: 0m 1s\n",
      "\tTrain Loss: 0.973 | Train Acc: 59.51%  | Val. Loss: 0.946 | Val. Acc: 62.18%\n"
     ]
    },
    {
     "data": {
      "application/vnd.jupyter.widget-view+json": {
       "model_id": "34005386aff04fcdae2b5da1429990da",
       "version_major": 2,
       "version_minor": 0
      },
      "text/plain": [
       "Training:   0%|          | 0/61 [00:00<?, ?it/s]"
      ]
     },
     "metadata": {},
     "output_type": "display_data"
    },
    {
     "data": {
      "application/vnd.jupyter.widget-view+json": {
       "model_id": "0e56a76f17b7406b8fb93c6a2f5e6b04",
       "version_major": 2,
       "version_minor": 0
      },
      "text/plain": [
       "Evaluating:   0%|          | 0/16 [00:00<?, ?it/s]"
      ]
     },
     "metadata": {},
     "output_type": "display_data"
    },
    {
     "name": "stdout",
     "output_type": "stream",
     "text": [
      "Epoch: 12 | Epoch Time: 0m 1s\n",
      "\tTrain Loss: 0.908 | Train Acc: 61.62%  | Val. Loss: 0.912 | Val. Acc: 64.43%\n"
     ]
    },
    {
     "data": {
      "application/vnd.jupyter.widget-view+json": {
       "model_id": "455f2cf4d64e4234b941a228d3c8ab40",
       "version_major": 2,
       "version_minor": 0
      },
      "text/plain": [
       "Training:   0%|          | 0/61 [00:00<?, ?it/s]"
      ]
     },
     "metadata": {},
     "output_type": "display_data"
    },
    {
     "data": {
      "application/vnd.jupyter.widget-view+json": {
       "model_id": "cc4f4960c4c44c84ba2fa48184fc5152",
       "version_major": 2,
       "version_minor": 0
      },
      "text/plain": [
       "Evaluating:   0%|          | 0/16 [00:00<?, ?it/s]"
      ]
     },
     "metadata": {},
     "output_type": "display_data"
    },
    {
     "name": "stdout",
     "output_type": "stream",
     "text": [
      "Epoch: 13 | Epoch Time: 0m 1s\n",
      "\tTrain Loss: 0.928 | Train Acc: 61.03%  | Val. Loss: 0.881 | Val. Acc: 65.50%\n"
     ]
    },
    {
     "data": {
      "application/vnd.jupyter.widget-view+json": {
       "model_id": "703a734d4c8b49e0bd935a64160a57f7",
       "version_major": 2,
       "version_minor": 0
      },
      "text/plain": [
       "Training:   0%|          | 0/61 [00:00<?, ?it/s]"
      ]
     },
     "metadata": {},
     "output_type": "display_data"
    },
    {
     "data": {
      "application/vnd.jupyter.widget-view+json": {
       "model_id": "cc716032eb5949418924852f56f3770d",
       "version_major": 2,
       "version_minor": 0
      },
      "text/plain": [
       "Evaluating:   0%|          | 0/16 [00:00<?, ?it/s]"
      ]
     },
     "metadata": {},
     "output_type": "display_data"
    },
    {
     "name": "stdout",
     "output_type": "stream",
     "text": [
      "Epoch: 14 | Epoch Time: 0m 1s\n",
      "\tTrain Loss: 0.892 | Train Acc: 63.08%  | Val. Loss: 0.898 | Val. Acc: 65.79%\n"
     ]
    },
    {
     "data": {
      "application/vnd.jupyter.widget-view+json": {
       "model_id": "cc65887a7aa04aa78f68d31001eef383",
       "version_major": 2,
       "version_minor": 0
      },
      "text/plain": [
       "Training:   0%|          | 0/61 [00:00<?, ?it/s]"
      ]
     },
     "metadata": {},
     "output_type": "display_data"
    },
    {
     "data": {
      "application/vnd.jupyter.widget-view+json": {
       "model_id": "823c55024e7f415cae6a936442cd1d5a",
       "version_major": 2,
       "version_minor": 0
      },
      "text/plain": [
       "Evaluating:   0%|          | 0/16 [00:00<?, ?it/s]"
      ]
     },
     "metadata": {},
     "output_type": "display_data"
    },
    {
     "name": "stdout",
     "output_type": "stream",
     "text": [
      "Epoch: 15 | Epoch Time: 0m 1s\n",
      "\tTrain Loss: 0.893 | Train Acc: 64.29%  | Val. Loss: 0.890 | Val. Acc: 65.99%\n"
     ]
    },
    {
     "data": {
      "application/vnd.jupyter.widget-view+json": {
       "model_id": "17fa7ff947c948b9a016d7de4d3a012f",
       "version_major": 2,
       "version_minor": 0
      },
      "text/plain": [
       "Training:   0%|          | 0/61 [00:00<?, ?it/s]"
      ]
     },
     "metadata": {},
     "output_type": "display_data"
    },
    {
     "data": {
      "application/vnd.jupyter.widget-view+json": {
       "model_id": "1801b782442548c394c5282b74d8c560",
       "version_major": 2,
       "version_minor": 0
      },
      "text/plain": [
       "Evaluating:   0%|          | 0/16 [00:00<?, ?it/s]"
      ]
     },
     "metadata": {},
     "output_type": "display_data"
    },
    {
     "name": "stdout",
     "output_type": "stream",
     "text": [
      "Epoch: 16 | Epoch Time: 0m 1s\n",
      "\tTrain Loss: 0.877 | Train Acc: 64.57%  | Val. Loss: 0.908 | Val. Acc: 66.92%\n"
     ]
    },
    {
     "data": {
      "application/vnd.jupyter.widget-view+json": {
       "model_id": "3502d1b9638d4c9f8cc549add244d784",
       "version_major": 2,
       "version_minor": 0
      },
      "text/plain": [
       "Training:   0%|          | 0/61 [00:00<?, ?it/s]"
      ]
     },
     "metadata": {},
     "output_type": "display_data"
    },
    {
     "data": {
      "application/vnd.jupyter.widget-view+json": {
       "model_id": "ef4d7c08893a45ba91f2dc78f4704390",
       "version_major": 2,
       "version_minor": 0
      },
      "text/plain": [
       "Evaluating:   0%|          | 0/16 [00:00<?, ?it/s]"
      ]
     },
     "metadata": {},
     "output_type": "display_data"
    },
    {
     "name": "stdout",
     "output_type": "stream",
     "text": [
      "Epoch: 17 | Epoch Time: 0m 1s\n",
      "\tTrain Loss: 0.861 | Train Acc: 65.46%  | Val. Loss: 0.908 | Val. Acc: 66.77%\n"
     ]
    },
    {
     "data": {
      "application/vnd.jupyter.widget-view+json": {
       "model_id": "7107c1aaabed4b37933d973b21aee84e",
       "version_major": 2,
       "version_minor": 0
      },
      "text/plain": [
       "Training:   0%|          | 0/61 [00:00<?, ?it/s]"
      ]
     },
     "metadata": {},
     "output_type": "display_data"
    },
    {
     "data": {
      "application/vnd.jupyter.widget-view+json": {
       "model_id": "772e1e99b5ba4520bbec0019d1d8451c",
       "version_major": 2,
       "version_minor": 0
      },
      "text/plain": [
       "Evaluating:   0%|          | 0/16 [00:00<?, ?it/s]"
      ]
     },
     "metadata": {},
     "output_type": "display_data"
    },
    {
     "name": "stdout",
     "output_type": "stream",
     "text": [
      "Epoch: 18 | Epoch Time: 0m 1s\n",
      "\tTrain Loss: 0.861 | Train Acc: 65.02%  | Val. Loss: 0.920 | Val. Acc: 65.74%\n"
     ]
    },
    {
     "data": {
      "application/vnd.jupyter.widget-view+json": {
       "model_id": "5dd85dae4dbb4e30a63fdf78e551bd80",
       "version_major": 2,
       "version_minor": 0
      },
      "text/plain": [
       "Training:   0%|          | 0/61 [00:00<?, ?it/s]"
      ]
     },
     "metadata": {},
     "output_type": "display_data"
    },
    {
     "data": {
      "application/vnd.jupyter.widget-view+json": {
       "model_id": "4eeaf91d643540cd81713a3ed817f880",
       "version_major": 2,
       "version_minor": 0
      },
      "text/plain": [
       "Evaluating:   0%|          | 0/16 [00:00<?, ?it/s]"
      ]
     },
     "metadata": {},
     "output_type": "display_data"
    },
    {
     "name": "stdout",
     "output_type": "stream",
     "text": [
      "Epoch: 19 | Epoch Time: 0m 1s\n",
      "\tTrain Loss: 0.827 | Train Acc: 66.34%  | Val. Loss: 0.876 | Val. Acc: 66.87%\n"
     ]
    },
    {
     "data": {
      "application/vnd.jupyter.widget-view+json": {
       "model_id": "4054da11dbaa478ea1e1f34a52f0bd98",
       "version_major": 2,
       "version_minor": 0
      },
      "text/plain": [
       "Training:   0%|          | 0/61 [00:00<?, ?it/s]"
      ]
     },
     "metadata": {},
     "output_type": "display_data"
    },
    {
     "data": {
      "application/vnd.jupyter.widget-view+json": {
       "model_id": "3a133fb505b042cc9fa3435980ed7463",
       "version_major": 2,
       "version_minor": 0
      },
      "text/plain": [
       "Evaluating:   0%|          | 0/16 [00:00<?, ?it/s]"
      ]
     },
     "metadata": {},
     "output_type": "display_data"
    },
    {
     "name": "stdout",
     "output_type": "stream",
     "text": [
      "Epoch: 20 | Epoch Time: 0m 1s\n",
      "\tTrain Loss: 0.830 | Train Acc: 66.54%  | Val. Loss: 0.929 | Val. Acc: 64.96%\n"
     ]
    },
    {
     "data": {
      "application/vnd.jupyter.widget-view+json": {
       "model_id": "e62243eff0944227a245e9d41d2484a8",
       "version_major": 2,
       "version_minor": 0
      },
      "text/plain": [
       "Training:   0%|          | 0/61 [00:00<?, ?it/s]"
      ]
     },
     "metadata": {},
     "output_type": "display_data"
    },
    {
     "data": {
      "application/vnd.jupyter.widget-view+json": {
       "model_id": "40c17733359943aaa2e04ae303785cf2",
       "version_major": 2,
       "version_minor": 0
      },
      "text/plain": [
       "Evaluating:   0%|          | 0/16 [00:00<?, ?it/s]"
      ]
     },
     "metadata": {},
     "output_type": "display_data"
    },
    {
     "name": "stdout",
     "output_type": "stream",
     "text": [
      "Epoch: 21 | Epoch Time: 0m 1s\n",
      "\tTrain Loss: 0.800 | Train Acc: 67.19%  | Val. Loss: 0.843 | Val. Acc: 67.20%\n"
     ]
    },
    {
     "data": {
      "application/vnd.jupyter.widget-view+json": {
       "model_id": "d15b4ec0430248fcb4c5bc5e6853830b",
       "version_major": 2,
       "version_minor": 0
      },
      "text/plain": [
       "Training:   0%|          | 0/61 [00:00<?, ?it/s]"
      ]
     },
     "metadata": {},
     "output_type": "display_data"
    },
    {
     "data": {
      "application/vnd.jupyter.widget-view+json": {
       "model_id": "0d54076d8ca8481fa2c98aca9c394524",
       "version_major": 2,
       "version_minor": 0
      },
      "text/plain": [
       "Evaluating:   0%|          | 0/16 [00:00<?, ?it/s]"
      ]
     },
     "metadata": {},
     "output_type": "display_data"
    },
    {
     "name": "stdout",
     "output_type": "stream",
     "text": [
      "Epoch: 22 | Epoch Time: 0m 1s\n",
      "\tTrain Loss: 0.806 | Train Acc: 67.09%  | Val. Loss: 0.867 | Val. Acc: 68.29%\n"
     ]
    },
    {
     "data": {
      "application/vnd.jupyter.widget-view+json": {
       "model_id": "c8dc9330288d4894b8082cf27bbc8d92",
       "version_major": 2,
       "version_minor": 0
      },
      "text/plain": [
       "Training:   0%|          | 0/61 [00:00<?, ?it/s]"
      ]
     },
     "metadata": {},
     "output_type": "display_data"
    },
    {
     "data": {
      "application/vnd.jupyter.widget-view+json": {
       "model_id": "34ac90a7328a4f0f99e50b3f509e90df",
       "version_major": 2,
       "version_minor": 0
      },
      "text/plain": [
       "Evaluating:   0%|          | 0/16 [00:00<?, ?it/s]"
      ]
     },
     "metadata": {},
     "output_type": "display_data"
    },
    {
     "name": "stdout",
     "output_type": "stream",
     "text": [
      "Epoch: 23 | Epoch Time: 0m 1s\n",
      "\tTrain Loss: 0.786 | Train Acc: 68.81%  | Val. Loss: 0.852 | Val. Acc: 69.22%\n"
     ]
    },
    {
     "data": {
      "application/vnd.jupyter.widget-view+json": {
       "model_id": "4b20e196a83841c1beea63b2d5d9d7af",
       "version_major": 2,
       "version_minor": 0
      },
      "text/plain": [
       "Training:   0%|          | 0/61 [00:00<?, ?it/s]"
      ]
     },
     "metadata": {},
     "output_type": "display_data"
    },
    {
     "data": {
      "application/vnd.jupyter.widget-view+json": {
       "model_id": "b6aa3026f8d14f0bab836b3c9a0d82b9",
       "version_major": 2,
       "version_minor": 0
      },
      "text/plain": [
       "Evaluating:   0%|          | 0/16 [00:00<?, ?it/s]"
      ]
     },
     "metadata": {},
     "output_type": "display_data"
    },
    {
     "name": "stdout",
     "output_type": "stream",
     "text": [
      "Epoch: 24 | Epoch Time: 0m 1s\n",
      "\tTrain Loss: 0.788 | Train Acc: 68.50%  | Val. Loss: 0.917 | Val. Acc: 65.40%\n"
     ]
    },
    {
     "data": {
      "application/vnd.jupyter.widget-view+json": {
       "model_id": "47c73f5ed1c944499d1894765743e50e",
       "version_major": 2,
       "version_minor": 0
      },
      "text/plain": [
       "Training:   0%|          | 0/61 [00:00<?, ?it/s]"
      ]
     },
     "metadata": {},
     "output_type": "display_data"
    },
    {
     "data": {
      "application/vnd.jupyter.widget-view+json": {
       "model_id": "43248c93febd4da3b1243af5a8659dbe",
       "version_major": 2,
       "version_minor": 0
      },
      "text/plain": [
       "Evaluating:   0%|          | 0/16 [00:00<?, ?it/s]"
      ]
     },
     "metadata": {},
     "output_type": "display_data"
    },
    {
     "name": "stdout",
     "output_type": "stream",
     "text": [
      "Epoch: 25 | Epoch Time: 0m 1s\n",
      "\tTrain Loss: 0.799 | Train Acc: 68.80%  | Val. Loss: 0.859 | Val. Acc: 66.77%\n"
     ]
    },
    {
     "data": {
      "application/vnd.jupyter.widget-view+json": {
       "model_id": "fd59e6d71417419797169a091aacc862",
       "version_major": 2,
       "version_minor": 0
      },
      "text/plain": [
       "Training:   0%|          | 0/61 [00:00<?, ?it/s]"
      ]
     },
     "metadata": {},
     "output_type": "display_data"
    },
    {
     "data": {
      "application/vnd.jupyter.widget-view+json": {
       "model_id": "b6485834fb6f42dab8ee45fa74b92308",
       "version_major": 2,
       "version_minor": 0
      },
      "text/plain": [
       "Evaluating:   0%|          | 0/16 [00:00<?, ?it/s]"
      ]
     },
     "metadata": {},
     "output_type": "display_data"
    },
    {
     "name": "stdout",
     "output_type": "stream",
     "text": [
      "Epoch: 26 | Epoch Time: 0m 1s\n",
      "\tTrain Loss: 0.753 | Train Acc: 70.52%  | Val. Loss: 0.859 | Val. Acc: 68.39%\n"
     ]
    },
    {
     "data": {
      "application/vnd.jupyter.widget-view+json": {
       "model_id": "d372bdff152b46a2b76e2c74952a2b82",
       "version_major": 2,
       "version_minor": 0
      },
      "text/plain": [
       "Training:   0%|          | 0/61 [00:00<?, ?it/s]"
      ]
     },
     "metadata": {},
     "output_type": "display_data"
    },
    {
     "data": {
      "application/vnd.jupyter.widget-view+json": {
       "model_id": "1453493b3d914bfcb5192a133e84ebce",
       "version_major": 2,
       "version_minor": 0
      },
      "text/plain": [
       "Evaluating:   0%|          | 0/16 [00:00<?, ?it/s]"
      ]
     },
     "metadata": {},
     "output_type": "display_data"
    },
    {
     "name": "stdout",
     "output_type": "stream",
     "text": [
      "Epoch: 27 | Epoch Time: 0m 1s\n",
      "\tTrain Loss: 0.752 | Train Acc: 69.77%  | Val. Loss: 0.984 | Val. Acc: 65.56%\n"
     ]
    },
    {
     "data": {
      "application/vnd.jupyter.widget-view+json": {
       "model_id": "8233a304a3c146c4a66ec8b893399cb0",
       "version_major": 2,
       "version_minor": 0
      },
      "text/plain": [
       "Training:   0%|          | 0/61 [00:00<?, ?it/s]"
      ]
     },
     "metadata": {},
     "output_type": "display_data"
    },
    {
     "data": {
      "application/vnd.jupyter.widget-view+json": {
       "model_id": "0df5f7a22b4c4cb8b3110a15dc0aa91d",
       "version_major": 2,
       "version_minor": 0
      },
      "text/plain": [
       "Evaluating:   0%|          | 0/16 [00:00<?, ?it/s]"
      ]
     },
     "metadata": {},
     "output_type": "display_data"
    },
    {
     "name": "stdout",
     "output_type": "stream",
     "text": [
      "Epoch: 28 | Epoch Time: 0m 1s\n",
      "\tTrain Loss: 0.736 | Train Acc: 70.53%  | Val. Loss: 0.880 | Val. Acc: 69.36%\n"
     ]
    },
    {
     "data": {
      "application/vnd.jupyter.widget-view+json": {
       "model_id": "91268e3133ed4c11a331a09e19e3d401",
       "version_major": 2,
       "version_minor": 0
      },
      "text/plain": [
       "Training:   0%|          | 0/61 [00:00<?, ?it/s]"
      ]
     },
     "metadata": {},
     "output_type": "display_data"
    },
    {
     "data": {
      "application/vnd.jupyter.widget-view+json": {
       "model_id": "047b509623dd4cbabb42ba0327abf80f",
       "version_major": 2,
       "version_minor": 0
      },
      "text/plain": [
       "Evaluating:   0%|          | 0/16 [00:00<?, ?it/s]"
      ]
     },
     "metadata": {},
     "output_type": "display_data"
    },
    {
     "name": "stdout",
     "output_type": "stream",
     "text": [
      "Epoch: 29 | Epoch Time: 0m 1s\n",
      "\tTrain Loss: 0.728 | Train Acc: 71.35%  | Val. Loss: 0.828 | Val. Acc: 70.34%\n"
     ]
    },
    {
     "data": {
      "application/vnd.jupyter.widget-view+json": {
       "model_id": "4bbbab2f89944024a3d33e3569832019",
       "version_major": 2,
       "version_minor": 0
      },
      "text/plain": [
       "Training:   0%|          | 0/61 [00:00<?, ?it/s]"
      ]
     },
     "metadata": {},
     "output_type": "display_data"
    },
    {
     "data": {
      "application/vnd.jupyter.widget-view+json": {
       "model_id": "ba342a7643a0449ba567d768ab799a6a",
       "version_major": 2,
       "version_minor": 0
      },
      "text/plain": [
       "Evaluating:   0%|          | 0/16 [00:00<?, ?it/s]"
      ]
     },
     "metadata": {},
     "output_type": "display_data"
    },
    {
     "name": "stdout",
     "output_type": "stream",
     "text": [
      "Epoch: 30 | Epoch Time: 0m 1s\n",
      "\tTrain Loss: 0.713 | Train Acc: 71.31%  | Val. Loss: 0.938 | Val. Acc: 68.68%\n"
     ]
    },
    {
     "data": {
      "application/vnd.jupyter.widget-view+json": {
       "model_id": "c6cbc888edb14e5cb6e3b49bd7dab5df",
       "version_major": 2,
       "version_minor": 0
      },
      "text/plain": [
       "Training:   0%|          | 0/61 [00:00<?, ?it/s]"
      ]
     },
     "metadata": {},
     "output_type": "display_data"
    },
    {
     "data": {
      "application/vnd.jupyter.widget-view+json": {
       "model_id": "7edecd65b3584de28fece4e79db486a6",
       "version_major": 2,
       "version_minor": 0
      },
      "text/plain": [
       "Evaluating:   0%|          | 0/16 [00:00<?, ?it/s]"
      ]
     },
     "metadata": {},
     "output_type": "display_data"
    },
    {
     "name": "stdout",
     "output_type": "stream",
     "text": [
      "Epoch: 31 | Epoch Time: 0m 1s\n",
      "\tTrain Loss: 0.710 | Train Acc: 71.36%  | Val. Loss: 0.861 | Val. Acc: 69.17%\n"
     ]
    },
    {
     "data": {
      "application/vnd.jupyter.widget-view+json": {
       "model_id": "1bb67c1ddea34976ab4711e367c94c0f",
       "version_major": 2,
       "version_minor": 0
      },
      "text/plain": [
       "Training:   0%|          | 0/61 [00:00<?, ?it/s]"
      ]
     },
     "metadata": {},
     "output_type": "display_data"
    },
    {
     "data": {
      "application/vnd.jupyter.widget-view+json": {
       "model_id": "2c468c42fbc1422788e49231e4234a50",
       "version_major": 2,
       "version_minor": 0
      },
      "text/plain": [
       "Evaluating:   0%|          | 0/16 [00:00<?, ?it/s]"
      ]
     },
     "metadata": {},
     "output_type": "display_data"
    },
    {
     "name": "stdout",
     "output_type": "stream",
     "text": [
      "Epoch: 32 | Epoch Time: 0m 1s\n",
      "\tTrain Loss: 0.689 | Train Acc: 71.81%  | Val. Loss: 0.873 | Val. Acc: 69.07%\n"
     ]
    },
    {
     "data": {
      "application/vnd.jupyter.widget-view+json": {
       "model_id": "05e23ab56e60477aa82e42a61d019b50",
       "version_major": 2,
       "version_minor": 0
      },
      "text/plain": [
       "Training:   0%|          | 0/61 [00:00<?, ?it/s]"
      ]
     },
     "metadata": {},
     "output_type": "display_data"
    },
    {
     "data": {
      "application/vnd.jupyter.widget-view+json": {
       "model_id": "25694f4444b74d7da48fbef9f2b8993f",
       "version_major": 2,
       "version_minor": 0
      },
      "text/plain": [
       "Evaluating:   0%|          | 0/16 [00:00<?, ?it/s]"
      ]
     },
     "metadata": {},
     "output_type": "display_data"
    },
    {
     "name": "stdout",
     "output_type": "stream",
     "text": [
      "Epoch: 33 | Epoch Time: 0m 1s\n",
      "\tTrain Loss: 0.694 | Train Acc: 71.88%  | Val. Loss: 0.905 | Val. Acc: 69.22%\n"
     ]
    },
    {
     "data": {
      "application/vnd.jupyter.widget-view+json": {
       "model_id": "56ffdca9515243b89c21e2c1efee2c4c",
       "version_major": 2,
       "version_minor": 0
      },
      "text/plain": [
       "Training:   0%|          | 0/61 [00:00<?, ?it/s]"
      ]
     },
     "metadata": {},
     "output_type": "display_data"
    },
    {
     "data": {
      "application/vnd.jupyter.widget-view+json": {
       "model_id": "2a7c8839b55f4ca0966485fce40d912c",
       "version_major": 2,
       "version_minor": 0
      },
      "text/plain": [
       "Evaluating:   0%|          | 0/16 [00:00<?, ?it/s]"
      ]
     },
     "metadata": {},
     "output_type": "display_data"
    },
    {
     "name": "stdout",
     "output_type": "stream",
     "text": [
      "Epoch: 34 | Epoch Time: 0m 1s\n",
      "\tTrain Loss: 0.669 | Train Acc: 73.34%  | Val. Loss: 0.826 | Val. Acc: 69.80%\n"
     ]
    },
    {
     "data": {
      "application/vnd.jupyter.widget-view+json": {
       "model_id": "3d840abab4064cc2a6a614d0c9402247",
       "version_major": 2,
       "version_minor": 0
      },
      "text/plain": [
       "Training:   0%|          | 0/61 [00:00<?, ?it/s]"
      ]
     },
     "metadata": {},
     "output_type": "display_data"
    },
    {
     "data": {
      "application/vnd.jupyter.widget-view+json": {
       "model_id": "5082699fa4104d41820184deddf03229",
       "version_major": 2,
       "version_minor": 0
      },
      "text/plain": [
       "Evaluating:   0%|          | 0/16 [00:00<?, ?it/s]"
      ]
     },
     "metadata": {},
     "output_type": "display_data"
    },
    {
     "name": "stdout",
     "output_type": "stream",
     "text": [
      "Epoch: 35 | Epoch Time: 0m 1s\n",
      "\tTrain Loss: 0.682 | Train Acc: 73.34%  | Val. Loss: 0.861 | Val. Acc: 69.61%\n"
     ]
    },
    {
     "data": {
      "application/vnd.jupyter.widget-view+json": {
       "model_id": "a0e22bc9be8a4dec93ce7cb9317def95",
       "version_major": 2,
       "version_minor": 0
      },
      "text/plain": [
       "Training:   0%|          | 0/61 [00:00<?, ?it/s]"
      ]
     },
     "metadata": {},
     "output_type": "display_data"
    },
    {
     "data": {
      "application/vnd.jupyter.widget-view+json": {
       "model_id": "7b0e493af90d4d87900f29139b900a34",
       "version_major": 2,
       "version_minor": 0
      },
      "text/plain": [
       "Evaluating:   0%|          | 0/16 [00:00<?, ?it/s]"
      ]
     },
     "metadata": {},
     "output_type": "display_data"
    },
    {
     "name": "stdout",
     "output_type": "stream",
     "text": [
      "Epoch: 36 | Epoch Time: 0m 1s\n",
      "\tTrain Loss: 0.691 | Train Acc: 72.13%  | Val. Loss: 0.873 | Val. Acc: 70.15%\n"
     ]
    },
    {
     "data": {
      "application/vnd.jupyter.widget-view+json": {
       "model_id": "35beeda196d3450096d8b9efc0b5d684",
       "version_major": 2,
       "version_minor": 0
      },
      "text/plain": [
       "Training:   0%|          | 0/61 [00:00<?, ?it/s]"
      ]
     },
     "metadata": {},
     "output_type": "display_data"
    },
    {
     "data": {
      "application/vnd.jupyter.widget-view+json": {
       "model_id": "92ecbd02898142cb8ac3e29649163eac",
       "version_major": 2,
       "version_minor": 0
      },
      "text/plain": [
       "Evaluating:   0%|          | 0/16 [00:00<?, ?it/s]"
      ]
     },
     "metadata": {},
     "output_type": "display_data"
    },
    {
     "name": "stdout",
     "output_type": "stream",
     "text": [
      "Epoch: 37 | Epoch Time: 0m 1s\n",
      "\tTrain Loss: 0.656 | Train Acc: 73.63%  | Val. Loss: 0.864 | Val. Acc: 67.94%\n"
     ]
    },
    {
     "data": {
      "application/vnd.jupyter.widget-view+json": {
       "model_id": "e2b7ba2f5e854c9793c55ba8493d7473",
       "version_major": 2,
       "version_minor": 0
      },
      "text/plain": [
       "Training:   0%|          | 0/61 [00:00<?, ?it/s]"
      ]
     },
     "metadata": {},
     "output_type": "display_data"
    },
    {
     "data": {
      "application/vnd.jupyter.widget-view+json": {
       "model_id": "0bea724396b349c8b1898012bd379089",
       "version_major": 2,
       "version_minor": 0
      },
      "text/plain": [
       "Evaluating:   0%|          | 0/16 [00:00<?, ?it/s]"
      ]
     },
     "metadata": {},
     "output_type": "display_data"
    },
    {
     "name": "stdout",
     "output_type": "stream",
     "text": [
      "Epoch: 38 | Epoch Time: 0m 1s\n",
      "\tTrain Loss: 0.664 | Train Acc: 73.49%  | Val. Loss: 0.872 | Val. Acc: 69.67%\n"
     ]
    },
    {
     "data": {
      "application/vnd.jupyter.widget-view+json": {
       "model_id": "9edbafa2281c4ee4b41902c87edd5d05",
       "version_major": 2,
       "version_minor": 0
      },
      "text/plain": [
       "Training:   0%|          | 0/61 [00:00<?, ?it/s]"
      ]
     },
     "metadata": {},
     "output_type": "display_data"
    },
    {
     "data": {
      "application/vnd.jupyter.widget-view+json": {
       "model_id": "a07dd2d43ca948039dec7ce7c27414bb",
       "version_major": 2,
       "version_minor": 0
      },
      "text/plain": [
       "Evaluating:   0%|          | 0/16 [00:00<?, ?it/s]"
      ]
     },
     "metadata": {},
     "output_type": "display_data"
    },
    {
     "name": "stdout",
     "output_type": "stream",
     "text": [
      "Epoch: 39 | Epoch Time: 0m 1s\n",
      "\tTrain Loss: 0.657 | Train Acc: 74.14%  | Val. Loss: 0.965 | Val. Acc: 67.55%\n"
     ]
    },
    {
     "data": {
      "application/vnd.jupyter.widget-view+json": {
       "model_id": "502ac5bc68b94517b3056611b6b1980f",
       "version_major": 2,
       "version_minor": 0
      },
      "text/plain": [
       "Training:   0%|          | 0/61 [00:00<?, ?it/s]"
      ]
     },
     "metadata": {},
     "output_type": "display_data"
    },
    {
     "data": {
      "application/vnd.jupyter.widget-view+json": {
       "model_id": "f4188a199a4f464c96059ec1d3c89c5d",
       "version_major": 2,
       "version_minor": 0
      },
      "text/plain": [
       "Evaluating:   0%|          | 0/16 [00:00<?, ?it/s]"
      ]
     },
     "metadata": {},
     "output_type": "display_data"
    },
    {
     "name": "stdout",
     "output_type": "stream",
     "text": [
      "Epoch: 40 | Epoch Time: 0m 1s\n",
      "\tTrain Loss: 0.678 | Train Acc: 72.30%  | Val. Loss: 0.847 | Val. Acc: 69.95%\n"
     ]
    },
    {
     "data": {
      "application/vnd.jupyter.widget-view+json": {
       "model_id": "1c34edb236bb4184b01f8084aec808d3",
       "version_major": 2,
       "version_minor": 0
      },
      "text/plain": [
       "Training:   0%|          | 0/61 [00:00<?, ?it/s]"
      ]
     },
     "metadata": {},
     "output_type": "display_data"
    },
    {
     "data": {
      "application/vnd.jupyter.widget-view+json": {
       "model_id": "31591ba4d2604de597231b6a1df530c2",
       "version_major": 2,
       "version_minor": 0
      },
      "text/plain": [
       "Evaluating:   0%|          | 0/16 [00:00<?, ?it/s]"
      ]
     },
     "metadata": {},
     "output_type": "display_data"
    },
    {
     "name": "stdout",
     "output_type": "stream",
     "text": [
      "Epoch: 41 | Epoch Time: 0m 1s\n",
      "\tTrain Loss: 0.636 | Train Acc: 75.17%  | Val. Loss: 0.898 | Val. Acc: 70.88%\n"
     ]
    },
    {
     "data": {
      "application/vnd.jupyter.widget-view+json": {
       "model_id": "307a5f8c69d44189bb19d35a3da1c620",
       "version_major": 2,
       "version_minor": 0
      },
      "text/plain": [
       "Training:   0%|          | 0/61 [00:00<?, ?it/s]"
      ]
     },
     "metadata": {},
     "output_type": "display_data"
    },
    {
     "data": {
      "application/vnd.jupyter.widget-view+json": {
       "model_id": "67e748906d08414a83161d7a572a476b",
       "version_major": 2,
       "version_minor": 0
      },
      "text/plain": [
       "Evaluating:   0%|          | 0/16 [00:00<?, ?it/s]"
      ]
     },
     "metadata": {},
     "output_type": "display_data"
    },
    {
     "name": "stdout",
     "output_type": "stream",
     "text": [
      "Epoch: 42 | Epoch Time: 0m 1s\n",
      "\tTrain Loss: 0.610 | Train Acc: 75.91%  | Val. Loss: 0.867 | Val. Acc: 70.73%\n"
     ]
    },
    {
     "data": {
      "application/vnd.jupyter.widget-view+json": {
       "model_id": "63c401b82370443b86d3715b6ffd81cb",
       "version_major": 2,
       "version_minor": 0
      },
      "text/plain": [
       "Training:   0%|          | 0/61 [00:00<?, ?it/s]"
      ]
     },
     "metadata": {},
     "output_type": "display_data"
    },
    {
     "data": {
      "application/vnd.jupyter.widget-view+json": {
       "model_id": "7991bb74be4b428d947ebbdaf4ceea18",
       "version_major": 2,
       "version_minor": 0
      },
      "text/plain": [
       "Evaluating:   0%|          | 0/16 [00:00<?, ?it/s]"
      ]
     },
     "metadata": {},
     "output_type": "display_data"
    },
    {
     "name": "stdout",
     "output_type": "stream",
     "text": [
      "Epoch: 43 | Epoch Time: 0m 1s\n",
      "\tTrain Loss: 0.609 | Train Acc: 75.44%  | Val. Loss: 0.972 | Val. Acc: 68.53%\n"
     ]
    },
    {
     "data": {
      "application/vnd.jupyter.widget-view+json": {
       "model_id": "22b524de56e2462b95c30dd4753d6b57",
       "version_major": 2,
       "version_minor": 0
      },
      "text/plain": [
       "Training:   0%|          | 0/61 [00:00<?, ?it/s]"
      ]
     },
     "metadata": {},
     "output_type": "display_data"
    },
    {
     "data": {
      "application/vnd.jupyter.widget-view+json": {
       "model_id": "64289bc341454ca684604040ce617255",
       "version_major": 2,
       "version_minor": 0
      },
      "text/plain": [
       "Evaluating:   0%|          | 0/16 [00:00<?, ?it/s]"
      ]
     },
     "metadata": {},
     "output_type": "display_data"
    },
    {
     "name": "stdout",
     "output_type": "stream",
     "text": [
      "Epoch: 44 | Epoch Time: 0m 1s\n",
      "\tTrain Loss: 0.627 | Train Acc: 74.84%  | Val. Loss: 0.875 | Val. Acc: 67.90%\n"
     ]
    },
    {
     "data": {
      "application/vnd.jupyter.widget-view+json": {
       "model_id": "5bcb5b8ed96444859ce3f764720840eb",
       "version_major": 2,
       "version_minor": 0
      },
      "text/plain": [
       "Training:   0%|          | 0/61 [00:00<?, ?it/s]"
      ]
     },
     "metadata": {},
     "output_type": "display_data"
    },
    {
     "data": {
      "application/vnd.jupyter.widget-view+json": {
       "model_id": "ea6c38aa2b8f40669622b65f0ddfdb04",
       "version_major": 2,
       "version_minor": 0
      },
      "text/plain": [
       "Evaluating:   0%|          | 0/16 [00:00<?, ?it/s]"
      ]
     },
     "metadata": {},
     "output_type": "display_data"
    },
    {
     "name": "stdout",
     "output_type": "stream",
     "text": [
      "Epoch: 45 | Epoch Time: 0m 1s\n",
      "\tTrain Loss: 0.615 | Train Acc: 75.54%  | Val. Loss: 0.884 | Val. Acc: 67.35%\n"
     ]
    },
    {
     "data": {
      "application/vnd.jupyter.widget-view+json": {
       "model_id": "fa0a5f79dde44821801f24e7804b0485",
       "version_major": 2,
       "version_minor": 0
      },
      "text/plain": [
       "Training:   0%|          | 0/61 [00:00<?, ?it/s]"
      ]
     },
     "metadata": {},
     "output_type": "display_data"
    },
    {
     "data": {
      "application/vnd.jupyter.widget-view+json": {
       "model_id": "4c4441eb875d454e89384369e910642c",
       "version_major": 2,
       "version_minor": 0
      },
      "text/plain": [
       "Evaluating:   0%|          | 0/16 [00:00<?, ?it/s]"
      ]
     },
     "metadata": {},
     "output_type": "display_data"
    },
    {
     "name": "stdout",
     "output_type": "stream",
     "text": [
      "Epoch: 46 | Epoch Time: 0m 1s\n",
      "\tTrain Loss: 0.591 | Train Acc: 76.84%  | Val. Loss: 0.882 | Val. Acc: 70.79%\n"
     ]
    },
    {
     "data": {
      "application/vnd.jupyter.widget-view+json": {
       "model_id": "c6ec01a7b1d74f339e9dd46470e7e3c7",
       "version_major": 2,
       "version_minor": 0
      },
      "text/plain": [
       "Training:   0%|          | 0/61 [00:00<?, ?it/s]"
      ]
     },
     "metadata": {},
     "output_type": "display_data"
    },
    {
     "data": {
      "application/vnd.jupyter.widget-view+json": {
       "model_id": "7877a76c6e6f489eb816e09193b4d0e9",
       "version_major": 2,
       "version_minor": 0
      },
      "text/plain": [
       "Evaluating:   0%|          | 0/16 [00:00<?, ?it/s]"
      ]
     },
     "metadata": {},
     "output_type": "display_data"
    },
    {
     "name": "stdout",
     "output_type": "stream",
     "text": [
      "Epoch: 47 | Epoch Time: 0m 1s\n",
      "\tTrain Loss: 0.596 | Train Acc: 76.80%  | Val. Loss: 0.942 | Val. Acc: 69.66%\n"
     ]
    },
    {
     "data": {
      "application/vnd.jupyter.widget-view+json": {
       "model_id": "115fae5611ef4f408bdd3b15a982199a",
       "version_major": 2,
       "version_minor": 0
      },
      "text/plain": [
       "Training:   0%|          | 0/61 [00:00<?, ?it/s]"
      ]
     },
     "metadata": {},
     "output_type": "display_data"
    },
    {
     "data": {
      "application/vnd.jupyter.widget-view+json": {
       "model_id": "33b152b5395b4b4faeefc8b3733d7f7b",
       "version_major": 2,
       "version_minor": 0
      },
      "text/plain": [
       "Evaluating:   0%|          | 0/16 [00:00<?, ?it/s]"
      ]
     },
     "metadata": {},
     "output_type": "display_data"
    },
    {
     "name": "stdout",
     "output_type": "stream",
     "text": [
      "Epoch: 48 | Epoch Time: 0m 1s\n",
      "\tTrain Loss: 0.597 | Train Acc: 77.06%  | Val. Loss: 0.953 | Val. Acc: 68.09%\n"
     ]
    },
    {
     "data": {
      "application/vnd.jupyter.widget-view+json": {
       "model_id": "d0016679c80044a79244ecc836875e45",
       "version_major": 2,
       "version_minor": 0
      },
      "text/plain": [
       "Training:   0%|          | 0/61 [00:00<?, ?it/s]"
      ]
     },
     "metadata": {},
     "output_type": "display_data"
    },
    {
     "data": {
      "application/vnd.jupyter.widget-view+json": {
       "model_id": "5005596567ef4b40b11efd4b8baa387c",
       "version_major": 2,
       "version_minor": 0
      },
      "text/plain": [
       "Evaluating:   0%|          | 0/16 [00:00<?, ?it/s]"
      ]
     },
     "metadata": {},
     "output_type": "display_data"
    },
    {
     "name": "stdout",
     "output_type": "stream",
     "text": [
      "Epoch: 49 | Epoch Time: 0m 1s\n",
      "\tTrain Loss: 0.583 | Train Acc: 76.57%  | Val. Loss: 0.892 | Val. Acc: 70.59%\n"
     ]
    },
    {
     "data": {
      "application/vnd.jupyter.widget-view+json": {
       "model_id": "f72e4ad7896d4ae087f33ff1206106eb",
       "version_major": 2,
       "version_minor": 0
      },
      "text/plain": [
       "Training:   0%|          | 0/61 [00:00<?, ?it/s]"
      ]
     },
     "metadata": {},
     "output_type": "display_data"
    },
    {
     "data": {
      "application/vnd.jupyter.widget-view+json": {
       "model_id": "d818ca2227fa48e0946ebe187af9c307",
       "version_major": 2,
       "version_minor": 0
      },
      "text/plain": [
       "Evaluating:   0%|          | 0/16 [00:00<?, ?it/s]"
      ]
     },
     "metadata": {},
     "output_type": "display_data"
    },
    {
     "name": "stdout",
     "output_type": "stream",
     "text": [
      "Epoch: 50 | Epoch Time: 0m 1s\n",
      "\tTrain Loss: 0.579 | Train Acc: 76.92%  | Val. Loss: 0.909 | Val. Acc: 70.88%\n"
     ]
    },
    {
     "data": {
      "application/vnd.jupyter.widget-view+json": {
       "model_id": "86972246242545598e88f7af1d675950",
       "version_major": 2,
       "version_minor": 0
      },
      "text/plain": [
       "Evaluating:   0%|          | 0/31 [00:00<?, ?it/s]"
      ]
     },
     "metadata": {},
     "output_type": "display_data"
    },
    {
     "name": "stdout",
     "output_type": "stream",
     "text": [
      "Test Loss: 0.972 | Test Acc: 62.72%\n"
     ]
    }
   ],
   "source": [
    "model = CNNModel(num_classes=5).to(device)\n",
    "optimizer = optim.AdamW(model.parameters(), lr=1e-3, weight_decay=1e-4)\n",
    "criterion = nn.CrossEntropyLoss()\n",
    "\n",
    "def calculate_accuracy(y_pred, y):\n",
    "    with torch.no_grad():\n",
    "        top_pred = y_pred.argmax(1, keepdim=True)\n",
    "        correct = top_pred.eq(y.view_as(top_pred)).sum()\n",
    "        acc = correct.float() / y.shape[0]\n",
    "    return acc\n",
    "\n",
    "metric = calculate_accuracy\n",
    "fit(model, train_loader, val_loader, optimizer, criterion, metric,\n",
    "    epochs = 50, device=device, verbose = True)\n",
    "\n",
    "model.load_state_dict(torch.load('best_model.pt'))\n",
    "\n",
    "test_loss, test_acc = evaluate(model, test_loader, criterion, metric, device)\n",
    "\n",
    "print(f'Test Loss: {test_loss:.3f} | Test Acc: {test_acc*100:.2f}%')"
   ]
  },
  {
   "cell_type": "code",
   "execution_count": 13,
   "id": "cb720823-0fdb-4797-beae-0bc655731670",
   "metadata": {},
   "outputs": [
    {
     "data": {
      "application/vnd.jupyter.widget-view+json": {
       "model_id": "87ec6a360c3c4e3abe8221cb16188449",
       "version_major": 2,
       "version_minor": 0
      },
      "text/plain": [
       "Evaluating:   0%|          | 0/38 [00:00<?, ?it/s]"
      ]
     },
     "metadata": {},
     "output_type": "display_data"
    },
    {
     "data": {
      "text/html": [
       "<div>\n",
       "<style scoped>\n",
       "    .dataframe tbody tr th:only-of-type {\n",
       "        vertical-align: middle;\n",
       "    }\n",
       "\n",
       "    .dataframe tbody tr th {\n",
       "        vertical-align: top;\n",
       "    }\n",
       "\n",
       "    .dataframe thead th {\n",
       "        text-align: right;\n",
       "    }\n",
       "</style>\n",
       "<table border=\"1\" class=\"dataframe\">\n",
       "  <thead>\n",
       "    <tr style=\"text-align: right;\">\n",
       "      <th></th>\n",
       "      <th>index</th>\n",
       "      <th>file_name</th>\n",
       "      <th>class</th>\n",
       "    </tr>\n",
       "  </thead>\n",
       "  <tbody>\n",
       "    <tr>\n",
       "      <th>0</th>\n",
       "      <td>0</td>\n",
       "      <td>cifar10-train-25538.png</td>\n",
       "      <td>airplane</td>\n",
       "    </tr>\n",
       "    <tr>\n",
       "      <th>1</th>\n",
       "      <td>1</td>\n",
       "      <td>cifar10-train-1086.png</td>\n",
       "      <td>airplane</td>\n",
       "    </tr>\n",
       "    <tr>\n",
       "      <th>2</th>\n",
       "      <td>2</td>\n",
       "      <td>cifar10-train-12192.png</td>\n",
       "      <td>airplane</td>\n",
       "    </tr>\n",
       "    <tr>\n",
       "      <th>3</th>\n",
       "      <td>3</td>\n",
       "      <td>cifar10-train-43783.png</td>\n",
       "      <td>airplane</td>\n",
       "    </tr>\n",
       "    <tr>\n",
       "      <th>4</th>\n",
       "      <td>4</td>\n",
       "      <td>n03596543_2495.png</td>\n",
       "      <td>airplane</td>\n",
       "    </tr>\n",
       "    <tr>\n",
       "      <th>...</th>\n",
       "      <td>...</td>\n",
       "      <td>...</td>\n",
       "      <td>...</td>\n",
       "    </tr>\n",
       "    <tr>\n",
       "      <th>2419</th>\n",
       "      <td>2419</td>\n",
       "      <td>n02419796_10865.png</td>\n",
       "      <td>bird</td>\n",
       "    </tr>\n",
       "    <tr>\n",
       "      <th>2420</th>\n",
       "      <td>2420</td>\n",
       "      <td>n02430045_5648.png</td>\n",
       "      <td>bird</td>\n",
       "    </tr>\n",
       "    <tr>\n",
       "      <th>2421</th>\n",
       "      <td>2421</td>\n",
       "      <td>cifar10-train-2896.png</td>\n",
       "      <td>bird</td>\n",
       "    </tr>\n",
       "    <tr>\n",
       "      <th>2422</th>\n",
       "      <td>2422</td>\n",
       "      <td>cifar10-test-1945.png</td>\n",
       "      <td>bird</td>\n",
       "    </tr>\n",
       "    <tr>\n",
       "      <th>2423</th>\n",
       "      <td>2423</td>\n",
       "      <td>n02434954_6058.png</td>\n",
       "      <td>bird</td>\n",
       "    </tr>\n",
       "  </tbody>\n",
       "</table>\n",
       "<p>2424 rows × 3 columns</p>\n",
       "</div>"
      ],
      "text/plain": [
       "      index                file_name     class\n",
       "0         0  cifar10-train-25538.png  airplane\n",
       "1         1   cifar10-train-1086.png  airplane\n",
       "2         2  cifar10-train-12192.png  airplane\n",
       "3         3  cifar10-train-43783.png  airplane\n",
       "4         4       n03596543_2495.png  airplane\n",
       "...     ...                      ...       ...\n",
       "2419   2419      n02419796_10865.png      bird\n",
       "2420   2420       n02430045_5648.png      bird\n",
       "2421   2421   cifar10-train-2896.png      bird\n",
       "2422   2422    cifar10-test-1945.png      bird\n",
       "2423   2423       n02434954_6058.png      bird\n",
       "\n",
       "[2424 rows x 3 columns]"
      ]
     },
     "execution_count": 13,
     "metadata": {},
     "output_type": "execute_result"
    }
   ],
   "source": [
    "def submit(model, dataloader, device):\n",
    "\n",
    "    df = pd.DataFrame(columns = ('file_name','class'))\n",
    "    model.eval()\n",
    "\n",
    "    with torch.inference_mode():\n",
    "        \n",
    "        for x,y in tqdm(dataloader, desc=\"Evaluating\", leave=False):\n",
    "\n",
    "            x = x.to(device).float()\n",
    "            y_pred = model.forward(x)\n",
    "            if y_pred.is_cuda: \n",
    "                cls = list(y_pred.argmax(1, keepdim=False).data.cpu().numpy())\n",
    "            else:\n",
    "                cls = list(y_pred.argmax(1, keepdim=False).data.numpy())\n",
    "            cls_label = le.inverse_transform(np.array((cls)))[0]\n",
    "            df = pd.concat([df,pd.DataFrame({'file_name':y,'class':cls_label})], ignore_index = True)\n",
    "\n",
    "    return df.reset_index()\n",
    "\n",
    "len(submit_data)\n",
    "\n",
    "\n",
    "df = submit(model, submit_loader, device)\n",
    "\n",
    "df"
   ]
  },
  {
   "cell_type": "code",
   "execution_count": 14,
   "id": "03618042-e63b-4213-bb9c-bfeafcba1623",
   "metadata": {},
   "outputs": [
    {
     "name": "stdout",
     "output_type": "stream",
     "text": [
      "FULL PATH:  \n",
      " /home/balots/PycharmProjects/train/ComputerVision/submit.csv\n"
     ]
    }
   ],
   "source": [
    "path_submit = 'submit.csv'\n",
    "\n",
    "df[['file_name','class']].to_csv(path_submit, index = False )\n",
    "print('FULL PATH:  \\n', os.path.join(os.getcwd(), path_submit) )"
   ]
  },
  {
   "cell_type": "code",
   "execution_count": 15,
   "id": "d1fd395f-38fd-47b2-8723-371f9e11fbee",
   "metadata": {},
   "outputs": [],
   "source": [
    "frame = pd.read_csv('submit.csv')"
   ]
  },
  {
   "cell_type": "code",
   "execution_count": 16,
   "id": "caac9827-6ef3-4daa-9dd3-1268d2c900a4",
   "metadata": {},
   "outputs": [
    {
     "data": {
      "text/html": [
       "<div>\n",
       "<style scoped>\n",
       "    .dataframe tbody tr th:only-of-type {\n",
       "        vertical-align: middle;\n",
       "    }\n",
       "\n",
       "    .dataframe tbody tr th {\n",
       "        vertical-align: top;\n",
       "    }\n",
       "\n",
       "    .dataframe thead th {\n",
       "        text-align: right;\n",
       "    }\n",
       "</style>\n",
       "<table border=\"1\" class=\"dataframe\">\n",
       "  <thead>\n",
       "    <tr style=\"text-align: right;\">\n",
       "      <th></th>\n",
       "      <th>file_name</th>\n",
       "    </tr>\n",
       "    <tr>\n",
       "      <th>class</th>\n",
       "      <th></th>\n",
       "    </tr>\n",
       "  </thead>\n",
       "  <tbody>\n",
       "    <tr>\n",
       "      <th>airplane</th>\n",
       "      <td>704</td>\n",
       "    </tr>\n",
       "    <tr>\n",
       "      <th>automobile</th>\n",
       "      <td>448</td>\n",
       "    </tr>\n",
       "    <tr>\n",
       "      <th>bird</th>\n",
       "      <td>376</td>\n",
       "    </tr>\n",
       "    <tr>\n",
       "      <th>cat</th>\n",
       "      <td>448</td>\n",
       "    </tr>\n",
       "    <tr>\n",
       "      <th>deer</th>\n",
       "      <td>448</td>\n",
       "    </tr>\n",
       "  </tbody>\n",
       "</table>\n",
       "</div>"
      ],
      "text/plain": [
       "            file_name\n",
       "class                \n",
       "airplane          704\n",
       "automobile        448\n",
       "bird              376\n",
       "cat               448\n",
       "deer              448"
      ]
     },
     "execution_count": 16,
     "metadata": {},
     "output_type": "execute_result"
    }
   ],
   "source": [
    "\n",
    "\n",
    "frame.groupby('class').count()\n",
    "\n"
   ]
  },
  {
   "cell_type": "code",
   "execution_count": 17,
   "id": "ebb40b1c-1e4c-4eae-9c1a-13416415756c",
   "metadata": {},
   "outputs": [
    {
     "name": "stdout",
     "output_type": "stream",
     "text": [
      "<class 'pandas.core.frame.DataFrame'>\n",
      "RangeIndex: 2424 entries, 0 to 2423\n",
      "Data columns (total 2 columns):\n",
      " #   Column     Non-Null Count  Dtype \n",
      "---  ------     --------------  ----- \n",
      " 0   file_name  2424 non-null   object\n",
      " 1   class      2424 non-null   object\n",
      "dtypes: object(2)\n",
      "memory usage: 38.0+ KB\n"
     ]
    }
   ],
   "source": [
    "frame.info()"
   ]
  },
  {
   "cell_type": "code",
   "execution_count": null,
   "id": "b4deb835-a050-4199-bc85-069d500461d3",
   "metadata": {},
   "outputs": [],
   "source": []
  }
 ],
 "metadata": {
  "kernelspec": {
   "display_name": "Python 3 (ipykernel)",
   "language": "python",
   "name": "python3"
  },
  "language_info": {
   "codemirror_mode": {
    "name": "ipython",
    "version": 3
   },
   "file_extension": ".py",
   "mimetype": "text/x-python",
   "name": "python",
   "nbconvert_exporter": "python",
   "pygments_lexer": "ipython3",
   "version": "3.12.3"
  }
 },
 "nbformat": 4,
 "nbformat_minor": 5
}

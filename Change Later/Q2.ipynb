{
 "cells": [
  {
   "cell_type": "code",
   "execution_count": 2,
   "id": "546a1894-ef0c-41d5-8003-acbdde661ab2",
   "metadata": {},
   "outputs": [],
   "source": [
    "import numpy as np\n",
    "from random import random, rand"
   ]
  },
  {
   "cell_type": "code",
   "execution_count": 24,
   "id": "edf5c0ac-af39-48e0-a17f-c9067348eccc",
   "metadata": {},
   "outputs": [],
   "source": [
    "def get_road(p):\n",
    "    return ''.join(['1' if p < random() else '0' for _ in range(50)])\n",
    "\n",
    "def combo_num(road):\n",
    "    c_len = 0\n",
    "    res = 0\n",
    "    for sym in road:\n",
    "        if c_len > 2 and sym == '0':\n",
    "           res += 1\n",
    "        c_len = (0, c_len+1)[sym == '1']\n",
    "    return res\n",
    "\n",
    "def expected_combos(p, trials=100000):\n",
    "    print(p)\n",
    "    combos = 0\n",
    "    for _ in range(trials):\n",
    "        road = get_road(p)\n",
    "        combos += combo_num(road)\n",
    "    return combos / trials"
   ]
  },
  {
   "cell_type": "code",
   "execution_count": 25,
   "id": "3d7239c8-a202-457f-bd06-e46315c2c52e",
   "metadata": {},
   "outputs": [
    {
     "name": "stdout",
     "output_type": "stream",
     "text": [
      "[0.00000000e+00 1.00000000e-09 2.00000000e-09 ... 9.99999998e-01\n",
      " 9.99999999e-01 1.00000000e+00]\n"
     ]
    },
    {
     "ename": "ValueError",
     "evalue": "The truth value of an array with more than one element is ambiguous. Use a.any() or a.all()",
     "output_type": "error",
     "traceback": [
      "\u001b[0;31m---------------------------------------------------------------------------\u001b[0m",
      "\u001b[0;31mValueError\u001b[0m                                Traceback (most recent call last)",
      "Cell \u001b[0;32mIn[25], line 2\u001b[0m\n\u001b[1;32m      1\u001b[0m p_val \u001b[38;5;241m=\u001b[39m np\u001b[38;5;241m.\u001b[39mlinspace(\u001b[38;5;241m0\u001b[39m, \u001b[38;5;241m1\u001b[39m, \u001b[38;5;241m10\u001b[39m\u001b[38;5;241m*\u001b[39m\u001b[38;5;241m*\u001b[39m\u001b[38;5;241m9\u001b[39m)\n\u001b[0;32m----> 2\u001b[0m expect_combos \u001b[38;5;241m=\u001b[39m \u001b[43mexpected_combos\u001b[49m\u001b[43m(\u001b[49m\u001b[43mp_val\u001b[49m\u001b[43m)\u001b[49m\n",
      "Cell \u001b[0;32mIn[24], line 17\u001b[0m, in \u001b[0;36mexpected_combos\u001b[0;34m(p, trials)\u001b[0m\n\u001b[1;32m     15\u001b[0m combos \u001b[38;5;241m=\u001b[39m \u001b[38;5;241m0\u001b[39m\n\u001b[1;32m     16\u001b[0m \u001b[38;5;28;01mfor\u001b[39;00m _ \u001b[38;5;129;01min\u001b[39;00m \u001b[38;5;28mrange\u001b[39m(trials):\n\u001b[0;32m---> 17\u001b[0m     road \u001b[38;5;241m=\u001b[39m \u001b[43mget_road\u001b[49m\u001b[43m(\u001b[49m\u001b[43mp\u001b[49m\u001b[43m)\u001b[49m\n\u001b[1;32m     18\u001b[0m     combos \u001b[38;5;241m+\u001b[39m\u001b[38;5;241m=\u001b[39m combo_num(road)\n\u001b[1;32m     19\u001b[0m \u001b[38;5;28;01mreturn\u001b[39;00m combos \u001b[38;5;241m/\u001b[39m trials\n",
      "Cell \u001b[0;32mIn[24], line 2\u001b[0m, in \u001b[0;36mget_road\u001b[0;34m(p)\u001b[0m\n\u001b[1;32m      1\u001b[0m \u001b[38;5;28;01mdef\u001b[39;00m\u001b[38;5;250m \u001b[39m\u001b[38;5;21mget_road\u001b[39m(p):\n\u001b[0;32m----> 2\u001b[0m     \u001b[38;5;28;01mreturn\u001b[39;00m \u001b[38;5;124m'\u001b[39m\u001b[38;5;124m'\u001b[39m\u001b[38;5;241m.\u001b[39mjoin([\u001b[38;5;124m'\u001b[39m\u001b[38;5;124m1\u001b[39m\u001b[38;5;124m'\u001b[39m \u001b[38;5;28;01mif\u001b[39;00m p \u001b[38;5;241m<\u001b[39m random() \u001b[38;5;28;01melse\u001b[39;00m \u001b[38;5;124m'\u001b[39m\u001b[38;5;124m0\u001b[39m\u001b[38;5;124m'\u001b[39m \u001b[38;5;28;01mfor\u001b[39;00m _ \u001b[38;5;129;01min\u001b[39;00m \u001b[38;5;28mrange\u001b[39m(\u001b[38;5;241m50\u001b[39m)])\n",
      "\u001b[0;31mValueError\u001b[0m: The truth value of an array with more than one element is ambiguous. Use a.any() or a.all()"
     ]
    }
   ],
   "source": [
    "p_val = np.linspace(0, 1, 10**9)\n",
    "expect_combos = expected_combos(p_val)"
   ]
  },
  {
   "cell_type": "code",
   "execution_count": null,
   "id": "3526fd40-1f84-4fa7-87a2-85f101e41bf9",
   "metadata": {},
   "outputs": [],
   "source": []
  },
  {
   "cell_type": "code",
   "execution_count": null,
   "id": "3de7c64a-dad5-4ab1-ba5d-2a287ccf8f39",
   "metadata": {},
   "outputs": [],
   "source": []
  }
 ],
 "metadata": {
  "kernelspec": {
   "display_name": "Python 3 (ipykernel)",
   "language": "python",
   "name": "python3"
  },
  "language_info": {
   "codemirror_mode": {
    "name": "ipython",
    "version": 3
   },
   "file_extension": ".py",
   "mimetype": "text/x-python",
   "name": "python",
   "nbconvert_exporter": "python",
   "pygments_lexer": "ipython3",
   "version": "3.12.3"
  }
 },
 "nbformat": 4,
 "nbformat_minor": 5
}

{
 "cells": [
  {
   "cell_type": "code",
   "execution_count": 2,
   "id": "2449c9c5-f215-47cc-a664-191aa3dfa8a9",
   "metadata": {},
   "outputs": [],
   "source": [
    "from itertools import product\n",
    "from string import ascii_uppercase\n",
    "\n",
    "alp = ascii_uppercase[:25]\n",
    "W = product(alp, repeat = 8)\n",
    "file = open('var.txt', 'w')\n",
    "for l in W:\n",
    "    cur = ''.join(l)\n",
    "    file.write(cur)\n",
    "    print(cur)"
   ]
  },
  {
   "cell_type": "code",
   "execution_count": null,
   "id": "b5b6c4df-7b90-4684-a239-24722270f6f0",
   "metadata": {},
   "outputs": [],
   "source": []
  }
 ],
 "metadata": {
  "kernelspec": {
   "display_name": "Python 3 (ipykernel)",
   "language": "python",
   "name": "python3"
  },
  "language_info": {
   "codemirror_mode": {
    "name": "ipython",
    "version": 3
   },
   "file_extension": ".py",
   "mimetype": "text/x-python",
   "name": "python",
   "nbconvert_exporter": "python",
   "pygments_lexer": "ipython3",
   "version": "3.12.3"
  }
 },
 "nbformat": 4,
 "nbformat_minor": 5
}

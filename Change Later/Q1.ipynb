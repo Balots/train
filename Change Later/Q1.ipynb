{
 "cells": [
  {
   "cell_type": "raw",
   "id": "064721ab-dbe7-4a3d-b813-787d8dfcf234",
   "metadata": {},
   "source": [
    "There will be solution after 1 august 2025"
   ]
  },
  {
   "cell_type": "code",
   "execution_count": null,
   "id": "89616208-37b5-4be9-85ec-6c7880e4aa06",
   "metadata": {},
   "outputs": [],
   "source": []
  },
  {
   "cell_type": "code",
   "execution_count": null,
   "id": "e4b91219-884f-440a-83a9-cab5dba00f2c",
   "metadata": {},
   "outputs": [],
   "source": []
  }
 ],
 "metadata": {
  "kernelspec": {
   "display_name": "Python 3 (ipykernel)",
   "language": "python",
   "name": "python3"
  },
  "language_info": {
   "codemirror_mode": {
    "name": "ipython",
    "version": 3
   },
   "file_extension": ".py",
   "mimetype": "text/x-python",
   "name": "python",
   "nbconvert_exporter": "python",
   "pygments_lexer": "ipython3",
   "version": "3.12.3"
  }
 },
 "nbformat": 4,
 "nbformat_minor": 5
}

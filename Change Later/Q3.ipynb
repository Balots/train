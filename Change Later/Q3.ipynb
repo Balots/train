{
 "cells": [
  {
   "cell_type": "code",
   "execution_count": 12,
   "id": "e5dc22fa-c3d1-417b-83d1-1832cedf69ad",
   "metadata": {},
   "outputs": [],
   "source": [
    "n = 10**7\n",
    "def create_delimiters():\n",
    "    a, b, c, d, e = np.sort([np.random.random()*40 for _ in range(5)]) # создаём разделители\n",
    "    if c > 25:\n",
    "        return 0\n",
    "    return 1\n",
    "def Monte_Carlos(trials):\n",
    "    is_good = 0\n",
    "    is_bad = 0\n",
    "    for _ in range(trials):\n",
    "        if create_delimiters():\n",
    "            is_good += 1\n",
    "        else:\n",
    "            is_bad += 1\n",
    "    return is_good/(is_good + is_bad)"
   ]
  },
  {
   "cell_type": "code",
   "execution_count": 11,
   "id": "afc5efb3-f66d-49dc-98d1-8caeeb295524",
   "metadata": {},
   "outputs": [
    {
     "data": {
      "text/plain": [
       "0.7250084"
      ]
     },
     "execution_count": 11,
     "metadata": {},
     "output_type": "execute_result"
    }
   ],
   "source": [
    "Monte_Carlos(n)"
   ]
  },
  {
   "cell_type": "code",
   "execution_count": null,
   "id": "87d49644-b42f-44c2-abf1-a896d55c1f7d",
   "metadata": {},
   "outputs": [],
   "source": []
  }
 ],
 "metadata": {
  "kernelspec": {
   "display_name": "Python 3 (ipykernel)",
   "language": "python",
   "name": "python3"
  },
  "language_info": {
   "codemirror_mode": {
    "name": "ipython",
    "version": 3
   },
   "file_extension": ".py",
   "mimetype": "text/x-python",
   "name": "python",
   "nbconvert_exporter": "python",
   "pygments_lexer": "ipython3",
   "version": "3.12.3"
  }
 },
 "nbformat": 4,
 "nbformat_minor": 5
}

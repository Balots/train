{
 "cells": [
  {
   "cell_type": "code",
   "execution_count": 9,
   "id": "9475bb76-5228-4bc3-a318-d2f24b34e6ba",
   "metadata": {},
   "outputs": [
    {
     "name": "stdin",
     "output_type": "stream",
     "text": [
      " dcba\n"
     ]
    },
    {
     "name": "stdout",
     "output_type": "stream",
     "text": [
      "NO\n"
     ]
    }
   ],
   "source": [
    "def get_all_dels(s:str) -> list[str]:\n",
    "    return [s[:i] + s[i+1:] for i in range(len(s))]\n",
    "\n",
    "def palin(s:str) -> bool:\n",
    "    s = s.lower()\n",
    "    return s == s[::-1]\n",
    "def ans(s:str) -> str:\n",
    "    for new in get_all_dels(s):\n",
    "        if palin(new):\n",
    "            return 'YES'\n",
    "    return 'NO'\n",
    "\n",
    "print(ans(input()))            "
   ]
  },
  {
   "cell_type": "code",
   "execution_count": 17,
   "id": "8668ca2c-796d-4187-a8ec-51d9f4eb77e9",
   "metadata": {},
   "outputs": [
    {
     "name": "stdin",
     "output_type": "stream",
     "text": [
      " 3\n",
      " 0 1\n",
      " 2 3\n",
      " 1 4\n",
      " 5\n",
      " 1 2\n",
      " 2 6\n",
      " 3 6\n",
      " 2 5\n",
      " 3 8\n"
     ]
    },
    {
     "name": "stdout",
     "output_type": "stream",
     "text": [
      "2\n",
      "8\n",
      "9\n",
      "5\n",
      "9\n"
     ]
    }
   ],
   "source": [
    "from math import ceil\n",
    "\n",
    "def get_time(branch:int, time:int) -> int:\n",
    "    branch -= 1\n",
    "    a, b = schedule[branch]\n",
    "    \n",
    "    if time <= a:\n",
    "        return a\n",
    "        \n",
    "    t = ceil((time - a) / b)\n",
    "    return a + b * t\n",
    "\n",
    "\n",
    "branches = int(input())\n",
    "schedule = [[*map(int, input().split())] for _ in range(branches)]\n",
    "\n",
    "q        = int(input())\n",
    "queries  = [get_time(*map(int, input().split())) for _ in range(q)]\n",
    "\n",
    "print(*queries, sep='\\n')"
   ]
  },
  {
   "cell_type": "code",
   "execution_count": 45,
   "id": "02daea56-0db6-4d4f-bd61-634c979ebf3e",
   "metadata": {},
   "outputs": [
    {
     "name": "stdin",
     "output_type": "stream",
     "text": [
      " 3\n",
      " 4 2 2\n"
     ]
    },
    {
     "name": "stdout",
     "output_type": "stream",
     "text": [
      "3\n"
     ]
    }
   ],
   "source": [
    "class Numbers:\n",
    "    def __init__(self, n:int, nums:list[int]):\n",
    "        self._n    = n\n",
    "        self._nums = iter(sorted(nums, reverse=True))\n",
    "        self._ans  = []\n",
    "\n",
    "    def _get_unique(self, num:int) -> None:\n",
    "        flag = True\n",
    "        while flag:\n",
    "            if num not in self._ans:\n",
    "                self._ans.append(num)\n",
    "                break\n",
    "            if num == 0:\n",
    "                flag = False\n",
    "            num //= 2\n",
    "    \n",
    "    def run(self) -> None:\n",
    "        for _ in range(self._n):\n",
    "            elem = next(self._nums)\n",
    "            self._get_unique(elem)\n",
    "\n",
    "    def get_ans(self) -> None:\n",
    "        print(len(self._ans[:self._n]))\n",
    "\n",
    "\n",
    "arr = Numbers(int(input()), [*map(int, input().split())])\n",
    "arr.run()\n",
    "arr.get_ans()"
   ]
  },
  {
   "cell_type": "code",
   "execution_count": 53,
   "id": "b36765ab-9d3b-403b-afcf-1a3e6ca6b3d6",
   "metadata": {},
   "outputs": [
    {
     "name": "stdout",
     "output_type": "stream",
     "text": [
      "15\n"
     ]
    }
   ],
   "source": [
    "def strat1(s:str) -> int:\n",
    "    for i in range(len(s)):\n",
    "        if s[i] == ')':\n",
    "            return i\n",
    "    return 0\n",
    "\n",
    "def strat2(s:str) -> int:\n",
    "    for \n",
    "\n",
    "def min_cost(s, a, b):\n",
    "    balance = 0\n",
    "    cost = 0\n",
    "\n",
    "    for i in range(len(s)):\n",
    "        if s[i] == '(':\n",
    "            balance += 1\n",
    "        else:\n",
    "            balance -= 1\n",
    "\n",
    "        if balance < 0:\n",
    "            cost += min(a, b)\n",
    "            balance += 2  # мы как бы сделали из ')' — '('\n",
    "\n",
    "    # в конце баланс может быть > 0: лишние открывающие скобки\n",
    "    # каждую можно исправить заменой на ')'\n",
    "    cost += balance * min(a, b)\n",
    "\n",
    "    return cost\n",
    "print(min_cost('())(((', 4, 3))\n"
   ]
  }
 ],
 "metadata": {
  "kernelspec": {
   "display_name": "Python 3 (ipykernel)",
   "language": "python",
   "name": "python3"
  },
  "language_info": {
   "codemirror_mode": {
    "name": "ipython",
    "version": 3
   },
   "file_extension": ".py",
   "mimetype": "text/x-python",
   "name": "python",
   "nbconvert_exporter": "python",
   "pygments_lexer": "ipython3",
   "version": "3.12.3"
  }
 },
 "nbformat": 4,
 "nbformat_minor": 5
}

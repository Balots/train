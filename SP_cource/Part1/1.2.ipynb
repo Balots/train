{
 "cells": [
  {
   "cell_type": "markdown",
   "id": "ffa0996c-8cc1-4ffe-817c-effc87b5122b",
   "metadata": {},
   "source": [
    "Сумма чисел в массиве.\n",
    "\n",
    "В этой задаче все предельно просто - дан массив, требуется посчитать сумму чисел в нем."
   ]
  },
  {
   "cell_type": "code",
   "execution_count": 8,
   "id": "56aee8d5-86af-439e-a873-3efd4a50408e",
   "metadata": {},
   "outputs": [],
   "source": [
    "n = int(input())\n",
    "print(sum([*map(int, input().split(' '))]))"
   ]
  },
  {
   "cell_type": "markdown",
   "id": "0c5c1ab9-2f0a-46e5-8cc0-8113c93bb9aa",
   "metadata": {},
   "source": [
    "Дан массив, требуется найти позицию максимального элемента. Если таких позиций несколько, найдите самую первую."
   ]
  },
  {
   "cell_type": "code",
   "execution_count": 12,
   "id": "e54598f4-374f-42ac-b5ab-96ad7adfadc7",
   "metadata": {},
   "outputs": [
    {
     "name": "stdin",
     "output_type": "stream",
     "text": [
      " 6\n",
      " 7 1 4 1 6 1\n"
     ]
    },
    {
     "name": "stdout",
     "output_type": "stream",
     "text": [
      "1\n"
     ]
    }
   ],
   "source": [
    "n = int(input())\n",
    "a = [*map(int, input().split())]\n",
    "m = 0\n",
    "index = 0\n",
    "for i in range(n):\n",
    "    if m < a[i]:\n",
    "        m = a[i]\n",
    "        index = i\n",
    "print(index + 1)"
   ]
  },
  {
   "cell_type": "markdown",
   "id": "3ef6b394-1237-4b62-a8a6-a53d0dcdb410",
   "metadata": {},
   "source": [
    "Дан массив. Вам требуется определить позиции первого максимума и второго максимума."
   ]
  },
  {
   "cell_type": "code",
   "execution_count": null,
   "id": "45e4c61b-a4fc-4cda-b779-16c6d6b8d256",
   "metadata": {},
   "outputs": [],
   "source": [
    "n = int(input())\n",
    "a = [*map(int, input().split())]\n",
    "m = 0\n",
    "index = 0\n",
    "for i in range(n):\n",
    "    if m < a[i]:\n",
    "        m = a[i]\n",
    "        index = i\n",
    "print(index + 1)"
   ]
  },
  {
   "cell_type": "code",
   "execution_count": 52,
   "id": "5d9bc6f7-27b1-440a-a217-749c23d9e6dd",
   "metadata": {},
   "outputs": [
    {
     "name": "stdin",
     "output_type": "stream",
     "text": [
      " 4\n",
      " 113179 179113 113113\n"
     ]
    },
    {
     "name": "stdout",
     "output_type": "stream",
     "text": [
      "4 2\n",
      "8.0108642578125e-05\n"
     ]
    }
   ],
   "source": [
    "import numpy as np\n",
    "from time import time\n",
    "\n",
    "class NextRand:\n",
    "    def __init__(self, mas, n):\n",
    "        self.n = n\n",
    "        self.cur, self.a, self.b = mas\n",
    "    def getarr(self):\n",
    "        ans = []\n",
    "        for _ in range(self.n):\n",
    "            new = NextRand.NextRand(self.cur, self.a, self.b)\n",
    "            ans.append(new)\n",
    "            self.cur = new \n",
    "        return ans\n",
    "        \n",
    "    @staticmethod\n",
    "    def NextRand(cur, a, b):\n",
    "        return (cur*a + b)\n",
    "\n",
    "def n_largest_indices(arr, n):\n",
    "    return arr.argsort()[-n:][::-1] + 1\n",
    "\n",
    "n = int(input())\n",
    "inp = NextRand([int(x) for x in input().split()], n).getarr()\n",
    "start = time()\n",
    "arr = np.array(inp)%1791791791\n",
    "end = time()\n",
    "print(*n_largest_indices(arr, 2))\n",
    "print(end - start)"
   ]
  },
  {
   "cell_type": "code",
   "execution_count": 51,
   "id": "171a0d11-ac06-4b63-b9dd-1a8bd3694751",
   "metadata": {},
   "outputs": [
    {
     "data": {
      "text/plain": [
       "array([562233639, 1071657538, 309314241, 1791375417], dtype=object)"
      ]
     },
     "execution_count": 51,
     "metadata": {},
     "output_type": "execute_result"
    }
   ],
   "source": [
    "arr%1791791791"
   ]
  },
  {
   "cell_type": "code",
   "execution_count": 50,
   "id": "fb93a396-997d-4a7c-bd71-110a05f0df6e",
   "metadata": {},
   "outputs": [
    {
     "data": {
      "text/plain": [
       "562233639"
      ]
     },
     "execution_count": 50,
     "metadata": {},
     "output_type": "execute_result"
    }
   ],
   "source": [
    "20271943340%1791791791"
   ]
  },
  {
   "cell_type": "markdown",
   "id": "d526646a-07b8-42af-8d9e-e8e39d91f0ed",
   "metadata": {},
   "source": [
    "Владислав заметил, что в 20202020-м году целых две пары одинаковых символов - 22 и 00. На основании этого он возненавидел цифры 22 и 00, а также ситуацию, когда в году есть одинаковые цифры. Сейчас Владислав ждет следующего года, в котором нет цифр 22 и 00, а также все цифры попарно различны. Посчитайте, в каком году это случится первый раз?\n",
    "\n",
    "Входные данные:\n",
    "\n",
    "В первой строке входных данных записано единственное целое число nn (0≤n≤1090≤n≤109) - текущий год.\n",
    "\n",
    "Выходные данные:\n",
    "\n",
    "Выведите одно число - следующий год, в котором все цифры попарно различны, а также нет цифр 22 и 00. Если больше такого года никогда не будет, выведите <<-1>> (без кавычек)."
   ]
  },
  {
   "cell_type": "code",
   "execution_count": 17,
   "id": "a2103749-56d3-4bdb-8daf-f8ab4bd07d24",
   "metadata": {},
   "outputs": [
    {
     "name": "stdin",
     "output_type": "stream",
     "text": [
      " 9999\n"
     ]
    },
    {
     "name": "stdout",
     "output_type": "stream",
     "text": [
      "13456\n"
     ]
    }
   ],
   "source": [
    "from itertools import permutations\n",
    "\n",
    "alp = '13456789'\n",
    "\n",
    "def find(num):\n",
    "    pool = permutations(alp, len(num))\n",
    "    if num[0] == '9':\n",
    "        save = permutations(alp, len(num) + 1)\n",
    "    num = int(num)\n",
    "    if num > 98765431:\n",
    "        return -1\n",
    "    for x in pool:\n",
    "        new = int(''.join(x))\n",
    "        if  new > num:\n",
    "            return new\n",
    "    for x in save:\n",
    "        new = int(''.join(x))\n",
    "        if  new > num:\n",
    "            return new\n",
    "    return -1\n",
    "\n",
    "print(find(input()))"
   ]
  },
  {
   "cell_type": "code",
   "execution_count": 18,
   "id": "a031fdda-5276-44ed-9a7e-02460ddaaa59",
   "metadata": {},
   "outputs": [
    {
     "name": "stdout",
     "output_type": "stream",
     "text": [
      "13456\n"
     ]
    }
   ],
   "source": [
    "print(find('9999'))"
   ]
  },
  {
   "cell_type": "code",
   "execution_count": null,
   "id": "b8150fc5-500c-47d8-b0a7-1401ff33523f",
   "metadata": {},
   "outputs": [],
   "source": []
  }
 ],
 "metadata": {
  "kernelspec": {
   "display_name": "Python 3 (ipykernel)",
   "language": "python",
   "name": "python3"
  },
  "language_info": {
   "codemirror_mode": {
    "name": "ipython",
    "version": 3
   },
   "file_extension": ".py",
   "mimetype": "text/x-python",
   "name": "python",
   "nbconvert_exporter": "python",
   "pygments_lexer": "ipython3",
   "version": "3.12.3"
  }
 },
 "nbformat": 4,
 "nbformat_minor": 5
}

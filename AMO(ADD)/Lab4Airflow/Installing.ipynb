{
 "cells": [
  {
   "cell_type": "markdown",
   "id": "4345bed2-9d9b-4491-8603-df442d98325b",
   "metadata": {},
   "source": [
    "Установка AirFlow"
   ]
  },
  {
   "cell_type": "markdown",
   "id": "5e20e29f-9849-42aa-afaf-d27a276ad9fe",
   "metadata": {},
   "source": [
    "1. Создадим окружение\n",
    "<br> python3 -m venv air-venv"
   ]
  },
  {
   "cell_type": "markdown",
   "id": "167e72dc-f6b2-4a19-ade0-4690e82d6fee",
   "metadata": {},
   "source": [
    "2. Предварительная настройка\n",
    "<br>mkdir airflow\n",
    "<br>chmod 777\n",
    "<br>export AIRFLOW_HOME=/airflow"
   ]
  },
  {
   "cell_type": "markdown",
   "id": "354ee8d2-2192-4ea7-b3f3-1eb418912765",
   "metadata": {},
   "source": [
    "3. Установка библиотек\n",
    "<br>source air-venv/bin/activate\n",
    "<br>pip3 install apache-airflow\n",
    "<br>pip3 install -U scikit-learn\n",
    "<br>pip3 install pandas\n",
    "<br>pip3 install numpy\n",
    "<br>pip3 install matplotlib\n",
    "<br>pip3 installl mlflow"
   ]
  },
  {
   "cell_type": "markdown",
   "id": "d1bc67f7-bcff-423c-a78c-e9ae750a2e25",
   "metadata": {},
   "source": [
    "4. Настройка Airflow\n",
    "<br> airflow db init\n",
    "<br> airflow users create --username AirflowAdmin --firstname Name --lastname Lastname --role Admin --email NameLastname@gmail.com\n",
    "<br> Password: qwerty"
   ]
  },
  {
   "cell_type": "markdown",
   "id": "a84a0a90-30eb-47d3-913e-532378619f79",
   "metadata": {},
   "source": [
    "5. Запуск\n",
    "<br> airflow scheduler\n",
    "<br>-- New Terminal Window (CTR+ALT+T) --\n",
    "<br> source air-venv/bin/activate\n",
    "<br> airflow webserver"
   ]
  },
  {
   "cell_type": "markdown",
   "id": "d819885b-5f94-40f1-929b-c21f27a3bc09",
   "metadata": {},
   "source": [
    "6. Переход и авторизация\n",
    "<br> go http://localhost:8080\n",
    "<br> enter login AirflowAdmin\n",
    "<br> enter password qwerty"
   ]
  },
  {
   "cell_type": "markdown",
   "id": "897db0ad-9452-4757-97bc-f27754b7033f",
   "metadata": {},
   "source": [
    "7. Настраиваем папки\n",
    "<br>--New Terminal Window (CTR+ALT+T)--\n",
    "<br>cd airflow\n",
    "<br>airflow mkdir plugins \n",
    "<br>airflow mkdir dags\n",
    "<br>airflow mkdir scripts\n",
    "<br>airflow chmod 777 -R dags \n",
    "<br>airflow chmod 777 -R plugins\n",
    "<br>airflow chmod 777 -R scripts"
   ]
  },
  {
   "cell_type": "code",
   "execution_count": null,
   "id": "beb0d725-1893-43b1-a990-80d269d55497",
   "metadata": {},
   "outputs": [],
   "source": []
  }
 ],
 "metadata": {
  "kernelspec": {
   "display_name": "Python 3 (ipykernel)",
   "language": "python",
   "name": "python3"
  },
  "language_info": {
   "codemirror_mode": {
    "name": "ipython",
    "version": 3
   },
   "file_extension": ".py",
   "mimetype": "text/x-python",
   "name": "python",
   "nbconvert_exporter": "python",
   "pygments_lexer": "ipython3",
   "version": "3.12.3"
  }
 },
 "nbformat": 4,
 "nbformat_minor": 5
}

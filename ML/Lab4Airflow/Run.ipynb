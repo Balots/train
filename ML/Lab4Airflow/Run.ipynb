{
 "cells": [
  {
   "cell_type": "markdown",
   "id": "a8ede943-4dbc-415a-8309-9d08b386595a",
   "metadata": {},
   "source": [
    "Запуск пайплайна\n"
   ]
  },
  {
   "cell_type": "markdown",
   "id": "6b4d7748-852f-4347-9291-7f55aae9569b",
   "metadata": {},
   "source": [
    "1. Создаём папку с дагами\n",
    "2. Создаём папку со скриптами\n",
    "3. Создаём python-файл для дага как в DAG_1\n",
    "4. Создаём задачи для дага в скриптах "
   ]
  }
 ],
 "metadata": {
  "kernelspec": {
   "display_name": "Python 3 (ipykernel)",
   "language": "python",
   "name": "python3"
  },
  "language_info": {
   "codemirror_mode": {
    "name": "ipython",
    "version": 3
   },
   "file_extension": ".py",
   "mimetype": "text/x-python",
   "name": "python",
   "nbconvert_exporter": "python",
   "pygments_lexer": "ipython3",
   "version": "3.12.3"
  }
 },
 "nbformat": 4,
 "nbformat_minor": 5
}

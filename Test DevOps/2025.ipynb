{
 "cells": [
  {
   "cell_type": "markdown",
   "id": "8f95802d-abc6-4800-a5ae-d7f8e8949efc",
   "metadata": {},
   "source": [
    "У нас есть сервер с любимыми домашними питомцами, который отдаёт красивые картинки котиков, собачек и всего, что душе угодно. Обычному пользователю можно смотреть, публиковать или же удалять фото питомцев, другие действия/ручки ему недоступны.\n",
    "\n",
    "Сервер обычно не сбоит, но иногда количество ошибок превышает норму, поэтому вам дали задание: собрать статистику по запросам. Вам необходимо проанализировать логи и собрать следующую статистику по запросам пользователей:\n",
    "\n",
    "сгруппировать запросы по коду ответа\n",
    "для каждого уникального кода ответа определить минимальное, максимальное время ответа, а также 75 перцентиль от времени ответа\n",
    "вывести % ошибочных запросов (будем считать ошибочными запросами все, у которых код ответа 5**)"
   ]
  },
  {
   "cell_type": "code",
   "execution_count": 71,
   "id": "dd80180c-12ad-4eff-8cf8-24800db70c2b",
   "metadata": {},
   "outputs": [],
   "source": [
    "from re import search\n",
    "from math import ceil\n",
    "\n",
    "def logs_extractor(logs_file, pattern=r'HTTP/\\d\\.\\d\\s+(\\d{3})', request=r'*\\d\\d\\d]+(\\D{3,})'):\n",
    "    logs = open(logs_file).readlines()\n",
    "    codes = {}\n",
    "    for log in logs:\n",
    "        if not search(r'\\bformat=\\b', log):\n",
    "            code = int(search(pattern, log).group(1))\n",
    "            try:\n",
    "                codes[code].append(log.split(' '))\n",
    "            except KeyError:\n",
    "                codes[code] = [log.split(' ')]\n",
    "    return codes\n",
    "\n",
    "sorted_logs = logs_extractor('input.txt')\n",
    "with open('output.txt', 'w') as file:\n",
    "    l = 0\n",
    "    e = 0\n",
    "    for code, logs in sorted_logs.items():\n",
    "        times = sorted([*map(lambda x: int(x[-1].replace('ms', '')), logs)])\n",
    "        file.write(f'{code} {len(logs)} {times[0]} {times[-1]} {times[int(len(times)*0.75)]}\\n')\n",
    "        e += (0, len(logs))[code//100 == 5]\n",
    "        l += len(logs)\n",
    "    file.write(str(100*e//l))"
   ]
  },
  {
   "cell_type": "code",
   "execution_count": 72,
   "id": "7349dab4-cfb8-45ab-b8da-236064a37c53",
   "metadata": {},
   "outputs": [
    {
     "name": "stdout",
     "output_type": "stream",
     "text": [
      "[]\n"
     ]
    }
   ],
   "source": [
    "from sys import stdin\n",
    "\n",
    "open('logs.txt')\n",
    "print(stdin.readlines())"
   ]
  },
  {
   "cell_type": "code",
   "execution_count": null,
   "id": "9faf2651-dbe7-44e9-b68c-307f4035adad",
   "metadata": {},
   "outputs": [],
   "source": []
  }
 ],
 "metadata": {
  "kernelspec": {
   "display_name": "Python 3 (ipykernel)",
   "language": "python",
   "name": "python3"
  },
  "language_info": {
   "codemirror_mode": {
    "name": "ipython",
    "version": 3
   },
   "file_extension": ".py",
   "mimetype": "text/x-python",
   "name": "python",
   "nbconvert_exporter": "python",
   "pygments_lexer": "ipython3",
   "version": "3.11.5"
  }
 },
 "nbformat": 4,
 "nbformat_minor": 5
}
